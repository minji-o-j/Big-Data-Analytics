{
 "cells": [
  {
   "cell_type": "markdown",
   "metadata": {},
   "source": [
    "## 문제: 키 몸무게를 matrix inverse method와 gradient descent로 풀기 (in 파이썬)"
   ]
  },
  {
   "cell_type": "markdown",
   "metadata": {},
   "source": [
    "### 1. matrix inverse"
   ]
  },
  {
   "cell_type": "markdown",
   "metadata": {},
   "source": [
    "#### data"
   ]
  },
  {
   "cell_type": "code",
   "execution_count": 1,
   "metadata": {},
   "outputs": [],
   "source": [
    "import os\n",
    "\n",
    "file=open(os.path.join('data','ds_spark_heightweight.txt'))"
   ]
  },
  {
   "cell_type": "code",
   "execution_count": 2,
   "metadata": {},
   "outputs": [],
   "source": [
    "import numpy as np\n",
    "my=list()\n",
    "for line in file:\n",
    "    line=line.split()\n",
    "    my.append([float(line[1]),float(line[2])])\n",
    "my=np.array(my)"
   ]
  },
  {
   "cell_type": "code",
   "execution_count": 3,
   "metadata": {},
   "outputs": [],
   "source": [
    "x=my[:,0]\n",
    "y=my[:,1]"
   ]
  },
  {
   "cell_type": "code",
   "execution_count": 4,
   "metadata": {},
   "outputs": [
    {
     "data": {
      "text/plain": [
       "(50, 2)"
      ]
     },
     "execution_count": 4,
     "metadata": {},
     "output_type": "execute_result"
    }
   ],
   "source": [
    "my.shape"
   ]
  },
  {
   "cell_type": "code",
   "execution_count": 5,
   "metadata": {},
   "outputs": [
    {
     "data": {
      "text/plain": [
       "50"
      ]
     },
     "execution_count": 5,
     "metadata": {},
     "output_type": "execute_result"
    }
   ],
   "source": [
    "len(x)"
   ]
  },
  {
   "cell_type": "code",
   "execution_count": 6,
   "metadata": {},
   "outputs": [],
   "source": [
    "x=np.array([x,np.ones(len(x))])\n",
    "x=x.T"
   ]
  },
  {
   "cell_type": "code",
   "execution_count": 7,
   "metadata": {},
   "outputs": [
    {
     "data": {
      "text/plain": [
       "(array([[65.78,  1.  ],\n",
       "        [71.52,  1.  ],\n",
       "        [69.4 ,  1.  ],\n",
       "        [68.22,  1.  ],\n",
       "        [67.79,  1.  ],\n",
       "        [68.7 ,  1.  ],\n",
       "        [69.8 ,  1.  ],\n",
       "        [70.01,  1.  ],\n",
       "        [67.9 ,  1.  ],\n",
       "        [66.78,  1.  ],\n",
       "        [66.49,  1.  ],\n",
       "        [67.62,  1.  ],\n",
       "        [68.3 ,  1.  ],\n",
       "        [67.12,  1.  ],\n",
       "        [68.28,  1.  ],\n",
       "        [71.09,  1.  ],\n",
       "        [66.46,  1.  ],\n",
       "        [68.65,  1.  ],\n",
       "        [71.23,  1.  ],\n",
       "        [67.13,  1.  ],\n",
       "        [67.83,  1.  ],\n",
       "        [68.88,  1.  ],\n",
       "        [63.48,  1.  ],\n",
       "        [68.42,  1.  ],\n",
       "        [67.63,  1.  ],\n",
       "        [67.21,  1.  ],\n",
       "        [70.84,  1.  ],\n",
       "        [67.49,  1.  ],\n",
       "        [66.53,  1.  ],\n",
       "        [65.44,  1.  ],\n",
       "        [69.52,  1.  ],\n",
       "        [65.81,  1.  ],\n",
       "        [67.82,  1.  ],\n",
       "        [70.6 ,  1.  ],\n",
       "        [71.8 ,  1.  ],\n",
       "        [69.21,  1.  ],\n",
       "        [66.8 ,  1.  ],\n",
       "        [67.66,  1.  ],\n",
       "        [67.81,  1.  ],\n",
       "        [64.05,  1.  ],\n",
       "        [68.57,  1.  ],\n",
       "        [65.18,  1.  ],\n",
       "        [69.66,  1.  ],\n",
       "        [67.97,  1.  ],\n",
       "        [65.98,  1.  ],\n",
       "        [68.67,  1.  ],\n",
       "        [66.88,  1.  ],\n",
       "        [67.7 ,  1.  ],\n",
       "        [69.82,  1.  ],\n",
       "        [69.09,  1.  ]]),\n",
       " (50, 2))"
      ]
     },
     "execution_count": 7,
     "metadata": {},
     "output_type": "execute_result"
    }
   ],
   "source": [
    "x, x.shape"
   ]
  },
  {
   "cell_type": "code",
   "execution_count": 8,
   "metadata": {},
   "outputs": [
    {
     "data": {
      "text/plain": [
       "array([112.99, 136.49, 153.03, 142.34, 144.3 , 123.3 , 141.49, 136.46,\n",
       "       112.37, 120.67, 127.45, 114.14, 125.61, 122.46, 116.09, 140.  ,\n",
       "       129.5 , 142.97, 137.9 , 124.04, 141.28, 143.54,  97.9 , 129.5 ,\n",
       "       141.85, 129.72, 142.42, 131.55, 108.33, 113.89, 103.3 , 120.75,\n",
       "       125.79, 136.22, 140.1 , 128.75, 141.8 , 121.23, 131.35, 106.71,\n",
       "       124.36, 124.86, 139.67, 137.37, 106.45, 128.76, 145.68, 116.82,\n",
       "       143.62, 134.93])"
      ]
     },
     "execution_count": 8,
     "metadata": {},
     "output_type": "execute_result"
    }
   ],
   "source": [
    "y"
   ]
  },
  {
   "cell_type": "markdown",
   "metadata": {},
   "source": [
    "#### w"
   ]
  },
  {
   "cell_type": "code",
   "execution_count": 9,
   "metadata": {},
   "outputs": [],
   "source": [
    "w1, w0=np.dot(np.linalg.inv(np.dot(x.T, x)), np.dot(x.T, y)) #1이 뒤에있으니까 2번째가 w0이다"
   ]
  },
  {
   "cell_type": "code",
   "execution_count": 10,
   "metadata": {},
   "outputs": [
    {
     "name": "stdout",
     "output_type": "stream",
     "text": [
      "w1:4.18697047973501 w0:-156.09138987513143\n"
     ]
    }
   ],
   "source": [
    "print(\"w1:{} w0:{}\".format(w1,w0))"
   ]
  },
  {
   "cell_type": "markdown",
   "metadata": {},
   "source": [
    "#### yhat"
   ]
  },
  {
   "cell_type": "code",
   "execution_count": 11,
   "metadata": {},
   "outputs": [],
   "source": [
    "yhat = w0*x[:,1] + w1*x[:,0]"
   ]
  },
  {
   "cell_type": "markdown",
   "metadata": {},
   "source": [
    "#### MSE"
   ]
  },
  {
   "cell_type": "code",
   "execution_count": 12,
   "metadata": {},
   "outputs": [
    {
     "data": {
      "text/plain": [
       "105.6444144864452"
      ]
     },
     "execution_count": 12,
     "metadata": {},
     "output_type": "execute_result"
    }
   ],
   "source": [
    "np.sum(np.power(y-yhat, 2))/len(x) #'mean' squared error이므로 /len(x)을 한다."
   ]
  },
  {
   "cell_type": "markdown",
   "metadata": {},
   "source": [
    "#### 그래프"
   ]
  },
  {
   "cell_type": "code",
   "execution_count": 13,
   "metadata": {},
   "outputs": [
    {
     "data": {
      "image/png": "[encoded data removed]",
      "text/plain": [
       "<Figure size 432x288 with 1 Axes>"
      ]
     },
     "metadata": {
      "needs_background": "light"
     },
     "output_type": "display_data"
    }
   ],
   "source": [
    "%matplotlib inline\n",
    "import matplotlib.pyplot as plt\n",
    "\n",
    "plt.scatter(x[:,0],y)\n",
    "plt.plot(x[:,0],yhat) #상수항을 제거해야한다. 상수항: 절편 구하기 위해 넣었던 것\n",
    "plt.show()"
   ]
  },
  {
   "cell_type": "markdown",
   "metadata": {},
   "source": [
    "### 2. ststsmodels과 비교"
   ]
  },
  {
   "cell_type": "code",
   "execution_count": 14,
   "metadata": {},
   "outputs": [],
   "source": [
    "import statsmodels.api as sm\n",
    "result = sm.OLS(y,x).fit() # 이 함수가 y,x 이런식으로 되어있어서 그 순서를 따라서 써야한다. (함수 API 확인)"
   ]
  },
  {
   "cell_type": "code",
   "execution_count": 15,
   "metadata": {},
   "outputs": [
    {
     "data": {
      "text/html": [
       "<table class=\"simpletable\">\n",
       "<caption>OLS Regression Results</caption>\n",
       "<tr>\n",
       "  <th>Dep. Variable:</th>            <td>y</td>        <th>  R-squared:         </th> <td>   0.351</td>\n",
       "</tr>\n",
       "<tr>\n",
       "  <th>Model:</th>                   <td>OLS</td>       <th>  Adj. R-squared:    </th> <td>   0.338</td>\n",
       "</tr>\n",
       "<tr>\n",
       "  <th>Method:</th>             <td>Least Squares</td>  <th>  F-statistic:       </th> <td>   25.97</td>\n",
       "</tr>\n",
       "<tr>\n",
       "  <th>Date:</th>             <td>Wed, 18 Nov 2020</td> <th>  Prob (F-statistic):</th> <td>5.81e-06</td>\n",
       "</tr>\n",
       "<tr>\n",
       "  <th>Time:</th>                 <td>18:19:02</td>     <th>  Log-Likelihood:    </th> <td> -187.45</td>\n",
       "</tr>\n",
       "<tr>\n",
       "  <th>No. Observations:</th>      <td>    50</td>      <th>  AIC:               </th> <td>   378.9</td>\n",
       "</tr>\n",
       "<tr>\n",
       "  <th>Df Residuals:</th>          <td>    48</td>      <th>  BIC:               </th> <td>   382.7</td>\n",
       "</tr>\n",
       "<tr>\n",
       "  <th>Df Model:</th>              <td>     1</td>      <th>                     </th>     <td> </td>   \n",
       "</tr>\n",
       "<tr>\n",
       "  <th>Covariance Type:</th>      <td>nonrobust</td>    <th>                     </th>     <td> </td>   \n",
       "</tr>\n",
       "</table>\n",
       "<table class=\"simpletable\">\n",
       "<tr>\n",
       "    <td></td>       <th>coef</th>     <th>std err</th>      <th>t</th>      <th>P>|t|</th>  <th>[0.025</th>    <th>0.975]</th>  \n",
       "</tr>\n",
       "<tr>\n",
       "  <th>x1</th>    <td>    4.1870</td> <td>    0.822</td> <td>    5.096</td> <td> 0.000</td> <td>    2.535</td> <td>    5.839</td>\n",
       "</tr>\n",
       "<tr>\n",
       "  <th>const</th> <td> -156.0914</td> <td>   55.933</td> <td>   -2.791</td> <td> 0.008</td> <td> -268.552</td> <td>  -43.631</td>\n",
       "</tr>\n",
       "</table>\n",
       "<table class=\"simpletable\">\n",
       "<tr>\n",
       "  <th>Omnibus:</th>       <td> 1.591</td> <th>  Durbin-Watson:     </th> <td>   2.038</td>\n",
       "</tr>\n",
       "<tr>\n",
       "  <th>Prob(Omnibus):</th> <td> 0.451</td> <th>  Jarque-Bera (JB):  </th> <td>   0.792</td>\n",
       "</tr>\n",
       "<tr>\n",
       "  <th>Skew:</th>          <td>-0.193</td> <th>  Prob(JB):          </th> <td>   0.673</td>\n",
       "</tr>\n",
       "<tr>\n",
       "  <th>Kurtosis:</th>      <td> 3.481</td> <th>  Cond. No.          </th> <td>2.57e+03</td>\n",
       "</tr>\n",
       "</table><br/><br/>Warnings:<br/>[1] Standard Errors assume that the covariance matrix of the errors is correctly specified.<br/>[2] The condition number is large, 2.57e+03. This might indicate that there are<br/>strong multicollinearity or other numerical problems."
      ],
      "text/plain": [
       "<class 'statsmodels.iolib.summary.Summary'>\n",
       "\"\"\"\n",
       "                            OLS Regression Results                            \n",
       "==============================================================================\n",
       "Dep. Variable:                      y   R-squared:                       0.351\n",
       "Model:                            OLS   Adj. R-squared:                  0.338\n",
       "Method:                 Least Squares   F-statistic:                     25.97\n",
       "Date:                Wed, 18 Nov 2020   Prob (F-statistic):           5.81e-06\n",
       "Time:                        18:19:02   Log-Likelihood:                -187.45\n",
       "No. Observations:                  50   AIC:                             378.9\n",
       "Df Residuals:                      48   BIC:                             382.7\n",
       "Df Model:                           1                                         \n",
       "Covariance Type:            nonrobust                                         \n",
       "==============================================================================\n",
       "                 coef    std err          t      P>|t|      [0.025      0.975]\n",
       "------------------------------------------------------------------------------\n",
       "x1             4.1870      0.822      5.096      0.000       2.535       5.839\n",
       "const       -156.0914     55.933     -2.791      0.008    -268.552     -43.631\n",
       "==============================================================================\n",
       "Omnibus:                        1.591   Durbin-Watson:                   2.038\n",
       "Prob(Omnibus):                  0.451   Jarque-Bera (JB):                0.792\n",
       "Skew:                          -0.193   Prob(JB):                        0.673\n",
       "Kurtosis:                       3.481   Cond. No.                     2.57e+03\n",
       "==============================================================================\n",
       "\n",
       "Warnings:\n",
       "[1] Standard Errors assume that the covariance matrix of the errors is correctly specified.\n",
       "[2] The condition number is large, 2.57e+03. This might indicate that there are\n",
       "strong multicollinearity or other numerical problems.\n",
       "\"\"\""
      ]
     },
     "execution_count": 15,
     "metadata": {},
     "output_type": "execute_result"
    }
   ],
   "source": [
    "result.summary()"
   ]
  },
  {
   "cell_type": "code",
   "execution_count": 16,
   "metadata": {},
   "outputs": [
    {
     "data": {
      "text/plain": [
       "(0.3510824732436808, 0.33756335810292415)"
      ]
     },
     "execution_count": 16,
     "metadata": {},
     "output_type": "execute_result"
    }
   ],
   "source": [
    "result.rsquared, result.rsquared_adj"
   ]
  },
  {
   "cell_type": "markdown",
   "metadata": {},
   "source": [
    "### 3. gradient\n",
    "\n",
    "기울기가 매우 빠르게 변경되면, 오류 overflow가 나올 수 있다. alpha를 매우 작게 조정하면 된다."
   ]
  },
  {
   "cell_type": "markdown",
   "metadata": {},
   "source": [
    "#### 설정"
   ]
  },
  {
   "cell_type": "code",
   "execution_count": 17,
   "metadata": {},
   "outputs": [
    {
     "data": {
      "text/plain": [
       "((50, 2), (50,))"
      ]
     },
     "execution_count": 17,
     "metadata": {},
     "output_type": "execute_result"
    }
   ],
   "source": [
    "x.shape, y.shape"
   ]
  },
  {
   "cell_type": "code",
   "execution_count": 18,
   "metadata": {},
   "outputs": [],
   "source": [
    "alpha = 0.0001 #alpha가 크면 최소화 지점을 지나칠 수 있다.\n",
    "theta=np.array(np.ones([x.shape[1]]))"
   ]
  },
  {
   "cell_type": "markdown",
   "metadata": {},
   "source": [
    "#### w"
   ]
  },
  {
   "cell_type": "code",
   "execution_count": 19,
   "metadata": {},
   "outputs": [],
   "source": [
    "def gradientDescent(x,y,theta,alpha,numIterations):\n",
    "    #alpha=0.01\n",
    "    #theta=np.ones([x.shape[1]]) # 2 of(4,2)\n",
    "    #i=0\n",
    "    #numIterations=10000\n",
    "    #oldCost=-np.inf\n",
    "    #cost=np.inf\n",
    "    for i in range(numIterations):\n",
    "        #i+=1\n",
    "        h=np.dot(x,theta)\n",
    "        error=h-y\n",
    "        #oldCost=cost\n",
    "        cost=np.sum((h-y)**2)/len(x) #full MSE\n",
    "        #cost=np.sum((h-y)**2)/(2*len(X)) #Half MSE\n",
    "        #gradient=[np.sum(h-y)*2,np.sum((h-y)*x)*2]\n",
    "        gradient=np.dot(x.T,error)*2/len(x) #w0,w1\n",
    "        theta-=alpha*gradient\n",
    "        if i%100==0:\n",
    "            print(\"Iteration {0} | theta{1} Cost {2:.5f}\".format(i,theta,cost))\n",
    "\n",
    "    return theta"
   ]
  },
  {
   "cell_type": "code",
   "execution_count": 20,
   "metadata": {
    "scrolled": true
   },
   "outputs": [
    {
     "name": "stdout",
     "output_type": "stream",
     "text": [
      "Iteration 0 | theta[1.81584329 1.01195792] Cost 3713.55551\n",
      "Iteration 100 | theta[1.88004846 1.01069023] Cost 123.00794\n",
      "Iteration 200 | theta[1.88008091 1.00848025] Cost 123.00745\n",
      "Iteration 300 | theta[1.88011336 1.00627029] Cost 123.00696\n",
      "Iteration 400 | theta[1.88014581 1.00406037] Cost 123.00647\n",
      "Iteration 500 | theta[1.88017826 1.00185048] Cost 123.00598\n",
      "Iteration 600 | theta[1.88021071 0.99964062] Cost 123.00550\n",
      "Iteration 700 | theta[1.88024316 0.99743079] Cost 123.00501\n",
      "Iteration 800 | theta[1.88027561 0.995221  ] Cost 123.00452\n",
      "Iteration 900 | theta[1.88030806 0.99301123] Cost 123.00403\n",
      "Iteration 1000 | theta[1.88034051 0.99080149] Cost 123.00354\n",
      "Iteration 1100 | theta[1.88037296 0.98859179] Cost 123.00305\n",
      "Iteration 1200 | theta[1.8804054  0.98638212] Cost 123.00256\n",
      "Iteration 1300 | theta[1.88043785 0.98417248] Cost 123.00208\n",
      "Iteration 1400 | theta[1.8804703  0.98196286] Cost 123.00159\n",
      "Iteration 1500 | theta[1.88050274 0.97975328] Cost 123.00110\n",
      "Iteration 1600 | theta[1.88053519 0.97754374] Cost 123.00061\n",
      "Iteration 1700 | theta[1.88056763 0.97533422] Cost 123.00012\n",
      "Iteration 1800 | theta[1.88060008 0.97312473] Cost 122.99963\n",
      "Iteration 1900 | theta[1.88063252 0.97091528] Cost 122.99915\n",
      "Iteration 2000 | theta[1.88066497 0.96870585] Cost 122.99866\n",
      "Iteration 2100 | theta[1.88069741 0.96649646] Cost 122.99817\n",
      "Iteration 2200 | theta[1.88072985 0.9642871 ] Cost 122.99768\n",
      "Iteration 2300 | theta[1.8807623  0.96207776] Cost 122.99719\n",
      "Iteration 2400 | theta[1.88079474 0.95986846] Cost 122.99671\n",
      "Iteration 2500 | theta[1.88082718 0.9576592 ] Cost 122.99622\n",
      "Iteration 2600 | theta[1.88085962 0.95544996] Cost 122.99573\n",
      "Iteration 2700 | theta[1.88089206 0.95324075] Cost 122.99524\n",
      "Iteration 2800 | theta[1.8809245  0.95103157] Cost 122.99475\n",
      "Iteration 2900 | theta[1.88095694 0.94882243] Cost 122.99426\n",
      "Iteration 3000 | theta[1.88098938 0.94661332] Cost 122.99378\n",
      "Iteration 3100 | theta[1.88102182 0.94440423] Cost 122.99329\n",
      "Iteration 3200 | theta[1.88105426 0.94219518] Cost 122.99280\n",
      "Iteration 3300 | theta[1.88108669 0.93998616] Cost 122.99231\n",
      "Iteration 3400 | theta[1.88111913 0.93777717] Cost 122.99182\n",
      "Iteration 3500 | theta[1.88115157 0.93556821] Cost 122.99134\n",
      "Iteration 3600 | theta[1.881184   0.93335929] Cost 122.99085\n",
      "Iteration 3700 | theta[1.88121644 0.93115039] Cost 122.99036\n",
      "Iteration 3800 | theta[1.88124888 0.92894153] Cost 122.98987\n",
      "Iteration 3900 | theta[1.88128131 0.92673269] Cost 122.98938\n",
      "Iteration 4000 | theta[1.88131374 0.92452389] Cost 122.98890\n",
      "Iteration 4100 | theta[1.88134618 0.92231512] Cost 122.98841\n",
      "Iteration 4200 | theta[1.88137861 0.92010638] Cost 122.98792\n",
      "Iteration 4300 | theta[1.88141105 0.91789767] Cost 122.98743\n",
      "Iteration 4400 | theta[1.88144348 0.91568899] Cost 122.98694\n",
      "Iteration 4500 | theta[1.88147591 0.91348034] Cost 122.98646\n",
      "Iteration 4600 | theta[1.88150834 0.91127172] Cost 122.98597\n",
      "Iteration 4700 | theta[1.88154077 0.90906314] Cost 122.98548\n",
      "Iteration 4800 | theta[1.8815732  0.90685458] Cost 122.98499\n",
      "Iteration 4900 | theta[1.88160564 0.90464606] Cost 122.98450\n",
      "Iteration 5000 | theta[1.88163807 0.90243757] Cost 122.98402\n",
      "Iteration 5100 | theta[1.88167049 0.90022911] Cost 122.98353\n",
      "Iteration 5200 | theta[1.88170292 0.89802068] Cost 122.98304\n",
      "Iteration 5300 | theta[1.88173535 0.89581228] Cost 122.98255\n",
      "Iteration 5400 | theta[1.88176778 0.89360391] Cost 122.98207\n",
      "Iteration 5500 | theta[1.88180021 0.89139557] Cost 122.98158\n",
      "Iteration 5600 | theta[1.88183264 0.88918727] Cost 122.98109\n",
      "Iteration 5700 | theta[1.88186506 0.88697899] Cost 122.98060\n",
      "Iteration 5800 | theta[1.88189749 0.88477075] Cost 122.98011\n",
      "Iteration 5900 | theta[1.88192991 0.88256254] Cost 122.97963\n",
      "Iteration 6000 | theta[1.88196234 0.88035435] Cost 122.97914\n",
      "Iteration 6100 | theta[1.88199476 0.8781462 ] Cost 122.97865\n",
      "Iteration 6200 | theta[1.88202719 0.87593808] Cost 122.97816\n",
      "Iteration 6300 | theta[1.88205961 0.87373   ] Cost 122.97768\n",
      "Iteration 6400 | theta[1.88209204 0.87152194] Cost 122.97719\n",
      "Iteration 6500 | theta[1.88212446 0.86931391] Cost 122.97670\n",
      "Iteration 6600 | theta[1.88215688 0.86710592] Cost 122.97621\n",
      "Iteration 6700 | theta[1.88218931 0.86489795] Cost 122.97573\n",
      "Iteration 6800 | theta[1.88222173 0.86269002] Cost 122.97524\n",
      "Iteration 6900 | theta[1.88225415 0.86048212] Cost 122.97475\n",
      "Iteration 7000 | theta[1.88228657 0.85827425] Cost 122.97426\n",
      "Iteration 7100 | theta[1.88231899 0.85606641] Cost 122.97378\n",
      "Iteration 7200 | theta[1.88235141 0.8538586 ] Cost 122.97329\n",
      "Iteration 7300 | theta[1.88238383 0.85165082] Cost 122.97280\n",
      "Iteration 7400 | theta[1.88241625 0.84944307] Cost 122.97231\n",
      "Iteration 7500 | theta[1.88244867 0.84723536] Cost 122.97183\n",
      "Iteration 7600 | theta[1.88248108 0.84502767] Cost 122.97134\n",
      "Iteration 7700 | theta[1.8825135  0.84282002] Cost 122.97085\n",
      "Iteration 7800 | theta[1.88254592 0.8406124 ] Cost 122.97036\n",
      "Iteration 7900 | theta[1.88257834 0.83840481] Cost 122.96988\n",
      "Iteration 8000 | theta[1.88261075 0.83619724] Cost 122.96939\n",
      "Iteration 8100 | theta[1.88264317 0.83398972] Cost 122.96890\n",
      "Iteration 8200 | theta[1.88267558 0.83178222] Cost 122.96841\n",
      "Iteration 8300 | theta[1.882708   0.82957475] Cost 122.96793\n",
      "Iteration 8400 | theta[1.88274041 0.82736731] Cost 122.96744\n",
      "Iteration 8500 | theta[1.88277283 0.82515991] Cost 122.96695\n",
      "Iteration 8600 | theta[1.88280524 0.82295253] Cost 122.96646\n",
      "Iteration 8700 | theta[1.88283765 0.82074519] Cost 122.96598\n",
      "Iteration 8800 | theta[1.88287007 0.81853788] Cost 122.96549\n",
      "Iteration 8900 | theta[1.88290248 0.8163306 ] Cost 122.96500\n",
      "Iteration 9000 | theta[1.88293489 0.81412335] Cost 122.96451\n",
      "Iteration 9100 | theta[1.8829673  0.81191613] Cost 122.96403\n",
      "Iteration 9200 | theta[1.88299971 0.80970894] Cost 122.96354\n",
      "Iteration 9300 | theta[1.88303212 0.80750179] Cost 122.96305\n",
      "Iteration 9400 | theta[1.88306453 0.80529466] Cost 122.96257\n",
      "Iteration 9500 | theta[1.88309694 0.80308756] Cost 122.96208\n",
      "Iteration 9600 | theta[1.88312935 0.8008805 ] Cost 122.96159\n",
      "Iteration 9700 | theta[1.88316176 0.79867347] Cost 122.96110\n",
      "Iteration 9800 | theta[1.88319417 0.79646647] Cost 122.96062\n",
      "Iteration 9900 | theta[1.88322658 0.7942595 ] Cost 122.96013\n"
     ]
    }
   ],
   "source": [
    "w1, w0=gradientDescent(x, y, theta, alpha, 10000) "
   ]
  },
  {
   "cell_type": "markdown",
   "metadata": {},
   "source": [
    "#### yhat"
   ]
  },
  {
   "cell_type": "code",
   "execution_count": 21,
   "metadata": {},
   "outputs": [],
   "source": [
    "yhatGV = w0*x[:,1] + w1*x[:,0]"
   ]
  },
  {
   "cell_type": "markdown",
   "metadata": {},
   "source": [
    "#### MSE"
   ]
  },
  {
   "cell_type": "code",
   "execution_count": 22,
   "metadata": {},
   "outputs": [
    {
     "data": {
      "text/plain": [
       "122.9596418153234"
      ]
     },
     "execution_count": 22,
     "metadata": {},
     "output_type": "execute_result"
    }
   ],
   "source": [
    "np.sum(np.power(y-yhatGV, 2))/len(x)"
   ]
  },
  {
   "cell_type": "markdown",
   "metadata": {},
   "source": [
    "#### 그래프"
   ]
  },
  {
   "cell_type": "code",
   "execution_count": 23,
   "metadata": {},
   "outputs": [
    {
     "data": {
      "image/png": "[encoded data removed]",
      "text/plain": [
       "<Figure size 432x288 with 1 Axes>"
      ]
     },
     "metadata": {
      "needs_background": "light"
     },
     "output_type": "display_data"
    }
   ],
   "source": [
    "%matplotlib inline\n",
    "import matplotlib.pyplot as plt\n",
    "\n",
    "plt.scatter(x[:,0],y)\n",
    "plt.plot(x[:,0],yhatGV,'bx') # gradient, MSE=123\n",
    "plt.plot(x[:,0],yhat,'r-') # matrix inverse, MSE=105.6\n",
    "plt.show()"
   ]
  },
  {
   "cell_type": "markdown",
   "metadata": {},
   "source": [
    "#### Python List로 gradient\n",
    "\n",
    "gradientDescentL() 함수에는 상수항이 없는 데이터를 넣어야 한다.\n",
    "상수항을 제거하고, x1으로 저장한다."
   ]
  },
  {
   "cell_type": "code",
   "execution_count": 24,
   "metadata": {
    "scrolled": true
   },
   "outputs": [],
   "source": [
    "x1=x[:,0] # 상수항 제거"
   ]
  },
  {
   "cell_type": "code",
   "execution_count": 25,
   "metadata": {},
   "outputs": [
    {
     "data": {
      "text/plain": [
       "array([65.78, 71.52, 69.4 , 68.22, 67.79, 68.7 , 69.8 , 70.01, 67.9 ,\n",
       "       66.78, 66.49, 67.62, 68.3 , 67.12, 68.28, 71.09, 66.46, 68.65,\n",
       "       71.23, 67.13, 67.83, 68.88, 63.48, 68.42, 67.63, 67.21, 70.84,\n",
       "       67.49, 66.53, 65.44, 69.52, 65.81, 67.82, 70.6 , 71.8 , 69.21,\n",
       "       66.8 , 67.66, 67.81, 64.05, 68.57, 65.18, 69.66, 67.97, 65.98,\n",
       "       68.67, 66.88, 67.7 , 69.82, 69.09])"
      ]
     },
     "execution_count": 25,
     "metadata": {},
     "output_type": "execute_result"
    }
   ],
   "source": [
    "x1"
   ]
  },
  {
   "cell_type": "code",
   "execution_count": 26,
   "metadata": {},
   "outputs": [],
   "source": [
    "import random\n",
    "\n",
    "def computeAvgError(a,b,x,y):\n",
    "    totalError = 0\n",
    "    for i in range(0, len(x)):\n",
    "        totalError += (y[i] - (a + b* x[i])) ** 2\n",
    "    return totalError / float(len(x))\n",
    "\n",
    "#x: attribute, 1d float array or list\n",
    "#y: class, 1d int array\n",
    "#alpha: learning rate\n",
    "def gradientDescentL(x,y,alpha,iter): #list 방식으로 gradient Descent 푸는 함수\n",
    "    a=random.random()\n",
    "    b=random.random()\n",
    "    #alpha=0.01\n",
    "    n=len(x)\n",
    "    for j in range(iter):\n",
    "        aGradient = 0\n",
    "        bGradient = 0\n",
    "        for i in range(n):\n",
    "            aGradient += (2./n) * (((a + b * x[i])) - y[i])*(1)\n",
    "            bGradient += (2./n) * (((a + b * x[i])) - y[i])*(x[i])\n",
    "            #aGradient += (2./n) * (y[i] - ((a + b * x[i])))*(-1)\n",
    "            #bGradient += (2./n) * (y[i] - ((a + b * x[i])))*(-x[i])\n",
    "        a = a - (alpha * aGradient)\n",
    "        b = b - (alpha * bGradient)\n",
    "        if (j%100==0):\n",
    "            print (\"iter:{0} a={1:.3f} b={2:.3f} AvgError={3:.3f}\".format(j,a,b,computeAvgError(a,b,x,y)))\n",
    "    return a, b"
   ]
  },
  {
   "cell_type": "markdown",
   "metadata": {},
   "source": [
    "앞서 alpha와 동일하게 설정한다. alpha가 크면 하강기울기가 최적을 지나칠 수 있다는 점 유의하자."
   ]
  },
  {
   "cell_type": "code",
   "execution_count": 27,
   "metadata": {
    "scrolled": true
   },
   "outputs": [
    {
     "name": "stdout",
     "output_type": "stream",
     "text": [
      "iter:0 a=0.476 b=1.776 AvgError=180.908\n",
      "iter:100 a=0.476 b=1.888 AvgError=122.890\n",
      "iter:200 a=0.473 b=1.888 AvgError=122.889\n",
      "iter:300 a=0.471 b=1.888 AvgError=122.889\n",
      "iter:400 a=0.469 b=1.888 AvgError=122.888\n",
      "iter:500 a=0.467 b=1.888 AvgError=122.888\n",
      "iter:600 a=0.465 b=1.888 AvgError=122.887\n",
      "iter:700 a=0.462 b=1.888 AvgError=122.887\n",
      "iter:800 a=0.460 b=1.888 AvgError=122.886\n",
      "iter:900 a=0.458 b=1.888 AvgError=122.886\n",
      "iter:1000 a=0.456 b=1.888 AvgError=122.886\n",
      "iter:1100 a=0.454 b=1.888 AvgError=122.885\n",
      "iter:1200 a=0.451 b=1.888 AvgError=122.885\n",
      "iter:1300 a=0.449 b=1.888 AvgError=122.884\n",
      "iter:1400 a=0.447 b=1.888 AvgError=122.884\n",
      "iter:1500 a=0.445 b=1.888 AvgError=122.883\n",
      "iter:1600 a=0.443 b=1.888 AvgError=122.883\n",
      "iter:1700 a=0.440 b=1.888 AvgError=122.882\n",
      "iter:1800 a=0.438 b=1.888 AvgError=122.882\n",
      "iter:1900 a=0.436 b=1.888 AvgError=122.881\n",
      "iter:2000 a=0.434 b=1.889 AvgError=122.881\n",
      "iter:2100 a=0.432 b=1.889 AvgError=122.880\n",
      "iter:2200 a=0.429 b=1.889 AvgError=122.880\n",
      "iter:2300 a=0.427 b=1.889 AvgError=122.879\n",
      "iter:2400 a=0.425 b=1.889 AvgError=122.879\n",
      "iter:2500 a=0.423 b=1.889 AvgError=122.878\n",
      "iter:2600 a=0.421 b=1.889 AvgError=122.878\n",
      "iter:2700 a=0.418 b=1.889 AvgError=122.877\n",
      "iter:2800 a=0.416 b=1.889 AvgError=122.877\n",
      "iter:2900 a=0.414 b=1.889 AvgError=122.876\n",
      "iter:3000 a=0.412 b=1.889 AvgError=122.876\n",
      "iter:3100 a=0.410 b=1.889 AvgError=122.875\n",
      "iter:3200 a=0.407 b=1.889 AvgError=122.875\n",
      "iter:3300 a=0.405 b=1.889 AvgError=122.874\n",
      "iter:3400 a=0.403 b=1.889 AvgError=122.874\n",
      "iter:3500 a=0.401 b=1.889 AvgError=122.873\n",
      "iter:3600 a=0.399 b=1.889 AvgError=122.873\n",
      "iter:3700 a=0.396 b=1.889 AvgError=122.872\n",
      "iter:3800 a=0.394 b=1.889 AvgError=122.872\n",
      "iter:3900 a=0.392 b=1.889 AvgError=122.871\n",
      "iter:4000 a=0.390 b=1.889 AvgError=122.871\n",
      "iter:4100 a=0.388 b=1.889 AvgError=122.870\n",
      "iter:4200 a=0.385 b=1.889 AvgError=122.870\n",
      "iter:4300 a=0.383 b=1.889 AvgError=122.870\n",
      "iter:4400 a=0.381 b=1.889 AvgError=122.869\n",
      "iter:4500 a=0.379 b=1.889 AvgError=122.869\n",
      "iter:4600 a=0.377 b=1.889 AvgError=122.868\n",
      "iter:4700 a=0.374 b=1.889 AvgError=122.868\n",
      "iter:4800 a=0.372 b=1.889 AvgError=122.867\n",
      "iter:4900 a=0.370 b=1.889 AvgError=122.867\n",
      "iter:5000 a=0.368 b=1.889 AvgError=122.866\n",
      "iter:5100 a=0.366 b=1.890 AvgError=122.866\n",
      "iter:5200 a=0.363 b=1.890 AvgError=122.865\n",
      "iter:5300 a=0.361 b=1.890 AvgError=122.865\n",
      "iter:5400 a=0.359 b=1.890 AvgError=122.864\n",
      "iter:5500 a=0.357 b=1.890 AvgError=122.864\n",
      "iter:5600 a=0.355 b=1.890 AvgError=122.863\n",
      "iter:5700 a=0.352 b=1.890 AvgError=122.863\n",
      "iter:5800 a=0.350 b=1.890 AvgError=122.862\n",
      "iter:5900 a=0.348 b=1.890 AvgError=122.862\n",
      "iter:6000 a=0.346 b=1.890 AvgError=122.861\n",
      "iter:6100 a=0.344 b=1.890 AvgError=122.861\n",
      "iter:6200 a=0.341 b=1.890 AvgError=122.860\n",
      "iter:6300 a=0.339 b=1.890 AvgError=122.860\n",
      "iter:6400 a=0.337 b=1.890 AvgError=122.859\n",
      "iter:6500 a=0.335 b=1.890 AvgError=122.859\n",
      "iter:6600 a=0.333 b=1.890 AvgError=122.858\n",
      "iter:6700 a=0.330 b=1.890 AvgError=122.858\n",
      "iter:6800 a=0.328 b=1.890 AvgError=122.857\n",
      "iter:6900 a=0.326 b=1.890 AvgError=122.857\n",
      "iter:7000 a=0.324 b=1.890 AvgError=122.856\n",
      "iter:7100 a=0.322 b=1.890 AvgError=122.856\n",
      "iter:7200 a=0.319 b=1.890 AvgError=122.855\n",
      "iter:7300 a=0.317 b=1.890 AvgError=122.855\n",
      "iter:7400 a=0.315 b=1.890 AvgError=122.854\n",
      "iter:7500 a=0.313 b=1.890 AvgError=122.854\n",
      "iter:7600 a=0.311 b=1.890 AvgError=122.854\n",
      "iter:7700 a=0.308 b=1.890 AvgError=122.853\n",
      "iter:7800 a=0.306 b=1.890 AvgError=122.853\n",
      "iter:7900 a=0.304 b=1.890 AvgError=122.852\n",
      "iter:8000 a=0.302 b=1.890 AvgError=122.852\n",
      "iter:8100 a=0.300 b=1.890 AvgError=122.851\n",
      "iter:8200 a=0.297 b=1.891 AvgError=122.851\n",
      "iter:8300 a=0.295 b=1.891 AvgError=122.850\n",
      "iter:8400 a=0.293 b=1.891 AvgError=122.850\n",
      "iter:8500 a=0.291 b=1.891 AvgError=122.849\n",
      "iter:8600 a=0.289 b=1.891 AvgError=122.849\n",
      "iter:8700 a=0.286 b=1.891 AvgError=122.848\n",
      "iter:8800 a=0.284 b=1.891 AvgError=122.848\n",
      "iter:8900 a=0.282 b=1.891 AvgError=122.847\n",
      "iter:9000 a=0.280 b=1.891 AvgError=122.847\n",
      "iter:9100 a=0.278 b=1.891 AvgError=122.846\n",
      "iter:9200 a=0.275 b=1.891 AvgError=122.846\n",
      "iter:9300 a=0.273 b=1.891 AvgError=122.845\n",
      "iter:9400 a=0.271 b=1.891 AvgError=122.845\n",
      "iter:9500 a=0.269 b=1.891 AvgError=122.844\n",
      "iter:9600 a=0.267 b=1.891 AvgError=122.844\n",
      "iter:9700 a=0.264 b=1.891 AvgError=122.843\n",
      "iter:9800 a=0.262 b=1.891 AvgError=122.843\n",
      "iter:9900 a=0.260 b=1.891 AvgError=122.842\n"
     ]
    }
   ],
   "source": [
    "a, b=gradientDescentL(x1,y,alpha,10000)"
   ]
  },
  {
   "cell_type": "code",
   "execution_count": 28,
   "metadata": {
    "scrolled": true
   },
   "outputs": [
    {
     "data": {
      "text/plain": [
       "(0.2578158790222259, 1.8911038338816633)"
      ]
     },
     "execution_count": 28,
     "metadata": {},
     "output_type": "execute_result"
    }
   ],
   "source": [
    "a,b"
   ]
  },
  {
   "cell_type": "markdown",
   "metadata": {},
   "source": [
    "예측 값을 구해서, 그래프를 그려보자.\n",
    "a, b가 앞서 모델과 차이가 있다. 이 경우 MSE오류를 비교해본다.\n",
    "위 **MSE=105.6과 비교해서 약간 크게** 되었다."
   ]
  },
  {
   "cell_type": "code",
   "execution_count": 29,
   "metadata": {},
   "outputs": [],
   "source": [
    "yhatGL=b*x1+a"
   ]
  },
  {
   "cell_type": "code",
   "execution_count": 30,
   "metadata": {},
   "outputs": [
    {
     "data": {
      "image/png": "[encoded data removed]",
      "text/plain": [
       "<Figure size 432x288 with 1 Axes>"
      ]
     },
     "metadata": {
      "needs_background": "light"
     },
     "output_type": "display_data"
    }
   ],
   "source": [
    "%matplotlib inline\n",
    "import matplotlib.pyplot as plt\n",
    "\n",
    "plt.scatter(x1,y)\n",
    "plt.plot(x[:,0],yhatGL,'b-') # gradient with list, MSE=123 #xxx로 그린 아까 그래프(gradient with vector)와 비슷\n",
    "plt.plot(x[:,0],yhatGV,'bx') # gradient with vector, MSE=123\n",
    "plt.plot(x[:,0],yhat,'r-') # matrix inverse, MSE=105.6\n",
    "plt.show()"
   ]
  },
  {
   "cell_type": "code",
   "execution_count": null,
   "metadata": {},
   "outputs": [],
   "source": []
  },
  {
   "cell_type": "code",
   "execution_count": null,
   "metadata": {
    "collapsed": true
   },
   "outputs": [],
   "source": []
  }
 ],
 "metadata": {
  "kernelspec": {
   "display_name": "Python 3",
   "language": "python",
   "name": "python3"
  },
  "language_info": {
   "codemirror_mode": {
    "name": "ipython",
    "version": 3
   },
   "file_extension": ".py",
   "mimetype": "text/x-python",
   "name": "python",
   "nbconvert_exporter": "python",
   "pygments_lexer": "ipython3",
   "version": "3.7.6"
  }
 },
 "nbformat": 4,
 "nbformat_minor": 1
}
