{
 "cells": [
  {
   "cell_type": "markdown",
   "metadata": {},
   "source": [
    "## 문제: Sklearn make_classification으로 생성된 데이터에 대해 이진 베이지안 모델\n",
    "\n",
    "Sklearn의 make_classification() 함수는 분류에 쓰일 수 있는 데이터를 생성해준다.\n",
    "\n",
    "```python\n",
    "sklearn.datasets.make_classification(n_samples=100, n_features=20, *, n_informative=2, n_redundant=2, n_repeated=0, n_classes=2, n_clusters_per_class=2, weights=None, flip_y=0.01, class_sep=1.0, hypercube=True, shift=0.0, scale=1.0, shuffle=True, random_state=None)\n",
    "```\n",
    "* n_samples: 표본 데이터의 수\n",
    "* n_features: 독립 변수의 수\n",
    "* n_informative: 독립 변수 중 종속 변수와 상관 관계가 있는 성분의 수\n",
    "* n_redundant: 독립 변수 중 다른 독립 변수의 선형 조합으로 나타나는 성분의 수\n",
    "* n_repeated : 독립 변수 중 단순 중복된 성분의 수\n",
    "* n_classes : 종속 변수의 클래스 수\n",
    "* n_clusters_per_class : 클래스 당 클러스터의 수\n",
    "* weights : 각 클래스에 할당된 표본 수\n",
    "* random_state : 난수 발생 시드\n",
    "\n",
    "단, n_informative + n_redundant + n_repeated <= n_features이어야 한다.\n",
    "\n",
    "Sklearn으로 이진 베이지안 모델링을 해보자.\n",
    "* (1) X, Y 데이터를 생성\n",
    "* (2) X의 평균과 표준편차 계산해서 출력\n",
    "* (3) 그래프 작성\n",
    "    * scatter() 함수에 c=Y 옵션을 넣으면, Y의 값에 대해 다른 색으로 표시할 수 있다.\n",
    "* (4) 훈련데이터, 테스트데이터 3:1로 분리\n",
    "* (5) 훈련데이터에 대하여 BernoulliNB 모델링\n",
    "    * X데이터는 연속 값이다. binarize=0.0으로 설정하여 이진수로 모델링한다.\n",
    "* (6) 테스트데이터에 대하여 예측값을 출력\n",
    "    * 예측이 맞는지 실제값 Y와 비교해보자.\n",
    "* (7) 테스트데이터에 대하여 예측과 실제의 정확성 출력"
   ]
  },
  {
   "cell_type": "markdown",
   "metadata": {},
   "source": [
    "### 데이터\n",
    "\n",
    "2개의 속성을 적당한 상관관계를 가진 값으로 설정하여 100개의 데이터를 생성한다."
   ]
  },
  {
   "cell_type": "code",
   "execution_count": 1,
   "metadata": {},
   "outputs": [],
   "source": [
    "from sklearn.datasets import make_classification\n",
    "\n",
    "X, Y = make_classification(n_samples=100, n_features=2, n_informative=2, n_redundant=0)"
   ]
  },
  {
   "cell_type": "code",
   "execution_count": 5,
   "metadata": {},
   "outputs": [
    {
     "data": {
      "text/plain": [
       "array([[ 1.56729159, -1.979027  ],\n",
       "       [-2.01877705, -2.39579477],\n",
       "       [-1.74985422, -0.67662352],\n",
       "       [-0.19882069,  0.92471888],\n",
       "       [-1.79181163, -0.88383514]])"
      ]
     },
     "execution_count": 5,
     "metadata": {},
     "output_type": "execute_result"
    }
   ],
   "source": [
    "X[:5] #연속적이므로 bi~multi~에는 해당안됨. 정규분포"
   ]
  },
  {
   "cell_type": "code",
   "execution_count": 14,
   "metadata": {},
   "outputs": [
    {
     "data": {
      "text/plain": [
       "array([1, 0, 0, 0, 0])"
      ]
     },
     "execution_count": 14,
     "metadata": {},
     "output_type": "execute_result"
    }
   ],
   "source": [
    "Y[:5]"
   ]
  },
  {
   "cell_type": "markdown",
   "metadata": {},
   "source": [
    "### 평균, 표준편차\n",
    "\n",
    "X는 numpy array이다. 평균과 표준편차를 출력해보자."
   ]
  },
  {
   "cell_type": "code",
   "execution_count": 15,
   "metadata": {},
   "outputs": [
    {
     "data": {
      "text/plain": [
       "(-0.06674112702230678, 1.373119226295888)"
      ]
     },
     "execution_count": 15,
     "metadata": {},
     "output_type": "execute_result"
    }
   ],
   "source": [
    "X.mean(), X.std()"
   ]
  },
  {
   "cell_type": "markdown",
   "metadata": {},
   "source": [
    "### 그래프\n",
    "\n",
    "Y값에 따라 다른 색으로 그리기 위해서는 ```c=Y```라고 설정해준다.\n",
    "```s```는 마커의 크기, 제곱으로 표현할 수 있다."
   ]
  },
  {
   "cell_type": "code",
   "execution_count": 16,
   "metadata": {},
   "outputs": [
    {
     "data": {
      "image/png": "[encoded data removed]",
      "text/plain": [
       "<Figure size 432x288 with 1 Axes>"
      ]
     },
     "metadata": {
      "needs_background": "light"
     },
     "output_type": "display_data"
    }
   ],
   "source": [
    "import matplotlib.pyplot as plt\n",
    "\n",
    "plt.scatter(X[:,0], X[:,1], marker='o', c=Y)\n",
    "plt.show()"
   ]
  },
  {
   "cell_type": "markdown",
   "metadata": {},
   "source": [
    "### 데이터 분할\n",
    "\n",
    "데이터는 연속 값이다. 이 경우 ```binarize``` 설정을 해서, 임계치를 0.0을 사용해서 이분화한다."
   ]
  },
  {
   "cell_type": "code",
   "execution_count": 23,
   "metadata": {},
   "outputs": [],
   "source": [
    "from sklearn.model_selection import train_test_split\n",
    "\n",
    "X_train, X_test, Y_train, Y_test = train_test_split(X, Y, test_size=0.25)"
   ]
  },
  {
   "cell_type": "markdown",
   "metadata": {},
   "source": [
    "### BernoulliNB"
   ]
  },
  {
   "cell_type": "code",
   "execution_count": 24,
   "metadata": {},
   "outputs": [],
   "source": [
    "from sklearn.naive_bayes import BernoulliNB\n",
    "\n",
    "bnb = BernoulliNB(binarize=0.0)"
   ]
  },
  {
   "cell_type": "code",
   "execution_count": 25,
   "metadata": {},
   "outputs": [
    {
     "data": {
      "text/plain": [
       "BernoulliNB(alpha=1.0, binarize=0.0, class_prior=None, fit_prior=True)"
      ]
     },
     "execution_count": 25,
     "metadata": {},
     "output_type": "execute_result"
    }
   ],
   "source": [
    "bnb.fit(X_train, Y_train)"
   ]
  },
  {
   "cell_type": "markdown",
   "metadata": {},
   "source": [
    "### 예측\n",
    "\n",
    "25개 가운데 3개 오류가 발생하였다. 정확성은 1 - 3/25 = 0.88이다."
   ]
  },
  {
   "cell_type": "code",
   "execution_count": 26,
   "metadata": {},
   "outputs": [
    {
     "data": {
      "text/plain": [
       "[(0, 1, array([-0.00383787,  0.07814591])),\n",
       " (0, 0, array([-2.2495566, -1.8557206])),\n",
       " (1, 1, array([ 0.82741056, -1.07845276])),\n",
       " (0, 0, array([-2.50170693, -0.33088746])),\n",
       " (0, 0, array([-1.79181163, -0.88383514])),\n",
       " (1, 1, array([1.73437135, 0.90877145])),\n",
       " (0, 0, array([-1.74985422, -0.67662352])),\n",
       " (0, 0, array([-0.72093679, -0.38428559])),\n",
       " (1, 1, array([ 0.28602359, -0.42785808])),\n",
       " (1, 1, array([ 0.41517839, -1.35902557])),\n",
       " (1, 1, array([ 1.82118511, -1.78671244])),\n",
       " (1, 1, array([ 1.96931176, -2.62644307])),\n",
       " (1, 1, array([ 1.56729159, -1.979027  ])),\n",
       " (0, 0, array([-1.49069977, -1.05160844])),\n",
       " (0, 1, array([-1.09277659, -0.91758974])),\n",
       " (0, 0, array([-2.30114699, -0.92585493])),\n",
       " (1, 1, array([ 0.72732419, -1.29451873])),\n",
       " (0, 0, array([-1.19004082, -1.10485826])),\n",
       " (0, 0, array([-1.32413001,  0.76252019])),\n",
       " (0, 1, array([-0.64311172,  0.00805734])),\n",
       " (1, 1, array([1.82606069, 2.12903055])),\n",
       " (0, 0, array([-1.78920877, -0.10492214])),\n",
       " (0, 0, array([-2.47829017, -0.76854082])),\n",
       " (1, 1, array([ 0.93200621, -0.38619276])),\n",
       " (1, 1, array([0.0429568 , 0.39890822]))]"
      ]
     },
     "execution_count": 26,
     "metadata": {},
     "output_type": "execute_result"
    }
   ],
   "source": [
    "list(zip(bnb.predict(X_test),Y_test, X_test)) #zip: 묶어줌 출력은x / list:출력해줌"
   ]
  },
  {
   "cell_type": "markdown",
   "metadata": {},
   "source": [
    "이진 값을 넣어서 예측값을 출력해보자."
   ]
  },
  {
   "cell_type": "code",
   "execution_count": 27,
   "metadata": {},
   "outputs": [
    {
     "data": {
      "text/plain": [
       "array([1, 1, 0, 0, 0])"
      ]
     },
     "execution_count": 27,
     "metadata": {},
     "output_type": "execute_result"
    }
   ],
   "source": [
    "bnb.predict([[1,1], [1,-1], [-1,1], [-1,-1], [0,0]])"
   ]
  },
  {
   "cell_type": "markdown",
   "metadata": {
    "collapsed": true
   },
   "source": [
    "### 정확성"
   ]
  },
  {
   "cell_type": "code",
   "execution_count": 32,
   "metadata": {},
   "outputs": [
    {
     "data": {
      "text/plain": [
       "0.88"
      ]
     },
     "execution_count": 32,
     "metadata": {},
     "output_type": "execute_result"
    }
   ],
   "source": [
    "bnb.score(X_test, Y_test) #xtest(2차원배열)넣으면 자동으로 그 예측값과 ytest를 비교하는듯?"
   ]
  },
  {
   "cell_type": "code",
   "execution_count": null,
   "metadata": {},
   "outputs": [],
   "source": []
  }
 ],
 "metadata": {
  "celltoolbar": "Slideshow",
  "kernelspec": {
   "display_name": "Python 3",
   "language": "python",
   "name": "python3"
  },
  "language_info": {
   "codemirror_mode": {
    "name": "ipython",
    "version": 3
   },
   "file_extension": ".py",
   "mimetype": "text/x-python",
   "name": "python",
   "nbconvert_exporter": "python",
   "pygments_lexer": "ipython3",
   "version": "3.7.6"
  }
 },
 "nbformat": 4,
 "nbformat_minor": 1
}
