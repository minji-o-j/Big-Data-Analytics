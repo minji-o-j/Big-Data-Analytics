{
 "cells": [
  {
   "cell_type": "markdown",
   "metadata": {
    "slideshow": {
     "slide_type": "subslide"
    }
   },
   "source": [
    "## 문제: Matrix Inverse Method 회귀모델\n",
    "\n",
    "데이터가 다음과 같이 주어졌을 때:\n",
    "* x [1,2],[1,4],[1,6]\n",
    "* y 3,6,7\n",
    "\n",
    "회귀식을 도출해보자.\n",
    "* 1) matrix inverse method로 $\\hat{w}$을 계산,\n",
    "* 2) 예측과 실제의 오류 합계를 계산,\n",
    "* 2) 입력 데이터와 회귀선의 그래프를 작성한다."
   ]
  },
  {
   "cell_type": "markdown",
   "metadata": {},
   "source": [
    "### (1) 데이터"
   ]
  },
  {
   "cell_type": "code",
   "execution_count": 1,
   "metadata": {},
   "outputs": [],
   "source": [
    "import numpy as np\n",
    "\n",
    "x1=np.array([[1,2],[1,4],[1,6]]) #행3 열2\n",
    "y1=np.array([3,6,7])"
   ]
  },
  {
   "cell_type": "markdown",
   "metadata": {},
   "source": [
    "### (2) 데이터 구성 확인\n",
    "\n",
    "x데이터는 행에 레코드, 열에 속성이 오도록 해야 한다."
   ]
  },
  {
   "cell_type": "code",
   "execution_count": 3,
   "metadata": {},
   "outputs": [
    {
     "name": "stdout",
     "output_type": "stream",
     "text": [
      "(3, 2) (3,)\n"
     ]
    }
   ],
   "source": [
    "print(x1.shape,y1.shape)"
   ]
  },
  {
   "cell_type": "markdown",
   "metadata": {
    "slideshow": {
     "slide_type": "subslide"
    }
   },
   "source": [
    "컬럼에는 상수항과 속성의 순서에 유의한다."
   ]
  },
  {
   "cell_type": "code",
   "execution_count": 4,
   "metadata": {},
   "outputs": [
    {
     "name": "stdout",
     "output_type": "stream",
     "text": [
      "x1:\n",
      " [[1 2]\n",
      " [1 4]\n",
      " [1 6]]\n"
     ]
    }
   ],
   "source": [
    "print(\"x1:\\n\", x1)"
   ]
  },
  {
   "cell_type": "markdown",
   "metadata": {},
   "source": [
    "### (3) w 계산\n",
    "\n",
    "w0은 x0, w1은 x1에 대해 계산한다.\n",
    "```X.T*X```는 ```dot()```함수로 연산을 한다."
   ]
  },
  {
   "cell_type": "code",
   "execution_count": 5,
   "metadata": {},
   "outputs": [
    {
     "name": "stdout",
     "output_type": "stream",
     "text": [
      "xTx=\n",
      " [[ 3 12]\n",
      " [12 56]]\n"
     ]
    }
   ],
   "source": [
    "xTx=np.dot(x1.T,x1)\n",
    "print(\"xTx=\\n\",xTx)"
   ]
  },
  {
   "cell_type": "markdown",
   "metadata": {},
   "source": [
    "그 값의 inverse를 구한다."
   ]
  },
  {
   "cell_type": "code",
   "execution_count": 6,
   "metadata": {},
   "outputs": [
    {
     "name": "stdout",
     "output_type": "stream",
     "text": [
      "xTxI=\n",
      " [[ 2.33333333 -0.5       ]\n",
      " [-0.5         0.125     ]]\n"
     ]
    }
   ],
   "source": [
    "xTxI=np.linalg.inv(xTx)\n",
    "print(\"xTxI=\\n\",xTxI)"
   ]
  },
  {
   "cell_type": "markdown",
   "metadata": {
    "slideshow": {
     "slide_type": "subslide"
    }
   },
   "source": [
    "```X.T*Y``` 역시 array는 ```dot()```함수로 연산을 한다."
   ]
  },
  {
   "cell_type": "code",
   "execution_count": 7,
   "metadata": {},
   "outputs": [
    {
     "name": "stdout",
     "output_type": "stream",
     "text": [
      "xTyT= [16 72]\n"
     ]
    }
   ],
   "source": [
    "xTyT=np.dot(x1.T,y1)\n",
    "print(\"xTyT=\",xTyT)"
   ]
  },
  {
   "cell_type": "markdown",
   "metadata": {},
   "source": [
    "위 계산을 가져와 weights를 구해보자."
   ]
  },
  {
   "cell_type": "code",
   "execution_count": 9,
   "metadata": {},
   "outputs": [
    {
     "name": "stdout",
     "output_type": "stream",
     "text": [
      "weights= [1.33333333 1.        ]\n"
     ]
    }
   ],
   "source": [
    "print(\"weights=\",np.dot(xTxI,xTyT)) # 2x2 dot 2x1 -> 2x1"
   ]
  },
  {
   "cell_type": "markdown",
   "metadata": {
    "slideshow": {
     "slide_type": "subslide"
    }
   },
   "source": [
    "### 줄여서 계산\n",
    "\n",
    "앞서는 계산과정을 한 줄씩 해보았지만, 이번에는 줄여서 한 줄로 해보자.\n",
    "입력 컬럼에 해당하는 가중치 $y= w_0 \\times x_0 + w_1\\times x_1$ 순서대로 출력한다.\n",
    "즉, $w_0$은 첫째 컬럼인 절편 $x_0$, $w_1$은 둘째 컬럼인 $x_1$에 대한 계수이다."
   ]
  },
  {
   "cell_type": "code",
   "execution_count": 10,
   "metadata": {},
   "outputs": [],
   "source": [
    "w0, w1=np.dot(np.linalg.inv(np.dot(x1.T, x1)), np.dot(x1.T, y1)) #1.3 1.0"
   ]
  },
  {
   "cell_type": "code",
   "execution_count": 11,
   "metadata": {},
   "outputs": [
    {
     "data": {
      "text/plain": [
       "'w0:1.3333333333333286 w1:1.0'"
      ]
     },
     "execution_count": 11,
     "metadata": {},
     "output_type": "execute_result"
    }
   ],
   "source": [
    "f\"w0:{w0} w1:{w1}\""
   ]
  },
  {
   "cell_type": "markdown",
   "metadata": {},
   "source": [
    "### 추가: matrix로 계산\n",
    "\n",
    "지금까지는 array로 풀어보았다. 이번에는 matrix() 함수로 데이터를 만들고, matrix 연산을 해보자."
   ]
  },
  {
   "cell_type": "code",
   "execution_count": 12,
   "metadata": {},
   "outputs": [],
   "source": [
    "import numpy as np\n",
    "X=np.matrix([[1,2],[1,4],[1,6]])\n",
    "Y=np.matrix([3,6,7])"
   ]
  },
  {
   "cell_type": "code",
   "execution_count": 13,
   "metadata": {},
   "outputs": [],
   "source": [
    "xTx=X.T*X"
   ]
  },
  {
   "cell_type": "markdown",
   "metadata": {},
   "source": [
    "matrix의 역행렬은 간편하게 ```I``` 로 계산하고 있다."
   ]
  },
  {
   "cell_type": "code",
   "execution_count": 14,
   "metadata": {},
   "outputs": [],
   "source": [
    "xTxI=xTx.I  #inversible as xTx.det() (3*56 - 12*12) != 0"
   ]
  },
  {
   "cell_type": "code",
   "execution_count": 15,
   "metadata": {},
   "outputs": [],
   "source": [
    "xTyT=X.T*Y.T"
   ]
  },
  {
   "cell_type": "markdown",
   "metadata": {},
   "source": [
    "위와 동일한 계수가 계산되었다."
   ]
  },
  {
   "cell_type": "code",
   "execution_count": 16,
   "metadata": {
    "slideshow": {
     "slide_type": "subslide"
    }
   },
   "outputs": [
    {
     "name": "stdout",
     "output_type": "stream",
     "text": [
      "weights= [[1.33333333]\n",
      " [1.        ]]\n"
     ]
    }
   ],
   "source": [
    "print(\"weights=\",xTxI*xTyT) #1.33 1.00 thus y=1.33+1.00x1+e"
   ]
  },
  {
   "cell_type": "markdown",
   "metadata": {},
   "source": [
    "###  numpy listsq"
   ]
  },
  {
   "cell_type": "code",
   "execution_count": 17,
   "metadata": {
    "scrolled": true
   },
   "outputs": [
    {
     "name": "stdout",
     "output_type": "stream",
     "text": [
      "1.3333333333333306 1.0000000000000004\n"
     ]
    }
   ],
   "source": [
    "w0, w1 = np.linalg.lstsq(x1, y1, rcond=None)[0]\n",
    "print(w0,w1)"
   ]
  },
  {
   "cell_type": "markdown",
   "metadata": {},
   "source": [
    "### (4) 예측\n",
    "\n",
    "#### 항목별 예측 계산\n",
    "\n",
    "먼저 상수항을 제거하고 속성만 꺼내보자."
   ]
  },
  {
   "cell_type": "code",
   "execution_count": 18,
   "metadata": {},
   "outputs": [],
   "source": [
    "x=x1[:,1]  #[2, 4, 6]  #상수항(1)은 필요가 없다!! # 모든 행에 대하여 1번째 column"
   ]
  },
  {
   "cell_type": "markdown",
   "metadata": {},
   "source": [
    "속성이 하나라서 식이 간단하지만, 속성을 순서대로 w와 연산해서 예측값을 계산한다."
   ]
  },
  {
   "cell_type": "code",
   "execution_count": 19,
   "metadata": {},
   "outputs": [],
   "source": [
    "yhat=w0+w1*x"
   ]
  },
  {
   "cell_type": "code",
   "execution_count": 20,
   "metadata": {},
   "outputs": [
    {
     "data": {
      "text/plain": [
       "'predicted yhat: [3.33333333 5.33333333 7.33333333]'"
      ]
     },
     "execution_count": 20,
     "metadata": {},
     "output_type": "execute_result"
    }
   ],
   "source": [
    "f\"predicted yhat: {yhat}\""
   ]
  },
  {
   "cell_type": "markdown",
   "metadata": {},
   "source": [
    "#### 벡터로 예측 계산\n",
    "\n",
    "벡터로 계산해보자.\n",
    "\n",
    "##### shape 정열\n",
    "\n",
    "우선 w를 array로 만들어 준다."
   ]
  },
  {
   "cell_type": "code",
   "execution_count": 21,
   "metadata": {},
   "outputs": [],
   "source": [
    "w=np.array([w0,w1])"
   ]
  },
  {
   "cell_type": "markdown",
   "metadata": {},
   "source": [
    "x1,w의 ```dot()``` 연산을 하기 위해 차원을 맞추어 준다."
   ]
  },
  {
   "cell_type": "code",
   "execution_count": 22,
   "metadata": {},
   "outputs": [
    {
     "data": {
      "text/plain": [
       "'x1.shape:(3, 2) w.shape: (2,)'"
      ]
     },
     "execution_count": 22,
     "metadata": {},
     "output_type": "execute_result"
    }
   ],
   "source": [
    "f\"x1.shape:{x1.shape} w.shape: {w.shape}\""
   ]
  },
  {
   "cell_type": "markdown",
   "metadata": {},
   "source": [
    "(2, ) -> (2, 1)로 맞추어 주면, **(3, 2), (2, 1) -> (3, 1)** 연산이 된다.\n",
    "np.newaxis로 차원을 맞추어 준다."
   ]
  },
  {
   "cell_type": "markdown",
   "metadata": {
    "slideshow": {
     "slide_type": "-"
    }
   },
   "source": [
    "> 1차원 Transpose\n",
    "\n",
    "> 1차원의 ```x.T*x```를 구해보자.\n",
    "numpy array **1d**는 ```[...,...,...]``` 형식으로 구성된다.\n",
    "**1d는 transpose를 해도 변환이 되지 않는다**.\n",
    "이럴 경우 ```[[],[]]```로 만들어 trasnpose해야 한다.\n",
    "np.newaxis 명령어로 ```[]```를 추가해서 ```[[],[]]```으로 변환해준다.\n",
    "```python\n",
    "x=np.array([1,2,3,4])\n",
    "x[:, np.newaxis]\n",
    "```\n",
    "그 결과 [1,2,3,4]가 ([[1],[2],[3],[4]])로 변환이 된다."
   ]
  },
  {
   "cell_type": "code",
   "execution_count": 23,
   "metadata": {},
   "outputs": [],
   "source": [
    "w=w[:, np.newaxis]"
   ]
  },
  {
   "cell_type": "code",
   "execution_count": 24,
   "metadata": {},
   "outputs": [
    {
     "data": {
      "text/plain": [
       "'w.shape: (2, 1)'"
      ]
     },
     "execution_count": 24,
     "metadata": {},
     "output_type": "execute_result"
    }
   ],
   "source": [
    "f\"w.shape: {w.shape}\""
   ]
  },
  {
   "cell_type": "code",
   "execution_count": 25,
   "metadata": {},
   "outputs": [
    {
     "data": {
      "text/plain": [
       "array([[1.33333333],\n",
       "       [1.        ]])"
      ]
     },
     "execution_count": 25,
     "metadata": {},
     "output_type": "execute_result"
    }
   ],
   "source": [
    "w"
   ]
  },
  {
   "cell_type": "markdown",
   "metadata": {},
   "source": [
    "###### 예측 계산\n",
    "\n",
    "dot()연산으로 **예측치**를 출력할 수 있다."
   ]
  },
  {
   "cell_type": "code",
   "execution_count": 26,
   "metadata": {},
   "outputs": [],
   "source": [
    "pred=np.dot(x1,w)"
   ]
  },
  {
   "cell_type": "code",
   "execution_count": 27,
   "metadata": {},
   "outputs": [
    {
     "data": {
      "text/plain": [
       "'predicted yhat: [[3.33333333]\\n [5.33333333]\\n [7.33333333]]'"
      ]
     },
     "execution_count": 27,
     "metadata": {},
     "output_type": "execute_result"
    }
   ],
   "source": [
    "f\"predicted yhat: {pred}\""
   ]
  },
  {
   "cell_type": "markdown",
   "metadata": {},
   "source": [
    "y1 역시 차원을 맞추어 pred과 뺄셈 연산이 가능하도록 하자."
   ]
  },
  {
   "cell_type": "code",
   "execution_count": 28,
   "metadata": {},
   "outputs": [],
   "source": [
    "_y1=y1[:,np.newaxis]"
   ]
  },
  {
   "cell_type": "markdown",
   "metadata": {},
   "source": [
    "백터로 계산한 오류는 앞서의 결과와 동일하다."
   ]
  },
  {
   "cell_type": "code",
   "execution_count": 29,
   "metadata": {
    "slideshow": {
     "slide_type": "subslide"
    }
   },
   "outputs": [
    {
     "data": {
      "text/plain": [
       "array([[-0.33333333],\n",
       "       [ 0.66666667],\n",
       "       [-0.33333333]])"
      ]
     },
     "execution_count": 29,
     "metadata": {},
     "output_type": "execute_result"
    }
   ],
   "source": [
    "_y1 - pred"
   ]
  },
  {
   "cell_type": "markdown",
   "metadata": {},
   "source": [
    "### (5) 오류 계산"
   ]
  },
  {
   "cell_type": "code",
   "execution_count": 39,
   "metadata": {},
   "outputs": [
    {
     "name": "stdout",
     "output_type": "stream",
     "text": [
      "SSE sum of squared errors: 0.6666666666666667\n"
     ]
    }
   ],
   "source": [
    "print(\"SSE sum of squared errors: {}\".format(np.sum(np.power(yhat-y1,2)))) # 실제-예측 후 제곱"
   ]
  },
  {
   "cell_type": "markdown",
   "metadata": {
    "slideshow": {
     "slide_type": "slide"
    }
   },
   "source": [
    "#### 반복문으로 하나씩 계산\n",
    "\n",
    "오류는 실제 y와 예측과 얼마나 차이가 있는지를 보여준다.\n",
    "물론 벡터는 반복문을 사용하지 않아도 연산이 가능하다.\n",
    "아래는 반복문을 사용하여 각 y값의 오류를 출력하고 있다.\n",
    "```format()``` 함수는 인자의 순서와 출력형식을 설정해서 출력하여 준다.\n",
    "예를 들어, **```{1:.2f}```**는 두 번째 float를 소수점 2자리로 출력하게 된다."
   ]
  },
  {
   "cell_type": "code",
   "execution_count": 40,
   "metadata": {},
   "outputs": [
    {
     "name": "stdout",
     "output_type": "stream",
     "text": [
      "i\t오류\ty\t예측\n",
      "--\t-----\t-----\t-----\n",
      " 0\t-0.33 =\t 3  -\t3.33\n",
      " 1\t0.67 =\t 6  -\t5.33\n",
      " 2\t-0.33 =\t 7  -\t7.33\n"
     ]
    }
   ],
   "source": [
    "print (\"i\\t오류\\ty\\t예측\")\n",
    "print (\"--\\t-----\\t-----\\t-----\")\n",
    "for i in range(len(x1)):\n",
    "    predicted=w0*x1[i][0] + w1*x1[i][1]\n",
    "    error=y1[i]-predicted\n",
    "    print(\"{0:2d}\\t{1:.2f} =\\t {2}  -\\t{3:.2f}\".format(i,error,y1[i],predicted))"
   ]
  },
  {
   "cell_type": "markdown",
   "metadata": {
    "slideshow": {
     "slide_type": "slide"
    }
   },
   "source": [
    "### 정리하면\n",
    "\n",
    "회귀선을 numpy 최소자승법으로 구하고, 실제 데이터와 같이 그래프를 그려보자."
   ]
  },
  {
   "cell_type": "code",
   "execution_count": 30,
   "metadata": {
    "scrolled": true,
    "slideshow": {
     "slide_type": "-"
    }
   },
   "outputs": [
    {
     "name": "stdout",
     "output_type": "stream",
     "text": [
      "predicted yhat: [3.33333333 5.33333333 7.33333333]\n",
      "SSE sum of squared errors: 0.6666666666666666\n"
     ]
    },
    {
     "data": {
      "text/plain": [
       "[<matplotlib.lines.Line2D at 0x2841a7941c8>]"
      ]
     },
     "execution_count": 30,
     "metadata": {},
     "output_type": "execute_result"
    },
    {
     "data": {
      "image/png": "[encoded data removed]",
      "text/plain": [
       "<Figure size 432x288 with 1 Axes>"
      ]
     },
     "metadata": {
      "needs_background": "light"
     },
     "output_type": "display_data"
    }
   ],
   "source": [
    "%matplotlib inline\n",
    "import matplotlib.pyplot as plt\n",
    "import numpy as np\n",
    "\n",
    "# (1) data ready\n",
    "x1=np.array([[1,2],[1,4],[1,6]])\n",
    "y1=np.array([3,6,7])\n",
    "#_x=np.array([x,np.ones(len(x))]) # shape (2,4)\n",
    "# (2) shape is right already (column:x0,x1 row:records)\n",
    "# (3) compute w (w0 for x0, w1 for x1)\n",
    "#w0,w1=np.linalg.lstsq(x1, y1, rcond=None)[0]\n",
    "w0, w1=np.dot(np.linalg.inv(np.dot(x1.T, x1)), np.dot(x1.T, y1)) #1.3 1.0\n",
    "# (4) predicted\n",
    "x=x1[:,1]  #[2, 4, 6]\n",
    "yhat=w0+w1*x\n",
    "print(\"predicted yhat: {}\".format(yhat))\n",
    "# (5) error\n",
    "print(\"SSE sum of squared errors: {}\".format(np.sum(np.power(yhat-y1,2))))\n",
    "# (6) graph\n",
    "fig=plt.figure()\n",
    "ax=fig.add_subplot(111) #행1 열1의 처음에 있는 그래프에 그림을 그린다\n",
    "ax.scatter(x,y1)\n",
    "ax.plot(x,yhat)"
   ]
  }
 ],
 "metadata": {
  "kernelspec": {
   "display_name": "Python 3",
   "language": "python",
   "name": "python3"
  },
  "language_info": {
   "codemirror_mode": {
    "name": "ipython",
    "version": 3
   },
   "file_extension": ".py",
   "mimetype": "text/x-python",
   "name": "python",
   "nbconvert_exporter": "python",
   "pygments_lexer": "ipython3",
   "version": "3.7.6"
  }
 },
 "nbformat": 4,
 "nbformat_minor": 1
}
