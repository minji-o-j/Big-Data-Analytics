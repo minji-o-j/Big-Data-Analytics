{
 "cells": [
  {
   "cell_type": "markdown",
   "metadata": {},
   "source": [
    "# 휴먼지능정보공학과 201810808 정민지\n",
    "\n",
    "## 12주 iris데이터 회귀분석\n",
    "앞서 사용했던 iris데이터를 사용해서 회귀분석을 해보자.\n",
    "\n",
    "iris데이터는 아래 URL에서 읽어올 수 있다.\n",
    "\n",
    "\n",
    "\n",
    "```\n",
    "\n",
    "import pandas as pd\n",
    "\n",
    "file_name = \"https://archive.ics.uci.edu/ml/machine-learning-databases/iris/iris.data\"\n",
    "\n",
    "iris = pd.read_csv(file_name, names=[\"sepal_length\",\"sepal_width\",\"petal_length\", \"petal_width\",\"species\"])\n",
    "\n",
    "```\n",
    "\n",
    "\n",
    "\n",
    "독립변수는 petal_length 컬럼, 종속변수는 petal_width 컬럼으로 해보자.   \n",
    "`# 예측값: petal_width, 영향변수: petal_length`\n",
    "\n",
    "* (1) DataFrame 생성\n",
    "\n",
    "* (2) 데이터와 회귀선 그래프\n",
    "\n",
    "* (3) Spark를 사용하여 회귀분석하고 계수 출력\n",
    "\n",
    "* (4) 실제와 예측 출력\n",
    "\n",
    "* (5) 정확성 평가"
   ]
  },
  {
   "cell_type": "code",
   "execution_count": 1,
   "metadata": {},
   "outputs": [],
   "source": [
    "from pyspark.context import SparkContext\n",
    "from pyspark.sql.session import SparkSession\n",
    "sc = SparkContext('local')\n",
    "spark = SparkSession(sc)"
   ]
  },
  {
   "cell_type": "markdown",
   "metadata": {},
   "source": [
    "## (1) DataFrame 생성"
   ]
  },
  {
   "cell_type": "code",
   "execution_count": 2,
   "metadata": {},
   "outputs": [],
   "source": [
    "import pandas as pd\n",
    "file_name = \"https://archive.ics.uci.edu/ml/machine-learning-databases/iris/iris.data\"\n",
    "iris = pd.read_csv(file_name, names=[\"sepal_length\",\"sepal_width\",\"petal_length\", \"petal_width\",\"species\"])"
   ]
  },
  {
   "cell_type": "markdown",
   "metadata": {},
   "source": [
    "## (2) 데이터와 회귀선 그래프\n",
    "- 독립변수는 `petal_length` 컬럼, 종속변수는 `petal_width` 컬럼"
   ]
  },
  {
   "cell_type": "markdown",
   "metadata": {},
   "source": [
    "### 독립변수, 종속변수만 남기기"
   ]
  },
  {
   "cell_type": "code",
   "execution_count": 3,
   "metadata": {},
   "outputs": [],
   "source": [
    "from sklearn import linear_model\n",
    "x=iris['petal_length']\n",
    "y=iris['petal_width']"
   ]
  },
  {
   "cell_type": "markdown",
   "metadata": {},
   "source": [
    "### matrix inverse 이용"
   ]
  },
  {
   "cell_type": "code",
   "execution_count": 4,
   "metadata": {},
   "outputs": [],
   "source": [
    "import numpy as np\n",
    "x=np.array([x,np.ones(len(x))])\n",
    "x=x.T"
   ]
  },
  {
   "cell_type": "code",
   "execution_count": 5,
   "metadata": {},
   "outputs": [
    {
     "data": {
      "text/plain": [
       "array([1.4, 1. ])"
      ]
     },
     "execution_count": 5,
     "metadata": {},
     "output_type": "execute_result"
    }
   ],
   "source": [
    "x.shape\n",
    "x[1]"
   ]
  },
  {
   "cell_type": "markdown",
   "metadata": {},
   "source": [
    "#### w"
   ]
  },
  {
   "cell_type": "code",
   "execution_count": 6,
   "metadata": {},
   "outputs": [],
   "source": [
    "w1, w0=np.dot(np.linalg.inv(np.dot(x.T, x)), np.dot(x.T, y)) #1이 뒤에있으니까 2번째가 w0이다"
   ]
  },
  {
   "cell_type": "code",
   "execution_count": 7,
   "metadata": {
    "scrolled": true
   },
   "outputs": [
    {
     "name": "stdout",
     "output_type": "stream",
     "text": [
      "w1:0.41641913228540206 w0:-0.36651404521673214\n"
     ]
    }
   ],
   "source": [
    "print(\"w1:{} w0:{}\".format(w1,w0))"
   ]
  },
  {
   "cell_type": "markdown",
   "metadata": {},
   "source": [
    "#### yhat"
   ]
  },
  {
   "cell_type": "code",
   "execution_count": 8,
   "metadata": {},
   "outputs": [],
   "source": [
    "yhat = w0*x[:,1] + w1*x[:,0]"
   ]
  },
  {
   "cell_type": "markdown",
   "metadata": {},
   "source": [
    "### gradient 이용"
   ]
  },
  {
   "cell_type": "code",
   "execution_count": 9,
   "metadata": {},
   "outputs": [],
   "source": [
    "alpha = 0.002\n",
    "theta=np.array(np.ones([x.shape[1]]))"
   ]
  },
  {
   "cell_type": "code",
   "execution_count": 10,
   "metadata": {},
   "outputs": [],
   "source": [
    "def gradientDescent(x,y,theta,alpha,numIterations):\n",
    "    for i in range(numIterations):\n",
    "        #i+=1\n",
    "        h=np.dot(x,theta)\n",
    "        error=h-y\n",
    "        cost=np.sum((h-y)**2)/len(x) #full MSE\n",
    "        gradient=np.dot(x.T,error)*2/len(x) #w0,w1\n",
    "        theta-=alpha*gradient\n",
    "        if i%100==0:\n",
    "            print(\"Iteration {0} | theta{1} Cost {2:.5f}\".format(i,theta,cost))\n",
    "\n",
    "    return theta"
   ]
  },
  {
   "cell_type": "code",
   "execution_count": 11,
   "metadata": {
    "scrolled": true
   },
   "outputs": [
    {
     "name": "stdout",
     "output_type": "stream",
     "text": [
      "Iteration 0 | theta[0.93925787 0.98576   ] Cost 13.76907\n",
      "Iteration 100 | theta[0.17401059 0.73508253] Cost 0.26058\n",
      "Iteration 200 | theta[0.18966613 0.6619995 ] Cost 0.23261\n",
      "Iteration 300 | theta[0.20469088 0.59384868] Cost 0.20822\n",
      "Iteration 400 | theta[0.21872029 0.53021369] Cost 0.18696\n",
      "Iteration 500 | theta[0.2318201  0.47079524] Cost 0.16842\n",
      "Iteration 600 | theta[0.24405189 0.41531394] Cost 0.15226\n",
      "Iteration 700 | theta[0.25547319 0.36350891] Cost 0.13817\n",
      "Iteration 800 | theta[0.2661377  0.31513656] Cost 0.12589\n",
      "Iteration 900 | theta[0.27609556 0.26996942] Cost 0.11517\n",
      "Iteration 1000 | theta[0.2853936  0.22779513] Cost 0.10584\n",
      "Iteration 1100 | theta[0.29407553 0.18841536] Cost 0.09769\n",
      "Iteration 1200 | theta[0.30218219 0.15164495] Cost 0.09059\n",
      "Iteration 1300 | theta[0.30975169 0.117311  ] Cost 0.08441\n",
      "Iteration 1400 | theta[0.31681963 0.08525207] Cost 0.07901\n",
      "Iteration 1500 | theta[0.32341923 0.05531741] Cost 0.07430\n",
      "Iteration 1600 | theta[0.32958154 0.02736626] Cost 0.07020\n",
      "Iteration 1700 | theta[0.33533552 0.00126719] Cost 0.06663\n",
      "Iteration 1800 | theta[ 0.34070824 -0.02310251] Cost 0.06351\n",
      "Iteration 1900 | theta[ 0.34572495 -0.04585745] Cost 0.06079\n",
      "Iteration 2000 | theta[ 0.35040924 -0.06710461] Cost 0.05842\n",
      "Iteration 2100 | theta[ 0.35478315 -0.0869439 ] Cost 0.05635\n",
      "Iteration 2200 | theta[ 0.35886724 -0.10546862] Cost 0.05455\n",
      "Iteration 2300 | theta[ 0.36268071 -0.12276586] Cost 0.05298\n",
      "Iteration 2400 | theta[ 0.36624149 -0.13891696] Cost 0.05161\n",
      "Iteration 2500 | theta[ 0.36956633 -0.15399786] Cost 0.05042\n",
      "Iteration 2600 | theta[ 0.37267087 -0.16807948] Cost 0.04937\n",
      "Iteration 2700 | theta[ 0.37556969 -0.18122804] Cost 0.04847\n",
      "Iteration 2800 | theta[ 0.37827643 -0.19350535] Cost 0.04768\n",
      "Iteration 2900 | theta[ 0.38080382 -0.20496915] Cost 0.04699\n",
      "Iteration 3000 | theta[ 0.38316374 -0.21567335] Cost 0.04638\n",
      "Iteration 3100 | theta[ 0.38536729 -0.22566827] Cost 0.04586\n",
      "Iteration 3200 | theta[ 0.38742483 -0.23500091] Cost 0.04540\n",
      "Iteration 3300 | theta[ 0.38934603 -0.24371515] Cost 0.04500\n",
      "Iteration 3400 | theta[ 0.39113994 -0.25185198] Cost 0.04466\n",
      "Iteration 3500 | theta[ 0.39281497 -0.25944965] Cost 0.04435\n",
      "Iteration 3600 | theta[ 0.39437902 -0.26654389] Cost 0.04409\n",
      "Iteration 3700 | theta[ 0.39583943 -0.27316805] Cost 0.04386\n",
      "Iteration 3800 | theta[ 0.39720307 -0.27935329] Cost 0.04366\n",
      "Iteration 3900 | theta[ 0.39847635 -0.28512869] Cost 0.04348\n",
      "Iteration 4000 | theta[ 0.39966526 -0.2905214 ] Cost 0.04333\n",
      "Iteration 4100 | theta[ 0.4007754  -0.29555678] Cost 0.04320\n",
      "Iteration 4200 | theta[ 0.40181197 -0.30025851] Cost 0.04308\n",
      "Iteration 4300 | theta[ 0.40277987 -0.30464869] Cost 0.04298\n",
      "Iteration 4400 | theta[ 0.40368362 -0.30874798] Cost 0.04289\n",
      "Iteration 4500 | theta[ 0.4045275  -0.31257564] Cost 0.04281\n",
      "Iteration 4600 | theta[ 0.40531545 -0.31614967] Cost 0.04275\n",
      "Iteration 4700 | theta[ 0.4060512  -0.31948689] Cost 0.04269\n",
      "Iteration 4800 | theta[ 0.40673819 -0.32260297] Cost 0.04264\n",
      "Iteration 4900 | theta[ 0.40737966 -0.32551258] Cost 0.04259\n",
      "Iteration 5000 | theta[ 0.40797863 -0.3282294 ] Cost 0.04255\n",
      "Iteration 5100 | theta[ 0.40853791 -0.33076619] Cost 0.04252\n",
      "Iteration 5200 | theta[ 0.40906013 -0.3331349 ] Cost 0.04249\n",
      "Iteration 5300 | theta[ 0.40954775 -0.33534665] Cost 0.04246\n",
      "Iteration 5400 | theta[ 0.41000306 -0.33741184] Cost 0.04244\n",
      "Iteration 5500 | theta[ 0.4104282 -0.3393402] Cost 0.04242\n",
      "Iteration 5600 | theta[ 0.41082516 -0.34114077] Cost 0.04241\n",
      "Iteration 5700 | theta[ 0.41119583 -0.34282204] Cost 0.04239\n",
      "Iteration 5800 | theta[ 0.41154193 -0.34439191] Cost 0.04238\n",
      "Iteration 5900 | theta[ 0.4118651  -0.34585775] Cost 0.04237\n",
      "Iteration 6000 | theta[ 0.41216686 -0.34722647] Cost 0.04236\n",
      "Iteration 6100 | theta[ 0.41244862 -0.34850449] Cost 0.04235\n",
      "Iteration 6200 | theta[ 0.41271171 -0.34969783] Cost 0.04234\n",
      "Iteration 6300 | theta[ 0.41295737 -0.35081209] Cost 0.04233\n",
      "Iteration 6400 | theta[ 0.41318675 -0.35185253] Cost 0.04233\n",
      "Iteration 6500 | theta[ 0.41340093 -0.35282402] Cost 0.04232\n",
      "Iteration 6600 | theta[ 0.41360092 -0.35373114] Cost 0.04232\n",
      "Iteration 6700 | theta[ 0.41378766 -0.35457815] Cost 0.04232\n",
      "Iteration 6800 | theta[ 0.41396203 -0.35536904] Cost 0.04231\n",
      "Iteration 6900 | theta[ 0.41412484 -0.35610753] Cost 0.04231\n",
      "Iteration 7000 | theta[ 0.41427686 -0.35679708] Cost 0.04231\n",
      "Iteration 7100 | theta[ 0.41441881 -0.35744094] Cost 0.04230\n",
      "Iteration 7200 | theta[ 0.41455136 -0.35804213] Cost 0.04230\n",
      "Iteration 7300 | theta[ 0.41467512 -0.3586035 ] Cost 0.04230\n",
      "Iteration 7400 | theta[ 0.41479068 -0.35912766] Cost 0.04230\n",
      "Iteration 7500 | theta[ 0.41489858 -0.35961709] Cost 0.04230\n",
      "Iteration 7600 | theta[ 0.41499934 -0.36007409] Cost 0.04230\n",
      "Iteration 7700 | theta[ 0.41509341 -0.36050081] Cost 0.04230\n",
      "Iteration 7800 | theta[ 0.41518126 -0.36089926] Cost 0.04230\n",
      "Iteration 7900 | theta[ 0.41526328 -0.3612713 ] Cost 0.04229\n",
      "Iteration 8000 | theta[ 0.41533987 -0.36161869] Cost 0.04229\n",
      "Iteration 8100 | theta[ 0.41541138 -0.36194307] Cost 0.04229\n",
      "Iteration 8200 | theta[ 0.41547816 -0.36224595] Cost 0.04229\n",
      "Iteration 8300 | theta[ 0.41554051 -0.36252876] Cost 0.04229\n",
      "Iteration 8400 | theta[ 0.41559873 -0.36279283] Cost 0.04229\n",
      "Iteration 8500 | theta[ 0.41565309 -0.3630394 ] Cost 0.04229\n",
      "Iteration 8600 | theta[ 0.41570385 -0.36326964] Cost 0.04229\n",
      "Iteration 8700 | theta[ 0.41575124 -0.36348462] Cost 0.04229\n",
      "Iteration 8800 | theta[ 0.4157955  -0.36368535] Cost 0.04229\n",
      "Iteration 8900 | theta[ 0.41583682 -0.36387278] Cost 0.04229\n",
      "Iteration 9000 | theta[ 0.41587541 -0.3640478 ] Cost 0.04229\n",
      "Iteration 9100 | theta[ 0.41591143 -0.36421121] Cost 0.04229\n",
      "Iteration 9200 | theta[ 0.41594507 -0.3643638 ] Cost 0.04229\n",
      "Iteration 9300 | theta[ 0.41597649 -0.36450628] Cost 0.04229\n",
      "Iteration 9400 | theta[ 0.41600582 -0.36463932] Cost 0.04229\n",
      "Iteration 9500 | theta[ 0.4160332  -0.36476354] Cost 0.04229\n",
      "Iteration 9600 | theta[ 0.41605878 -0.36487953] Cost 0.04229\n",
      "Iteration 9700 | theta[ 0.41608265 -0.36498784] Cost 0.04229\n",
      "Iteration 9800 | theta[ 0.41610495 -0.36508897] Cost 0.04229\n",
      "Iteration 9900 | theta[ 0.41612577 -0.36518339] Cost 0.04229\n"
     ]
    }
   ],
   "source": [
    "w1g, w0g=gradientDescent(x, y, theta, alpha, 10000) "
   ]
  },
  {
   "cell_type": "markdown",
   "metadata": {},
   "source": [
    "#### yhat"
   ]
  },
  {
   "cell_type": "code",
   "execution_count": 12,
   "metadata": {},
   "outputs": [],
   "source": [
    "yhatGV = w0g*x[:,1] + w1g*x[:,0]"
   ]
  },
  {
   "cell_type": "markdown",
   "metadata": {},
   "source": [
    "#### 그래프"
   ]
  },
  {
   "cell_type": "code",
   "execution_count": 13,
   "metadata": {},
   "outputs": [
    {
     "data": {
      "text/plain": [
       "Text(0.5, 0, 'petal_length')"
      ]
     },
     "execution_count": 13,
     "metadata": {},
     "output_type": "execute_result"
    },
    {
     "data": {
      "image/png": "[encoded data removed]",
      "text/plain": [
       "<Figure size 432x288 with 1 Axes>"
      ]
     },
     "metadata": {
      "needs_background": "light"
     },
     "output_type": "display_data"
    }
   ],
   "source": [
    "%matplotlib inline\n",
    "import matplotlib.pyplot as plt\n",
    "import numpy as np\n",
    "\n",
    "fig=plt.figure()\n",
    "ax=fig.add_subplot(111)\n",
    "ax.scatter(x[:,0],y,alpha=0.4,c=iris.petal_length)\n",
    "plt.plot(x[:,0],yhatGV,'r-')\n",
    "plt.plot(x[:,0],yhat,'bx')\n",
    "ax.set_ylabel('petal_width') \n",
    "ax.set_xlabel('petal_length')"
   ]
  },
  {
   "cell_type": "markdown",
   "metadata": {},
   "source": [
    "## (3) Spark를 사용하여 회귀분석하고 계수 출력"
   ]
  },
  {
   "cell_type": "code",
   "execution_count": 14,
   "metadata": {},
   "outputs": [],
   "source": [
    "irisDf=spark.createDataFrame(iris)"
   ]
  },
  {
   "cell_type": "code",
   "execution_count": 15,
   "metadata": {
    "scrolled": false
   },
   "outputs": [
    {
     "name": "stdout",
     "output_type": "stream",
     "text": [
      "root\n",
      " |-- sepal_length: double (nullable = true)\n",
      " |-- sepal_width: double (nullable = true)\n",
      " |-- petal_length: double (nullable = true)\n",
      " |-- petal_width: double (nullable = true)\n",
      " |-- species: string (nullable = true)\n",
      "\n"
     ]
    }
   ],
   "source": [
    "irisDf.printSchema()"
   ]
  },
  {
   "cell_type": "markdown",
   "metadata": {},
   "source": [
    "#### 훈련, 테스트 데이터 분리"
   ]
  },
  {
   "cell_type": "code",
   "execution_count": 120,
   "metadata": {},
   "outputs": [],
   "source": [
    "(trainDf, testDf) = irisDf.randomSplit([0.6, 0.4])"
   ]
  },
  {
   "cell_type": "markdown",
   "metadata": {},
   "source": [
    "#### 회귀모델링"
   ]
  },
  {
   "cell_type": "code",
   "execution_count": 121,
   "metadata": {},
   "outputs": [],
   "source": [
    "from pyspark.ml.feature import VectorAssembler\n",
    "va = VectorAssembler(inputCols = [\"petal_length\"],\n",
    "                                   outputCol = 'features')"
   ]
  },
  {
   "cell_type": "code",
   "execution_count": 136,
   "metadata": {},
   "outputs": [],
   "source": [
    "from pyspark.ml.regression import LinearRegression\n",
    "lr = LinearRegression(featuresCol = 'features', labelCol='petal_width', maxIter=10, regParam=0.3, elasticNetParam=0.8)"
   ]
  },
  {
   "cell_type": "code",
   "execution_count": 137,
   "metadata": {},
   "outputs": [],
   "source": [
    "from pyspark.ml import Pipeline\n",
    "\n",
    "pipeline = Pipeline(stages=[va,lr])"
   ]
  },
  {
   "cell_type": "code",
   "execution_count": 138,
   "metadata": {},
   "outputs": [],
   "source": [
    "model = pipeline.fit(trainDf)\n",
    "modelTrainDf = model.transform(trainDf)"
   ]
  },
  {
   "cell_type": "markdown",
   "metadata": {},
   "source": [
    "#### weights (계수 출력)"
   ]
  },
  {
   "cell_type": "code",
   "execution_count": 139,
   "metadata": {},
   "outputs": [
    {
     "name": "stdout",
     "output_type": "stream",
     "text": [
      "Coefficients: [0.27321812003038065]\n",
      "Intercept: 0.174\n"
     ]
    }
   ],
   "source": [
    "print(\"Coefficients: {}\".format(model.stages[-1].coefficients))\n",
    "print(\"Intercept: {:.3f}\".format(model.stages[-1].intercept)) #y절편"
   ]
  },
  {
   "cell_type": "markdown",
   "metadata": {},
   "source": [
    "## (4) 실제와 예측 출력"
   ]
  },
  {
   "cell_type": "code",
   "execution_count": 140,
   "metadata": {},
   "outputs": [],
   "source": [
    "modelTestDf=model.transform(testDf)"
   ]
  },
  {
   "cell_type": "code",
   "execution_count": 141,
   "metadata": {},
   "outputs": [
    {
     "name": "stdout",
     "output_type": "stream",
     "text": [
      "+-----------+------------------+\n",
      "|petal_width|        prediction|\n",
      "+-----------+------------------+\n",
      "|        0.2|0.5569434047492036|\n",
      "|        0.2|0.5296215927461656|\n",
      "|        0.3|0.5569434047492036|\n",
      "|        0.2|0.5296215927461656|\n",
      "|        0.1|0.5569434047492036|\n",
      "|        0.2|0.6115870287552798|\n",
      "|        0.2|0.5569434047492036|\n",
      "|        0.1|0.5842652167522416|\n",
      "|        0.2|0.5022997807431275|\n",
      "|        0.6|0.6115870287552798|\n",
      "+-----------+------------------+\n",
      "only showing top 10 rows\n",
      "\n"
     ]
    }
   ],
   "source": [
    "modelTestDf.select('petal_width','prediction').show(10)"
   ]
  },
  {
   "cell_type": "markdown",
   "metadata": {},
   "source": [
    "#### 그래프"
   ]
  },
  {
   "cell_type": "code",
   "execution_count": 142,
   "metadata": {},
   "outputs": [],
   "source": [
    "petal_l=modelTestDf.rdd.map(lambda x:x[3]).collect()\n",
    "pred=modelTestDf.rdd.map(lambda x:x[6]).collect()"
   ]
  },
  {
   "cell_type": "code",
   "execution_count": 143,
   "metadata": {},
   "outputs": [
    {
     "data": {
      "text/plain": [
       "[<matplotlib.lines.Line2D at 0x27643525f88>]"
      ]
     },
     "execution_count": 143,
     "metadata": {},
     "output_type": "execute_result"
    },
    {
     "data": {
      "image/png": "[encoded data removed]",
      "text/plain": [
       "<Figure size 432x288 with 1 Axes>"
      ]
     },
     "metadata": {
      "needs_background": "light"
     },
     "output_type": "display_data"
    }
   ],
   "source": [
    "%matplotlib inline\n",
    "import matplotlib.pyplot as plt\n",
    "import numpy as np\n",
    "\n",
    "fig=plt.figure()\n",
    "ax=fig.add_subplot(111)\n",
    "ax.scatter(petal_l,pred,alpha=0.8)\n",
    "ax.set_ylabel('Predicted petal_width') \n",
    "ax.set_xlabel('Actual petal_width')\n",
    "ax.plot(petal_l,petal_l,'y')"
   ]
  },
  {
   "cell_type": "markdown",
   "metadata": {},
   "source": [
    "## (5) 정확성 평가"
   ]
  },
  {
   "cell_type": "code",
   "execution_count": 144,
   "metadata": {},
   "outputs": [],
   "source": [
    "from pyspark.ml.evaluation import RegressionEvaluator\n",
    "\n",
    "evaluator=RegressionEvaluator(labelCol=\"petal_width\", predictionCol=\"prediction\", metricName=\"rmse\")"
   ]
  },
  {
   "cell_type": "code",
   "execution_count": 145,
   "metadata": {},
   "outputs": [],
   "source": [
    "rmse=evaluator.evaluate(modelTestDf)"
   ]
  },
  {
   "cell_type": "code",
   "execution_count": 146,
   "metadata": {},
   "outputs": [
    {
     "data": {
      "text/plain": [
       "'Root Mean Squared Error (RMSE) on test data: 0.295'"
      ]
     },
     "execution_count": 146,
     "metadata": {},
     "output_type": "execute_result"
    }
   ],
   "source": [
    "f\"Root Mean Squared Error (RMSE) on test data: {rmse:.3f}\""
   ]
  },
  {
   "cell_type": "markdown",
   "metadata": {},
   "source": [
    "#### $R^2$"
   ]
  },
  {
   "cell_type": "code",
   "execution_count": 147,
   "metadata": {},
   "outputs": [],
   "source": [
    "from pyspark.ml.evaluation import RegressionEvaluator\n",
    "\n",
    "evaluator=RegressionEvaluator(labelCol=\"petal_width\", predictionCol=\"prediction\", metricName=\"r2\")"
   ]
  },
  {
   "cell_type": "code",
   "execution_count": 148,
   "metadata": {},
   "outputs": [
    {
     "data": {
      "text/plain": [
       "'r2: 0.828'"
      ]
     },
     "execution_count": 148,
     "metadata": {},
     "output_type": "execute_result"
    }
   ],
   "source": [
    "f\"r2: {evaluator.evaluate(modelTestDf):.3f}\""
   ]
  },
  {
   "cell_type": "code",
   "execution_count": null,
   "metadata": {},
   "outputs": [],
   "source": []
  }
 ],
 "metadata": {
  "kernelspec": {
   "display_name": "Python 3",
   "language": "python",
   "name": "python3"
  },
  "language_info": {
   "codemirror_mode": {
    "name": "ipython",
    "version": 3
   },
   "file_extension": ".py",
   "mimetype": "text/x-python",
   "name": "python",
   "nbconvert_exporter": "python",
   "pygments_lexer": "ipython3",
   "version": "3.7.6"
  }
 },
 "nbformat": 4,
 "nbformat_minor": 4
}
