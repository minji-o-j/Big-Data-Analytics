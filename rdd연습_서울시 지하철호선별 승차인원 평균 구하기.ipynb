{
 "cells": [
  {
   "cell_type": "code",
   "execution_count": 2,
   "metadata": {},
   "outputs": [],
   "source": [
    "from pyspark.context import SparkContext\n",
    "from pyspark.sql.session import SparkSession\n",
    "sc = SparkContext('local')\n",
    "spark = SparkSession(sc)"
   ]
  },
  {
   "cell_type": "markdown",
   "metadata": {},
   "source": [
    "## RDD 생성하기\n",
    "데이터 헤더: \"사용일자\",\"노선명\",\"역ID\",\"역명\",승차총승객수,하차총승객수"
   ]
  },
  {
   "cell_type": "code",
   "execution_count": 3,
   "metadata": {},
   "outputs": [],
   "source": [
    "_sub=[\"20150101,2호선,0236,영등포구청,6199,6219\",\n",
    "\"20150101,2호선,0237,당산,7982,8946\",\n",
    "\"20150101,2호선,0238,합정,17406,15241\",\n",
    "\"20150101,3호선,0309,지축,515,538\",\n",
    "\"20150101,3호선,0310,구파발,6879,6260\",\n",
    "\"20150101,3호선,0311,연신내,20031,19470\",\n",
    "\"20150101,3호선,0312,불광,9519,11029\",\n",
    "\"20150101,4호선,0425,회현,7465,7574\",\n",
    "\"20150101,4호선,0426,서울역,3943,10823\",\n",
    "\"20150101,경부선,1002,남영,4340,4535\",\n",
    "\"20150101,경부선,1003,용산,28980,27684\",\n",
    "\"20150101,경부선,1004,노량진,23021,23862\",\n",
    "\"20150101,경부선,1005,대방,6360,6476\",\n",
    "\"20150101,경부선,1006,영등포,37247,36102\",\n",
    "\"20150101,경원선,1008,이촌,1940,1507\",\n",
    "\"20150101,경원선,1009,서빙고,911,1000\",\n",
    "\"20150101,경원선,1010,한남,1885,1863\",\n",
    "\"20150101,경원선,1011,옥수,43,37\"]"
   ]
  },
  {
   "cell_type": "code",
   "execution_count": 4,
   "metadata": {},
   "outputs": [],
   "source": [
    "_subRdd = spark.sparkContext.parallelize(_sub)"
   ]
  },
  {
   "cell_type": "code",
   "execution_count": 5,
   "metadata": {},
   "outputs": [
    {
     "name": "stdout",
     "output_type": "stream",
     "text": [
      "20150101,2호선,0236,영등포구청,6199,6219\n"
     ]
    }
   ],
   "source": [
    "for i in _subRdd.take(1):\n",
    "    print (i)"
   ]
  },
  {
   "cell_type": "markdown",
   "metadata": {},
   "source": [
    "## 데이터 정리\n",
    "- `map()`을 사용해서 ,를 제외"
   ]
  },
  {
   "cell_type": "code",
   "execution_count": 6,
   "metadata": {},
   "outputs": [
    {
     "name": "stdout",
     "output_type": "stream",
     "text": [
      "20150101 2호선 0236 영등포구청 6199 6219 \n",
      "20150101 2호선 0237 당산 7982 8946 \n",
      "20150101 2호선 0238 합정 17406 15241 \n",
      "20150101 3호선 0309 지축 515 538 \n",
      "20150101 3호선 0310 구파발 6879 6260 \n",
      "20150101 3호선 0311 연신내 20031 19470 \n",
      "20150101 3호선 0312 불광 9519 11029 \n",
      "20150101 4호선 0425 회현 7465 7574 \n",
      "20150101 4호선 0426 서울역 3943 10823 \n",
      "20150101 경부선 1002 남영 4340 4535 \n",
      "20150101 경부선 1003 용산 28980 27684 \n",
      "20150101 경부선 1004 노량진 23021 23862 \n",
      "20150101 경부선 1005 대방 6360 6476 \n",
      "20150101 경부선 1006 영등포 37247 36102 \n",
      "20150101 경원선 1008 이촌 1940 1507 \n",
      "20150101 경원선 1009 서빙고 911 1000 \n",
      "20150101 경원선 1010 한남 1885 1863 \n",
      "20150101 경원선 1011 옥수 43 37 \n"
     ]
    }
   ],
   "source": [
    "for i in _subRdd.map(lambda x:x.split(',')).collect():\n",
    "    for j in i:\n",
    "        print (j, end=\" \")\n",
    "    print()"
   ]
  },
  {
   "cell_type": "markdown",
   "metadata": {},
   "source": [
    "호선별 데이터 개수를 출력해 보자\n",
    "- map()의 3번째 인덱스는 앞에서부터 4번째 철자를 출력한다.\n",
    "- 컴마로 분리해서 인덱스를 사용해야 제대로 데이터를 출력한다."
   ]
  },
  {
   "cell_type": "code",
   "execution_count": 7,
   "metadata": {},
   "outputs": [
    {
     "data": {
      "text/plain": [
       "[5, 5, 5, 5, 5, 5, 5, 5, 5, 5, 5, 5, 5, 5, 5, 5, 5, 5]"
      ]
     },
     "execution_count": 7,
     "metadata": {},
     "output_type": "execute_result"
    }
   ],
   "source": [
    "_subRdd.map(lambda x:int(x[3])).collect()"
   ]
  },
  {
   "cell_type": "code",
   "execution_count": 8,
   "metadata": {},
   "outputs": [
    {
     "data": {
      "text/plain": [
       "[6199,\n",
       " 7982,\n",
       " 17406,\n",
       " 515,\n",
       " 6879,\n",
       " 20031,\n",
       " 9519,\n",
       " 7465,\n",
       " 3943,\n",
       " 4340,\n",
       " 28980,\n",
       " 23021,\n",
       " 6360,\n",
       " 37247,\n",
       " 1940,\n",
       " 911,\n",
       " 1885,\n",
       " 43]"
      ]
     },
     "execution_count": 8,
     "metadata": {},
     "output_type": "execute_result"
    }
   ],
   "source": [
    "_subRdd.map(lambda x:x.split(',')).map(lambda x:int(x[4])).collect()"
   ]
  },
  {
   "cell_type": "markdown",
   "metadata": {},
   "source": [
    "## 총 승차인원의 합계를 reduce()로 합산한다.\n",
    "- reduce()함수는 인자를 2개 받아서 합계를 구한다."
   ]
  },
  {
   "cell_type": "code",
   "execution_count": 9,
   "metadata": {},
   "outputs": [
    {
     "data": {
      "text/plain": [
       "184666"
      ]
     },
     "execution_count": 9,
     "metadata": {},
     "output_type": "execute_result"
    }
   ],
   "source": [
    "_subRdd.map(lambda x:x.split(',')).map(lambda x:(int(x[4]))).reduce(lambda x,y:x+y)"
   ]
  },
  {
   "cell_type": "markdown",
   "metadata": {},
   "source": [
    "## 호선별 승차인원 평균을 계산한다.\n",
    "Pair RDD를 사용하므로, 사전에 데이터를 (호선, 승차인원) 형식으로 구성한다."
   ]
  },
  {
   "cell_type": "code",
   "execution_count": 11,
   "metadata": {},
   "outputs": [],
   "source": [
    "_subLineByPassengers=_subRdd.map(lambda x:x.split(',')).map(lambda x: (x[1],int(x[4])))\n",
    "sum_counts = _subLineByPassengers.combineByKey(\n",
    "    (lambda x: (x, 1)), # the initial value, with value x and count 1\n",
    "    (lambda acc, value: (acc[0]+value, acc[1]+1)), # how to combine a pair value with the accumulator: sum value, and increment count\n",
    "    (lambda acc1, acc2: (acc1[0]+acc2[0], acc1[1]+acc2[1])) # combine accumulators\n",
    ")"
   ]
  },
  {
   "cell_type": "code",
   "execution_count": 12,
   "metadata": {},
   "outputs": [
    {
     "name": "stdout",
     "output_type": "stream",
     "text": [
      "2호선 (31587, 3) \n",
      "3호선 (36944, 4) \n",
      "4호선 (11408, 2) \n",
      "경부선 (99948, 5) \n",
      "경원선 (4779, 4) \n"
     ]
    }
   ],
   "source": [
    "for i in sum_counts.collect():\n",
    "    for each in i:\n",
    "        print (each, end=\" \")\n",
    "    print()"
   ]
  },
  {
   "cell_type": "code",
   "execution_count": 13,
   "metadata": {},
   "outputs": [
    {
     "name": "stdout",
     "output_type": "stream",
     "text": [
      "2호선 31587 3\n",
      "3호선 36944 4\n",
      "4호선 11408 2\n",
      "경부선 99948 5\n",
      "경원선 4779 4\n"
     ]
    }
   ],
   "source": [
    "for i in sum_counts.collect():\n",
    "    print (i[0],i[1][0],i[1][1])"
   ]
  },
  {
   "cell_type": "markdown",
   "metadata": {},
   "source": [
    "#### 평균"
   ]
  },
  {
   "cell_type": "code",
   "execution_count": 14,
   "metadata": {},
   "outputs": [
    {
     "data": {
      "text/plain": [
       "[('2호선', 10529.0),\n",
       " ('3호선', 9236.0),\n",
       " ('4호선', 5704.0),\n",
       " ('경부선', 19989.6),\n",
       " ('경원선', 1194.75)]"
      ]
     },
     "execution_count": 14,
     "metadata": {},
     "output_type": "execute_result"
    }
   ],
   "source": [
    "averageByKey = sum_counts.map(lambda x: (x[0],x[1][0]/x[1][1]))\n",
    "averageByKey.collect()"
   ]
  }
 ],
 "metadata": {
  "kernelspec": {
   "display_name": "Python 3",
   "language": "python",
   "name": "python3"
  },
  "language_info": {
   "codemirror_mode": {
    "name": "ipython",
    "version": 3
   },
   "file_extension": ".py",
   "mimetype": "text/x-python",
   "name": "python",
   "nbconvert_exporter": "python",
   "pygments_lexer": "ipython3",
   "version": "3.7.6"
  }
 },
 "nbformat": 4,
 "nbformat_minor": 4
}
