{
 "cells": [
  {
   "cell_type": "markdown",
   "metadata": {},
   "source": [
    "## 문제: Matrix Inverse Method 회귀모델\n",
    "\n",
    "데이터가 다음과 같이 주어졌을 때:\n",
    "* x [1,2],[1,4],[1,6]\n",
    "* y 3,6,7\n",
    "\n",
    "회귀식을 도출해보자.\n",
    "* 1) matrix inverse method로 $\\hat{w}$을 계산,\n",
    "* 2) 예측과 실제의 오류 합계를 계산,\n",
    "* 3) 입력 데이터와 회귀선의 그래프를 작성한다."
   ]
  },
  {
   "cell_type": "markdown",
   "metadata": {},
   "source": [
    "## 0) Data"
   ]
  },
  {
   "cell_type": "code",
   "execution_count": 66,
   "metadata": {
    "scrolled": true
   },
   "outputs": [
    {
     "name": "stdout",
     "output_type": "stream",
     "text": [
      "[2 4 6]\n",
      "[[1. 2.]\n",
      " [1. 4.]\n",
      " [1. 6.]]\n",
      "[3 6 7]\n"
     ]
    }
   ],
   "source": [
    "import numpy as np\n",
    "x=np.array([2,4,6])\n",
    "y=np.array([3,6,7])\n",
    "\n",
    "x1=np.array([np.ones(len(x)),x])\n",
    "x1=x1.T\n",
    "\n",
    "print(x)\n",
    "print(x1)\n",
    "print(y)"
   ]
  },
  {
   "cell_type": "markdown",
   "metadata": {},
   "source": [
    "##  1) matrix inverse method로  𝑤̂  을 계산"
   ]
  },
  {
   "cell_type": "markdown",
   "metadata": {},
   "source": [
    "$\\hat{w} = (X^T X) ^{-1} X^T y$\n",
    "#### 1. $X^T X$ 계산 "
   ]
  },
  {
   "cell_type": "code",
   "execution_count": 67,
   "metadata": {},
   "outputs": [
    {
     "data": {
      "text/plain": [
       "'x1 shape: (3, 2) xT shape:(2, 3)'"
      ]
     },
     "execution_count": 67,
     "metadata": {},
     "output_type": "execute_result"
    }
   ],
   "source": [
    "f\"x1 shape: {x1.shape} xT shape:{x1.T.shape}\""
   ]
  },
  {
   "cell_type": "code",
   "execution_count": 69,
   "metadata": {},
   "outputs": [
    {
     "name": "stdout",
     "output_type": "stream",
     "text": [
      "xTx= [[ 3. 12.]\n",
      " [12. 56.]]\n"
     ]
    }
   ],
   "source": [
    "xTx=np.dot(x1.T,x1)\n",
    "print(\"xTx=\",xTx)"
   ]
  },
  {
   "cell_type": "markdown",
   "metadata": {},
   "source": [
    "#### 2. $(X^T X) ^{-1}$ 계산"
   ]
  },
  {
   "cell_type": "code",
   "execution_count": 70,
   "metadata": {},
   "outputs": [
    {
     "name": "stdout",
     "output_type": "stream",
     "text": [
      "xTxI= [[ 2.33333333 -0.5       ]\n",
      " [-0.5         0.125     ]]\n"
     ]
    }
   ],
   "source": [
    "xTxI=np.linalg.inv(xTx)\n",
    "print(\"xTxI=\",xTxI)"
   ]
  },
  {
   "cell_type": "markdown",
   "metadata": {},
   "source": [
    "#### 3. $X^T y$ 계산"
   ]
  },
  {
   "cell_type": "code",
   "execution_count": 72,
   "metadata": {},
   "outputs": [
    {
     "name": "stdout",
     "output_type": "stream",
     "text": [
      "xTyT= [16. 72.]\n"
     ]
    }
   ],
   "source": [
    "xTyT=np.dot(x1.T,y)\n",
    "print(\"xTyT=\",xTyT)"
   ]
  },
  {
   "cell_type": "markdown",
   "metadata": {},
   "source": [
    "#### 4. 전체 $(X^T X) ^{-1} X^T y$ 계산\n",
    "### $\\hat{w} = (X^T X) ^{-1} X^T y$"
   ]
  },
  {
   "cell_type": "code",
   "execution_count": 73,
   "metadata": {},
   "outputs": [
    {
     "name": "stdout",
     "output_type": "stream",
     "text": [
      "weights= [1.33333333 1.        ]\n"
     ]
    }
   ],
   "source": [
    "print(\"weights=\",np.dot(xTxI,xTyT))"
   ]
  },
  {
   "cell_type": "markdown",
   "metadata": {},
   "source": [
    "## 2) 예측과 실제의 오류 합계를 계산"
   ]
  },
  {
   "cell_type": "code",
   "execution_count": 103,
   "metadata": {},
   "outputs": [
    {
     "name": "stdout",
     "output_type": "stream",
     "text": [
      "1.3333333333333286 1.0\n"
     ]
    }
   ],
   "source": [
    "w0, w1=np.dot(np.linalg.inv(xTx), xTyT) #w0이 앞(상수항 1이 앞에있음)\n",
    "print(w0, w1)\n",
    "yhat=w0+w1*x"
   ]
  },
  {
   "cell_type": "code",
   "execution_count": 104,
   "metadata": {},
   "outputs": [
    {
     "name": "stdout",
     "output_type": "stream",
     "text": [
      "[3.33333333 5.33333333 7.33333333]\n"
     ]
    }
   ],
   "source": [
    "print(yhat)"
   ]
  },
  {
   "cell_type": "code",
   "execution_count": 99,
   "metadata": {},
   "outputs": [
    {
     "name": "stdout",
     "output_type": "stream",
     "text": [
      "[3 6 7]\n"
     ]
    }
   ],
   "source": [
    "print(y)"
   ]
  },
  {
   "cell_type": "code",
   "execution_count": 100,
   "metadata": {},
   "outputs": [
    {
     "data": {
      "text/plain": [
       "array([ 0.33333333, -0.66666667,  0.33333333])"
      ]
     },
     "execution_count": 100,
     "metadata": {},
     "output_type": "execute_result"
    }
   ],
   "source": [
    "yhat-y"
   ]
  },
  {
   "cell_type": "code",
   "execution_count": 107,
   "metadata": {},
   "outputs": [
    {
     "data": {
      "text/plain": [
       "'오류 합계: 0.6666666666666666'"
      ]
     },
     "execution_count": 107,
     "metadata": {},
     "output_type": "execute_result"
    }
   ],
   "source": [
    "f\"오류 합계: {np.sum(np.power(yhat-y,2))}\""
   ]
  },
  {
   "cell_type": "markdown",
   "metadata": {},
   "source": [
    "## 3) 입력 데이터와 회귀선의 그래프를 작성"
   ]
  },
  {
   "cell_type": "code",
   "execution_count": 108,
   "metadata": {},
   "outputs": [
    {
     "data": {
      "text/plain": [
       "[<matplotlib.lines.Line2D at 0x13a911fe108>]"
      ]
     },
     "execution_count": 108,
     "metadata": {},
     "output_type": "execute_result"
    },
    {
     "data": {
      "image/png": "[encoded data removed]",
      "text/plain": [
       "<Figure size 432x288 with 1 Axes>"
      ]
     },
     "metadata": {
      "needs_background": "light"
     },
     "output_type": "display_data"
    }
   ],
   "source": [
    "%matplotlib inline\n",
    "import matplotlib.pyplot as plt\n",
    "\n",
    "fig=plt.figure()\n",
    "ax=fig.add_subplot(111)\n",
    "ax.scatter(x,y)\n",
    "ax.plot(x,yhat)"
   ]
  },
  {
   "cell_type": "code",
   "execution_count": null,
   "metadata": {},
   "outputs": [],
   "source": []
  }
 ],
 "metadata": {
  "kernelspec": {
   "display_name": "Python 3",
   "language": "python",
   "name": "python3"
  },
  "language_info": {
   "codemirror_mode": {
    "name": "ipython",
    "version": 3
   },
   "file_extension": ".py",
   "mimetype": "text/x-python",
   "name": "python",
   "nbconvert_exporter": "python",
   "pygments_lexer": "ipython3",
   "version": "3.7.6"
  }
 },
 "nbformat": 4,
 "nbformat_minor": 4
}
