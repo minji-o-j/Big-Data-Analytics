{
 "cells": [
  {
   "cell_type": "markdown",
   "metadata": {},
   "source": [
    "# 휴먼지능정보공학과 201810808 정민지"
   ]
  },
  {
   "cell_type": "markdown",
   "metadata": {},
   "source": [
    "## 문제: k-Means 클러스터링\n",
    "\n",
    "```sklearn.datasets.make_blobs``` 에서 데이터를 생성하고, 클러스터링하세요.\n",
    "클러스터는 4개로 설정한다.\n",
    "Python으로 구현한다. 단, 위 코드를 한 군데 수정해야 한다.\n",
    "\n",
    "클러스터의 중심점을 몇 회만에 찾는지, 중심값을 출력하세요.\n",
    "배정된 클러스터와 y값을 비교해서 동일한지 확인하세요.\n",
    "\n",
    "Parameters\n",
    "* n_samples: 샘플 갯수 (기본 값은 100)\n",
    "* n_features: features 갯수 (기본 값은 2)\n",
    "* centers: 중심점 갯수\n",
    "* cluster_std: 클러스터 표준편차 (기본 값은 1.0)\n",
    "* random_state: 기본 값은 None\n",
    "Determines random number generation for dataset creation. Pass an int for reproducible output across multiple function calls. See Glossary.\n",
    "\n",
    "반환:\n",
    "* X 배열 [n_samples, n_features]\n",
    "* y: 배정된 클러스터 The generated samples."
   ]
  },
  {
   "cell_type": "code",
   "execution_count": 5,
   "metadata": {},
   "outputs": [],
   "source": [
    "from sklearn.datasets import make_blobs\n",
    "\n",
    "X, y = make_blobs(n_samples=100, centers=4, cluster_std=0.60, random_state=0)"
   ]
  },
  {
   "cell_type": "markdown",
   "metadata": {},
   "source": [
    "### 이 데이터를 4개의 클러스터로 군집화하세요\n",
    "---\n",
    "\n",
    "#### 함수 선언"
   ]
  },
  {
   "cell_type": "code",
   "execution_count": 9,
   "metadata": {},
   "outputs": [],
   "source": [
    "def normDist(x1, x2):\n",
    "    #dist=np.sqrt(sum(np.power(x1 - x2, 2))) #36.406001444695193 #식으로 구하기\n",
    "    dist = np.linalg.norm(x1 - x2) #36.406001444695193\n",
    "    return dist"
   ]
  },
  {
   "cell_type": "code",
   "execution_count": 12,
   "metadata": {},
   "outputs": [],
   "source": [
    "def draw(x, centroids):\n",
    "    import matplotlib.pyplot as plt\n",
    "    #plt.subplot(5,2,iter)\n",
    "    plt.scatter(x[:,0], x[:,1], color='blue')\n",
    "    plt.scatter(centroids[:,0], centroids[:,1], color='red')"
   ]
  },
  {
   "cell_type": "code",
   "execution_count": 76,
   "metadata": {},
   "outputs": [],
   "source": [
    "def cluster(x, k, centroids): #x,k, 초기중심점\n",
    "    row, col = x.shape\n",
    "    clusterAssigned = np.zeros(shape=(row, col), dtype=float) #수정부분\n",
    "    # print (clusterAssigned)\n",
    "    clusterUpdated=True\n",
    "    iter = 1\n",
    "    while(clusterUpdated):\n",
    "        print (\"\\n\\n====== Iteration {} ======\".format(iter))\n",
    "        # STEP 1: assign to closer cluster\n",
    "        for i in range(row):\n",
    "            minDist = np.inf   # set arbitray max to minDist\n",
    "            minIndex = -1      # set arbitray index to minIndex\n",
    "            # compute distance and assign to closer cluster\n",
    "            for j in range(k):\n",
    "                # distance from centroids[j] to x[0]\n",
    "                distJI = normDist(centroids[j], x[i])\n",
    "                # print (\"Distance {:.3f} between {} and {}\".format(distJI, centroids[j], x[i]))\n",
    "                # pick the closest centroid\n",
    "                if distJI < minDist:\n",
    "                    minDist = distJI\n",
    "                    minIndex = j\n",
    "            #print (\".....Assigning {} to {}th centroid by {:.3f}\".format(x[i], minIndex, minDist))\n",
    "            clusterAssigned[i] = [minIndex, minDist]   #-----changed\n",
    "        #print (\"\\n.....Assigned clusters: \\n {}\".format(clusterAssigned))\n",
    "        \n",
    "        # STEP 2: update centroids\n",
    "        _centroids=np.zeros(shape = (k, x.shape[1]), dtype=float)\n",
    "        for cent in range(k):\n",
    "            # read data by index and average them\n",
    "            _centroids[cent] = np.mean(x[clusterAssigned[:,0]==cent],axis=0)\n",
    "        # print (\"Centroids updated: \\n\", _centroids)\n",
    "        \n",
    "        # STEP 3: see if centroids is updated. STOP if NOT updated\n",
    "        comparison = np.equal(centroids, _centroids) # np.isclose() in case some tolerence is required\n",
    "        if(comparison.all() == True):\n",
    "            print (\"\\n.....NOT Updating Centroids!!\\n\")# {} => \\n{}\".format(centroids, _centroids))\n",
    "            print(\"\\n-----Final Centroids is...\\n{}\\n\".format(_centroids))\n",
    "            print(\"\\n We found Centroids at {} times.\\n\".format(iter))\n",
    "            clusterUpdated = False\n",
    "            return centroids, clusterAssigned\n",
    "        else:\n",
    "            #print (\"\\n.....Updating Centroids\\n {} => \\n{}\".format(centroids, _centroids))\n",
    "            if iter==1:\n",
    "                print(\"\\n Init Centroids is...\\n{}\".format(centroids))\n",
    "            print (\"\\n.....Updating Centroids To..\\n{}\".format(_centroids))\n",
    "            centroids = _centroids\n",
    "            iter += 1"
   ]
  },
  {
   "cell_type": "markdown",
   "metadata": {},
   "source": [
    "---\n",
    "### (1) 클러스터의 중심점을 몇 회만에 찾는지, 매 반복 중심값만을 출력한다."
   ]
  },
  {
   "cell_type": "markdown",
   "metadata": {},
   "source": [
    "#### 중복없이 배열에서 랜덤 4개 추출"
   ]
  },
  {
   "cell_type": "code",
   "execution_count": 260,
   "metadata": {},
   "outputs": [
    {
     "name": "stdout",
     "output_type": "stream",
     "text": [
      "[1, 74, 68, 63]\n"
     ]
    }
   ],
   "source": [
    "import random\n",
    "randlist=random.sample(range(100), 4)\n",
    "print(randlist)"
   ]
  },
  {
   "cell_type": "code",
   "execution_count": 261,
   "metadata": {
    "scrolled": false
   },
   "outputs": [
    {
     "name": "stdout",
     "output_type": "stream",
     "text": [
      "\n",
      "\n",
      "====== Iteration 1 ======\n",
      "\n",
      " Init Centroids is...\n",
      "[[-2.02396992  7.99569054]\n",
      " [ 1.00372519  4.19147702]\n",
      " [ 2.18023251  1.48364708]\n",
      " [ 1.89593761  5.18540259]]\n",
      "\n",
      ".....Updating Centroids To..\n",
      "[[-1.27208964  7.74944718]\n",
      " [-0.39419316  3.65452105]\n",
      " [ 1.97918933  0.97920012]\n",
      " [ 1.55769277  5.12898975]]\n",
      "\n",
      "\n",
      "====== Iteration 2 ======\n",
      "\n",
      ".....Updating Centroids To..\n",
      "[[-1.27208964  7.74944718]\n",
      " [-0.99280343  3.39499447]\n",
      " [ 1.97918933  0.97920012]\n",
      " [ 1.24383227  4.48247791]]\n",
      "\n",
      "\n",
      "====== Iteration 3 ======\n",
      "\n",
      ".....Updating Centroids To..\n",
      "[[-1.27208964  7.74944718]\n",
      " [-1.25872549  3.25396018]\n",
      " [ 1.97918933  0.97920012]\n",
      " [ 1.07852567  4.41831492]]\n",
      "\n",
      "\n",
      "====== Iteration 4 ======\n",
      "\n",
      ".....Updating Centroids To..\n",
      "[[-1.27208964  7.74944718]\n",
      " [-1.43468106  3.216216  ]\n",
      " [ 1.97918933  0.97920012]\n",
      " [ 0.97698781  4.3136601 ]]\n",
      "\n",
      "\n",
      "====== Iteration 5 ======\n",
      "\n",
      ".....Updating Centroids To..\n",
      "[[-1.27208964  7.74944718]\n",
      " [-1.52704861  3.14337865]\n",
      " [ 1.97918933  0.97920012]\n",
      " [ 0.87673717  4.2964758 ]]\n",
      "\n",
      "\n",
      "====== Iteration 6 ======\n",
      "\n",
      ".....NOT Updating Centroids!!\n",
      "\n",
      "\n",
      "-----Final Centroids is...\n",
      "[[-1.27208964  7.74944718]\n",
      " [-1.52704861  3.14337865]\n",
      " [ 1.97918933  0.97920012]\n",
      " [ 0.87673717  4.2964758 ]]\n",
      "\n",
      "\n",
      " We found Centroids at 6 times.\n",
      "\n"
     ]
    },
    {
     "data": {
      "image/png": "[encoded data removed]",
      "text/plain": [
       "<Figure size 432x288 with 1 Axes>"
      ]
     },
     "metadata": {
      "needs_background": "light"
     },
     "output_type": "display_data"
    }
   ],
   "source": [
    "%matplotlib inline\n",
    "import matplotlib.pyplot as plt\n",
    "import numpy as np\n",
    "\n",
    "\n",
    "k = 4\n",
    "\n",
    "#centroids=np.array(X[randlist[0]],X[randlist[1]],X[randlist[2]],X[randlist[3]],dtype=float)\n",
    "centroids = np.array([[X[randlist[0],0],X[randlist[0],1]],[X[randlist[1],0],X[randlist[1],1]],[X[randlist[2],0],X[randlist[2],1]],[X[randlist[3],0],X[randlist[3],1]]], dtype=float)\n",
    "centroids, clusterAssigned = cluster(X, k, centroids)\n",
    "draw(X, centroids)"
   ]
  },
  {
   "cell_type": "markdown",
   "metadata": {},
   "source": [
    "---"
   ]
  },
  {
   "cell_type": "markdown",
   "metadata": {},
   "source": [
    "### (2) 배정된 클러스터가 맞는지 비교하여 동일한지 확인하세요."
   ]
  },
  {
   "cell_type": "markdown",
   "metadata": {},
   "source": [
    "#### 출력"
   ]
  },
  {
   "cell_type": "code",
   "execution_count": 262,
   "metadata": {},
   "outputs": [
    {
     "name": "stdout",
     "output_type": "stream",
     "text": [
      "[0 3 0 0 0 0 2 3 0 3 3 3 3 3 3 1 1 2 2 1 0 3 2 1 0 2 2 0 1 1 1 3 1 1 2 0 3\n",
      " 1 3 2 0 2 3 2 2 3 1 2 0 0 0 1 2 2 2 3 3 1 1 3 3 1 1 0 1 3 2 2 1 0 3 1 0 3\n",
      " 0 0 2 2 1 1 1 3 2 0 1 2 1 1 0 0 0 2 0 2 2 3 3 2 3 0]\n"
     ]
    }
   ],
   "source": [
    "print(y)"
   ]
  },
  {
   "cell_type": "code",
   "execution_count": 263,
   "metadata": {
    "scrolled": true
   },
   "outputs": [
    {
     "name": "stdout",
     "output_type": "stream",
     "text": [
      "[3. 0. 3. 3. 3. 3. 1. 0. 3. 0. 0. 0. 0. 0. 0. 2. 2. 3. 1. 2. 3. 0. 1. 2.\n",
      " 3. 1. 1. 3. 2. 2. 2. 0. 2. 2. 1. 3. 0. 2. 0. 1. 3. 1. 0. 1. 1. 0. 2. 1.\n",
      " 3. 3. 3. 2. 1. 1. 1. 0. 0. 2. 2. 0. 0. 2. 2. 3. 2. 0. 1. 1. 2. 3. 0. 2.\n",
      " 3. 0. 3. 3. 1. 1. 2. 2. 2. 0. 1. 3. 2. 1. 2. 2. 3. 3. 3. 1. 3. 1. 1. 0.\n",
      " 0. 1. 0. 3.]\n"
     ]
    }
   ],
   "source": [
    "print(clusterAssigned[:,0])"
   ]
  },
  {
   "cell_type": "markdown",
   "metadata": {},
   "source": [
    "#### 클러스터 id가 달라서 이를 변환"
   ]
  },
  {
   "cell_type": "code",
   "execution_count": 264,
   "metadata": {},
   "outputs": [],
   "source": [
    "compareCluster=np.array([])\n",
    "\n",
    "for i in range(len(clusterAssigned[:,0])):\n",
    "    if clusterAssigned[:,0][i]==0:\n",
    "        compareCluster=np.append(compareCluster,3)\n",
    "        \n",
    "    elif clusterAssigned[:,0][i]==1:\n",
    "        compareCluster=np.append(compareCluster,2)\n",
    "        \n",
    "    elif clusterAssigned[:,0][i]==2: \n",
    "        compareCluster=np.append(compareCluster,1)\n",
    "        \n",
    "    else: #clusterAssigned[:,0][i]==3\n",
    "        compareCluster=np.append(compareCluster,0)"
   ]
  },
  {
   "cell_type": "code",
   "execution_count": 281,
   "metadata": {},
   "outputs": [
    {
     "data": {
      "text/plain": [
       "array([0., 3., 0., 0., 0., 0., 2., 3., 0., 3., 3., 3., 3., 3., 3., 1., 1.,\n",
       "       0., 2., 1., 0., 3., 2., 1., 0., 2., 2., 0., 1., 1., 1., 3., 1., 1.,\n",
       "       2., 0., 3., 1., 3., 2., 0., 2., 3., 2., 2., 3., 1., 2., 0., 0., 0.,\n",
       "       1., 2., 2., 2., 3., 3., 1., 1., 3., 3., 1., 1., 0., 1., 3., 2., 2.,\n",
       "       1., 0., 3., 1., 0., 3., 0., 0., 2., 2., 1., 1., 1., 3., 2., 0., 1.,\n",
       "       2., 1., 1., 0., 0., 0., 2., 0., 2., 2., 3., 3., 2., 3., 0.])"
      ]
     },
     "execution_count": 281,
     "metadata": {},
     "output_type": "execute_result"
    }
   ],
   "source": [
    "compareCluster"
   ]
  },
  {
   "cell_type": "markdown",
   "metadata": {},
   "source": [
    "#### 비교 dataframe 생성"
   ]
  },
  {
   "cell_type": "code",
   "execution_count": 285,
   "metadata": {},
   "outputs": [],
   "source": [
    "import pandas as pd\n",
    "df=pd.DataFrame({'orgin':y,'cluster assigned':compareCluster})"
   ]
  },
  {
   "cell_type": "code",
   "execution_count": 288,
   "metadata": {},
   "outputs": [],
   "source": [
    "df['compare result']=df['orgin']==df['cluster assigned']"
   ]
  },
  {
   "cell_type": "code",
   "execution_count": 289,
   "metadata": {},
   "outputs": [
    {
     "data": {
      "text/html": [
       "<div>\n",
       "<style scoped>\n",
       "    .dataframe tbody tr th:only-of-type {\n",
       "        vertical-align: middle;\n",
       "    }\n",
       "\n",
       "    .dataframe tbody tr th {\n",
       "        vertical-align: top;\n",
       "    }\n",
       "\n",
       "    .dataframe thead th {\n",
       "        text-align: right;\n",
       "    }\n",
       "</style>\n",
       "<table border=\"1\" class=\"dataframe\">\n",
       "  <thead>\n",
       "    <tr style=\"text-align: right;\">\n",
       "      <th></th>\n",
       "      <th>orgin</th>\n",
       "      <th>cluster assigned</th>\n",
       "      <th>compare result</th>\n",
       "    </tr>\n",
       "  </thead>\n",
       "  <tbody>\n",
       "    <tr>\n",
       "      <th>0</th>\n",
       "      <td>0</td>\n",
       "      <td>0.0</td>\n",
       "      <td>True</td>\n",
       "    </tr>\n",
       "    <tr>\n",
       "      <th>1</th>\n",
       "      <td>3</td>\n",
       "      <td>3.0</td>\n",
       "      <td>True</td>\n",
       "    </tr>\n",
       "    <tr>\n",
       "      <th>2</th>\n",
       "      <td>0</td>\n",
       "      <td>0.0</td>\n",
       "      <td>True</td>\n",
       "    </tr>\n",
       "    <tr>\n",
       "      <th>3</th>\n",
       "      <td>0</td>\n",
       "      <td>0.0</td>\n",
       "      <td>True</td>\n",
       "    </tr>\n",
       "    <tr>\n",
       "      <th>4</th>\n",
       "      <td>0</td>\n",
       "      <td>0.0</td>\n",
       "      <td>True</td>\n",
       "    </tr>\n",
       "    <tr>\n",
       "      <th>...</th>\n",
       "      <td>...</td>\n",
       "      <td>...</td>\n",
       "      <td>...</td>\n",
       "    </tr>\n",
       "    <tr>\n",
       "      <th>95</th>\n",
       "      <td>3</td>\n",
       "      <td>3.0</td>\n",
       "      <td>True</td>\n",
       "    </tr>\n",
       "    <tr>\n",
       "      <th>96</th>\n",
       "      <td>3</td>\n",
       "      <td>3.0</td>\n",
       "      <td>True</td>\n",
       "    </tr>\n",
       "    <tr>\n",
       "      <th>97</th>\n",
       "      <td>2</td>\n",
       "      <td>2.0</td>\n",
       "      <td>True</td>\n",
       "    </tr>\n",
       "    <tr>\n",
       "      <th>98</th>\n",
       "      <td>3</td>\n",
       "      <td>3.0</td>\n",
       "      <td>True</td>\n",
       "    </tr>\n",
       "    <tr>\n",
       "      <th>99</th>\n",
       "      <td>0</td>\n",
       "      <td>0.0</td>\n",
       "      <td>True</td>\n",
       "    </tr>\n",
       "  </tbody>\n",
       "</table>\n",
       "<p>100 rows × 3 columns</p>\n",
       "</div>"
      ],
      "text/plain": [
       "    orgin  cluster assigned  compare result\n",
       "0       0               0.0            True\n",
       "1       3               3.0            True\n",
       "2       0               0.0            True\n",
       "3       0               0.0            True\n",
       "4       0               0.0            True\n",
       "..    ...               ...             ...\n",
       "95      3               3.0            True\n",
       "96      3               3.0            True\n",
       "97      2               2.0            True\n",
       "98      3               3.0            True\n",
       "99      0               0.0            True\n",
       "\n",
       "[100 rows x 3 columns]"
      ]
     },
     "execution_count": 289,
     "metadata": {},
     "output_type": "execute_result"
    }
   ],
   "source": [
    "df"
   ]
  },
  {
   "cell_type": "markdown",
   "metadata": {},
   "source": [
    "#### 다른 것 츨력"
   ]
  },
  {
   "cell_type": "code",
   "execution_count": 290,
   "metadata": {},
   "outputs": [
    {
     "data": {
      "text/html": [
       "<div>\n",
       "<style scoped>\n",
       "    .dataframe tbody tr th:only-of-type {\n",
       "        vertical-align: middle;\n",
       "    }\n",
       "\n",
       "    .dataframe tbody tr th {\n",
       "        vertical-align: top;\n",
       "    }\n",
       "\n",
       "    .dataframe thead th {\n",
       "        text-align: right;\n",
       "    }\n",
       "</style>\n",
       "<table border=\"1\" class=\"dataframe\">\n",
       "  <thead>\n",
       "    <tr style=\"text-align: right;\">\n",
       "      <th></th>\n",
       "      <th>orgin</th>\n",
       "      <th>cluster assigned</th>\n",
       "      <th>compare result</th>\n",
       "    </tr>\n",
       "  </thead>\n",
       "  <tbody>\n",
       "    <tr>\n",
       "      <th>17</th>\n",
       "      <td>2</td>\n",
       "      <td>0.0</td>\n",
       "      <td>False</td>\n",
       "    </tr>\n",
       "  </tbody>\n",
       "</table>\n",
       "</div>"
      ],
      "text/plain": [
       "    orgin  cluster assigned  compare result\n",
       "17      2               0.0           False"
      ]
     },
     "execution_count": 290,
     "metadata": {},
     "output_type": "execute_result"
    }
   ],
   "source": [
    "df[df['compare result']==False]"
   ]
  },
  {
   "cell_type": "markdown",
   "metadata": {},
   "source": [
    "- random 번호를 바꾸어서도 해보았으나, **X의 17번 항목이 계속해서 cluster 0에 배정됨.**"
   ]
  },
  {
   "cell_type": "markdown",
   "metadata": {},
   "source": [
    "#### 거리 비교"
   ]
  },
  {
   "cell_type": "code",
   "execution_count": 291,
   "metadata": {},
   "outputs": [
    {
     "data": {
      "text/plain": [
       "array([-0.09701715,  3.48456995])"
      ]
     },
     "execution_count": 291,
     "metadata": {},
     "output_type": "execute_result"
    }
   ],
   "source": [
    "X[17]"
   ]
  },
  {
   "cell_type": "code",
   "execution_count": 295,
   "metadata": {},
   "outputs": [
    {
     "name": "stdout",
     "output_type": "stream",
     "text": [
      "1.4701705607159918\n",
      "1.267828293548772\n"
     ]
    }
   ],
   "source": [
    "import math\n",
    " \n",
    "class Point2D:\n",
    "    def __init__(self, x, y):\n",
    "        self.x = x\n",
    "        self.y = y\n",
    "        \n",
    "blob = Point2D(x=X[17][0], y=X[17][1])    # 제대로 나오지 않은 값\n",
    "p1 = Point2D(x=centroids[1][0], y=centroids[1][1])    # make_blobs에서 생성한 군집의 cluster id와 비교. 2->1\n",
    "p2 = Point2D(x=centroids[3][0], y=centroids[3][1])    # k-means를 통해 생성한 군집의 cluster id. 0->3\n",
    "\n",
    "# 거리 1: cluster 2(id 3으로 수정됨)의 중심과 X의 17번째 항목\n",
    "a1 = p1.x - blob.x \n",
    "b1 = p1.y - blob.y \n",
    "c1 = math.sqrt((a1 * a1) + (b1 * b1)) \n",
    "\n",
    "# 거리 2: cluster 0(id 1로 수정됨)의 중심과 X의 17번째 항목\n",
    "a2 = p2.x - blob.x \n",
    "b2 = p2.y - blob.y \n",
    "c2 = math.sqrt((a2 * a2) + (b2 * b2)) \n",
    "\n",
    "print(c1) # y\n",
    "print(c2) # k-means 결과 배정된 cluster"
   ]
  },
  {
   "cell_type": "markdown",
   "metadata": {},
   "source": [
    "- 거리를 비교해보니 cluster0과 거리가 더 가까워서 0번이 할당되었음을 알 수 있다."
   ]
  },
  {
   "cell_type": "code",
   "execution_count": null,
   "metadata": {},
   "outputs": [],
   "source": []
  }
 ],
 "metadata": {
  "kernelspec": {
   "display_name": "Python 3",
   "language": "python",
   "name": "python3"
  },
  "language_info": {
   "codemirror_mode": {
    "name": "ipython",
    "version": 3
   },
   "file_extension": ".py",
   "mimetype": "text/x-python",
   "name": "python",
   "nbconvert_exporter": "python",
   "pygments_lexer": "ipython3",
   "version": "3.7.6"
  }
 },
 "nbformat": 4,
 "nbformat_minor": 4
}
