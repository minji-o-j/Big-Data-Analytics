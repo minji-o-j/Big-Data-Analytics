{
 "cells": [
  {
   "cell_type": "markdown",
   "metadata": {},
   "source": [
    "# 클러스터 분석"
   ]
  },
  {
   "cell_type": "markdown",
   "metadata": {},
   "source": [
    "## C.2 문제의 이해\n",
    "\n",
    "클러스터링은 **Unsupervised learning** 기법이다. \n",
    "의사결정트리, kNN 등과 같이 답을 미리 정해놓고 사례를 훈련해서 모델링을 할 필요가 없다.\n",
    "클러스터링은 훈련없이, 데이터를 그룹화거나 클러스터로 군집화하게 된다.\n",
    "데이터를 특징에 따라 보다 가까운 클러스터로 할당해 묶게 된다.\n",
    "\n",
    "<!--이런 기법이 유용하게 사용되는 분야는 다양하다.\n",
    "예를 들어, 소비자를 서로 다른 특징을 가진 세그먼트로 분류해 보다 유용한 마케팅 기법을 적용할 수 있게 한다.\n",
    "또는 병원에서 환자를 특징으로 분류해, 암, 파킨슨이나 정신병의 환자를 진단하거나 처치에 활용하기도 한다.-->"
   ]
  },
  {
   "cell_type": "markdown",
   "metadata": {},
   "source": [
    "## C.3 클러스터링 종류\n",
    "\n",
    "### C.3.1 분할 클러스터링\n",
    "\n",
    "분할 클러스터링 Partitioning clustering에서는 클러스터의 개수 **k를 미리 정하고**, 데이터를 k의 그룹으로 구분한다.\n",
    "k 그룹은 완전하게 분리되어, 어떤 데이터이든 여러 그룹에 속해 있을 수 없다.  \n",
    "클러스터는 데이터의 평균으로 계산된 중심점을 가지게 된다.\n",
    "따라서 평균에서 멀리 떨어진 이상 값, **outlier에 영향**을 받는다는 단점이 있다.\n",
    "**k-Means**가 대표적인 분할 클러스터링 기법이다.\n",
    "\n",
    "### C.3.2 계층 클러스터링\n",
    "\n",
    "계층 클러스터링 hierarchical clustering\n",
    "미리 클러스터의 개수를 지정할 필요가 없다.\n",
    "**Dendrogram**이라고 하는 나무 가지모양으로 데이터를 구분한다.\n",
    "\n",
    "### C.3.2 밀집도 기반 클러스터링\n",
    "\n",
    "밀집도 기반 클러스터링 Density-based clustering은 특정 지역에서의 집적 정도에 따라 클러스터를 구분하는 기법이다. **클러스터의 개수를 미리 지정할 필요 없다**. 다만 지역으로 분포된 가운데 데이터가 많이 집적된 곳을 그렇지 않은 곳을 hot spot으로 구분하여 클러스터로 인식하는 것이다.\n",
    "**DBSCAN**을 예로 들 수 있다."
   ]
  },
  {
   "cell_type": "markdown",
   "metadata": {},
   "source": [
    "## C.4 k-Means\n",
    "\n",
    "### C.4.1 알고리즘\n",
    "\n",
    "* 군집의 갯수 k를 정하고, 중심점 $C_k$을 정한다. 이 중심점은 반복하면서 갱신하게 된다.\n",
    "* 반복:\n",
    "    * 할당 단계: 각 데이터 항목을 중심점과 얼마나 멀리 있는지 계산하여, 클러스터에 할당\n",
    "        * 모든 데이터  ${x_1,x_2,\\cdots,x_n}\\in D$에 대해 반복\n",
    "            * 각 데이터 $x_n$에서 각 클러스터 $C_k$ 거리를 계산 $dist(x_n,m_k)=\\|x_n-m_k\\|$ ($m_k$는 $C_k$ 평균을 말한다)\n",
    "            * $x_n$을 가장 가까운 클러스터 $C_k$에 할당\n",
    "    * 갱신 단계:\n",
    "        * 현재 클러스터에 할당된 데이터로의 평균을 계산하여 새로운 클러스터 $C_k$의 중심점$m_k$를 설정\n",
    "    * 종료 단계:\n",
    "        * 갱신이 더 이상 없으면 종료"
   ]
  },
  {
   "cell_type": "markdown",
   "metadata": {},
   "source": [
    "### C.4.2 구현\n",
    "\n",
    "#### 데이터\n",
    "\n",
    "다음과 같은 데이터가 있다고 하자.\n",
    "\n",
    "구분 | 1 | 2 |...|...|...|...|...|...|n \n",
    "--|---|---|---|---|---|---|---|---|---\n",
    "x | 2 | 3 | 2 | 5 | 7 | 8 | 9 | 8 | 7\n",
    "y | 5 | 6 | 4 | 7 | 2 | 3 | 4 | 4 | 3"
   ]
  },
  {
   "cell_type": "markdown",
   "metadata": {},
   "source": [
    "numpy 배열로 데이터를 구성하자."
   ]
  },
  {
   "cell_type": "code",
   "execution_count": 1,
   "metadata": {},
   "outputs": [],
   "source": [
    "import numpy as np\n",
    "\n",
    "x = np.array([[2,5],[3,6],[2,4],[5,7],[7,2],[8,3],[9,4],[8,4],[7,3]], dtype = float)"
   ]
  },
  {
   "cell_type": "markdown",
   "metadata": {},
   "source": [
    "#### 단계 1: 설정\n",
    "\n",
    "클러스터는 군집의 가운데 있는 점으로, 몇 개로 할 것인지 결정해야 한다.  \n",
    "클러스터의 적당한 개수는 통계적으로 결정할 수도 있다.\n",
    "또한 그 중심점을 어떻게 선정할 것인지 결정해야 하는데, 무작위로 하거나 또는 임의로 데이터를 선정할 수 있다."
   ]
  },
  {
   "cell_type": "markdown",
   "metadata": {},
   "source": [
    "2개로 설정해 놓자."
   ]
  },
  {
   "cell_type": "code",
   "execution_count": 2,
   "metadata": {},
   "outputs": [],
   "source": [
    "k = 2"
   ]
  },
  {
   "cell_type": "markdown",
   "metadata": {},
   "source": [
    "k=2에 따라, centeroid를 임의로 선택한다."
   ]
  },
  {
   "cell_type": "code",
   "execution_count": 3,
   "metadata": {},
   "outputs": [],
   "source": [
    "centroids = np.array([[2,5],[7,2]], dtype = float) #임의로 선택함(무작위로 해도 됨)"
   ]
  },
  {
   "cell_type": "markdown",
   "metadata": {},
   "source": [
    "### 단계 2: 할당\n",
    "\n",
    "각 데이터 항목을 중심점과 얼마나 멀리 있는지 계산하여, 클러스터에 할당한다."
   ]
  },
  {
   "cell_type": "markdown",
   "metadata": {},
   "source": [
    "#### 거리 계산: ```norm()```\n",
    "\n",
    "```norm()``` 함수의 default는 L2라서 생략할 수 있고, Eculdean distance과 동일하다."
   ]
  },
  {
   "cell_type": "code",
   "execution_count": 4,
   "metadata": {},
   "outputs": [],
   "source": [
    "def normDist(x1, x2):\n",
    "    #dist=np.sqrt(sum(np.power(x1 - x2, 2))) #36.406001444695193 #식으로 구하기\n",
    "    dist = np.linalg.norm(x1 - x2) #36.406001444695193\n",
    "    return dist"
   ]
  },
  {
   "cell_type": "markdown",
   "metadata": {},
   "source": [
    "#### 거리를 계산하여 가까운 중심점에 할당\n",
    "\n",
    "x는 $2 \\times 9$ 행렬이다. 첫째 데이터에 대해서 거리를 계산해서, 가까운 중심점에 할당해보자."
   ]
  },
  {
   "cell_type": "markdown",
   "metadata": {},
   "source": [
    "x[0]으로부터 중심점까지의 거리를 구해보자."
   ]
  },
  {
   "cell_type": "code",
   "execution_count": 5,
   "metadata": {},
   "outputs": [
    {
     "name": "stdout",
     "output_type": "stream",
     "text": [
      "Distance 0.000 between [2. 5.] and [2. 5.]\n",
      "Distance 5.831 between [7. 2.] and [2. 5.]\n"
     ]
    }
   ],
   "source": [
    "for j in range(k):\n",
    "    # distance from centroids[j] to x[0]\n",
    "    distJ0 = normDist(centroids[j], x[0])\n",
    "    print (\"Distance {:.3f} between {} and {}\".format(distJ0, centroids[j], x[0]))"
   ]
  },
  {
   "cell_type": "markdown",
   "metadata": {},
   "source": [
    "그러면 어느 쪽으로 할당되어야 할까?\n",
    "당연히 거리가 짧은 중심점에 배정이 되어야 한다.\n",
    "swap 알고리즘으로 최소 길이를 고르자.\n",
    "swap에 필요한 np.inf는 양수의 무한 값으로 임의의 최대 값을 가진다."
   ]
  },
  {
   "cell_type": "code",
   "execution_count": 6,
   "metadata": {},
   "outputs": [
    {
     "name": "stdout",
     "output_type": "stream",
     "text": [
      "Distance 0.000 between [2. 5.] and [2. 5.]\n",
      "Distance 5.831 between [7. 2.] and [2. 5.]\n",
      ".....Assigning [2. 5.] to 0th centroid by 0.000\n"
     ]
    }
   ],
   "source": [
    "minDist = np.inf\n",
    "for j in range(k):\n",
    "    # distance from centroids[j] to x[0]\n",
    "    distJ0 = normDist(centroids[j], x[0])\n",
    "    print (\"Distance {:.3f} between {} and {}\".format(distJ0, centroids[j], x[0]))\n",
    "    # pick the closest centroid\n",
    "    if distJ0 < minDist:\n",
    "        minDist = distJ0\n",
    "        minIndex = j\n",
    "print (\".....Assigning {} to {}th centroid by {:.3f}\".format(x[0], minIndex, minDist))"
   ]
  },
  {
   "cell_type": "markdown",
   "metadata": {},
   "source": [
    "#### 모든 데이터에 대해 거리를 계산하고 가까운 중심점에 할당."
   ]
  },
  {
   "cell_type": "markdown",
   "metadata": {},
   "source": [
    "clustering 처리결과를 저장하기 위한 저장소를 설정한다.\n",
    "clusterAssigned에는 index, 거리를 저장한다."
   ]
  },
  {
   "cell_type": "code",
   "execution_count": 7,
   "metadata": {
    "scrolled": true
   },
   "outputs": [
    {
     "name": "stdout",
     "output_type": "stream",
     "text": [
      "[[0. 0.]\n",
      " [0. 0.]\n",
      " [0. 0.]\n",
      " [0. 0.]\n",
      " [0. 0.]\n",
      " [0. 0.]\n",
      " [0. 0.]\n",
      " [0. 0.]\n",
      " [0. 0.]]\n"
     ]
    }
   ],
   "source": [
    "clusterAssigned = np.zeros(shape = (x.shape[0],2), dtype = float) # 저장소 생성, 0으로 초기화\n",
    "print (clusterAssigned)"
   ]
  },
  {
   "cell_type": "markdown",
   "metadata": {},
   "source": [
    "각 데이터의 거리를 계산하면, 아래 표와 같이 4개는 C1, 아래 5개는 C2에 할당된다.\n",
    "\n",
    "x | y | C1 [2,5] | C2 [7,2]\n",
    "-----|-----|-----|-----\n",
    "2 | 5 | 0.000 | \n",
    "3 | 6 | 1.414 | \n",
    "2 | 4 | 1.000 | \n",
    "5 | 7 | 3.606 | \n",
    "7 | 2 |  | 0.000\n",
    "8 | 3 |  | 1.414\n",
    "9 | 4 |  | 2.828\n",
    "8 | 4 |  | 2.236\n",
    "7 | 3 |  | 1.000\n"
   ]
  },
  {
   "cell_type": "code",
   "execution_count": 8,
   "metadata": {},
   "outputs": [
    {
     "data": {
      "text/plain": [
       "(9, 2)"
      ]
     },
     "execution_count": 8,
     "metadata": {},
     "output_type": "execute_result"
    }
   ],
   "source": [
    "x.shape"
   ]
  },
  {
   "cell_type": "code",
   "execution_count": 9,
   "metadata": {},
   "outputs": [
    {
     "name": "stdout",
     "output_type": "stream",
     "text": [
      ".....Assigning [2. 5.] to 0th centroid by 0.000\n",
      ".....Assigning [3. 6.] to 0th centroid by 1.414\n",
      ".....Assigning [2. 4.] to 0th centroid by 1.000\n",
      ".....Assigning [5. 7.] to 0th centroid by 3.606\n",
      ".....Assigning [7. 2.] to 1th centroid by 0.000\n",
      ".....Assigning [8. 3.] to 1th centroid by 1.414\n",
      ".....Assigning [9. 4.] to 1th centroid by 2.828\n",
      ".....Assigning [8. 4.] to 1th centroid by 2.236\n",
      ".....Assigning [7. 3.] to 1th centroid by 1.000\n"
     ]
    }
   ],
   "source": [
    "row, c = x.shape\n",
    "for i in range(row):\n",
    "    minDist = np.inf   # arbitray max\n",
    "    minIndex = -1      # arbitray index\n",
    "    for j in range(k):\n",
    "        # distance from centroids[j] to x[i]\n",
    "        distJI = normDist(centroids[j], x[i])\n",
    "        # print (\"Distance {:.3f} between {} and {}\".format(distJI, centroids[j], x[i]))\n",
    "        # pick the closest centroid\n",
    "        if distJI < minDist:\n",
    "            minDist = distJI\n",
    "            minIndex = j\n",
    "    print (\".....Assigning {} to {}th centroid by {:.3f}\".format(x[i], minIndex, minDist))\n",
    "    clusterAssigned[i] = [minIndex, minDist]   #-----changed"
   ]
  },
  {
   "cell_type": "markdown",
   "metadata": {},
   "source": [
    "각 클러스터에 할당된 인덱스와 거리를 출력해보자."
   ]
  },
  {
   "cell_type": "code",
   "execution_count": 10,
   "metadata": {
    "scrolled": true
   },
   "outputs": [
    {
     "name": "stdout",
     "output_type": "stream",
     "text": [
      ".....Assigned clusters: \n",
      "[[0.         0.        ]\n",
      " [0.         1.41421356]\n",
      " [0.         1.        ]\n",
      " [0.         3.60555128]\n",
      " [1.         0.        ]\n",
      " [1.         1.41421356]\n",
      " [1.         2.82842712]\n",
      " [1.         2.23606798]\n",
      " [1.         1.        ]]\n"
     ]
    }
   ],
   "source": [
    "print (\".....Assigned clusters: \\n{}\".format(clusterAssigned))"
   ]
  },
  {
   "cell_type": "markdown",
   "metadata": {},
   "source": [
    "### 단계 3: 갱신\n",
    "\n",
    "현재 클러스터에 할당된 데이터로의 평균 $m_k$을 계산하여 새로운 클러스터 $C_k$의 중심점을 설정한다.  \n",
    "새로운 중심점을 구하기 위해서는, **각 중심점에 할당된 데이터들을 모아서 평균을 계산**해야 구할 수 있다.\n",
    "앞서 clusterAssigned에는 할당된 인덱스와 거리를 저장해 놓았다."
   ]
  },
  {
   "cell_type": "code",
   "execution_count": 11,
   "metadata": {},
   "outputs": [
    {
     "data": {
      "text/plain": [
       "array([0., 0., 0., 0., 1., 1., 1., 1., 1.])"
      ]
     },
     "execution_count": 11,
     "metadata": {},
     "output_type": "execute_result"
    }
   ],
   "source": [
    "clusterAssigned[:,0]"
   ]
  },
  {
   "cell_type": "markdown",
   "metadata": {},
   "source": [
    "첫 번째 중심점에 할당된 데이터를 출력해 보자."
   ]
  },
  {
   "cell_type": "code",
   "execution_count": 12,
   "metadata": {},
   "outputs": [
    {
     "data": {
      "text/plain": [
       "array([[2., 5.],\n",
       "       [3., 6.],\n",
       "       [2., 4.],\n",
       "       [5., 7.]])"
      ]
     },
     "execution_count": 12,
     "metadata": {},
     "output_type": "execute_result"
    }
   ],
   "source": [
    "x[clusterAssigned[:,0]==0]"
   ]
  },
  {
   "cell_type": "markdown",
   "metadata": {},
   "source": [
    "두 번째 중심점에 할당된 데이터를 출력해 보자."
   ]
  },
  {
   "cell_type": "code",
   "execution_count": 13,
   "metadata": {},
   "outputs": [
    {
     "data": {
      "text/plain": [
       "array([[7., 2.],\n",
       "       [8., 3.],\n",
       "       [9., 4.],\n",
       "       [8., 4.],\n",
       "       [7., 3.]])"
      ]
     },
     "execution_count": 13,
     "metadata": {},
     "output_type": "execute_result"
    }
   ],
   "source": [
    "x[clusterAssigned[:,0]==1]"
   ]
  },
  {
   "cell_type": "markdown",
   "metadata": {},
   "source": [
    "각 중심점에 할당된 평균으로 새로운 중심점을 계산한다."
   ]
  },
  {
   "cell_type": "code",
   "execution_count": 14,
   "metadata": {},
   "outputs": [],
   "source": [
    "_centroids=np.zeros(shape=(k,x.shape[1]), dtype=float)"
   ]
  },
  {
   "cell_type": "code",
   "execution_count": 15,
   "metadata": {},
   "outputs": [],
   "source": [
    "for cent in range(k):\n",
    "    _centroids[cent] = np.mean(x[clusterAssigned[:,0]==cent],axis=0) #세로로 평균 구함: 0, 가로로 평균 구함: 1"
   ]
  },
  {
   "cell_type": "code",
   "execution_count": 16,
   "metadata": {
    "scrolled": false
   },
   "outputs": [
    {
     "name": "stdout",
     "output_type": "stream",
     "text": [
      "Centroids updated: \n",
      " [[3.  5.5]\n",
      " [7.8 3.2]]\n"
     ]
    }
   ],
   "source": [
    "print (\"Centroids updated: \\n\", _centroids)"
   ]
  },
  {
   "cell_type": "markdown",
   "metadata": {},
   "source": [
    "### 단계 4: 종료\n",
    "\n",
    "반복을 종료할 것인지 확인한다.\n",
    "소수점을 비교할 경우, 자리수의 정밀도에 따라 동일한 값인지 확인하기 어려울 수 있다.\n",
    "np.equal() 함수를 사용해서 중심점이 갱신되었는지 확인하게 된다."
   ]
  },
  {
   "cell_type": "code",
   "execution_count": 36,
   "metadata": {},
   "outputs": [
    {
     "name": "stdout",
     "output_type": "stream",
     "text": [
      "True\n"
     ]
    }
   ],
   "source": [
    "comparison = np.equal(centroids, _centroids)\n",
    "print(comparison.all())\n",
    "# 중심점이 계산이 안되었다->이제 종료"
   ]
  },
  {
   "cell_type": "markdown",
   "metadata": {},
   "source": [
    "또는 np.isclose()는 tolerence를 어느 정도 허용하면서 동일한지 비교하므로 사용할 수 있다. "
   ]
  },
  {
   "cell_type": "code",
   "execution_count": 37,
   "metadata": {},
   "outputs": [
    {
     "name": "stdout",
     "output_type": "stream",
     "text": [
      "True\n"
     ]
    }
   ],
   "source": [
    "comparison = np.isclose(centroids, _centroids)\n",
    "print(comparison.all())"
   ]
  },
  {
   "cell_type": "markdown",
   "metadata": {},
   "source": [
    "그래프를 그리면 클러스터링을 직관적으로 보다 쉽게 이해할 수 있다.\n",
    "\n",
    "파란점으로 데이터 좌표를, 중심점은 빨간 색으로 그려보자."
   ]
  },
  {
   "cell_type": "code",
   "execution_count": 38,
   "metadata": {},
   "outputs": [
    {
     "data": {
      "text/plain": [
       "<matplotlib.collections.PathCollection at 0x228dd126388>"
      ]
     },
     "execution_count": 38,
     "metadata": {},
     "output_type": "execute_result"
    },
    {
     "data": {
      "image/png": "[encoded data removed]",
      "text/plain": [
       "<Figure size 432x288 with 1 Axes>"
      ]
     },
     "metadata": {
      "needs_background": "light"
     },
     "output_type": "display_data"
    }
   ],
   "source": [
    "%matplotlib inline\n",
    "import matplotlib.pyplot as plt\n",
    "\n",
    "plt.scatter(x[:,0],x[:,1],color='blue')\n",
    "plt.scatter(centroids[:,0],centroids[:,1],color='red')"
   ]
  },
  {
   "cell_type": "markdown",
   "metadata": {},
   "source": [
    "## C.5 함수로 만들기\n",
    "\n",
    "### 거리 계산 함수\n",
    "\n",
    "두 점 사이의 거리를 계산하는 함수이다."
   ]
  },
  {
   "cell_type": "code",
   "execution_count": 20,
   "metadata": {},
   "outputs": [],
   "source": [
    "def normDist(x1, x2):\n",
    "    #dist=np.sqrt(sum(np.power(x1 - x2, 2))) #36.406001444695193\n",
    "    dist = np.linalg.norm(x1 - x2) #36.406001444695193\n",
    "    return dist"
   ]
  },
  {
   "cell_type": "markdown",
   "metadata": {},
   "source": [
    "### 클라스터링 함수\n",
    "\n",
    "알고리즘을 정리하면 다음과 같다.\n",
    "\n",
    "```python\n",
    "while 무한반복 시작\n",
    "    for 행 갯수만큼 반복\n",
    "        최소길이 초기화\n",
    "        최소인덱스 초기화\n",
    "        for 중심점 개수만큼 반복\n",
    "            중심값과 각 데이터 거리 계산\n",
    "            if 최소 거리값이면, 그 클러스터에 할당\n",
    "                최소값 갱신\n",
    "                최소인덱스 갱신\n",
    "        if 클러스터가 변경되지 않았으면:\n",
    "            무한반복 종료\n",
    "        else: 무한반복 계속\n",
    "```"
   ]
  },
  {
   "cell_type": "code",
   "execution_count": 21,
   "metadata": {},
   "outputs": [],
   "source": [
    "def cluster(x, k, centroids): #x,k, 초기중심점\n",
    "    row, col = x.shape\n",
    "    clusterAssigned = np.zeros(shape=(row, k), dtype=float)\n",
    "    # print (clusterAssigned)\n",
    "    clusterUpdated=True\n",
    "    iter = 1\n",
    "    while(clusterUpdated):\n",
    "        print (\"\\n\\n====== Iteration {} ======\".format(iter))\n",
    "        # STEP 1: assign to closer cluster\n",
    "        for i in range(row):\n",
    "            minDist = np.inf   # set arbitray max to minDist\n",
    "            minIndex = -1      # set arbitray index to minIndex\n",
    "            # compute distance and assign to closer cluster\n",
    "            for j in range(k):\n",
    "                # distance from centroids[j] to x[0]\n",
    "                distJI = normDist(centroids[j], x[i])\n",
    "                # print (\"Distance {:.3f} between {} and {}\".format(distJI, centroids[j], x[i]))\n",
    "                # pick the closest centroid\n",
    "                if distJI < minDist:\n",
    "                    minDist = distJI\n",
    "                    minIndex = j\n",
    "            print (\".....Assigning {} to {}th centroid by {:.3f}\".format(x[i], minIndex, minDist))\n",
    "            clusterAssigned[i] = [minIndex, minDist]   #-----changed\n",
    "        print (\"\\n.....Assigned clusters: \\n {}\".format(clusterAssigned))\n",
    "        # STEP 2: update centroids\n",
    "        _centroids=np.zeros(shape = (k, x.shape[1]), dtype=float)\n",
    "        for cent in range(k):\n",
    "            # read data by index and average them\n",
    "            _centroids[cent] = np.mean(x[clusterAssigned[:,0]==cent],axis=0)\n",
    "        # print (\"Centroids updated: \\n\", _centroids)\n",
    "        # STEP 3: see if centroids is updated. STOP if NOT updated\n",
    "        comparison = np.equal(centroids, _centroids) # np.isclose() in case some tolerence is required\n",
    "        if(comparison.all() == True):\n",
    "            print (\"\\n.....NOT Updating Centroids\\n {} => \\n{}\".format(centroids, _centroids))\n",
    "            clusterUpdated = False\n",
    "            return centroids, clusterAssigned\n",
    "        else:\n",
    "            print (\"\\n.....Updating Centroids\\n {} => \\n{}\".format(centroids, _centroids))\n",
    "            centroids = _centroids\n",
    "            iter += 1"
   ]
  },
  {
   "cell_type": "markdown",
   "metadata": {},
   "source": [
    "### 그래프\n",
    "\n",
    "데이터의 파란 색으로 산포하고 빨간색으로 중심점을 찍는 그래프를 작성하는 함수이다."
   ]
  },
  {
   "cell_type": "code",
   "execution_count": 22,
   "metadata": {},
   "outputs": [],
   "source": [
    "def draw(x, centroids):\n",
    "    import matplotlib.pyplot as plt\n",
    "    #plt.subplot(5,2,iter)\n",
    "    plt.scatter(x[:,0], x[:,1], color='blue')\n",
    "    plt.scatter(centroids[:,0], centroids[:,1], color='red')"
   ]
  },
  {
   "cell_type": "markdown",
   "metadata": {},
   "source": [
    "아래 데이터로 실행해보자.\n",
    "데이터의 초기 중심점으로 결과가 다르게 나올 수 있다는 점에 유의하자."
   ]
  },
  {
   "cell_type": "code",
   "execution_count": 23,
   "metadata": {
    "scrolled": true
   },
   "outputs": [
    {
     "name": "stdout",
     "output_type": "stream",
     "text": [
      "\n",
      "\n",
      "====== Iteration 1 ======\n",
      ".....Assigning [2. 5.] to 0th centroid by 0.000\n",
      ".....Assigning [3. 6.] to 0th centroid by 1.414\n",
      ".....Assigning [2. 4.] to 0th centroid by 1.000\n",
      ".....Assigning [5. 7.] to 0th centroid by 3.606\n",
      ".....Assigning [7. 2.] to 1th centroid by 0.000\n",
      ".....Assigning [8. 3.] to 1th centroid by 1.414\n",
      ".....Assigning [9. 4.] to 1th centroid by 2.828\n",
      ".....Assigning [8. 4.] to 1th centroid by 2.236\n",
      ".....Assigning [7. 3.] to 1th centroid by 1.000\n",
      "\n",
      ".....Assigned clusters: \n",
      " [[0.         0.        ]\n",
      " [0.         1.41421356]\n",
      " [0.         1.        ]\n",
      " [0.         3.60555128]\n",
      " [1.         0.        ]\n",
      " [1.         1.41421356]\n",
      " [1.         2.82842712]\n",
      " [1.         2.23606798]\n",
      " [1.         1.        ]]\n",
      "\n",
      ".....Updating Centroids\n",
      " [[2. 5.]\n",
      " [7. 2.]] => \n",
      "[[3.  5.5]\n",
      " [7.8 3.2]]\n",
      "\n",
      "\n",
      "====== Iteration 2 ======\n",
      ".....Assigning [2. 5.] to 0th centroid by 1.118\n",
      ".....Assigning [3. 6.] to 0th centroid by 0.500\n",
      ".....Assigning [2. 4.] to 0th centroid by 1.803\n",
      ".....Assigning [5. 7.] to 0th centroid by 2.500\n",
      ".....Assigning [7. 2.] to 1th centroid by 1.442\n",
      ".....Assigning [8. 3.] to 1th centroid by 0.283\n",
      ".....Assigning [9. 4.] to 1th centroid by 1.442\n",
      ".....Assigning [8. 4.] to 1th centroid by 0.825\n",
      ".....Assigning [7. 3.] to 1th centroid by 0.825\n",
      "\n",
      ".....Assigned clusters: \n",
      " [[0.         1.11803399]\n",
      " [0.         0.5       ]\n",
      " [0.         1.80277564]\n",
      " [0.         2.5       ]\n",
      " [1.         1.44222051]\n",
      " [1.         0.28284271]\n",
      " [1.         1.44222051]\n",
      " [1.         0.82462113]\n",
      " [1.         0.82462113]]\n",
      "\n",
      ".....NOT Updating Centroids\n",
      " [[3.  5.5]\n",
      " [7.8 3.2]] => \n",
      "[[3.  5.5]\n",
      " [7.8 3.2]]\n"
     ]
    },
    {
     "data": {
      "image/png": "[encoded data removed]",
      "text/plain": [
       "<Figure size 432x288 with 1 Axes>"
      ]
     },
     "metadata": {
      "needs_background": "light"
     },
     "output_type": "display_data"
    }
   ],
   "source": [
    "%matplotlib inline\n",
    "import matplotlib.pyplot as plt\n",
    "import numpy as np\n",
    "\n",
    "x = np.array([[2,5],[3,6],[2,4],[5,7],[7,2],[8,3],[9,4],[8,4],[7,3]], dtype = float)\n",
    "#x = np.array([[1, 2],[1, 4],[1, 0],[4, 2],[4, 4],[4, 0]])\n",
    "k = 2\n",
    "centroids = np.array([[2,5],[7,2]], dtype = float)\n",
    "#centroids = np.array([[1,1],[4,1]], dtype = float)\n",
    "centroids, clusterAssigned = cluster(x, k, centroids)\n",
    "draw(x, centroids)"
   ]
  },
  {
   "cell_type": "code",
   "execution_count": null,
   "metadata": {},
   "outputs": [],
   "source": []
  },
  {
   "cell_type": "code",
   "execution_count": null,
   "metadata": {},
   "outputs": [],
   "source": []
  }
 ],
 "metadata": {
  "kernelspec": {
   "display_name": "Python 3",
   "language": "python",
   "name": "python3"
  },
  "language_info": {
   "codemirror_mode": {
    "name": "ipython",
    "version": 3
   },
   "file_extension": ".py",
   "mimetype": "text/x-python",
   "name": "python",
   "nbconvert_exporter": "python",
   "pygments_lexer": "ipython3",
   "version": "3.7.6"
  }
 },
 "nbformat": 4,
 "nbformat_minor": 1
}
