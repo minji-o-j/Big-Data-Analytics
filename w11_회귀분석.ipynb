{
 "cells": [
  {
   "cell_type": "markdown",
   "metadata": {
    "slideshow": {
     "slide_type": "slide"
    }
   },
   "source": [
    "# 회귀분석\n",
    "\n",
    "Last updated 20201106FRI1100 20191213FRI1110\n",
    "\n",
    "## S.1 목차\n",
    "\n",
    "* S.2 문제의 이해\n",
    "* S.3 회귀식\n",
    "* S.3.1 모델\n",
    "* S.3.2 변수\n",
    "* S.3.3 입력변수의 수에 따른 구분\n",
    "* S.3.4 표준화에 따른 구분\n",
    "* S.4 OLS\n",
    "* S.4.1 데이터\n",
    "* S.4.2 그래프\n",
    "* S.4.3 선형 회귀식 풀기\n",
    "* S.4.4 Python으로 미분해서 풀어보자\n",
    "* S.4.5 R2 (S.5.5 오류 계산하고 해서 모두 s.6 gradient 뒤로 이동)\n",
    "* S.5 matrix inverse method\n",
    "* S.5.1 풀기\n",
    "* S.5.2 데이터\n",
    "* S.5.3 identity matrix\n",
    "* S.5.4 $\\beta$\n",
    "* 문제: Matrix Inverse Method 회귀모델\n",
    "* S.5.5 오류 계산\n",
    "* S.5.6 sympy matrix\n",
    "* S.6 gradient for linear regression\n",
    "* 문제: 회귀식 그래프 함수\n",
    "* 문제: 키 몸무게를 matrix inverse method와 gradient descent로 풀기\n",
    "* S.7 정규화 회귀모형\n",
    "* 문제 UCI Abalone\n",
    "* S.8 Local Regression\n",
    "* S.9 Ridge\n",
    "* S.10 Lasso\n",
    "* S.11 forward stagewise\n",
    "* S.11 비선형 모델\n",
    "* 문제: iris데이터를 numpy, statsmodels, sklearn, Pyspark로 회귀분석\n",
    "* 문제: Pyspark로 매출 회귀분석 및 평가\n",
    "* 문제: 주택가격의 sklearn (Lasso, Ridge), Pyspark로 회귀분석\n",
    "* 문제: statsmodel, pyspark로 당뇨의 회귀분석 및 평가\n",
    "\n",
    "* 참조 ISLR 6장"
   ]
  },
  {
   "cell_type": "markdown",
   "metadata": {
    "slideshow": {
     "slide_type": "slide"
    }
   },
   "source": [
    "## S.2 문제의 이해\n",
    "\n",
    "어떤 값을 예측한다고 하고, 그 값에 영향을 미치는 변수들이 있다고 하자.\n",
    "예측 값을 **종속변수 Dependent variables** 또는 **출력변수 Output variables**라고 하고,\n",
    "영향변수를 **독립변수 Input variables**라고 하거나 **입력변수 Input variables**라고 한다.  \n",
    "\n",
    "\n",
    "예를 들어, 영화매출을 예측한다고 하자. 매출에 영향을 미칠 수 있는 변수로 평점, 광고비, 투자비, 개봉일 매출액, 조회수 등을 꼽을 수 있다.\n",
    "회귀분석은 입력변수로부터 목표 값을 예측을 하는 문제에 사용한다."
   ]
  },
  {
   "cell_type": "markdown",
   "metadata": {
    "slideshow": {
     "slide_type": "slide"
    }
   },
   "source": [
    "## S.3 회귀식\n",
    "\n",
    "### S.3.1 모델\n",
    "\n",
    "$y = \\beta_0 + \\beta_1x_1 + \\ldots + \\beta_nx_n\n",
    " = \\beta_0 + \\sum_{j=1}^n \\beta_j x_j$\n",
    "\n",
    "* $x \\in \\mathbb{R}^{m}_{n}$는 입력변수이고 i개 레코드, j개 속성으로 이루어진 입력데이터\n",
    "* $y$ 는 목표변수로서 1개의 컬럼 값을 가진다.\n",
    "    $$\\mathbf{y} = \\begin{pmatrix} y_1 \\\\ y_2 \\\\ \\vdots \\\\ y_n \\end{pmatrix}$$\n",
    "\n",
    "위 식은 $x_0=1$인 경우 $y = \\sum_{j=0}^n \\beta_j x_j$"
   ]
  },
  {
   "cell_type": "markdown",
   "metadata": {
    "slideshow": {
     "slide_type": "subslide"
    }
   },
   "source": [
    "#### 벡터 표기\n",
    "\n",
    "데이터 x는 벡터로 표현할 수 있으며, $x^{m}_{n}$는 m개의 데이터 갯수, n개의 속성으로 구성된 벡터이다.  \n",
    "\n",
    "$x_{ij}$는 **i**번째 샘플(행)의 **j**번째 속성(열)이다.  \n",
    "또는 위첨자 superscript, 아래첨자 subscript를 이용하여 표기하기도 한다. $x^{(j)}_i$ 영어로 설명하면 이해하기 쉽다. 즉 위첨자 **Up**per는 알파벳 **U**로 시작하니 위에서 아래로 (**up**에서 down), 반면에 아래첨자 **L**ower는 왼쪽에서 오른쪽으로 (**l**eft to right) 구성된다 (Einstein 표기법이라 한다).\n",
    "* 즉, 위첨자 superscript (j)는 j번째 **열**\n",
    "* 아래첨자 subscript (i)는 i번째 **행**을 의미한다.\n"
   ]
  },
  {
   "cell_type": "markdown",
   "metadata": {
    "slideshow": {
     "slide_type": "slide"
    }
   },
   "source": [
    "#### argmin\n",
    "\n",
    "$\\beta$를 w로 표기하기도 하는데, 그러면 회귀식은 y=wx으로 바꿔쓸 수 있다.\n",
    "회귀식은 아래에서 보듯이 $\\hat{w}$를 찾아야 풀리게 된다.\n",
    "$argmin_{w}$은 오류 $(y-wx)^2$를 **최소화하는 w**를 의미한다.\n",
    "\n",
    "$\\hat{w} = argmin_{w} (y-wx)^2$ ---`오류가 +- 둘다 있을 수 있어서 절댓값 or 제곱`\n",
    "\n"
   ]
  },
  {
   "cell_type": "markdown",
   "metadata": {
    "slideshow": {
     "slide_type": "subslide"
    }
   },
   "source": [
    "### S.3.2 입력변수의 수에 따른 구분\n",
    "\n",
    "회귀식은 **입력변수에 대해 영향을 미치는 가중치를 주어 출력변수 값을 계산하는 식**이라고 할 수 있다.\n",
    "출력변수는 숫자이고 입력변수는 하나 이상이 될 수 있다.\n",
    "\n",
    "상관관계와 회귀분석은 여러 변수간의 관계를 분석하는 방법이란 공통점이 있다.\n",
    "반면에 **상관관계**는 변수 간 관계의 강도를 -1 ~ 1 값으로 측정하는 것이고, **회귀분석**에서는 종속변수와 독립변수를 구분하여 설명하거나, 예측하는데 쓰인다.\n",
    "\n",
    "입력변수에 따라 이진, 다중회귀분석으로 구분할 수 있다.\n",
    "**이진회귀식 binary regression**은 두 변인 간의 관계를 나타내는 경우에 쓰인다.\n",
    "**다중회귀식 multiple regression**은 변인이 복수인 경우를 말한다."
   ]
  },
  {
   "cell_type": "markdown",
   "metadata": {
    "slideshow": {
     "slide_type": "subslide"
    }
   },
   "source": [
    "#### bias와 variance\n",
    "\n",
    "**variance**는 회귀식을 기준으로 퍼져 있는 정도를 의미한다. 통계에서 말하는 분산으로, 오류가 넓게 퍼져 분포될 수록 variance는 크다.\n",
    "반면에 **bias**는 회귀식이 평균적으로 벗어난 정도를 의미한다. 화살이 과녁에 도착하였지만, 여기 저기 퍼져 있는 것이 아니라 잘 모아져 있지만 실제 값에서 벗어난 정도를 말한다. bias가 크고 variance가 적으면 평균만 이동해주면 잘 맞게 된다.\n",
    "- 평균에서 떨어져 몰려있으면 평균을 몰려주면 됨  \n",
    "<br><br>\n",
    "\n",
    "\n",
    "변수가 증가할수록 **overfitting**의 위험이 발생할 수 있다. 즉 bias는 감소하지만, variance는 증가하게 된다.\n",
    "예를 들어 변수의 갯수(p)가 데이터 수(n) 보다 많아지게 되면, variance가 무한대로 증가한다.\n",
    "이럴 경우, **shrinkage** 방식으로 모델의 variance를 줄이고, 정확성을 높일 수 있다.\n",
    "\n",
    "모든 변수를 넣어서 모델을 만들 수 있지만, 그 보다는 **변수를 추가하면서 그 조합에서 RSS, (오류, Residual Sum of Squares)가 가장 적은 모델을 선택**하게 된다.\n",
    "속성이 10개라면 1024개 모델, $2^{10}$의 조합이 가능하다. 속성이 40개 이상이면 $2^{40}$, 계산이 거의 불가능하다.\n",
    "\n",
    "또는 변수를 하나씩 추가하면서 **stepwise**, 또는 순서를 정하지만, 먼저 넣어야할 변수와 아닌 경우로 계층화해서 (고기류는 먼저 넣고, 야채는 나중에) **hierachical** 방식으로 할 수 있다.\n",
    "* forward selection: 후보변수 없이 null model에서 시작하여, 하나씩 후보변수를 추가 \n",
    "* backward selection: 모든 후보변수를 넣고 full model에서 시작하고, 하나씩 제거\n",
    "\n",
    "변수를 선택하는 기법으로 PCA (Principle Component Analysis)를 사용할 수 있다."
   ]
  },
  {
   "cell_type": "markdown",
   "metadata": {
    "slideshow": {
     "slide_type": "subslide"
    }
   },
   "source": [
    "### S.3.4 표준화에 따른 구분\n",
    "\n",
    "비표준화된 회귀식 unstandardized regression equation은 원래 데이터를 그대로 사용하기 때문에 직관적으로 이해할 수 있다.\n",
    "\n",
    "$$ Y = a + b \\times X $$\n",
    "\n",
    "그러나 **표준화된** standardized regression equation: 원시값(raw data)를 사용하는 것이 아니라 z값을 사용할 수 있다.\n",
    "\n",
    "$$ z_y = a + b \\times z_x $$"
   ]
  },
  {
   "cell_type": "markdown",
   "metadata": {
    "slideshow": {
     "slide_type": "subslide"
    }
   },
   "source": [
    "### S.3.5 general linear model\n",
    "\n",
    "여러 변수로 구성된 선형적 관계의 모델을 말하는데, 이 때 오류 residuals가 **정규분포**를 따르는 경우를 말한다.  \n",
    "즉 general linear model은 결과 값이 정규분포일 경우, ANOVA, MANOVA, t-test, 선형회귀분석 등이 해당된다.\n",
    "에러 $\\epsilon_i \\sim N(0,\\sigma^2)$\n",
    "\n",
    "$$ y_i = \\beta_0 + \\beta_1 x_{1i} + ... + \\beta_p x_{pi} + \\epsilon_i $$\n"
   ]
  },
  {
   "cell_type": "markdown",
   "metadata": {},
   "source": [
    "> GLM \n",
    "\n",
    "> 일반화선형모델 (GLM: general**ized**(위랑 다름) linear model)은 입력변수와 예측변수를 선형관계로 모형화한다.\n",
    "그러나 **오류 Residuals가 정규분포를 따르지 않는 경우**, 연결함수 link function을 통해 비정규화를 줄이려고 한다.\n",
    "정규화가 아닌 분포는 여러 형태가 있을 수 있다. 이항 binomial, 포아손 Poisson, 베타 beta, 감마 gamma 등을 예를 들 수 있다.\n",
    "종속변수가 이항분포인 경우 로지스틱을, 종속변수가 갯수인 경우 poisson으로 모델링한다.\n",
    "generalized라는 단어는 선형, 로지스틱, 포아손을 **일반화 generalized**한 모델이라 그렇게 명명되었다.\n"
   ]
  },
  {
   "cell_type": "markdown",
   "metadata": {
    "slideshow": {
     "slide_type": "subslide"
    }
   },
   "source": [
    "위키피디아 예제: http://en.wikipedia.org/wiki/Simple_linear_regression\n",
    "\n",
    "$\n",
    "\\begin{align}\n",
    "\\hat{a} &= \\frac{nS_{xy}-S_xS_y}{nS_{xx}-S_x^2} = 61.272 \\\\\n",
    "\\hat{b} &= \\frac{1}{n}S_y - \\hat{a} \\frac{1}{n}S_x = -39.062\n",
    "\\end{align}\n",
    "$"
   ]
  },
  {
   "cell_type": "markdown",
   "metadata": {
    "slideshow": {
     "slide_type": "slide"
    }
   },
   "source": [
    "## S.4 OLS 계산(최소화)\n",
    "\n",
    "회귀식은 입력데이터 간의 관계를 나타내고, 그 관계로 인해 발생하는 오류를 최소화하도록 만들어진다.\n",
    "오류는 **y실제 - $\\hat{y}$예측 차이의 제곱**을 합계낸 값으로, 이를 **최소화**하는 지수를 구하면 최적식을 구할 수 있다.\n",
    "$y-\\hat{y}$은 음수가 나올 수도 있으므로 오류의 합계를 구하려면 제곱을 한다.\n",
    "즉 OLS (Ordinary Least Square)는 오류를 최소화하여, 회귀식을 찾는 방법이다.\n"
   ]
  },
  {
   "cell_type": "markdown",
   "metadata": {
    "slideshow": {
     "slide_type": "subslide"
    }
   },
   "source": [
    "### S.4.1 데이터\n",
    "\n",
    "x,y 데이터를 생성해보자.\n",
    "\n",
    "x | y\n",
    "-----|-----\n",
    "1 | 6\n",
    "2 | 5\n",
    "3 | 7\n",
    "4 | 10"
   ]
  },
  {
   "cell_type": "code",
   "execution_count": 1,
   "metadata": {},
   "outputs": [],
   "source": [
    "import numpy as np\n",
    "\n",
    "x=np.array([1,2,3,4])\n",
    "y=np.array([6,5,7,10])"
   ]
  },
  {
   "cell_type": "markdown",
   "metadata": {
    "slideshow": {
     "slide_type": "subslide"
    }
   },
   "source": [
    "### S.4.2 그래프\n",
    "\n",
    "```scatter(x,y)```로 각 좌표(x,y)를 나타내보자.\n",
    "```subplot()```에는 3개의 인자가 사용된다 - 행, 열, 순서 (왼쪽 상단 1부터 시작해서 오른쪽으로 이동). 즉 **211은 2행 1열의 첫째**, **212는 2행 1열의 둘째**를 의미한다."
   ]
  },
  {
   "cell_type": "code",
   "execution_count": 2,
   "metadata": {
    "scrolled": true
   },
   "outputs": [
    {
     "data": {
      "text/plain": [
       "<matplotlib.collections.PathCollection at 0x228655211c8>"
      ]
     },
     "execution_count": 2,
     "metadata": {},
     "output_type": "execute_result"
    },
    {
     "data": {
      "image/png": "[encoded data removed]",
      "text/plain": [
       "<Figure size 432x288 with 1 Axes>"
      ]
     },
     "metadata": {
      "needs_background": "light"
     },
     "output_type": "display_data"
    }
   ],
   "source": [
    "%matplotlib inline\n",
    "import matplotlib.pyplot as plt\n",
    "\n",
    "fig=plt.figure()\n",
    "ax=fig.add_subplot(111)\n",
    "ax.scatter(x,y)"
   ]
  },
  {
   "cell_type": "markdown",
   "metadata": {
    "slideshow": {
     "slide_type": "subslide"
    }
   },
   "source": [
    "### S.4.3 선형 회귀식 풀기\n",
    "\n",
    "x, y 값을 하나씩 입력하면, 아래 식이 성립한다.\n",
    "\n",
    "$6 = \\beta_0 + \\beta_1 \\times 1$\n",
    "\n",
    "$5 = \\beta_0 + \\beta_1 \\times 2$\n",
    "\n",
    "$7 = \\beta_0 + \\beta_1 \\times 3$\n",
    "\n",
    "$10 = \\beta_0 + \\beta_1 \\times 4$\n"
   ]
  },
  {
   "cell_type": "markdown",
   "metadata": {
    "slideshow": {
     "slide_type": "subslide"
    }
   },
   "source": [
    "실제와 예측의 차이인 **오류 $(y-yhat)^2$를 최소화**하는 베타 값을 구해보자.\n",
    "\n",
    "$(6 - (\\beta_0 + \\beta_1 \\times 1))^2$\n",
    "\n",
    "$(5 - (\\beta_0 + \\beta_1 \\times 2))^2$\n",
    "\n",
    "$(7 - (\\beta_0 + \\beta_1  \\times 3))^2$\n",
    "\n",
    "$(10 - (\\beta_0 + \\beta_1  \\times 4))^2$\n",
    "\n",
    "위 식을 모두 더해서 총오류를 구하면:\n",
    "\n",
    "$f=210 + 4\\beta_0^2 + 30\\beta_1^2 + 20\\beta_0\\beta_1 - 56\\beta_0 - 154\\beta_1$"
   ]
  },
  {
   "cell_type": "markdown",
   "metadata": {
    "slideshow": {
     "slide_type": "subslide"
    }
   },
   "source": [
    "위를 편미분하면:\n",
    "\n",
    "$\\frac{\\partial f}{\\partial \\beta_0} = 8\\beta_0 + 20\\beta_1 - 56$\n",
    "\n",
    "$\\frac{\\partial f}{\\partial \\beta_1} = 20\\beta_0 + 60\\beta_1 - 154$"
   ]
  },
  {
   "cell_type": "markdown",
   "metadata": {
    "slideshow": {
     "slide_type": "subslide"
    }
   },
   "source": [
    "이를 풀면:\n",
    "\n",
    "$\\beta_0 = 3.5$\n",
    "\n",
    "$\\beta_1 = 1.4$"
   ]
  },
  {
   "cell_type": "markdown",
   "metadata": {
    "slideshow": {
     "slide_type": "subslide"
    }
   },
   "source": [
    "예측 값 $\\hat{y}$를 계산해보자.\n",
    "\n",
    "각 x 값에 기울기 1.4를 곱하고, y절편 3.5를 더해서 구할 수 있다.\n",
    "\n",
    "$yhat=3.5 + 1.4 x$\n",
    "\n",
    "x는 벡터 값으로 요소별 '$x \\times 1.4 + 3.5$'와 같이 덧셈, 곱셈이 가능하다."
   ]
  },
  {
   "cell_type": "code",
   "execution_count": 8,
   "metadata": {},
   "outputs": [],
   "source": [
    "yhat=x*1.4+3.5 #요소별로 곱셈덧셈"
   ]
  },
  {
   "cell_type": "markdown",
   "metadata": {},
   "source": [
    "Python3의 출력기능이 있는 f를 사용하여 출력해보자."
   ]
  },
  {
   "cell_type": "code",
   "execution_count": 9,
   "metadata": {},
   "outputs": [
    {
     "data": {
      "text/plain": [
       "'predicted: [4.9 6.3 7.7 9.1]'"
      ]
     },
     "execution_count": 9,
     "metadata": {},
     "output_type": "execute_result"
    }
   ],
   "source": [
    "f\"predicted: {yhat}\""
   ]
  },
  {
   "cell_type": "markdown",
   "metadata": {
    "slideshow": {
     "slide_type": "subslide"
    }
   },
   "source": [
    "실제값과 예측값의 오류를 구해보자"
   ]
  },
  {
   "cell_type": "code",
   "execution_count": 10,
   "metadata": {},
   "outputs": [
    {
     "data": {
      "text/plain": [
       "'predicted - actual: [-1.1  1.3  0.7 -0.9]'"
      ]
     },
     "execution_count": 10,
     "metadata": {},
     "output_type": "execute_result"
    }
   ],
   "source": [
    "f\"predicted - actual: {yhat-y}\""
   ]
  },
  {
   "cell_type": "markdown",
   "metadata": {},
   "source": [
    "오류는 플러스, 마이너스 서로 상쇄될 수 있다. 오류의 제곱, 즉 RSS를 구하면 크기를 올바르게 알 수 있다."
   ]
  },
  {
   "cell_type": "code",
   "execution_count": 11,
   "metadata": {
    "scrolled": true
   },
   "outputs": [
    {
     "data": {
      "text/plain": [
       "'error: 4.199999999999998'"
      ]
     },
     "execution_count": 11,
     "metadata": {},
     "output_type": "execute_result"
    }
   ],
   "source": [
    "f\"error: {np.sum(np.power(yhat-y,2))}\""
   ]
  },
  {
   "cell_type": "markdown",
   "metadata": {},
   "source": [
    "### S.4.4 Python으로 미분해서 풀어보자\n",
    "\n",
    "편미분 partial derivatives은 변수 가운데 하나를 선정하고 나머지는 상수로 보고 미분하는 것이다.  \n",
    "예를 들어, x로 편미분해보자!\n",
    "\n",
    "$\n",
    "f(x,y) = x^2 + xy + y^2\\\\\n",
    "\\frac{\\partial{f}}{\\partial{x}} = 2x + y\n",
    "$"
   ]
  },
  {
   "cell_type": "markdown",
   "metadata": {},
   "source": [
    "SymPy는 수식이나 논리명제를 풀기위해 만들어진 Python 라이브러리이다.\n",
    "Anaconda에는 이미 설치가 되어 있다. 설치가 필요하면 ```pip3 install sympy```라고 하면 된다.\n",
    "sympy를 import 해서, sp로 사용해보자."
   ]
  },
  {
   "cell_type": "code",
   "execution_count": 12,
   "metadata": {},
   "outputs": [],
   "source": [
    "import sympy as sp"
   ]
  },
  {
   "cell_type": "markdown",
   "metadata": {
    "slideshow": {
     "slide_type": "subslide"
    }
   },
   "source": [
    "```symbols('b0,b1')```는 따옴표 안의 b0,b1을 변수로 선언한다."
   ]
  },
  {
   "cell_type": "code",
   "execution_count": 13,
   "metadata": {},
   "outputs": [],
   "source": [
    "b0,b1=sp.symbols('b0 b1')"
   ]
  },
  {
   "cell_type": "markdown",
   "metadata": {},
   "source": [
    "앞서 구한 총오류 f함수를 b0, b1에 대해 미분을 해보자."
   ]
  },
  {
   "cell_type": "code",
   "execution_count": 14,
   "metadata": {},
   "outputs": [],
   "source": [
    "f=210 + 4*b0**2 + 30*b1**2 + 20*b0*b1 - 56*b0 - 154*b1 #총오류구하기"
   ]
  },
  {
   "cell_type": "markdown",
   "metadata": {
    "slideshow": {
     "slide_type": "subslide"
    }
   },
   "source": [
    "diff(f,b0)는 f함수를 b0에 대해서 미분하는 명령어이다.\n",
    "diff(f,b1)는 f함수를 b1에 대해서 미분하는 명령어이다."
   ]
  },
  {
   "cell_type": "code",
   "execution_count": 6,
   "metadata": {},
   "outputs": [],
   "source": [
    "fdiff_b0=sp.diff(f,b0) #sp.diff:미분\n",
    "fdiff_b1=sp.diff(f,b1)"
   ]
  },
  {
   "cell_type": "markdown",
   "metadata": {},
   "source": [
    "줄바꿈 ```\\n```을 넣어서 출력하려면 f출력은 조금 복잡해진다.\n",
    "\"\".format()으로 출력한다."
   ]
  },
  {
   "cell_type": "code",
   "execution_count": 7,
   "metadata": {},
   "outputs": [
    {
     "name": "stdout",
     "output_type": "stream",
     "text": [
      "fdiff with b0: 8*b0 + 20*b1 - 56\n",
      "fdiff with b1: 20*b0 + 60*b1 - 154\n"
     ]
    }
   ],
   "source": [
    "print (\"fdiff with b0: {}\\nfdiff with b1: {}\".format(fdiff_b0, fdiff_b1))"
   ]
  },
  {
   "cell_type": "markdown",
   "metadata": {
    "slideshow": {
     "slide_type": "subslide"
    }
   },
   "source": [
    "위 식을 Sympy ```solve()```로 풀면 해를 구할 수 있다.\n",
    "이 함수의:\n",
    "* 첫째 인자는 수식이고, 0으로 놓고 풀게 된다.\n",
    "즉 ```fdiff_b0 = 0, fdiff_b1 = 0```으로 하는 것과 동일하다.\n",
    "* 그리고 두번째 인자로 넣은 b0, b1을 구하면 위에서 계산한 값과 동일한 결과가 나온다."
   ]
  },
  {
   "cell_type": "code",
   "execution_count": 12,
   "metadata": {
    "collapsed": true
   },
   "outputs": [],
   "source": [
    "exp=sp.solve([fdiff_b0, fdiff_b1],[b0,b1]) #solve: 편미분한걸 0으로 푸는 것과 같음"
   ]
  },
  {
   "cell_type": "code",
   "execution_count": 13,
   "metadata": {},
   "outputs": [
    {
     "name": "stdout",
     "output_type": "stream",
     "text": [
      "exp={b0: 7/2, b1: 7/5}\n"
     ]
    }
   ],
   "source": [
    "print(\"exp={0}\".format(exp))"
   ]
  },
  {
   "cell_type": "markdown",
   "metadata": {},
   "source": [
    "### S.4.5 $R^2$\n",
    "- 회귀분석을 하면서 회귀분석 오류를 얼마나 설명했는지 나타내는 지표\n",
    "\n",
    "$R^2$는 **종속변수 dependent variable의 분산을** (종속변수가 회귀식을 기준으로 분산되어있다.) **독립변수 independent variable(s)로 얼마나 예측**할 수 있는지를 나타낸다. 즉, 계산식 **총 오류TSS = 오류SSE +  잔여오류RSS**에서 **잔여오류RSS를 TSS총오류로 나누어** 계산한다.\n",
    "\n",
    "$r^2=\\frac{RSS}{TSS}$\n",
    "\n",
    "* 총오류 TSS (Total Sum of Squared Errors)\n",
    "* 오류의 합계 SSE (Sum of Squared Errors)\n",
    "* 잔여 오류 RSS (Residual Sum of Squared Errors)"
   ]
  },
  {
   "cell_type": "markdown",
   "metadata": {},
   "source": [
    "#### 데이터\n",
    "\n",
    "x는 0~8의 정수로, y는 임의로 설정한다."
   ]
  },
  {
   "cell_type": "code",
   "execution_count": 16,
   "metadata": {},
   "outputs": [],
   "source": [
    "import numpy as np\n",
    "\n",
    "x=np.arange(0,9) #0~8\n",
    "y=np.array([19, 20, 20.5, 21.5, 22, 23, 23, 25.5, 24])"
   ]
  },
  {
   "cell_type": "markdown",
   "metadata": {},
   "source": [
    "numpy에서 해주었던 것과 같이 ```np.ones(9)``` 명령어로 1을 넣어서 절편을 구해준다."
   ]
  },
  {
   "cell_type": "code",
   "execution_count": 17,
   "metadata": {},
   "outputs": [],
   "source": [
    "A=np.array([x, np.ones(9)])"
   ]
  },
  {
   "cell_type": "code",
   "execution_count": 18,
   "metadata": {},
   "outputs": [
    {
     "name": "stdout",
     "output_type": "stream",
     "text": [
      "[[0. 1. 2. 3. 4. 5. 6. 7. 8.]\n",
      " [1. 1. 1. 1. 1. 1. 1. 1. 1.]]\n"
     ]
    }
   ],
   "source": [
    "print (A)"
   ]
  },
  {
   "cell_type": "markdown",
   "metadata": {},
   "source": [
    "numpy에서 행과 열을 읽을 경우 인덱스로, 모든 행 (열)은 ```:```로 표기한다.\n",
    "\n",
    "**행**을 읽을 경우, 즉 ```i```행의 모든 열은 ```A[i,:]``` 또는 ```:```는 생략해서 ```A[i]```로 읽고"
   ]
  },
  {
   "cell_type": "code",
   "execution_count": 19,
   "metadata": {},
   "outputs": [
    {
     "data": {
      "text/plain": [
       "array([0., 1., 2., 3., 4., 5., 6., 7., 8.])"
      ]
     },
     "execution_count": 19,
     "metadata": {},
     "output_type": "execute_result"
    }
   ],
   "source": [
    "A[0,:] # 0번째 행을 출력"
   ]
  },
  {
   "cell_type": "markdown",
   "metadata": {},
   "source": [
    "**열**을 읽을 경우, 즉 모든 행 ```:```의 ```j```열은  A[:,j]로 읽는다."
   ]
  },
  {
   "cell_type": "code",
   "execution_count": 21,
   "metadata": {},
   "outputs": [
    {
     "data": {
      "text/plain": [
       "array([2., 1.])"
      ]
     },
     "execution_count": 21,
     "metadata": {},
     "output_type": "execute_result"
    }
   ],
   "source": [
    "A[:,2] # 2번째 열을 출력"
   ]
  },
  {
   "cell_type": "markdown",
   "metadata": {},
   "source": [
    "**$x_{02}$ 또는 $x_{0}^{2}$**는 1번째 행(레코드), 3번째 컬럼(속성) A[0,2]로 읽는다."
   ]
  },
  {
   "cell_type": "code",
   "execution_count": 22,
   "metadata": {},
   "outputs": [
    {
     "data": {
      "text/plain": [
       "2.0"
      ]
     },
     "execution_count": 22,
     "metadata": {},
     "output_type": "execute_result"
    }
   ],
   "source": [
    "A[0,2]"
   ]
  },
  {
   "cell_type": "markdown",
   "metadata": {},
   "source": [
    "#### numpy listsq\n",
    "\n",
    "numpy의 ```listsq()```를 사용하여, 데이터의 회귀식 계수 w0, w1을 계산해보자.\n",
    "Python2에서는 ```np.linalg.lstsq(A.T, y)```, 그러나 ```np.linalg.lstsq(A.T, y, rcond=None)```라고 해준다.\n",
    "```rcond```는 행렬 A의 특잇값 singular value의 cut-off 비율인데, 기본값을 적용하지 않겠다는 의미이다."
   ]
  },
  {
   "cell_type": "code",
   "execution_count": 25,
   "metadata": {},
   "outputs": [],
   "source": [
    "w0, w1=np.linalg.lstsq(A.T, y, rcond=None)[0]\n",
    "#rcond none하면 weight, 잔여오류 이렇게 2개 반환, weight만 ([0])\n",
    "# A.T 값이 2개가 주어지는 형태로바꿈"
   ]
  },
  {
   "cell_type": "code",
   "execution_count": 26,
   "metadata": {},
   "outputs": [
    {
     "name": "stdout",
     "output_type": "stream",
     "text": [
      "w0: 0.7166666666666672\n",
      "w1: 19.188888888888897\n"
     ]
    }
   ],
   "source": [
    "print (\"w0: {}\\nw1: {}\".format(w0, w1))"
   ]
  },
  {
   "cell_type": "markdown",
   "metadata": {},
   "source": [
    "예측 값을 구해보자. 실제 값과 얼마나 차이가 나는지 비교해보자."
   ]
  },
  {
   "cell_type": "code",
   "execution_count": 27,
   "metadata": {},
   "outputs": [],
   "source": [
    "yhat=w0*x+w1"
   ]
  },
  {
   "cell_type": "code",
   "execution_count": 28,
   "metadata": {},
   "outputs": [
    {
     "name": "stdout",
     "output_type": "stream",
     "text": [
      "예측: [19.18888889 19.90555556 20.62222222 21.33888889 22.05555556 22.77222222\n",
      " 23.48888889 24.20555556 24.92222222]\n"
     ]
    }
   ],
   "source": [
    "print (\"예측: {}\".format(yhat))"
   ]
  },
  {
   "cell_type": "markdown",
   "metadata": {},
   "source": [
    "#### 그래프\n",
    "\n",
    "예측 yhat과 실제 y의 그래프를 그려보자.\n",
    "예측은 빨간 실선 (r-), 파란 점 (bo, 'b'는 blue, 'o'는 동그라미 점)으로 그린다."
   ]
  },
  {
   "cell_type": "code",
   "execution_count": 29,
   "metadata": {},
   "outputs": [
    {
     "data": {
      "image/png": "[encoded data removed]",
      "text/plain": [
       "<Figure size 432x288 with 1 Axes>"
      ]
     },
     "metadata": {
      "needs_background": "light"
     },
     "output_type": "display_data"
    }
   ],
   "source": [
    "%matplotlib inline\n",
    "import matplotlib.pyplot as plt\n",
    "plt.plot(x,yhat,'r-',x,y,'bo') #r-:빨간선 #bo: 파란 동그라미(blue o)\n",
    "plt.show()"
   ]
  },
  {
   "cell_type": "markdown",
   "metadata": {},
   "source": [
    "#### R squared 계산\n",
    "\n",
    "총오류와 잔여오류를 계산해보자."
   ]
  },
  {
   "cell_type": "code",
   "execution_count": 30,
   "metadata": {
    "slideshow": {
     "slide_type": "subslide"
    }
   },
   "outputs": [],
   "source": [
    "RSS = sum((y-yhat)**2) #잔여오류\n",
    "TSS = sum((y-np.mean(y))**2) # 총오류"
   ]
  },
  {
   "cell_type": "code",
   "execution_count": 31,
   "metadata": {},
   "outputs": [],
   "source": [
    "r_squared = 1 - (float(RSS))/TSS"
   ]
  },
  {
   "cell_type": "code",
   "execution_count": 32,
   "metadata": {},
   "outputs": [
    {
     "data": {
      "text/plain": [
       "'r_squared: 0.9138385502471171'"
      ]
     },
     "execution_count": 32,
     "metadata": {},
     "output_type": "execute_result"
    }
   ],
   "source": [
    "f\"r_squared: {r_squared}\""
   ]
  },
  {
   "cell_type": "markdown",
   "metadata": {
    "collapsed": true,
    "slideshow": {
     "slide_type": "subslide"
    }
   },
   "source": [
    "adjusted R-squared(보정값)는 독립변수의 개수에 따라 과도한 $R^2$를 수정한 값이다.\n",
    "\n",
    "$R^2\\space adjusted=1 - \\frac{(1-R^2)(n-1)}{n-k-1}$\n",
    "\n",
    "* n은 데이터 개수\n",
    "* k는 독립변수 개수"
   ]
  },
  {
   "cell_type": "code",
   "execution_count": 39,
   "metadata": {},
   "outputs": [],
   "source": [
    "adjusted_r_squared = 1 - (1-r_squared)*(len(y)-1)/(len(y)-A.shape[0]-1)   # 0.9015 without -1"
   ]
  },
  {
   "cell_type": "code",
   "execution_count": 40,
   "metadata": {},
   "outputs": [
    {
     "data": {
      "text/plain": [
       "'adjusted_r_squared: 0.8851180669961561'"
      ]
     },
     "execution_count": 40,
     "metadata": {},
     "output_type": "execute_result"
    }
   ],
   "source": [
    "f\"adjusted_r_squared: {adjusted_r_squared}\""
   ]
  },
  {
   "cell_type": "code",
   "execution_count": 44,
   "metadata": {},
   "outputs": [],
   "source": [
    "#보정x\n",
    "X_adjusted_r_squared = 1 - (1-r_squared)*(len(y)-1)/(len(y)-A.shape[0])   # 0.9015 without -1"
   ]
  },
  {
   "cell_type": "code",
   "execution_count": 45,
   "metadata": {},
   "outputs": [
    {
     "data": {
      "text/plain": [
       "'X adjusted_r_squared: 0.901529771710991'"
      ]
     },
     "execution_count": 45,
     "metadata": {},
     "output_type": "execute_result"
    }
   ],
   "source": [
    "f\"X adjusted_r_squared: {X_adjusted_r_squared}\""
   ]
  },
  {
   "cell_type": "markdown",
   "metadata": {},
   "source": [
    "#### statsmodels R squared\n",
    "statsmodels을 사용해서 회귀분석과 $R^2$를 알아보자."
   ]
  },
  {
   "cell_type": "code",
   "execution_count": 46,
   "metadata": {},
   "outputs": [],
   "source": [
    "import statsmodels.api as sm"
   ]
  },
  {
   "cell_type": "code",
   "execution_count": 48,
   "metadata": {},
   "outputs": [],
   "source": [
    "result = sm.OLS(y, A.T).fit() # 오류 최소화 하여 회귀식 찾는 방식"
   ]
  },
  {
   "cell_type": "markdown",
   "metadata": {},
   "source": [
    "측정 값이 불과 9로 적어서 UserWarning이 뜬다."
   ]
  },
  {
   "cell_type": "code",
   "execution_count": 49,
   "metadata": {
    "scrolled": true
   },
   "outputs": [
    {
     "name": "stderr",
     "output_type": "stream",
     "text": [
      "C:\\Users\\user\\Anaconda3\\lib\\site-packages\\scipy\\stats\\stats.py:1604: UserWarning: kurtosistest only valid for n>=20 ... continuing anyway, n=9\n",
      "  \"anyway, n=%i\" % int(n))\n"
     ]
    },
    {
     "data": {
      "text/html": [
       "<table class=\"simpletable\">\n",
       "<caption>OLS Regression Results</caption>\n",
       "<tr>\n",
       "  <th>Dep. Variable:</th>            <td>y</td>        <th>  R-squared:         </th> <td>   0.914</td>\n",
       "</tr>\n",
       "<tr>\n",
       "  <th>Model:</th>                   <td>OLS</td>       <th>  Adj. R-squared:    </th> <td>   0.902</td>\n",
       "</tr>\n",
       "<tr>\n",
       "  <th>Method:</th>             <td>Least Squares</td>  <th>  F-statistic:       </th> <td>   74.24</td>\n",
       "</tr>\n",
       "<tr>\n",
       "  <th>Date:</th>             <td>Fri, 13 Nov 2020</td> <th>  Prob (F-statistic):</th> <td>5.66e-05</td>\n",
       "</tr>\n",
       "<tr>\n",
       "  <th>Time:</th>                 <td>02:14:50</td>     <th>  Log-Likelihood:    </th> <td> -7.6827</td>\n",
       "</tr>\n",
       "<tr>\n",
       "  <th>No. Observations:</th>      <td>     9</td>      <th>  AIC:               </th> <td>   19.37</td>\n",
       "</tr>\n",
       "<tr>\n",
       "  <th>Df Residuals:</th>          <td>     7</td>      <th>  BIC:               </th> <td>   19.76</td>\n",
       "</tr>\n",
       "<tr>\n",
       "  <th>Df Model:</th>              <td>     1</td>      <th>                     </th>     <td> </td>   \n",
       "</tr>\n",
       "<tr>\n",
       "  <th>Covariance Type:</th>      <td>nonrobust</td>    <th>                     </th>     <td> </td>   \n",
       "</tr>\n",
       "</table>\n",
       "<table class=\"simpletable\">\n",
       "<tr>\n",
       "    <td></td>       <th>coef</th>     <th>std err</th>      <th>t</th>      <th>P>|t|</th>  <th>[0.025</th>    <th>0.975]</th>  \n",
       "</tr>\n",
       "<tr>\n",
       "  <th>x1</th>    <td>    0.7167</td> <td>    0.083</td> <td>    8.616</td> <td> 0.000</td> <td>    0.520</td> <td>    0.913</td>\n",
       "</tr>\n",
       "<tr>\n",
       "  <th>const</th> <td>   19.1889</td> <td>    0.396</td> <td>   48.458</td> <td> 0.000</td> <td>   18.253</td> <td>   20.125</td>\n",
       "</tr>\n",
       "</table>\n",
       "<table class=\"simpletable\">\n",
       "<tr>\n",
       "  <th>Omnibus:</th>       <td> 4.624</td> <th>  Durbin-Watson:     </th> <td>   3.078</td>\n",
       "</tr>\n",
       "<tr>\n",
       "  <th>Prob(Omnibus):</th> <td> 0.099</td> <th>  Jarque-Bera (JB):  </th> <td>   1.154</td>\n",
       "</tr>\n",
       "<tr>\n",
       "  <th>Skew:</th>          <td> 0.773</td> <th>  Prob(JB):          </th> <td>   0.561</td>\n",
       "</tr>\n",
       "<tr>\n",
       "  <th>Kurtosis:</th>      <td> 3.830</td> <th>  Cond. No.          </th> <td>    9.06</td>\n",
       "</tr>\n",
       "</table><br/><br/>Warnings:<br/>[1] Standard Errors assume that the covariance matrix of the errors is correctly specified."
      ],
      "text/plain": [
       "<class 'statsmodels.iolib.summary.Summary'>\n",
       "\"\"\"\n",
       "                            OLS Regression Results                            \n",
       "==============================================================================\n",
       "Dep. Variable:                      y   R-squared:                       0.914\n",
       "Model:                            OLS   Adj. R-squared:                  0.902\n",
       "Method:                 Least Squares   F-statistic:                     74.24\n",
       "Date:                Fri, 13 Nov 2020   Prob (F-statistic):           5.66e-05\n",
       "Time:                        02:14:50   Log-Likelihood:                -7.6827\n",
       "No. Observations:                   9   AIC:                             19.37\n",
       "Df Residuals:                       7   BIC:                             19.76\n",
       "Df Model:                           1                                         \n",
       "Covariance Type:            nonrobust                                         \n",
       "==============================================================================\n",
       "                 coef    std err          t      P>|t|      [0.025      0.975]\n",
       "------------------------------------------------------------------------------\n",
       "x1             0.7167      0.083      8.616      0.000       0.520       0.913\n",
       "const         19.1889      0.396     48.458      0.000      18.253      20.125\n",
       "==============================================================================\n",
       "Omnibus:                        4.624   Durbin-Watson:                   3.078\n",
       "Prob(Omnibus):                  0.099   Jarque-Bera (JB):                1.154\n",
       "Skew:                           0.773   Prob(JB):                        0.561\n",
       "Kurtosis:                       3.830   Cond. No.                         9.06\n",
       "==============================================================================\n",
       "\n",
       "Warnings:\n",
       "[1] Standard Errors assume that the covariance matrix of the errors is correctly specified.\n",
       "\"\"\""
      ]
     },
     "execution_count": 49,
     "metadata": {},
     "output_type": "execute_result"
    }
   ],
   "source": [
    "result.summary()"
   ]
  },
  {
   "cell_type": "code",
   "execution_count": 50,
   "metadata": {
    "slideshow": {
     "slide_type": "-"
    }
   },
   "outputs": [
    {
     "data": {
      "text/plain": [
       "(0.9138385502471168, 0.9015297717109907)"
      ]
     },
     "execution_count": 50,
     "metadata": {},
     "output_type": "execute_result"
    }
   ],
   "source": [
    "result.rsquared, result.rsquared_adj #-1로 보정 안한 값이 나옴(Adj. R-squared:\t0.902\n",
    "# 0.877643371323 0.863248473832"
   ]
  },
  {
   "cell_type": "markdown",
   "metadata": {
    "slideshow": {
     "slide_type": "slide"
    }
   },
   "source": [
    "## S.5 matrix inverse method\n",
    "\n",
    "### S.5.1 풀기\n",
    "\n",
    "$\\hat{w}$ 최소해를 구해보자.\n",
    "오류 e는 잔차를 제곱해서 더한 합계 'sum of squared residuals' 이다. `(y-wx) 실제값-예측값=오류`  \n",
    "\n",
    "\n",
    "따라서,\n",
    "$f = e.T \\times e = (y-wx)^T (y-wx) = y^Ty - 2w(x^Ty)^T+w^Tx^Twx$\n",
    "\n",
    "위를 미분하면 $\\frac{\\partial f}{\\partial w} =\n",
    "    0 -2(x^Ty)+2wx^Tx$\n",
    "\n",
    "위 미분 값을 0으로 놓고 풀면, $-2x^Ty + 2\\hat{w}x^Tx = 0$\n",
    "\n",
    "**위 식을 정리하면** $\\hat{w} = (X^T X) ^{-1} X^T y$\n"
   ]
  },
  {
   "cell_type": "markdown",
   "metadata": {
    "slideshow": {
     "slide_type": "slide"
    }
   },
   "source": [
    "### S.5.2 데이터\n",
    "\n",
    "입력변수 x1, x2로부터 출력변수 y가 있다고 하자.\n",
    "\n",
    "$2x_1 - 4x_2 = 8$\n",
    "\n",
    "$3x_1 + 6x_2 = 9$"
   ]
  },
  {
   "cell_type": "code",
   "execution_count": 35,
   "metadata": {
    "collapsed": true
   },
   "outputs": [],
   "source": [
    "import numpy as np\n",
    "\n",
    "y=[8,9]\n",
    "x=[[2,-4],[3,6]]"
   ]
  },
  {
   "cell_type": "code",
   "execution_count": 37,
   "metadata": {},
   "outputs": [
    {
     "data": {
      "text/plain": [
       "'x: [[2, -4], [3, 6]] y: [8, 9]'"
      ]
     },
     "execution_count": 37,
     "metadata": {},
     "output_type": "execute_result"
    }
   ],
   "source": [
    "f\"x: {x} y: {y}\""
   ]
  },
  {
   "cell_type": "markdown",
   "metadata": {
    "slideshow": {
     "slide_type": "subslide"
    }
   },
   "source": [
    "```set_printoptions(precision=2, suppress=True)```는 출력 자릿수를 2자리로 제한할 수 있다."
   ]
  },
  {
   "cell_type": "code",
   "execution_count": 38,
   "metadata": {
    "collapsed": true
   },
   "outputs": [],
   "source": [
    "np.set_printoptions(precision=2, suppress=True) #소수점 숫자 제한"
   ]
  },
  {
   "cell_type": "code",
   "execution_count": 42,
   "metadata": {
    "scrolled": true
   },
   "outputs": [
    {
     "name": "stdout",
     "output_type": "stream",
     "text": [
      "x inv:\n",
      "[[ 0.25  0.17]\n",
      " [-0.12  0.08]]\n"
     ]
    }
   ],
   "source": [
    "xI = np.linalg.inv(x) \n",
    "print(\"x inv:\\n{}\".format(xI))"
   ]
  },
  {
   "cell_type": "markdown",
   "metadata": {
    "slideshow": {
     "slide_type": "subslide"
    }
   },
   "source": [
    "### S.5.3 identity matrix\n",
    "\n",
    "행열에 역행렬을 서로 곱하면 1, 즉 단위행렬 identity matrix가 된다."
   ]
  },
  {
   "cell_type": "code",
   "execution_count": 46,
   "metadata": {},
   "outputs": [
    {
     "name": "stdout",
     "output_type": "stream",
     "text": [
      "identity matrix 'x * xI':\n",
      "[[1. 0.]\n",
      " [0. 1.]]\n"
     ]
    }
   ],
   "source": [
    "print (\"identity matrix 'x * xI':\\n{}\".format(np.dot(x,xI)))"
   ]
  },
  {
   "cell_type": "markdown",
   "metadata": {
    "slideshow": {
     "slide_type": "subslide"
    }
   },
   "source": [
    "identity matrix는 ```np.eye()```로 구할 수 있다."
   ]
  },
  {
   "cell_type": "code",
   "execution_count": 47,
   "metadata": {},
   "outputs": [
    {
     "data": {
      "text/plain": [
       "array([[1., 0.],\n",
       "       [0., 1.]])"
      ]
     },
     "execution_count": 47,
     "metadata": {},
     "output_type": "execute_result"
    }
   ],
   "source": [
    "np.eye(2)"
   ]
  },
  {
   "cell_type": "markdown",
   "metadata": {},
   "source": [
    "행열 x에 역행렬 xI을 서로 곱해서 단위행렬 identity matrix와 비교하면 True가 된다."
   ]
  },
  {
   "cell_type": "code",
   "execution_count": 48,
   "metadata": {},
   "outputs": [
    {
     "data": {
      "text/plain": [
       "array([[ True,  True],\n",
       "       [ True,  True]])"
      ]
     },
     "execution_count": 48,
     "metadata": {},
     "output_type": "execute_result"
    }
   ],
   "source": [
    "np.eye(2) == np.dot(x,xI)"
   ]
  },
  {
   "cell_type": "markdown",
   "metadata": {
    "slideshow": {
     "slide_type": "subslide"
    }
   },
   "source": [
    "### S.5.4 $\\beta$\n",
    "\n",
    "위 식을 행렬로 나타내면,\n",
    "$\\beta \\times x = y$\n",
    "\n",
    "양변에 $x^{-1}$를 곱하면 아래 식이 된다.\n",
    "\n",
    "$x^{-1}\\times x\\times \\beta=x^{-1}\\times y$\n",
    "\n",
    "inverse에 원래의 벡터를 곱하면 identity matrix가 된다.\n",
    "\n",
    "즉 $x^{-1}\\times x=1$이므로\n",
    "\n",
    "아래와 같이 $\\beta$를 구할 수 있다.\n",
    "\n",
    "$\\beta=x^{-1}\\times y$"
   ]
  },
  {
   "cell_type": "markdown",
   "metadata": {
    "slideshow": {
     "slide_type": "subslide"
    }
   },
   "source": [
    "#### inverse 계산\n",
    "\n",
    "**$xx^{-1}=I$**인 $x^{-1}$가 존재하면 x는 invertible이라고 한다.\n",
    "\n",
    "\n",
    "```np.array()```는 ```np.linalg.inv()```, ```np.mat()```는 ```x.I```로 inverse를 계산한다."
   ]
  },
  {
   "cell_type": "code",
   "execution_count": 43,
   "metadata": {
    "collapsed": true
   },
   "outputs": [],
   "source": [
    "# matrix inverse\n",
    "v=np.array([[2,3],[4,5]])\n",
    "vI=np.linalg.inv(v)"
   ]
  },
  {
   "cell_type": "code",
   "execution_count": 44,
   "metadata": {},
   "outputs": [
    {
     "name": "stdout",
     "output_type": "stream",
     "text": [
      "v=\n",
      "[[2 3]\n",
      " [4 5]]\n",
      "v.I=\n",
      "[[-2.5  1.5]\n",
      " [ 2.  -1. ]]\n"
     ]
    }
   ],
   "source": [
    "print (\"v=\\n{0}\\nv.I=\\n{1}\".format(v,vI)) #([[-2.5, 1.5], [ 2. , -1. ]])"
   ]
  },
  {
   "cell_type": "markdown",
   "metadata": {},
   "source": [
    "inverse를 산식으로 계산하면 다음과 같다. 앞서 계산과 동일하다.\n",
    "$\\frac{1}{ad-bc} \\begin{pmatrix}d & -b\\\\-c & a\\end{pmatrix}$"
   ]
  },
  {
   "cell_type": "code",
   "execution_count": 51,
   "metadata": {},
   "outputs": [
    {
     "data": {
      "text/plain": [
       "'[-2.5  1.5  2.  -1. ]'"
      ]
     },
     "execution_count": 51,
     "metadata": {},
     "output_type": "execute_result"
    }
   ],
   "source": [
    "left=1./(2*5-3*4)\n",
    "right=np.array([5,-3,-4,2])\n",
    "f\"{left*right}\" #([-2.5,  1.5,  2. , -1. ])"
   ]
  },
  {
   "cell_type": "markdown",
   "metadata": {
    "slideshow": {
     "slide_type": "subslide"
    }
   },
   "source": [
    "#### inverse로 $\\beta$ 계산\n",
    "\n",
    "matrix inverse method를 풀어보자.\n",
    "numpy array로 행렬을 선언하고,\n",
    "다음 식을 ```np.dot()```, ```np.linalg.inv()``` 함수를 이용해서 풀면 x1, x2를 구할 수 있다.\n",
    "\n",
    "\n",
    "* $y = \\beta x$인 경우, 양변을 $x^{-1}$로 곱하면\n",
    "* $x^{-1}y = \\beta x^{-1}x$ 여기서 $xx^{-1}=1$이므로 \n",
    "* $\\beta=x^{-1}\\times y$\n",
    "\n",
    "$\n",
    "2 \\times w1 - 4 \\times w2 = 8\\\\\n",
    "3 \\times w2 + 6 \\times w2 = 9\n",
    "$"
   ]
  },
  {
   "cell_type": "code",
   "execution_count": 52,
   "metadata": {},
   "outputs": [],
   "source": [
    "import numpy as np\n",
    "\n",
    "x=np.array([[2,-4],[3,6]])\n",
    "y=np.array([8,9])"
   ]
  },
  {
   "cell_type": "code",
   "execution_count": 53,
   "metadata": {},
   "outputs": [],
   "source": [
    "xI=np.linalg.inv(x)"
   ]
  },
  {
   "cell_type": "code",
   "execution_count": 54,
   "metadata": {},
   "outputs": [
    {
     "name": "stdout",
     "output_type": "stream",
     "text": [
      "3.5 -0.25\n"
     ]
    }
   ],
   "source": [
    "w1,w2=np.dot(xI,y)\n",
    "print(w1,w2)"
   ]
  },
  {
   "cell_type": "markdown",
   "metadata": {
    "slideshow": {
     "slide_type": "subslide"
    }
   },
   "source": [
    "위에서 구한 값을 대입해서 식을 풀어보자.\n",
    "주어진 데이터로 풀어서 얻은 w1, w2를 넣어서 구한 값은 8, 9이다.\n",
    "오류가 전혀 없이 실제 값이 구해진다."
   ]
  },
  {
   "cell_type": "code",
   "execution_count": 55,
   "metadata": {},
   "outputs": [
    {
     "data": {
      "text/plain": [
       "'8.0'"
      ]
     },
     "execution_count": 55,
     "metadata": {},
     "output_type": "execute_result"
    }
   ],
   "source": [
    "f\"{2*w1+(-4)*w2}\""
   ]
  },
  {
   "cell_type": "code",
   "execution_count": 56,
   "metadata": {},
   "outputs": [
    {
     "data": {
      "text/plain": [
       "'9.0'"
      ]
     },
     "execution_count": 56,
     "metadata": {},
     "output_type": "execute_result"
    }
   ],
   "source": [
    "f\"{3*w1+6*w2}\""
   ]
  },
  {
   "cell_type": "markdown",
   "metadata": {},
   "source": [
    "### numpy solve\n",
    "\n",
    "```numpy.linalg.solve()```는 선형 벡터 식을 풀 수 있다\n",
    "\n",
    "위의 x,y를 넣으면 값을 구할 수 있다."
   ]
  },
  {
   "cell_type": "code",
   "execution_count": 57,
   "metadata": {},
   "outputs": [
    {
     "data": {
      "text/plain": [
       "array([ 3.5 , -0.25])"
      ]
     },
     "execution_count": 57,
     "metadata": {},
     "output_type": "execute_result"
    }
   ],
   "source": [
    "np.linalg.solve(x,y)"
   ]
  },
  {
   "cell_type": "markdown",
   "metadata": {
    "slideshow": {
     "slide_type": "subslide"
    }
   },
   "source": [
    "## 문제: Matrix Inverse Method 회귀모델\n",
    "\n",
    "x: 1,2,3,4\n",
    "y: 6,5,7,10의 경우 회귀식을 도출해 보자.\n",
    "답은 y=3.0 + 1.7x"
   ]
  },
  {
   "cell_type": "markdown",
   "metadata": {
    "slideshow": {
     "slide_type": "subslide"
    }
   },
   "source": [
    "### 데이터\n",
    "\n",
    "주어진 x, y에서 numpy array를 생성한다."
   ]
  },
  {
   "cell_type": "code",
   "execution_count": 58,
   "metadata": {},
   "outputs": [],
   "source": [
    "import numpy as np\n",
    "\n",
    "x=np.array([1,2,3,4])\n",
    "y=np.array([6,5,7,10])"
   ]
  },
  {
   "cell_type": "markdown",
   "metadata": {
    "slideshow": {
     "slide_type": "subslide"
    }
   },
   "source": [
    "절편을 구하기 위해 '1'을 추가한다.  \n",
    "즉 x0, x1으로 구성하고, 해당하는 w0, w1을 계산한다.\n",
    "\n",
    "식을 y = wx로 다시 쓸 수 있다.\n",
    "\n",
    "$6 = \\beta_0 + \\beta_1 \\times 1$\n",
    "\n",
    "$5 = \\beta_0 + \\beta_1 \\times 2$\n",
    "\n",
    "$7 = \\beta_0 + \\beta_1 \\times 3$\n",
    "\n",
    "$10 = \\beta_0 + \\beta_1 \\times 4$\n"
   ]
  },
  {
   "cell_type": "markdown",
   "metadata": {
    "slideshow": {
     "slide_type": "subslide"
    }
   },
   "source": [
    "주의할 점은 x를 [x 1]로 변환한다는 점이다. 절편 값을 구하기 위해서 그렇게 해야 한다.\n",
    "\n",
    "아래 데이터는 w1, w0을 각 행으로 구성하고 있다.\n",
    "\n",
    "```python\n",
    "[ 1.  1.]\n",
    "[ 2.  1.]\n",
    "[ 3.  1.]\n",
    "[ 4.  1.]\n",
    "```\n",
    "\n",
    "$6 = \\beta_1 \\times 1 + \\beta_0 \\times 1$\n",
    "\n",
    "$5 = \\beta_1 \\times 2 + \\beta_0 \\times 1$\n",
    "\n",
    "$7 = \\beta_1 \\times 3 + \\beta_0 \\times 1$\n",
    "\n",
    "$10 = \\beta_1 \\times 4 + \\beta_0 \\times 1$"
   ]
  },
  {
   "cell_type": "markdown",
   "metadata": {
    "slideshow": {
     "slide_type": "subslide"
    }
   },
   "source": [
    "원래의 데이터가 x는 행 2, 열 4로 구성되어서, transpose하면 4,2로 변환된다."
   ]
  },
  {
   "cell_type": "markdown",
   "metadata": {
    "slideshow": {
     "slide_type": "-"
    }
   },
   "source": [
    "> 1차원 Transpose\n",
    "\n",
    "> 1차원의 ```x.T*x```를 구해보자.\n",
    "numpy array **1d**는 ```[...,...,...]``` 형식으로 구성된다.\n",
    "**1d는 transpose를 해도 1d로 변환이 되지 않는다**.\n",
    "이럴 경우 ```[[],[]]```로 만들어 trasnpose해야 한다.\n",
    "np.newaxis 명령어로 ```[]```를 추가해서 ```[[],[]]```으로 변환해준다.\n",
    "```python\n",
    "x=np.array([1,2,3,4])\n",
    "x[:, np.newaxis]\n",
    "```\n",
    "그 결과 [1,2,3,4]가 ([[1],[2],[3],[4]])로 변환이 된다."
   ]
  },
  {
   "cell_type": "code",
   "execution_count": 59,
   "metadata": {},
   "outputs": [],
   "source": [
    "x=np.array([x, np.ones(len(x))])\n",
    "x=x.T"
   ]
  },
  {
   "cell_type": "code",
   "execution_count": 60,
   "metadata": {},
   "outputs": [
    {
     "name": "stdout",
     "output_type": "stream",
     "text": [
      "[[1. 1.]\n",
      " [2. 1.]\n",
      " [3. 1.]\n",
      " [4. 1.]]\n"
     ]
    }
   ],
   "source": [
    "print(x)"
   ]
  },
  {
   "cell_type": "code",
   "execution_count": 64,
   "metadata": {},
   "outputs": [
    {
     "data": {
      "text/plain": [
       "'x shape: (4, 2) xT shape: (2, 4)'"
      ]
     },
     "execution_count": 64,
     "metadata": {},
     "output_type": "execute_result"
    }
   ],
   "source": [
    "f\"x shape: {x.shape} xT shape: {x.T.shape}\""
   ]
  },
  {
   "cell_type": "markdown",
   "metadata": {
    "collapsed": true,
    "slideshow": {
     "slide_type": "subslide"
    }
   },
   "source": [
    "### 항목별 계산\n",
    "\n",
    "$\\hat{w} = (X^T X) ^{-1} X^T y$ 식의 우측을 한 항목씩 계산해 나가보자."
   ]
  },
  {
   "cell_type": "markdown",
   "metadata": {},
   "source": [
    "#### 1) $X^T X$ 계산\n",
    "\n",
    "이 항목을 계산할 경우, 행렬의 shape에 주의해야 한다.\n",
    "현재 x는 (4,2) x.T는 (2,4)이다."
   ]
  },
  {
   "cell_type": "code",
   "execution_count": 65,
   "metadata": {},
   "outputs": [
    {
     "data": {
      "text/plain": [
       "'x shape: (4, 2) xT shape:(2, 4)'"
      ]
     },
     "execution_count": 65,
     "metadata": {},
     "output_type": "execute_result"
    }
   ],
   "source": [
    "f\"x shape: {x.shape} xT shape:{x.T.shape}\""
   ]
  },
  {
   "cell_type": "code",
   "execution_count": 66,
   "metadata": {
    "scrolled": true
   },
   "outputs": [
    {
     "data": {
      "text/plain": [
       "array([[ 2.,  3.,  4.,  5.],\n",
       "       [ 3.,  5.,  7.,  9.],\n",
       "       [ 4.,  7., 10., 13.],\n",
       "       [ 5.,  9., 13., 17.]])"
      ]
     },
     "execution_count": 66,
     "metadata": {},
     "output_type": "execute_result"
    }
   ],
   "source": [
    "np.dot(x,x.T)"
   ]
  },
  {
   "cell_type": "markdown",
   "metadata": {},
   "source": [
    "위는 대칭선을 기준으로 동일하다. ```np.linalg.inv(singular maxtrix)```는 오류가 난다.\n",
    "자신에게 자신의 Transpose를 곱한 결과는 singular matrx이다.\n",
    "이 의미는 가역행렬이 아니라는 의미이다. 즉 inverse를 할 수 없다."
   ]
  },
  {
   "cell_type": "code",
   "execution_count": 67,
   "metadata": {},
   "outputs": [
    {
     "ename": "LinAlgError",
     "evalue": "Singular matrix",
     "output_type": "error",
     "traceback": [
      "\u001b[1;31m---------------------------------------------------------------------------\u001b[0m",
      "\u001b[1;31mLinAlgError\u001b[0m                               Traceback (most recent call last)",
      "\u001b[1;32m<ipython-input-67-11876ea0240e>\u001b[0m in \u001b[0;36m<module>\u001b[1;34m\u001b[0m\n\u001b[1;32m----> 1\u001b[1;33m \u001b[0mnp\u001b[0m\u001b[1;33m.\u001b[0m\u001b[0mlinalg\u001b[0m\u001b[1;33m.\u001b[0m\u001b[0minv\u001b[0m\u001b[1;33m(\u001b[0m\u001b[0mnp\u001b[0m\u001b[1;33m.\u001b[0m\u001b[0mdot\u001b[0m\u001b[1;33m(\u001b[0m\u001b[0mx\u001b[0m\u001b[1;33m,\u001b[0m\u001b[0mx\u001b[0m\u001b[1;33m.\u001b[0m\u001b[0mT\u001b[0m\u001b[1;33m)\u001b[0m\u001b[1;33m)\u001b[0m\u001b[1;33m\u001b[0m\u001b[1;33m\u001b[0m\u001b[0m\n\u001b[0m",
      "\u001b[1;32m<__array_function__ internals>\u001b[0m in \u001b[0;36minv\u001b[1;34m(*args, **kwargs)\u001b[0m\n",
      "\u001b[1;32m~\\Anaconda3\\lib\\site-packages\\numpy\\linalg\\linalg.py\u001b[0m in \u001b[0;36minv\u001b[1;34m(a)\u001b[0m\n\u001b[0;32m    544\u001b[0m     \u001b[0msignature\u001b[0m \u001b[1;33m=\u001b[0m \u001b[1;34m'D->D'\u001b[0m \u001b[1;32mif\u001b[0m \u001b[0misComplexType\u001b[0m\u001b[1;33m(\u001b[0m\u001b[0mt\u001b[0m\u001b[1;33m)\u001b[0m \u001b[1;32melse\u001b[0m \u001b[1;34m'd->d'\u001b[0m\u001b[1;33m\u001b[0m\u001b[1;33m\u001b[0m\u001b[0m\n\u001b[0;32m    545\u001b[0m     \u001b[0mextobj\u001b[0m \u001b[1;33m=\u001b[0m \u001b[0mget_linalg_error_extobj\u001b[0m\u001b[1;33m(\u001b[0m\u001b[0m_raise_linalgerror_singular\u001b[0m\u001b[1;33m)\u001b[0m\u001b[1;33m\u001b[0m\u001b[1;33m\u001b[0m\u001b[0m\n\u001b[1;32m--> 546\u001b[1;33m     \u001b[0mainv\u001b[0m \u001b[1;33m=\u001b[0m \u001b[0m_umath_linalg\u001b[0m\u001b[1;33m.\u001b[0m\u001b[0minv\u001b[0m\u001b[1;33m(\u001b[0m\u001b[0ma\u001b[0m\u001b[1;33m,\u001b[0m \u001b[0msignature\u001b[0m\u001b[1;33m=\u001b[0m\u001b[0msignature\u001b[0m\u001b[1;33m,\u001b[0m \u001b[0mextobj\u001b[0m\u001b[1;33m=\u001b[0m\u001b[0mextobj\u001b[0m\u001b[1;33m)\u001b[0m\u001b[1;33m\u001b[0m\u001b[1;33m\u001b[0m\u001b[0m\n\u001b[0m\u001b[0;32m    547\u001b[0m     \u001b[1;32mreturn\u001b[0m \u001b[0mwrap\u001b[0m\u001b[1;33m(\u001b[0m\u001b[0mainv\u001b[0m\u001b[1;33m.\u001b[0m\u001b[0mastype\u001b[0m\u001b[1;33m(\u001b[0m\u001b[0mresult_t\u001b[0m\u001b[1;33m,\u001b[0m \u001b[0mcopy\u001b[0m\u001b[1;33m=\u001b[0m\u001b[1;32mFalse\u001b[0m\u001b[1;33m)\u001b[0m\u001b[1;33m)\u001b[0m\u001b[1;33m\u001b[0m\u001b[1;33m\u001b[0m\u001b[0m\n\u001b[0;32m    548\u001b[0m \u001b[1;33m\u001b[0m\u001b[0m\n",
      "\u001b[1;32m~\\Anaconda3\\lib\\site-packages\\numpy\\linalg\\linalg.py\u001b[0m in \u001b[0;36m_raise_linalgerror_singular\u001b[1;34m(err, flag)\u001b[0m\n\u001b[0;32m     86\u001b[0m \u001b[1;33m\u001b[0m\u001b[0m\n\u001b[0;32m     87\u001b[0m \u001b[1;32mdef\u001b[0m \u001b[0m_raise_linalgerror_singular\u001b[0m\u001b[1;33m(\u001b[0m\u001b[0merr\u001b[0m\u001b[1;33m,\u001b[0m \u001b[0mflag\u001b[0m\u001b[1;33m)\u001b[0m\u001b[1;33m:\u001b[0m\u001b[1;33m\u001b[0m\u001b[1;33m\u001b[0m\u001b[0m\n\u001b[1;32m---> 88\u001b[1;33m     \u001b[1;32mraise\u001b[0m \u001b[0mLinAlgError\u001b[0m\u001b[1;33m(\u001b[0m\u001b[1;34m\"Singular matrix\"\u001b[0m\u001b[1;33m)\u001b[0m\u001b[1;33m\u001b[0m\u001b[1;33m\u001b[0m\u001b[0m\n\u001b[0m\u001b[0;32m     89\u001b[0m \u001b[1;33m\u001b[0m\u001b[0m\n\u001b[0;32m     90\u001b[0m \u001b[1;32mdef\u001b[0m \u001b[0m_raise_linalgerror_nonposdef\u001b[0m\u001b[1;33m(\u001b[0m\u001b[0merr\u001b[0m\u001b[1;33m,\u001b[0m \u001b[0mflag\u001b[0m\u001b[1;33m)\u001b[0m\u001b[1;33m:\u001b[0m\u001b[1;33m\u001b[0m\u001b[1;33m\u001b[0m\u001b[0m\n",
      "\u001b[1;31mLinAlgError\u001b[0m: Singular matrix"
     ]
    }
   ],
   "source": [
    "np.linalg.inv(np.dot(x,x.T))"
   ]
  },
  {
   "cell_type": "markdown",
   "metadata": {
    "slideshow": {
     "slide_type": "-"
    }
   },
   "source": [
    "> **singular matrix**\n",
    "\n",
    "> 위 결과는 singular matrix이다.\n",
    "**singlular matrix의 inverse()는 할 수 없다.**\n",
    "다음과 같은 singular matrices는 inv() 연산을 할 수 없다.\n",
    "```python\n",
    "np.linalg.inv(np.array([[3,5],[6,10]]))\n",
    "```\n",
    "\n",
    "> 앞서 역행렬은 $\\frac{1}{ad-bc} \\begin{pmatrix}d & -b\\\\-c & a\\end{pmatrix}$ 이렇게 계산했는데, 좌변이 0이면 계산이 가능하지 못하다. 즉 역행렬을 구할 수 없다. 위에서 3 x 10 - 5 x 6 = 0이다. 따라서 위 행렬은 역행렬이다.\n",
    "또한 1d matrix를 자신의 transpose로 곱하면 singular matrix가 된다.\n",
    "**첫째 행의 2배, 3배, 4배로 행이 구성되어 실제 1행만이 독립적인 값을 가지고 있다**."
   ]
  },
  {
   "cell_type": "markdown",
   "metadata": {
    "slideshow": {
     "slide_type": "subslide"
    }
   },
   "source": [
    "x (4,2), x.T (2,4)의 dot()을 구하면 (4,4) 행렬이 된다.\n",
    "**순서를 바꾸면 x.T (2,4) x (4,2) -> (2,2)**가 된다."
   ]
  },
  {
   "cell_type": "code",
   "execution_count": 74,
   "metadata": {},
   "outputs": [
    {
     "name": "stdout",
     "output_type": "stream",
     "text": [
      "xTx= [[30. 10.]\n",
      " [10.  4.]]\n"
     ]
    }
   ],
   "source": [
    "xTx=np.dot(x.T,x)\n",
    "print(\"xTx=\",xTx)"
   ]
  },
  {
   "cell_type": "markdown",
   "metadata": {},
   "source": [
    "#### 2) $(X^T X) ^{-1}$ 계산"
   ]
  },
  {
   "cell_type": "code",
   "execution_count": 75,
   "metadata": {},
   "outputs": [
    {
     "name": "stdout",
     "output_type": "stream",
     "text": [
      "xTxI= [[ 0.2 -0.5]\n",
      " [-0.5  1.5]]\n"
     ]
    }
   ],
   "source": [
    "xTxI=np.linalg.inv(xTx)\n",
    "print(\"xTxI=\",xTxI)"
   ]
  },
  {
   "cell_type": "markdown",
   "metadata": {},
   "source": [
    "#### 3) $X^T y$ 계산"
   ]
  },
  {
   "cell_type": "code",
   "execution_count": 78,
   "metadata": {},
   "outputs": [
    {
     "name": "stdout",
     "output_type": "stream",
     "text": [
      "xTyT= [77. 28.]\n"
     ]
    }
   ],
   "source": [
    "xTyT=np.dot(x.T,y)\n",
    "print(\"xTyT=\",xTyT)"
   ]
  },
  {
   "cell_type": "markdown",
   "metadata": {},
   "source": [
    "지금까지의 계산을 넣어서 weights를 구할 수 있게 된다."
   ]
  },
  {
   "cell_type": "markdown",
   "metadata": {},
   "source": [
    "#### 4) 전체 $(X^T X) ^{-1} X^T y$ 계산"
   ]
  },
  {
   "cell_type": "code",
   "execution_count": 79,
   "metadata": {},
   "outputs": [
    {
     "name": "stdout",
     "output_type": "stream",
     "text": [
      "weights= [1.4 3.5]\n"
     ]
    }
   ],
   "source": [
    "print(\"weights=\",np.dot(xTxI,xTyT))"
   ]
  },
  {
   "cell_type": "markdown",
   "metadata": {
    "slideshow": {
     "slide_type": "subslide"
    }
   },
   "source": [
    "### 한 줄로 계산\n",
    "\n",
    "좀 복잡하지만, 한 줄로 줄여서 연산해도 된다.\n",
    "x0이 뒤에 위치해 있으므로, w1, w0으로 저장한다."
   ]
  },
  {
   "cell_type": "code",
   "execution_count": 76,
   "metadata": {},
   "outputs": [],
   "source": [
    "w1, w0=np.dot(np.linalg.inv(np.dot(x.T, x)), np.dot(x.T, y))"
   ]
  },
  {
   "cell_type": "code",
   "execution_count": 77,
   "metadata": {},
   "outputs": [
    {
     "data": {
      "text/plain": [
       "(3.499999999999993, 1.4000000000000021)"
      ]
     },
     "execution_count": 77,
     "metadata": {},
     "output_type": "execute_result"
    }
   ],
   "source": [
    "w0, w1"
   ]
  },
  {
   "cell_type": "markdown",
   "metadata": {
    "slideshow": {
     "slide_type": "subslide"
    }
   },
   "source": [
    "### numpy 최소자승법\n",
    "\n",
    "데이터는 위 연습에서 사용했던 데이터를 그대로 사용하자.\n",
    "앞서 가역행렬의 문제로 풀 수 없던 문제를 numpy 최소자승법으로 풀어보자.\n"
   ]
  },
  {
   "cell_type": "markdown",
   "metadata": {
    "slideshow": {
     "slide_type": "subslide"
    }
   },
   "source": [
    "```numpy.linalg.lstsq()```에는 컬럼벡터 x를 적어준다.\n",
    "그 결과는 앞서 계산값과 일치한다.\n",
    "\n",
    "함수의 입력을 적어준다.\n",
    "* 독립변수 ```x```\n",
    "* 종속변수 ```y```\n",
    "\n",
    "그 반환 값은 가중치 weights이다. 독립변수 각 각에 대한 가중치이다.\n",
    "$y=w_1\\times x + w_0$ 순서대로 출력한다."
   ]
  },
  {
   "cell_type": "code",
   "execution_count": 80,
   "metadata": {},
   "outputs": [
    {
     "name": "stdout",
     "output_type": "stream",
     "text": [
      "numpy lstsq:  (array([1.4, 3.5]), array([4.2]), 2, array([5.77937881, 0.77380911]))\n"
     ]
    }
   ],
   "source": [
    "np.warnings.filterwarnings('ignore')   #suppress numpy warnings\n",
    "print(\"numpy lstsq: \",np.linalg.lstsq(x,y))"
   ]
  },
  {
   "cell_type": "markdown",
   "metadata": {
    "collapsed": true,
    "slideshow": {
     "slide_type": "subslide"
    }
   },
   "source": [
    "w0,w1는 위에서 풀었던 해와 동일하게 계산된다.\n"
   ]
  },
  {
   "cell_type": "code",
   "execution_count": 81,
   "metadata": {},
   "outputs": [
    {
     "name": "stdout",
     "output_type": "stream",
     "text": [
      "w1= 1.4000000000000006 \n",
      "w0= 3.499999999999998\n"
     ]
    }
   ],
   "source": [
    "np.set_printoptions(formatter={'float': '{: 0.2f}'.format})\n",
    "w1,w0=np.linalg.lstsq(x,y)[0]\n",
    "print(\"w1=\",w1,\"\\nw0=\",w0)"
   ]
  },
  {
   "cell_type": "markdown",
   "metadata": {
    "slideshow": {
     "slide_type": "slide"
    }
   },
   "source": [
    "### 정리하면\n",
    "\n",
    "회귀선을 numpy 최소자승법으로 구하고, 실제 데이터와 같이 그래프를 그려보자."
   ]
  },
  {
   "cell_type": "code",
   "execution_count": 82,
   "metadata": {
    "scrolled": false,
    "slideshow": {
     "slide_type": "-"
    }
   },
   "outputs": [
    {
     "data": {
      "text/plain": [
       "[<matplotlib.lines.Line2D at 0x22869ee3248>]"
      ]
     },
     "execution_count": 82,
     "metadata": {},
     "output_type": "execute_result"
    },
    {
     "data": {
      "image/png": "[encoded data removed]",
      "text/plain": [
       "<Figure size 432x288 with 1 Axes>"
      ]
     },
     "metadata": {
      "needs_background": "light"
     },
     "output_type": "display_data"
    }
   ],
   "source": [
    "%matplotlib inline\n",
    "import matplotlib.pyplot as plt\n",
    "import numpy as np\n",
    "\n",
    "# compute yhat from the model values of b0 and b1\n",
    "x=np.array([1,2,3,4])\n",
    "y=np.array([6,5,7,10])\n",
    "_x=np.array([x,np.ones(len(x))])\n",
    "_x=_x.T # shape (4,2) #data 모양 따라서 transpose 언제 하는지 다르다\n",
    "#w1,w0=np.linalg.lstsq(_x,y)[0]\n",
    "w1, w0=np.dot(np.linalg.inv(np.dot(_x.T, _x)), np.dot(_x.T, y)) #1.4 3.5\n",
    "yhat=w0+w1*x\n",
    "fig=plt.figure()\n",
    "ax=fig.add_subplot(111)\n",
    "ax.scatter(x,y)\n",
    "ax.plot(x,yhat)"
   ]
  },
  {
   "cell_type": "markdown",
   "metadata": {
    "slideshow": {
     "slide_type": "subslide"
    }
   },
   "source": [
    "## 문제: Matrix Inverse Method 회귀모델\n",
    "\n",
    "데이터가 다음과 같이 주어졌을 때:\n",
    "* x [1,2],[1,4],[1,6]\n",
    "* y 3,6,7\n",
    "\n",
    "회귀식을 도출해보자.\n",
    "* 1) matrix inverse method로 $\\hat{w}$을 계산,\n",
    "* 2) 예측과 실제의 오류 합계를 계산,\n",
    "* 2) 입력 데이터와 회귀선의 그래프를 작성한다."
   ]
  },
  {
   "cell_type": "code",
   "execution_count": null,
   "metadata": {
    "collapsed": true
   },
   "outputs": [],
   "source": []
  },
  {
   "cell_type": "code",
   "execution_count": null,
   "metadata": {
    "collapsed": true
   },
   "outputs": [],
   "source": []
  }
 ],
 "metadata": {
  "kernelspec": {
   "display_name": "Python 3",
   "language": "python",
   "name": "python3"
  },
  "language_info": {
   "codemirror_mode": {
    "name": "ipython",
    "version": 3
   },
   "file_extension": ".py",
   "mimetype": "text/x-python",
   "name": "python",
   "nbconvert_exporter": "python",
   "pygments_lexer": "ipython3",
   "version": "3.7.6"
  }
 },
 "nbformat": 4,
 "nbformat_minor": 1
}
