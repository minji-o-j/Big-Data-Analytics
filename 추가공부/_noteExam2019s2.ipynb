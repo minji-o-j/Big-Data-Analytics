{
 "cells": [
  {
   "cell_type": "code",
   "execution_count": 1,
   "metadata": {
    "collapsed": true,
    "slideshow": {
     "slide_type": "slide"
    }
   },
   "outputs": [],
   "source": [
    "import pyspark\n",
    "myConf=pyspark.SparkConf()\n",
    "spark = pyspark.sql.SparkSession.builder\\\n",
    "    .master(\"local\")\\\n",
    "    .appName(\"myApp\")\\\n",
    "    .config(conf=myConf)\\\n",
    "    .getOrCreate()"
   ]
  },
  {
   "cell_type": "markdown",
   "metadata": {
    "slideshow": {
     "slide_type": "slide"
    }
   },
   "source": [
    "# 문제"
   ]
  },
  {
   "cell_type": "code",
   "execution_count": 6,
   "metadata": {
    "slideshow": {
     "slide_type": "subslide"
    }
   },
   "outputs": [
    {
     "name": "stdout",
     "output_type": "stream",
     "text": [
      "Writing src/20191021_policeAddress.txt\n"
     ]
    }
   ],
   "source": [
    "%%writefile doc/20191021_policeAddress.txt\n",
    "존경하는 국민 여러분, 경찰관 여러분, 일흔네 돌 ‘경찰의 날’입니다.\n",
    " \n",
    "국민의 안전을 위해 밤낮없이 애쓰시는 전국의 15만 경찰관 여러분께 먼저 감사를 드립니다. 전몰·순직 경찰관들의 고귀한 희생에 경의를 표합니다. 유가족 여러분께 위로의 마음을 전합니다.\n",
    " \n",
    "오늘 홍조근정훈장을 받으신 중앙경찰학교장 이은정 치안감님, 근정포장을 받으신 광주남부경찰서 김동현 경감님을 비롯한 수상자 여러분께 각별한 축하와 감사를 드립니다. 또한 경찰 영웅으로 추서되신 차일혁, 최중락님께 국민의 사랑을 전해드립니다.\n",
    " \n",
    "사랑하는 경찰관 여러분,\n",
    " \n",
    "여러분의 헌신적 노력으로 우리의 치안은 참 좋아졌습니다. 지난해 범죄 발생은 2015년에 비해 15.1% 줄었습니다. 같은 기간 교통사고 사망자는 18.2% 감소했습니다.\n",
    " \n",
    "치안의 개선은 국민의 체감으로 나타나고 있습니다. 올해 상반기 국민의 체감안전도는 74.5점으로 역대 최고를 기록했습니다. 범죄안전도는 처음으로 80점을 넘었습니다.\n",
    " \n",
    "한국을 찾는 외국 관광객들도 우리의 치안을 가장 좋게 평가합니다. 한국의 무엇이 좋았느냐는 물음에 외국 관광객들은 7년 연속으로 치안이 가장 좋았다고 응답했습니다. 개발도상국들은 우리의 경찰을 모범으로 삼으려 합니다.\n",
    " \n",
    "올해는 ‘경찰의 날’에 맞춰 국제치안산업박람회와 서울국제경찰청장회의가 함께 열립니다. 우리의 치안 발전과 치안산업 발전이 세계에 더 널리 알려지게 될 것입니다.\n",
    " \n",
    "자랑스러운 경찰관 여러분,\n",
    " \n",
    "경찰헌장은 “나라와 겨레를 위하여 충성”을 다한다는 다짐으로 시작합니다. 헌장처럼 우리 경찰은 ‘나라와 겨레를 위한 충성’의 길을 걸으려 노력해 왔습니다.\n",
    " \n",
    "대한민국 경찰은 1945년 광복 직후에 공식 탄생했습니다. 그러나 그 뿌리는 대한민국 임시정부에 닿아 있습니다.\n",
    " \n",
    "임시정부 초대 경무국장 백범 김구 선생과 나석주, 나창헌, 유상근 의사 등 임시정부 경찰은 앞장서서 일제와 싸웠습니다. 일본 관헌에게 폭탄을 던지고, 밀정을 응징하며, 임정 요인들을 보호했습니다.\n",
    " \n",
    "광복 이후 6‧25전쟁에서도 경찰은 국군과 함께 피를 흘렸습니다. 그 전쟁에서 1만여 명의 경찰관이 목숨을 잃었습니다. 그 후로도 경찰은 국민의 안전을 지키고 국가의 안보를 도왔습니다. 역대 경찰의 헌신에 대해 국민과 함께 거듭 감사의 말씀을 드립니다. 감사합니다.\n",
    " \n",
    "그러나 잘못도 없지는 않았습니다. 한때 경찰은 공권력을 무리하게 집행하며 국민의 인권을 훼손했습니다. 부실하거나 불공정한 수사로 국민의 지탄을 받은 적도 있습니다. 무기력한 법 집행으로 국민께 걱정을 드리기도 했습니다.\n",
    " \n",
    "지금 경찰은 과거를 돌아보며 국민과 국가에 충성하는 경찰로 거듭나려고 노력하고 있습니다. 경찰은 문재인 정부 들어 가장 먼저 개혁위원회를 만들고 자체개혁에 나섰습니다. 경찰의 개혁을 국민은 큰 기대로 주목하고 있습니다.\n",
    " \n",
    "검경 수사권 조정과 자치경찰제 도입이 국회에서 논의되고 있습니다. 국회가 조속히 입법을 매듭지어 주시기 바랍니다. 그리하여 경찰이 중립성, 공정성, 전문성을 갖추고 본연의 임무를 충실히 수행하는 선진경찰로 더욱 발전해 주기를 소망합니다.\n",
    " \n",
    "정부는 경찰의 근무여건을 개선하기 위해 노력하고 있습니다. 이미 경찰관 8,572명을 늘렸고, 앞으로도 충원을 계속할 것입니다. 특히 일선 경찰의 근무환경을 개선하겠습니다.\n",
    " \n",
    "정부는 누구도 법 위에 군림하지 못하는 법치주의를 확립하고자 합니다. 그러자면 검찰과 경찰이 법을 누구에게나 엄정하고 공정하게 집행해야 됩니다. 수사 또한 엄정하고 공정해야 합니다. 동시에 검찰과 경찰 스스로도 법을 엄격히 준수해야 합니다. 특히 공권력이 인권의 제약을 수반하는 경우에는 절제하며 행사하는 것이 마땅합니다. 검찰개혁과 경찰개혁은 더 미룰 수 없는 시대적 과제가 됐습니다.\n",
    " \n",
    "경찰헌장은 따뜻한 경찰, 의로운 경찰, 공정한 경찰을 다짐합니다. 흔들림 없이 그 길로 가시기 바랍니다. 국민이 여러분을 응원할 것입니다.\n",
    "\n",
    "행사를 준비하신 민갑룡 경찰청장님과 관계자 여러분, 고맙습니다. 함께하신 진영 행정안전부 장관님, 이용범 인천시의회 의장님, 박정훈 경찰위원장님, 강영규 경우회장님과 역대 경찰청장님, 그리고 우리 시민 경찰님들을 비롯한 내빈 여러분, 고맙습니다.\n",
    " \n",
    "감사합니다."
   ]
  },
  {
   "cell_type": "code",
   "execution_count": 2,
   "metadata": {
    "collapsed": true,
    "slideshow": {
     "slide_type": "subslide"
    }
   },
   "outputs": [],
   "source": [
    "import os\n",
    "myRdd=spark.sparkContext\\\n",
    "    .textFile(os.path.join(\"data\",\"20191021_policeAddress.txt\"))"
   ]
  },
  {
   "cell_type": "code",
   "execution_count": 3,
   "metadata": {
    "collapsed": true,
    "slideshow": {
     "slide_type": "subslide"
    }
   },
   "outputs": [],
   "source": [
    "stopwords = [u'그',u'더', u'참', u'등',u'될',u'돌',u'수',u'큰','for','a', 'an','the']\n",
    "#             'of','to','in','on','and',\"—\",\"this\",\"that\",\"was\",\"our\",\"by\",\"it\",\"you\",\"we\"]"
   ]
  },
  {
   "cell_type": "code",
   "execution_count": 4,
   "metadata": {
    "slideshow": {
     "slide_type": "subslide"
    }
   },
   "outputs": [],
   "source": [
    "wc=myRdd\\\n",
    "    .flatMap(lambda x:x.split())\\\n",
    "    .filter(lambda x: x.strip().rstrip().lstrip().lower() not in stopwords)\\\n",
    "    .map(lambda x:(x,1))\\\n",
    "    .reduceByKey(lambda x,y:x+y)\\\n",
    "    .map(lambda x:(x[1],x[0]))\\\n",
    "    .sortByKey(False)\\\n",
    "    .collect()"
   ]
  },
  {
   "cell_type": "code",
   "execution_count": 5,
   "metadata": {},
   "outputs": [
    {
     "data": {
      "text/plain": [
       "list"
      ]
     },
     "execution_count": 5,
     "metadata": {},
     "output_type": "execute_result"
    }
   ],
   "source": [
    "type(wc)"
   ]
  },
  {
   "cell_type": "code",
   "execution_count": 6,
   "metadata": {
    "slideshow": {
     "slide_type": "subslide"
    }
   },
   "outputs": [
    {
     "name": "stdout",
     "output_type": "stream",
     "text": [
      "8 경찰은\n",
      "7 있습니다.\n",
      "7 국민의\n",
      "6 여러분,\n",
      "5 경찰관\n",
      "4 합니다.\n",
      "4 우리의\n",
      "4 경찰의\n",
      "3 것입니다.\n",
      "3 함께\n",
      "3 여러분께\n",
      "3 역대\n",
      "3 가장\n",
      "3 드립니다.\n",
      "2 외국\n",
      "2 경찰,\n",
      "2 고맙습니다.\n",
      "2 받으신\n",
      "2 위해\n",
      "2 감사를\n",
      "2 우리\n",
      "2 비롯한\n",
      "2 특히\n",
      "2 경찰\n",
      "2 노력하고\n",
      "2 법\n",
      "2 또한\n",
      "2 대한민국\n",
      "2 ‘경찰의\n",
      "2 임시정부\n",
      "2 경찰헌장은\n",
      "2 그러나\n",
      "2 정부는\n",
      "2 검찰과\n",
      "2 엄정하고\n",
      "2 국민과\n",
      "2 겨레를\n",
      "2 바랍니다.\n",
      "2 광복\n",
      "2 법을\n",
      "2 경찰을\n",
      "2 경찰이\n",
      "2 감사합니다.\n",
      "2 먼저\n",
      "2 안전을\n",
      "1 1945년\n",
      "1 18.2%\n",
      "1 평가합니다.\n",
      "1 사망자는\n",
      "1 치안\n",
      "1 경찰로\n",
      "1 국회에서\n",
      "1 한때\n",
      "1 조속히\n",
      "1 공정성,\n",
      "1 감소했습니다.\n",
      "1 수반하는\n",
      "1 1만여\n",
      "1 정부\n",
      "1 발전이\n",
      "1 선생과\n",
      "1 좋았다고\n",
      "1 치안산업\n",
      "1 근정포장을\n",
      "1 의사\n",
      "1 다짐합니다.\n",
      "1 80점을\n",
      "1 자치경찰제\n",
      "1 거듭나려고\n",
      "1 수사\n",
      "1 왔습니다.\n",
      "1 주목하고\n",
      "1 “나라와\n",
      "1 경찰관이\n",
      "1 체감으로\n",
      "1 개선은\n",
      "1 검경\n",
      "1 이은정\n",
      "1 없는\n",
      "1 일흔네\n",
      "1 서울국제경찰청장회의가\n",
      "1 위한\n",
      "1 그리하여\n",
      "1 도왔습니다.\n",
      "1 집행으로\n",
      "1 다짐으로\n",
      "1 경찰청장님과\n",
      "1 경우에는\n",
      "1 행정안전부\n",
      "1 개발도상국들은\n",
      "1 의장님,\n",
      "1 과제가\n",
      "1 것이\n",
      "1 뿌리는\n",
      "1 영웅으로\n",
      "1 잘못도\n",
      "1 계속할\n",
      "1 무기력한\n",
      "1 좋았느냐는\n",
      "1 싸웠습니다.\n",
      "1 국민\n",
      "1 지키고\n",
      "1 경감님을\n",
      "1 군림하지\n",
      "1 본연의\n",
      "1 근무환경을\n",
      "1 전국의\n",
      "1 물음에\n",
      "1 목숨을\n",
      "1 삼으려\n",
      "1 수상자\n",
      "1 같은\n",
      "1 교통사고\n",
      "1 더욱\n",
      "1 탄생했습니다.\n",
      "1 ‘나라와\n",
      "1 국회가\n",
      "1 엄격히\n",
      "1 잃었습니다.\n",
      "1 근무여건을\n",
      "1 시민\n",
      "1 문재인\n",
      "1 개혁을\n",
      "1 발전해\n",
      "1 누구에게나\n",
      "1 헌신적\n",
      "1 기간\n",
      "1 세계에\n",
      "1 홍조근정훈장을\n",
      "1 7년\n",
      "1 기록했습니다.\n",
      "1 이미\n",
      "1 여러분의\n",
      "1 경찰님들을\n",
      "1 여러분을\n",
      "1 경찰개혁은\n",
      "1 줄었습니다.\n",
      "1 무리하게\n",
      "1 충실히\n",
      "1 걱정을\n",
      "1 누구도\n",
      "1 도입이\n",
      "1 올해\n",
      "1 박정훈\n",
      "1 국제치안산업박람회와\n",
      "1 발전과\n",
      "1 나창헌,\n",
      "1 집행하며\n",
      "1 모범으로\n",
      "1 그리고\n",
      "1 위에\n",
      "1 공식\n",
      "1 소망합니다.\n",
      "1 지금\n",
      "1 의로운\n",
      "1 관광객들은\n",
      "1 검찰개혁과\n",
      "1 임무를\n",
      "1 자랑스러운\n",
      "1 흘렸습니다.\n",
      "1 만들고\n",
      "1 8,572명을\n",
      "1 불공정한\n",
      "1 법치주의를\n",
      "1 인권을\n",
      "1 이용범\n",
      "1 충성’의\n",
      "1 일본\n",
      "1 선진경찰로\n",
      "1 따뜻한\n",
      "1 최고를\n",
      "1 개혁위원회를\n",
      "1 늘렸고,\n",
      "1 수행하는\n",
      "1 백범\n",
      "1 앞으로도\n",
      "1 경찰관들의\n",
      "1 치안감님,\n",
      "1 없이\n",
      "1 행사를\n",
      "1 광주남부경찰서\n",
      "1 관계자\n",
      "1 추서되신\n",
      "1 길을\n",
      "1 수사로\n",
      "1 오늘\n",
      "1 흔들림\n",
      "1 날’에\n",
      "1 전몰·순직\n",
      "1 제약을\n",
      "1 내빈\n",
      "1 국가에\n",
      "1 전문성을\n",
      "1 전합니다.\n",
      "1 들어\n",
      "1 없지는\n",
      "1 못하는\n",
      "1 알려지게\n",
      "1 6‧25전쟁에서도\n",
      "1 최중락님께\n",
      "1 밀정을\n",
      "1 유가족\n",
      "1 장관님,\n",
      "1 국민께\n",
      "1 좋게\n",
      "1 했습니다.\n",
      "1 대해\n",
      "1 범죄\n",
      "1 앞장서서\n",
      "1 나섰습니다.\n",
      "1 충성”을\n",
      "1 각별한\n",
      "1 나석주,\n",
      "1 그러자면\n",
      "1 직후에\n",
      "1 비해\n",
      "1 시대적\n",
      "1 공정해야\n",
      "1 넘었습니다.\n",
      "1 15.1%\n",
      "1 공권력을\n",
      "1 공정하게\n",
      "1 경찰위원장님,\n",
      "1 공권력이\n",
      "1 기대로\n",
      "1 길로\n",
      "1 던지고,\n",
      "1 적도\n",
      "1 다한다는\n",
      "1 민갑룡\n",
      "1 위하여\n",
      "1 명의\n",
      "1 미룰\n",
      "1 상반기\n",
      "1 처음으로\n",
      "1 입법을\n",
      "1 날’입니다.\n",
      "1 노력해\n",
      "1 동시에\n",
      "1 경찰청장님,\n",
      "1 연속으로\n",
      "1 갖추고\n",
      "1 밤낮없이\n",
      "1 개선하기\n",
      "1 인천시의회\n",
      "1 절제하며\n",
      "1 김동현\n",
      "1 관헌에게\n",
      "1 임정\n",
      "1 가시기\n",
      "1 찾는\n",
      "1 노력으로\n",
      "1 개선하겠습니다.\n",
      "1 거듭\n",
      "1 국민이\n",
      "1 돌아보며\n",
      "1 피를\n",
      "1 받은\n",
      "1 걸으려\n",
      "1 지난해\n",
      "1 헌장처럼\n",
      "1 행사하는\n",
      "1 국민은\n",
      "1 인권의\n",
      "1 됐습니다.\n",
      "1 자체개혁에\n",
      "1 드리기도\n",
      "1 않았습니다.\n",
      "1 말씀을\n",
      "1 부실하거나\n",
      "1 초대\n",
      "1 수사권\n",
      "1 사랑하는\n",
      "1 전쟁에서\n",
      "1 공정한\n",
      "1 전해드립니다.\n",
      "1 올해는\n",
      "1 경우회장님과\n",
      "1 진영\n",
      "1 사랑을\n",
      "1 일선\n",
      "1 마음을\n",
      "1 나타나고\n",
      "1 축하와\n",
      "1 일제와\n",
      "1 15만\n",
      "1 응원할\n",
      "1 경무국장\n",
      "1 국가의\n",
      "1 됩니다.\n",
      "1 널리\n",
      "1 강영규\n",
      "1 요인들을\n",
      "1 매듭지어\n",
      "1 충성하는\n",
      "1 지탄을\n",
      "1 준수해야\n",
      "1 폭탄을\n",
      "1 희생에\n",
      "1 국군과\n",
      "1 유상근\n",
      "1 표합니다.\n",
      "1 닿아\n",
      "1 한국을\n",
      "1 한국의\n",
      "1 과거를\n",
      "1 시작합니다.\n",
      "1 후로도\n",
      "1 중립성,\n",
      "1 확립하고자\n",
      "1 2015년에\n",
      "1 함께하신\n",
      "1 범죄안전도는\n",
      "1 논의되고\n",
      "1 주기를\n",
      "1 응징하며,\n",
      "1 충원을\n",
      "1 주시기\n",
      "1 스스로도\n",
      "1 차일혁,\n",
      "1 준비하신\n",
      "1 헌신에\n",
      "1 존경하는\n",
      "1 훼손했습니다.\n",
      "1 중앙경찰학교장\n",
      "1 집행해야\n",
      "1 좋아졌습니다.\n",
      "1 고귀한\n",
      "1 치안은\n",
      "1 열립니다.\n",
      "1 치안을\n",
      "1 감사의\n",
      "1 애쓰시는\n",
      "1 보호했습니다.\n",
      "1 발생은\n",
      "1 이후\n",
      "1 치안의\n",
      "1 체감안전도는\n",
      "1 무엇이\n",
      "1 맞춰\n",
      "1 위로의\n",
      "1 김구\n",
      "1 경의를\n",
      "1 치안이\n",
      "1 74.5점으로\n",
      "1 응답했습니다.\n",
      "1 관광객들도\n",
      "1 임시정부에\n",
      "1 조정과\n",
      "1 안보를\n",
      "1 마땅합니다.\n"
     ]
    }
   ],
   "source": [
    "for e in wc:\n",
    "    print e[0],e[1]"
   ]
  },
  {
   "cell_type": "markdown",
   "metadata": {
    "slideshow": {
     "slide_type": "slide"
    }
   },
   "source": [
    "# 문제"
   ]
  },
  {
   "cell_type": "code",
   "execution_count": 9,
   "metadata": {
    "collapsed": true,
    "slideshow": {
     "slide_type": "subslide"
    }
   },
   "outputs": [],
   "source": [
    "doc=[\n",
    "    \"When I find myself in times of trouble\",\n",
    "    \"Mother Mary comes to me\",\n",
    "    \"Speaking words of wisdom, let it be\",\n",
    "    \"And in my hour of darkness\",\n",
    "    \"She is standing right in front of me\",\n",
    "    \"Speaking words of wisdom, let it be\",\n",
    "    \"Let it be\",\n",
    "    \"Let it be\",\n",
    "    \"Let it be\",\n",
    "    \"Let it be\",\n",
    "    \"Whisper words of wisdom, let it be\"\n",
    "]"
   ]
  },
  {
   "cell_type": "code",
   "execution_count": 10,
   "metadata": {
    "slideshow": {
     "slide_type": "subslide"
    }
   },
   "outputs": [],
   "source": [
    "myRdd=spark.sparkContext.parallelize(doc)"
   ]
  },
  {
   "cell_type": "code",
   "execution_count": 11,
   "metadata": {
    "scrolled": true
   },
   "outputs": [
    {
     "data": {
      "text/plain": [
       "['When I find myself in times of trouble',\n",
       " 'Mother Mary comes to me',\n",
       " 'Speaking words of wisdom, let it be',\n",
       " 'And in my hour of darkness',\n",
       " 'She is standing right in front of me',\n",
       " 'Speaking words of wisdom, let it be',\n",
       " 'Let it be',\n",
       " 'Let it be',\n",
       " 'Let it be',\n",
       " 'Let it be',\n",
       " 'Whisper words of wisdom, let it be']"
      ]
     },
     "execution_count": 11,
     "metadata": {},
     "output_type": "execute_result"
    }
   ],
   "source": [
    "myRdd.collect()"
   ]
  },
  {
   "cell_type": "code",
   "execution_count": 12,
   "metadata": {
    "collapsed": true,
    "slideshow": {
     "slide_type": "subslide"
    }
   },
   "outputs": [],
   "source": [
    "stopwords = ['of','to','in','I','a', 'an','the']\n",
    "#             'of','to','in','on','and',\"—\",\"this\",\"that\",\"was\",\"our\",\"by\",\"it\",\"you\",\"we\"]"
   ]
  },
  {
   "cell_type": "code",
   "execution_count": 13,
   "metadata": {},
   "outputs": [
    {
     "data": {
      "text/plain": [
       "'TO'"
      ]
     },
     "execution_count": 13,
     "metadata": {},
     "output_type": "execute_result"
    }
   ],
   "source": [
    "\"to\".upper()"
   ]
  },
  {
   "cell_type": "code",
   "execution_count": 14,
   "metadata": {},
   "outputs": [],
   "source": [
    "wc=myRdd\\\n",
    "    .flatMap(lambda x:x.split())\\\n",
    "    .filter(lambda x: x.strip().rstrip().lstrip().lower() not in stopwords)\\\n",
    "    .map(lambda x:(x.upper(),1))\\\n",
    "    .reduceByKey(lambda x,y:x+y)\\\n",
    "    .map(lambda x:(x[1],x[0]))\\\n",
    "    .sortByKey(False)\\\n",
    "    .collect()"
   ]
  },
  {
   "cell_type": "code",
   "execution_count": 15,
   "metadata": {
    "slideshow": {
     "slide_type": "subslide"
    }
   },
   "outputs": [
    {
     "name": "stdout",
     "output_type": "stream",
     "text": [
      "7 BE\n",
      "7 IT\n",
      "7 LET\n",
      "3 WISDOM,\n",
      "3 WORDS\n",
      "2 ME\n",
      "2 SPEAKING\n",
      "1 FIND\n",
      "1 STANDING\n",
      "1 DARKNESS\n",
      "1 HOUR\n",
      "1 WHISPER\n",
      "1 WHEN\n",
      "1 MOTHER\n",
      "1 FRONT\n",
      "1 TROUBLE\n",
      "1 AND\n",
      "1 I\n",
      "1 IS\n",
      "1 TIMES\n",
      "1 SHE\n",
      "1 COMES\n",
      "1 MYSELF\n",
      "1 RIGHT\n",
      "1 MY\n",
      "1 MARY\n"
     ]
    }
   ],
   "source": [
    "for e in wc:\n",
    "    print e[0],e[1]"
   ]
  },
  {
   "cell_type": "markdown",
   "metadata": {
    "slideshow": {
     "slide_type": "slide"
    }
   },
   "source": [
    "# 문제\n",
    "\n",
    "```python\n",
    "0 use_dt\n",
    "1 bus_route_id\n",
    "**2 bus_route_no**\n",
    "3 bus_route_nm\n",
    "4 stnd_bsst_id\n",
    "5 bsst_ars_no\n",
    "6 bus_sta_id\n",
    "7 bus_sta_nm\n",
    "**8 ride_pasgr_num**\n",
    "**9 alight_pasgr_num**\n",
    "10 work_dt\n",
    "11 work_dttm\n",
    "```"
   ]
  },
  {
   "cell_type": "markdown",
   "metadata": {
    "slideshow": {
     "slide_type": "subslide"
    }
   },
   "source": [
    "### RDD 형변환 오류\n",
    "RDD를 사용하면 형변환 오류가 발생하여서 dataframe을 만든후 rdd로 변경"
   ]
  },
  {
   "cell_type": "code",
   "execution_count": 17,
   "metadata": {
    "collapsed": true
   },
   "outputs": [],
   "source": [
    "myRdd = spark.sparkContext\\\n",
    "    .textFile(os.path.join(\"data\",\"BUS_STATION_BOARDING_MONTH_201909_small.csv\"))"
   ]
  },
  {
   "cell_type": "markdown",
   "metadata": {
    "collapsed": true
   },
   "source": [
    "bus=myRdd.map(lambda line:line.split(\",\"))\n",
    "bus=bus.filter(lambda x: u'bus_route_no' not in x)\n",
    "bus1=bus.map(lambda x: [x[2],int(x[8]),int(x[9])])  # casting error\n",
    "bus1.take(4)"
   ]
  },
  {
   "cell_type": "code",
   "execution_count": 124,
   "metadata": {},
   "outputs": [],
   "source": [
    "bus3=bus2.filter(lambda x: u'\"110B\"' not in x)"
   ]
  },
  {
   "cell_type": "markdown",
   "metadata": {
    "slideshow": {
     "slide_type": "subslide"
    }
   },
   "source": [
    "### DataFrame을 만들어 RDD로 변환"
   ]
  },
  {
   "cell_type": "code",
   "execution_count": 19,
   "metadata": {},
   "outputs": [],
   "source": [
    "import pandas as pd\n",
    "import os\n",
    "buspd=pd.read_csv(os.path.join(\"data\",\"BUS_STATION_BOARDING_MONTH_201909_small.csv\"))\n",
    "busrdd=spark.createDataFrame(buspd).rdd"
   ]
  },
  {
   "cell_type": "markdown",
   "metadata": {},
   "source": [
    "[[u'bus_route_no', u'stnd_bsst_id', u'bsst_ars_no', u'bus_sta_id'], [u'\"N26\"', u'\"106000207\"', u'\"07302\"', u'\"0070868\"'], [u'\"\\ub9c8\\ud3ec07\"', u'\"113900208\"', u'\"14966\"', u'\"9011047\"'], [u'\"9714\"', u'\"111000008\"', u'\"12008\"', u'\"9606470\"'], [u'\"641\"', u'\"118000107\"', u'\"19192\"', u'\"0010617\"']]"
   ]
  },
  {
   "cell_type": "code",
   "execution_count": 20,
   "metadata": {
    "slideshow": {
     "slide_type": "subslide"
    }
   },
   "outputs": [
    {
     "data": {
      "text/plain": [
       "[Row(use_dt=20190901, bus_route_id=41110150, bus_route_no=u'N26', bus_route_nm=u'N26\\xeb\\xb2\\x88(\\xec\\xa4\\x91\\xeb\\x9e\\x91\\xea\\xb3\\xb5\\xec\\x98\\x81\\xec\\xb0\\xa8\\xea\\xb3\\xa0\\xec\\xa7\\x80~\\xea\\xb0\\x95\\xec\\x84\\x9c\\xea\\xb3\\xb5\\xec\\x98\\x81\\xec\\xb0\\xa8\\xea\\xb3\\xa0\\xec\\xa7\\x80)', stnd_bsst_id=106000207, bsst_ars_no=u'07302', bus_sta_id=70868, bus_sta_nm=u'\\xec\\x8b\\xa0\\xeb\\x82\\xb4\\xea\\xb5\\x90\\xed\\x9a\\x8c.\\xec\\x8b\\xa0\\xeb\\x82\\xb4\\xeb\\x8d\\xb0\\xec\\x8b\\x9c\\xec\\x95\\x99\\xec\\x95\\x84\\xed\\x8c\\x8c\\xed\\x8a\\xb8', ride_pasgr_num=0, alight_pasgr_num=2, work_dt=20190904, work_dttm=nan),\n",
       " Row(use_dt=20190901, bus_route_id=11110614, bus_route_no=u'\\xeb\\xa7\\x88\\xed\\x8f\\xac07', bus_route_nm=u'\\xeb\\xa7\\x88\\xed\\x8f\\xac07(\\xec\\x96\\x91\\xed\\x99\\x94\\xec\\xa7\\x84\\xec\\x84\\xb1\\xec\\xa7\\x80~\\xec\\x95\\x84\\xed\\x98\\x84\\xec\\x97\\xad)', stnd_bsst_id=113900208, bsst_ars_no=u'14966', bus_sta_id=9011047, bus_sta_nm=u'\\xec\\x84\\x9c\\xec\\x9d\\xbc\\xeb\\xb9\\x8c\\xeb\\x94\\xa9', ride_pasgr_num=2, alight_pasgr_num=32, work_dt=20190904, work_dttm=nan),\n",
       " Row(use_dt=20190901, bus_route_id=91000034, bus_route_no=u'9714', bus_route_nm=u'9714\\xeb\\xb2\\x88(\\xea\\xb5\\x90\\xed\\x95\\x98\\xec\\x9a\\xb4\\xec\\xa0\\x95~\\xec\\x84\\x9c\\xec\\x9a\\xb8\\xec\\x97\\xad)', stnd_bsst_id=111000008, bsst_ars_no=u'12008', bus_sta_id=9606470, bus_sta_nm=u'\\xeb\\x94\\x94\\xec\\xa7\\x80\\xed\\x84\\xb8\\xeb\\xaf\\xb8\\xeb\\x94\\x94\\xec\\x96\\xb4\\xec\\x8b\\x9c\\xed\\x8b\\xb0\\xec\\x97\\xad', ride_pasgr_num=23, alight_pasgr_num=0, work_dt=20190904, work_dttm=nan)]"
      ]
     },
     "execution_count": 20,
     "metadata": {},
     "output_type": "execute_result"
    }
   ],
   "source": [
    "busrdd.take(3)"
   ]
  },
  {
   "cell_type": "markdown",
   "metadata": {
    "slideshow": {
     "slide_type": "subslide"
    }
   },
   "source": [
    "### 버스번호, 승하차 인원 추출"
   ]
  },
  {
   "cell_type": "code",
   "execution_count": 21,
   "metadata": {},
   "outputs": [],
   "source": [
    "bus=busrdd.map(lambda x: [x[2],int(x[8]),int(x[9])]) "
   ]
  },
  {
   "cell_type": "code",
   "execution_count": 22,
   "metadata": {
    "collapsed": true
   },
   "outputs": [],
   "source": [
    "busRide=bus\\\n",
    "    .map(lambda x: (x[0],float(x[1])))\\"
   ]
  },
  {
   "cell_type": "markdown",
   "metadata": {
    "slideshow": {
     "slide_type": "subslide"
    }
   },
   "source": [
    "### 버스번호별 합계"
   ]
  },
  {
   "cell_type": "code",
   "execution_count": 23,
   "metadata": {},
   "outputs": [],
   "source": [
    "budRideSum=busRide.reduceByKey(lambda x,y:x+y)\\\n",
    "    .collect()"
   ]
  },
  {
   "cell_type": "code",
   "execution_count": 24,
   "metadata": {
    "slideshow": {
     "slide_type": "subslide"
    }
   },
   "outputs": [
    {
     "name": "stdout",
     "output_type": "stream",
     "text": [
      "버스번호: 740 합계 126.0\n",
      "버스번호: 150 합계 57.0\n",
      "버스번호: 153 합계 45.0\n",
      "버스번호: 1167 합계 8.0\n",
      "버스번호: 110B 합계 269.0\n",
      "버스번호: 5535 합계 0.0\n",
      "버스번호: 603 합계 100.0\n",
      "버스번호: 9714 합계 367.0\n",
      "버스번호: ì¢",
      "ë¡03 합계 242.0\n",
      "버스번호: 6628 합계 98.0\n",
      "버스번호: 3313 합계 72.0\n",
      "버스번호: 9711A 합계 0.0\n",
      "버스번호: 7011 합계 56.0\n",
      "버스번호: 4419 합계 174.0\n",
      "버스번호: 2224 합계 90.0\n",
      "버스번호: 5516 합계 199.0\n",
      "버스번호: 2413 합계 217.0\n",
      "버스번호: 9403 합계 8.0\n",
      "버스번호: 405 합계 7.0\n",
      "버스번호: 162 합계 57.0\n",
      "버스번호: 650 합계 130.0\n",
      "버스번호: 421 합계 48.0\n",
      "버스번호: 3316 합계 25.0\n",
      "버스번호: N26 합계 0.0\n",
      "버스번호: 145 합계 84.0\n",
      "버스번호: 143 합계 40.0\n",
      "버스번호: 141 합계 302.0\n",
      "버스번호: 1131 합계 27.0\n",
      "버스번호: 1137 합계 161.0\n",
      "버스번호: 7013A 합계 54.0\n",
      "버스번호: 262 합계 148.0\n",
      "버스번호: 108 합계 0.0\n",
      "버스번호: 7025 합계 47.0\n",
      "버스번호: 102 합계 9241.0\n",
      "버스번호: 9701 합계 0.0\n",
      "버스번호: 100 합계 13988.0\n",
      "버스번호: 101 합계 13399.0\n",
      "버스번호: 160 합계 238.0\n",
      "버스번호: 104 합계 8961.0\n",
      "버스번호: 105 합계 8224.0\n",
      "버스번호: ë§í¬07 합계 2.0\n",
      "버스번호: ëì18 합계 11.0\n",
      "버스번호: 302 합계 118.0\n",
      "버스번호: 5616 합계 34.0\n",
      "버스번호: 3425 합계 10.0\n",
      "버스번호: 641 합계 454.0\n",
      "버스번호: 643 합계 226.0\n",
      "버스번호: ëì05-1 합계 312.0\n",
      "버스번호: 441 합계 5.0\n"
     ]
    }
   ],
   "source": [
    "for i in budRideSum:\n",
    "    print \"버스번호:\", i[0], \"합계\", i[1]"
   ]
  },
  {
   "cell_type": "markdown",
   "metadata": {
    "slideshow": {
     "slide_type": "subslide"
    }
   },
   "source": [
    "### 버스번호별 합계 및 갯수"
   ]
  },
  {
   "cell_type": "code",
   "execution_count": 25,
   "metadata": {},
   "outputs": [],
   "source": [
    "sum_counts = busRide.combineByKey(\n",
    "    (lambda x: (x, 1)), # the initial value, with value x and count 1\n",
    "    (lambda acc, value: (acc[0]+value, acc[1]+1)), # how to combine a pair value with the accumulator: sum value, and increment count\n",
    "    (lambda acc1, acc2: (acc1[0]+acc2[0], acc1[1]+acc2[1])) # combine accumulators\n",
    ")"
   ]
  },
  {
   "cell_type": "code",
   "execution_count": 26,
   "metadata": {
    "slideshow": {
     "slide_type": "subslide"
    }
   },
   "outputs": [
    {
     "name": "stdout",
     "output_type": "stream",
     "text": [
      "740 (126.0, 1)\n",
      "150 (57.0, 1)\n",
      "153 (45.0, 1)\n",
      "1167 (8.0, 1)\n",
      "110B (269.0, 2)\n",
      "5535 (0.0, 1)\n",
      "603 (100.0, 1)\n",
      "9714 (367.0, 42)\n",
      "ì¢",
      "ë¡03 (242.0, 1)\n",
      "6628 (98.0, 1)\n",
      "3313 (72.0, 1)\n",
      "9711A (0.0, 1)\n",
      "7011 (56.0, 1)\n",
      "4419 (174.0, 1)\n",
      "2224 (90.0, 1)\n",
      "5516 (199.0, 1)\n",
      "2413 (217.0, 1)\n",
      "9403 (8.0, 1)\n",
      "405 (7.0, 1)\n",
      "162 (57.0, 1)\n",
      "650 (130.0, 1)\n",
      "421 (48.0, 1)\n",
      "3316 (25.0, 1)\n",
      "N26 (0.0, 1)\n",
      "145 (84.0, 1)\n",
      "143 (40.0, 1)\n",
      "141 (302.0, 1)\n",
      "1131 (27.0, 1)\n",
      "1137 (161.0, 1)\n",
      "7013A (54.0, 1)\n",
      "262 (148.0, 1)\n",
      "108 (0.0, 1)\n",
      "7025 (47.0, 1)\n",
      "102 (9241.0, 68)\n",
      "9701 (0.0, 1)\n",
      "100 (13988.0, 121)\n",
      "101 (13399.0, 82)\n",
      "160 (238.0, 1)\n",
      "104 (8961.0, 66)\n",
      "105 (8224.0, 75)\n",
      "ë§í¬07 (2.0, 1)\n",
      "ëì18 (11.0, 1)\n",
      "302 (118.0, 1)\n",
      "5616 (34.0, 1)\n",
      "3425 (10.0, 1)\n",
      "641 (454.0, 2)\n",
      "643 (226.0, 1)\n",
      "ëì05-1 (312.0, 1)\n",
      "441 (5.0, 1)\n"
     ]
    }
   ],
   "source": [
    "for i in sum_counts.collect():\n",
    "    for each in i:\n",
    "        print each,\n",
    "    print"
   ]
  },
  {
   "cell_type": "markdown",
   "metadata": {
    "slideshow": {
     "slide_type": "slide"
    }
   },
   "source": [
    "# 문제\n",
    "```python\n",
    "201411111 lim js 휴먼 58 165\n",
    "201811111 kim js 휴먼 79 175\n",
    "201211111 lee js 휴먼 65 180\n",
    "201511111 choi js 컴과 66 163\n",
    "201911111 yoon js 컴과 65 158\n",
    "201311111 park js 경영 100 160\n",
    "```"
   ]
  },
  {
   "cell_type": "markdown",
   "metadata": {
    "collapsed": true,
    "slideshow": {
     "slide_type": "subslide"
    }
   },
   "source": [
    "### RDD"
   ]
  },
  {
   "cell_type": "code",
   "execution_count": 16,
   "metadata": {},
   "outputs": [],
   "source": [
    "data=[\n",
    "    [201411111, \"lim js\", \"휴먼\", 58, 165],\n",
    "    [201811111, \"kim js\", \"휴먼\", 79, 175],\n",
    "    [201211111, \"lee js\", \"휴먼\", 65, 180],\n",
    "    [201511111, \"choi js\", \"컴과\", 66, 163],\n",
    "    [201911111, \"yoon js\", \"컴과\", 65, 158],\n",
    "    [201311111, \"park js\", \"경영\", 100, 160]\n",
    "    ]"
   ]
  },
  {
   "cell_type": "code",
   "execution_count": 90,
   "metadata": {},
   "outputs": [],
   "source": [
    "rdd=spark.sparkContext.parallelize(data)"
   ]
  },
  {
   "cell_type": "markdown",
   "metadata": {
    "collapsed": true,
    "slideshow": {
     "slide_type": "subslide"
    }
   },
   "source": [
    "### 학과별 몸무게 합계"
   ]
  },
  {
   "cell_type": "code",
   "execution_count": 91,
   "metadata": {},
   "outputs": [],
   "source": [
    "majorByWeight=rdd.map(lambda x:(x[2],x[3])).reduceByKey(lambda x,y:x+y).collect()"
   ]
  },
  {
   "cell_type": "code",
   "execution_count": 92,
   "metadata": {
    "scrolled": false
   },
   "outputs": [
    {
     "name": "stdout",
     "output_type": "stream",
     "text": [
      "컴과 131\n",
      "휴먼 202\n",
      "결석 100\n"
     ]
    }
   ],
   "source": [
    "for i in majorByWeight:\n",
    "    print i[0],i[1]"
   ]
  },
  {
   "cell_type": "markdown",
   "metadata": {
    "collapsed": true,
    "slideshow": {
     "slide_type": "subslide"
    }
   },
   "source": [
    "### 학과별 몸무게 파운드 합계\n",
    "\n",
    "1kg은 2.20462262 파운드"
   ]
  },
  {
   "cell_type": "code",
   "execution_count": 77,
   "metadata": {},
   "outputs": [],
   "source": [
    "majorByWeightPounds=rdd.map(lambda x:(x[1],x[3]*2.20462262)).reduceByKey(lambda x,y:x+y).collect()"
   ]
  },
  {
   "cell_type": "code",
   "execution_count": 78,
   "metadata": {
    "scrolled": true
   },
   "outputs": [
    {
     "name": "stdout",
     "output_type": "stream",
     "text": [
      "lee js 143.3004703\n",
      "lim js 127.86811196\n",
      "choi js 145.50509292\n",
      "yoon js 143.3004703\n",
      "kim js 174.16518698\n",
      "park js 220.462262\n"
     ]
    }
   ],
   "source": [
    "for i in majorByWeightPounds:\n",
    "    print i[0],i[1]"
   ]
  },
  {
   "cell_type": "markdown",
   "metadata": {
    "collapsed": true,
    "slideshow": {
     "slide_type": "subslide"
    }
   },
   "source": [
    "###  BMI\n"
   ]
  },
  {
   "cell_type": "code",
   "execution_count": 68,
   "metadata": {
    "collapsed": true
   },
   "outputs": [],
   "source": [
    "def computeBMI(height,weight):\n",
    "    bmi = float(weight / height / height)\n",
    "    print 'Your BMI is %.2f' % bmi\n",
    "    if bmi <= 18.5:\n",
    "        res = 'Underweight'\n",
    "    elif bmi >= 18.5 and bmi < 23:\n",
    "        res = 'Normal weight'\n",
    "    elif bmi >= 23 and bmi < 25:\n",
    "        res = 'Risk of overweight'\n",
    "    elif bmi >= 25 and bmi < 30:\n",
    "        res = \"Obese Stage 1\"\n",
    "    elif bmi >= 30 and bmi < 40:\n",
    "        res = \"Obese Stage 2\"\n",
    "    elif bmi >= 40:\n",
    "        res = \"Obese Stage 3\"\n",
    "    else:\n",
    "        res = \"Error\"\n",
    "    return res"
   ]
  },
  {
   "cell_type": "code",
   "execution_count": 76,
   "metadata": {
    "slideshow": {
     "slide_type": "subslide"
    }
   },
   "outputs": [
    {
     "name": "stdout",
     "output_type": "stream",
     "text": [
      "58.0 1.65 Your BMI is 21.30\n",
      "Normal weight\n",
      "79.0 1.75 Your BMI is 25.80\n",
      "Obese Stage 1\n",
      "65.0 1.8 Your BMI is 20.06\n",
      "Normal weight\n",
      "66.0 1.63 Your BMI is 24.84\n",
      "Risk of overweight\n",
      "65.0 1.58 Your BMI is 26.04\n",
      "Obese Stage 1\n",
      "100.0 1.6 Your BMI is 39.06\n",
      "Obese Stage 2\n"
     ]
    }
   ],
   "source": [
    "for i in data:\n",
    "    weight=float(i[3])\n",
    "    height=float(i[4])/100\n",
    "    print weight, height, computeBMI(height,weight)"
   ]
  },
  {
   "cell_type": "code",
   "execution_count": 74,
   "metadata": {
    "slideshow": {
     "slide_type": "subslide"
    }
   },
   "outputs": [],
   "source": [
    "bmi=rdd.map(lambda x: (x[1],computeBMI(float(x[4])/100,x[3]))).collect()"
   ]
  },
  {
   "cell_type": "code",
   "execution_count": 75,
   "metadata": {},
   "outputs": [
    {
     "name": "stdout",
     "output_type": "stream",
     "text": [
      "lim js Normal weight\n",
      "kim js Obese Stage 1\n",
      "lee js Normal weight\n",
      "choi js Risk of overweight\n",
      "yoon js Obese Stage 1\n",
      "park js Obese Stage 2\n"
     ]
    }
   ],
   "source": [
    "for i in bmi:\n",
    "    print i[0],i[1]"
   ]
  }
 ],
 "metadata": {
  "kernelspec": {
   "display_name": "Python 3",
   "language": "python",
   "name": "python3"
  },
  "language_info": {
   "codemirror_mode": {
    "name": "ipython",
    "version": 3
   },
   "file_extension": ".py",
   "mimetype": "text/x-python",
   "name": "python",
   "nbconvert_exporter": "python",
   "pygments_lexer": "ipython3",
   "version": "3.7.6"
  }
 },
 "nbformat": 4,
 "nbformat_minor": 1
}
