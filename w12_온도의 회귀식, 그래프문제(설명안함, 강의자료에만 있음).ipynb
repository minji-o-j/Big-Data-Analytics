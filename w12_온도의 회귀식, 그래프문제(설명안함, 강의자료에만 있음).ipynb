{
 "cells": [
  {
   "cell_type": "markdown",
   "metadata": {},
   "source": [
    "## 문제: 온도의 회귀식, 그래프\n",
    "\n",
    "온도 19, 20, 20.5, 21.5, 22, 23, 23, 25.5, 24로부터 회귀식을 도출하고, 그래프를 그려보자."
   ]
  },
  {
   "cell_type": "markdown",
   "metadata": {},
   "source": [
    "### 데이터\n",
    "\n",
    "x는 단순히 기간으로 하고, y는 문제에 주어진 데이터로 하자."
   ]
  },
  {
   "cell_type": "code",
   "execution_count": 88,
   "metadata": {
    "collapsed": true
   },
   "outputs": [],
   "source": [
    "import numpy as np\n",
    "\n",
    "x=np.arange(0,9)\n",
    "y=[19, 20, 20.5, 21.5, 22, 23, 23, 25.5, 24]"
   ]
  },
  {
   "cell_type": "markdown",
   "metadata": {},
   "source": [
    "상수를 도출하기 위해 '1' 행을 추가하자."
   ]
  },
  {
   "cell_type": "code",
   "execution_count": 89,
   "metadata": {
    "collapsed": true
   },
   "outputs": [],
   "source": [
    "A=np.array([x,np.ones(len(x))])"
   ]
  },
  {
   "cell_type": "markdown",
   "metadata": {},
   "source": [
    "### 데이터 shape\n",
    "\n",
    "데이터는 컬럼에 속성이 오도록 하는데, A를 transpose하면 속성 2개, 레코드 9개로 구성이 된다."
   ]
  },
  {
   "cell_type": "code",
   "execution_count": 90,
   "metadata": {},
   "outputs": [
    {
     "data": {
      "text/plain": [
       "'A shape:(2, 9) (9, 2)'"
      ]
     },
     "execution_count": 90,
     "metadata": {},
     "output_type": "execute_result"
    }
   ],
   "source": [
    "f\"A shape:{A.shape} {A.T.shape}\""
   ]
  },
  {
   "cell_type": "markdown",
   "metadata": {},
   "source": [
    "### numpy 회귀식"
   ]
  },
  {
   "cell_type": "code",
   "execution_count": 92,
   "metadata": {
    "collapsed": true
   },
   "outputs": [],
   "source": [
    "w=np.linalg.lstsq(A.T, y, rcond=None)[0]"
   ]
  },
  {
   "cell_type": "code",
   "execution_count": 93,
   "metadata": {
    "collapsed": true
   },
   "outputs": [],
   "source": [
    "fitted=w[0]*x+w[1]"
   ]
  },
  {
   "cell_type": "code",
   "execution_count": 94,
   "metadata": {},
   "outputs": [
    {
     "data": {
      "text/plain": [
       "'predicted yhat: [19.19 19.91 20.62 21.34 22.06 22.77 23.49 24.21 24.92]'"
      ]
     },
     "execution_count": 94,
     "metadata": {},
     "output_type": "execute_result"
    }
   ],
   "source": [
    "f\"predicted yhat: {fitted}\""
   ]
  },
  {
   "cell_type": "markdown",
   "metadata": {},
   "source": [
    "### 그래프\n",
    "\n",
    "그래프의 markers는 색, 마커, 선모양으로 설정한다.\n",
    "* 'bo-'는 줄여서 blue, marker 원, linestyle은 선으로 (linestyle='-', marker='o', color='b')\n",
    "* 'r.-'는 빨간색으로 점(.)을 선(-)으로 이음."
   ]
  },
  {
   "cell_type": "code",
   "execution_count": 95,
   "metadata": {},
   "outputs": [
    {
     "data": {
      "image/png": "[encoded data removed]",
      "text/plain": [
       "<Figure size 432x288 with 1 Axes>"
      ]
     },
     "metadata": {
      "needs_background": "light"
     },
     "output_type": "display_data"
    }
   ],
   "source": [
    "%matplotlib inline\n",
    "\n",
    "import matplotlib.pyplot as plt\n",
    "import numpy as np\n",
    "\n",
    "plt.plot(x, fitted,'r-', x,y, 'o', markersize=5)\n",
    "plt.show()"
   ]
  },
  {
   "cell_type": "markdown",
   "metadata": {},
   "source": [
    "### 함수로 만들기"
   ]
  },
  {
   "cell_type": "code",
   "execution_count": 98,
   "metadata": {
    "collapsed": true
   },
   "outputs": [],
   "source": [
    "def drawRegress2d(x,y):\n",
    "    \"\"\"\n",
    "    Parameters\n",
    "    ----------\n",
    "        arg1: list or array\n",
    "        arg2: list or array\n",
    "    Returns\n",
    "    -------\n",
    "        None\n",
    "    Examples\n",
    "    --------\n",
    "        x=np.arange(0,9)\n",
    "        y=[19, 20, 20.5, 21.5, 22, 23, 23, 25.5, 24] \n",
    "        drawRegress2d(x,y)\n",
    "    \"\"\"\n",
    "    import matplotlib.pyplot as plt \n",
    "    import numpy as np\n",
    "    A=np.array([x,np.ones(len(x))])\n",
    "    w=np.linalg.lstsq(A.T, y, rcond=None)[0]\n",
    "    fitted=w[0]*x+w[1]\n",
    "    #plt.plot(x,y,'r-',xi,y,'o',markersize=5)\n",
    "    plt.plot(x, y, 'o-', label='Original data', markersize=5)\n",
    "    plt.plot(x, fitted, 'r', label='Fitted line')\n",
    "    plt.show()"
   ]
  },
  {
   "cell_type": "code",
   "execution_count": 99,
   "metadata": {
    "slideshow": {
     "slide_type": "slide"
    }
   },
   "outputs": [
    {
     "data": {
      "image/png": "[encoded data removed]",
      "text/plain": [
       "<Figure size 432x288 with 1 Axes>"
      ]
     },
     "metadata": {
      "needs_background": "light"
     },
     "output_type": "display_data"
    }
   ],
   "source": [
    "%matplotlib inline\n",
    "\n",
    "import numpy as np\n",
    "x=np.arange(0,9)\n",
    "y=[19, 20, 20.5, 21.5, 22, 23, 23, 25.5, 24] \n",
    "drawRegress2d(x,y)"
   ]
  },
  {
   "cell_type": "code",
   "execution_count": null,
   "metadata": {
    "collapsed": true
   },
   "outputs": [],
   "source": []
  }
 ],
 "metadata": {
  "kernelspec": {
   "display_name": "Python 3",
   "language": "python",
   "name": "python3"
  },
  "language_info": {
   "codemirror_mode": {
    "name": "ipython",
    "version": 3
   },
   "file_extension": ".py",
   "mimetype": "text/x-python",
   "name": "python",
   "nbconvert_exporter": "python",
   "pygments_lexer": "ipython3",
   "version": "3.7.6"
  }
 },
 "nbformat": 4,
 "nbformat_minor": 1
}
