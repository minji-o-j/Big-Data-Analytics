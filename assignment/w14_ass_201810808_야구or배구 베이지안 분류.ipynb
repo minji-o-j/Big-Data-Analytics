{
 "cells": [
  {
   "cell_type": "markdown",
   "metadata": {},
   "source": [
    "# 휴먼지능정보공학과 201810808 정민지\n",
    "다음은 야구, 배구 관련한 기사에서 발췌한 내용이다. \n",
    "\n",
    "읽어보면, 야구인지 배구 내용인지 식별할 수 있다.\n",
    "\n",
    "\n",
    "\n",
    "야구\n",
    "\n",
    "* 카펜터는 130㎞대 후반에서 140㎞대 초반의 패스트볼을 던진다. 공이 빠른 유형은 아니지만 적극적으로 스트라이크존을 공략한다. 100구 이상을 무리 없이 던질 수 있는 체력도 갖췄다.\n",
    "\n",
    "* 김현수는 첫 선발 등판에서 5이닝동안 삼진을 7개나 잡는 무실점 호투로 데뷔 첫 승의 감격을 맛봤습니다.\n",
    "\n",
    "* LG는 17일 잠실구장에서 벌어진 롯데 자이언츠와의 경기에서 외국인 에이스 타일러 윌슨의 호투와 이천웅, 김현수의 홈런을 앞세워 9-1로 승리했다.\n",
    "\n",
    "* 2회말 박용택, 이천웅의 연속 안타와 양석환의 희생번트로 1사 2, 3루를 만든 LG는 유강남의 2루 땅볼 때 3루 주자 박용택이 홈인, 선취점을 올렸다.\n",
    "\n",
    "* 이어진 2사 2루에서 박용택이 우중간 적시타를 뽑아내 1점을 보탠 LG는 후속타자 이천웅이 오른쪽 담장을 넘기는 투런 홈런(시즌 3호)을 쏘아올려 5-0으로 점수차를 벌렸다.\n",
    "\n",
    "\n",
    "\n",
    "배구\n",
    "\n",
    "* 인삼공사는 블로킹과 상대범실로 20-20 동점을 만들었지만 마지막엔 루소를 막지 못했다. 현대건설은 1세트 분위기를 2세트에서도 이어갔다. 고예림과 정지윤의 공격까지 터지면서 승리했다.\n",
    "\n",
    "* 하지만 현대건설의 블로킹이 연이어 터지면서 마침내 추격에 나섰다. 교체투입된 황민경이 정확한 서브로 상대를 흔들면서 16-15 역전까지 성공했다. 현대건설은 안정적으로 경기를 3세트로 마무리했다.\n",
    "\n",
    "* 김연경은 특히 상대의 목적타 서브에 시달리면서도 흔들리지 않았다. 공격은 후배 이재영(19점)에게 양보했다. 김연경은 이날 7점을 올렸다.\n",
    "\n",
    "* 경기 초반 높이로 상대 공격을 막겠다는 전략. 실제로 현대건설 공격수들은 흥국생명의 블로킹 벽을 뚫는 데 어려움을 느꼈다. \n",
    "\n",
    "* 이재영에게 집중적인 목적타 서브를 구사한 동시에 김연경과 이재영이 뛰어오를 때마다 블로커들을 2∼3명 붙였습니다.\n",
    "\n",
    "\n",
    "\n",
    "Spark를 사용해서:\n",
    "\n",
    "1) 베이지안 모델을 적용해서 분류를 해보세요.\n",
    "\n",
    "2) 정확성을 계산하세요."
   ]
  },
  {
   "cell_type": "code",
   "execution_count": 9,
   "metadata": {},
   "outputs": [],
   "source": [
    "import os\n",
    "from pyspark.context import SparkContext\n",
    "from pyspark.sql.session import SparkSession\n",
    "sc = SparkContext('local')\n",
    "spark = SparkSession(sc)"
   ]
  },
  {
   "cell_type": "markdown",
   "metadata": {},
   "source": [
    "### data"
   ]
  },
  {
   "cell_type": "code",
   "execution_count": 200,
   "metadata": {},
   "outputs": [],
   "source": [
    "df=spark.createDataFrame(\n",
    "    [\n",
    "        [0,\"카펜터는 130㎞대 후반에서 140㎞대 초반의 패스트볼을 던진다. 공이 빠른 유형은 아니지만 적극적으로 스트라이크존을 공략한다. 100구 이상을 무리 없이 던질 수 있는 체력도 갖췄다.\"],\n",
    "        [0,\"김현수는 첫 선발 등판에서 5이닝동안 삼진을 7개나 잡는 무실점 호투로 데뷔 첫 승의 감격을 맛봤습니다.\"],\n",
    "        [0,\"LG는 17일 잠실구장에서 벌어진 롯데 자이언츠와의 경기에서 외국인 에이스 타일러 윌슨의 호투와 이천웅, 김현수의 홈런을 앞세워 9-1로 승리했다.\"],\n",
    "        [0,\"2회말 박용택, 이천웅의 연속 안타와 양석환의 희생번트로 1사 2, 3루를 만든 LG는 유강남의 2루 땅볼 때 3루 주자 박용택이 홈인, 선취점을 올렸다.\"],\n",
    "        [0,\"이어진 2사 2루에서 박용택이 우중간 적시타를 뽑아내 1점을 보탠 LG는 후속타자 이천웅이 오른쪽 담장을 넘기는 투런 홈런(시즌 3호)을 쏘아올려 5-0으로 점수차를 벌렸다.\"],\n",
    "        [1,\"인삼공사는 블로킹과 상대범실로 20-20 동점을 만들었지만 마지막엔 루소를 막지 못했다. 현대건설은 1세트 분위기를 2세트에서도 이어갔다. 고예림과 정지윤의 공격까지 터지면서 승리했다.\"],\n",
    "        [1,\"하지만 현대건설의 블로킹이 연이어 터지면서 마침내 추격에 나섰다. 교체투입된 황민경이 정확한 서브로 상대를 흔들면서 16-15 역전까지 성공했다. 현대건설은 안정적으로 경기를 3세트로 마무리했다.\"],\n",
    "        [1,\"김연경은 특히 상대의 목적타 서브에 시달리면서도 흔들리지 않았다. 공격은 후배 이재영(19점)에게 양보했다. 김연경은 이날 7점을 올렸다.\"],\n",
    "        [1,\"경기 초반 높이로 상대 공격을 막겠다는 전략. 실제로 현대건설 공격수들은 흥국생명의 블로킹 벽을 뚫는 데 어려움을 느꼈다.\"],\n",
    "        [1,\"이재영에게 집중적인 목적타 서브를 구사한 동시에 김연경과 이재영이 뛰어오를 때마다 블로커들을 2∼3명 붙였습니다.\"]\n",
    "    ],\n",
    "    ['cls','sent']\n",
    ")"
   ]
  },
  {
   "cell_type": "code",
   "execution_count": 201,
   "metadata": {},
   "outputs": [
    {
     "name": "stdout",
     "output_type": "stream",
     "text": [
      "root\n",
      " |-- cls: long (nullable = true)\n",
      " |-- sent: string (nullable = true)\n",
      "\n"
     ]
    }
   ],
   "source": [
    "df.printSchema()"
   ]
  },
  {
   "cell_type": "markdown",
   "metadata": {},
   "source": [
    "### StringIndexer"
   ]
  },
  {
   "cell_type": "code",
   "execution_count": 202,
   "metadata": {},
   "outputs": [],
   "source": [
    "from pyspark.ml.feature import StringIndexer\n",
    "\n",
    "labelIndexer = StringIndexer(inputCol=\"cls\", outputCol=\"label\")"
   ]
  },
  {
   "cell_type": "markdown",
   "metadata": {},
   "source": [
    "### RegexTokenizer\n",
    "- 텍스트 분리해서 단어로"
   ]
  },
  {
   "cell_type": "code",
   "execution_count": 203,
   "metadata": {},
   "outputs": [],
   "source": [
    "from pyspark.ml.feature import RegexTokenizer\n",
    "\n",
    "regexTok = RegexTokenizer(inputCol=\"sent\", outputCol=\"wordsRegex\", pattern=\"\\\\s+\")"
   ]
  },
  {
   "cell_type": "markdown",
   "metadata": {},
   "source": [
    "### 불용어"
   ]
  },
  {
   "cell_type": "code",
   "execution_count": 204,
   "metadata": {},
   "outputs": [],
   "source": [
    "from pyspark.ml.feature import StopWordsRemover\n",
    "\n",
    "stop = StopWordsRemover(inputCol=\"wordsRegex\", outputCol=\"nostops\")"
   ]
  },
  {
   "cell_type": "code",
   "execution_count": 205,
   "metadata": {},
   "outputs": [
    {
     "data": {
      "text/plain": [
       "'\\n_stopwords=stop.getStopWords()\\nfor e in _stopwords:\\n    stopwords.append(e)\\n'"
      ]
     },
     "execution_count": 205,
     "metadata": {},
     "output_type": "execute_result"
    }
   ],
   "source": [
    "stopwords=list()\n",
    "'''\n",
    "_stopwords=stop.getStopWords()\n",
    "for e in _stopwords:\n",
    "    stopwords.append(e)\n",
    "'''\n",
    "#영어 없으므로 이과정 생략"
   ]
  },
  {
   "cell_type": "code",
   "execution_count": 206,
   "metadata": {},
   "outputs": [],
   "source": [
    "_mystopwords=[u\"때\",u\"첫\", u\"초반\", u\"특히\", u\"수\"]\n",
    "for e in _mystopwords:\n",
    "    stopwords.append(e)"
   ]
  },
  {
   "cell_type": "code",
   "execution_count": 207,
   "metadata": {},
   "outputs": [
    {
     "data": {
      "text/plain": [
       "StopWordsRemover_dc2a02fdb074"
      ]
     },
     "execution_count": 207,
     "metadata": {},
     "output_type": "execute_result"
    }
   ],
   "source": [
    "stop.setStopWords(stopwords)"
   ]
  },
  {
   "cell_type": "markdown",
   "metadata": {},
   "source": [
    "### HashingTF\n",
    "- 단어를 wordvectors로"
   ]
  },
  {
   "cell_type": "code",
   "execution_count": 208,
   "metadata": {},
   "outputs": [],
   "source": [
    "from pyspark.ml.feature import HashingTF\n",
    "\n",
    "hashingTF = HashingTF(inputCol=\"nostops\", outputCol=\"features\")"
   ]
  },
  {
   "cell_type": "markdown",
   "metadata": {},
   "source": [
    "### Pipeline"
   ]
  },
  {
   "cell_type": "code",
   "execution_count": 209,
   "metadata": {},
   "outputs": [],
   "source": [
    "from pyspark.ml import Pipeline\n",
    "pipeline = Pipeline(stages=[labelIndexer,regexTok,stop,hashingTF])"
   ]
  },
  {
   "cell_type": "code",
   "execution_count": 210,
   "metadata": {},
   "outputs": [],
   "source": [
    "model=pipeline.fit(df)\n",
    "trainDf = model.transform(df)"
   ]
  },
  {
   "cell_type": "code",
   "execution_count": 211,
   "metadata": {},
   "outputs": [
    {
     "name": "stdout",
     "output_type": "stream",
     "text": [
      "+-----+--------------------------------+--------------------+\n",
      "|label|                         nostops|            features|\n",
      "+-----+--------------------------------+--------------------+\n",
      "|  0.0|   [카펜터는, 130㎞대, 후반에...|(262144,[7829,122...|\n",
      "|  0.0|  [김현수는, 선발, 등판에서, ...|(262144,[8496,193...|\n",
      "|  0.0|    [lg는, 17일, 잠실구장에서...|(262144,[4464,663...|\n",
      "|  0.0|   [2회말, 박용택,, 이천웅의,...|(262144,[2410,745...|\n",
      "|  0.0|    [이어진, 2사, 2루에서, 박...|(262144,[20687,21...|\n",
      "|  1.0|[인삼공사는, 블로킹과, 상대범...|(262144,[23205,24...|\n",
      "|  1.0|[하지만, 현대건설의, 블로킹이...|(262144,[10987,15...|\n",
      "|  1.0|  [김연경은, 상대의, 목적타, ...|(262144,[65981,70...|\n",
      "|  1.0|  [경기, 높이로, 상대, 공격을...|(262144,[5560,174...|\n",
      "|  1.0|[이재영에게, 집중적인, 목적타...|(262144,[9067,200...|\n",
      "+-----+--------------------------------+--------------------+\n",
      "\n"
     ]
    }
   ],
   "source": [
    "trainDf.select(\"label\",\"nostops\",\"features\").show(truncate=True)"
   ]
  },
  {
   "cell_type": "markdown",
   "metadata": {},
   "source": [
    "### 훈련데이터"
   ]
  },
  {
   "cell_type": "code",
   "execution_count": 212,
   "metadata": {},
   "outputs": [
    {
     "name": "stdout",
     "output_type": "stream",
     "text": [
      "root\n",
      " |-- cls: long (nullable = true)\n",
      " |-- sent: string (nullable = true)\n",
      " |-- label: double (nullable = false)\n",
      " |-- wordsRegex: array (nullable = true)\n",
      " |    |-- element: string (containsNull = true)\n",
      " |-- nostops: array (nullable = true)\n",
      " |    |-- element: string (containsNull = true)\n",
      " |-- features: vector (nullable = true)\n",
      "\n"
     ]
    }
   ],
   "source": [
    "trainDf.printSchema()"
   ]
  },
  {
   "cell_type": "code",
   "execution_count": 213,
   "metadata": {},
   "outputs": [
    {
     "name": "stdout",
     "output_type": "stream",
     "text": [
      "+---+-----+--------------------+\n",
      "|cls|label|            features|\n",
      "+---+-----+--------------------+\n",
      "|  0|  0.0|(262144,[7829,122...|\n",
      "|  0|  0.0|(262144,[8496,193...|\n",
      "|  0|  0.0|(262144,[4464,663...|\n",
      "|  0|  0.0|(262144,[2410,745...|\n",
      "|  0|  0.0|(262144,[20687,21...|\n",
      "|  1|  1.0|(262144,[23205,24...|\n",
      "|  1|  1.0|(262144,[10987,15...|\n",
      "|  1|  1.0|(262144,[65981,70...|\n",
      "|  1|  1.0|(262144,[5560,174...|\n",
      "|  1|  1.0|(262144,[9067,200...|\n",
      "+---+-----+--------------------+\n",
      "\n"
     ]
    }
   ],
   "source": [
    "trainDf.select('cls','label','features').show()"
   ]
  },
  {
   "cell_type": "markdown",
   "metadata": {},
   "source": [
    "## 1) 베이지안 모델을 적용해서 분류를 해보세요."
   ]
  },
  {
   "cell_type": "code",
   "execution_count": 214,
   "metadata": {},
   "outputs": [],
   "source": [
    "from pyspark.ml.classification import NaiveBayes\n",
    "nb=NaiveBayes(featuresCol='features', labelCol='label', modelType='multinomial', predictionCol='prediction')"
   ]
  },
  {
   "cell_type": "code",
   "execution_count": 215,
   "metadata": {},
   "outputs": [],
   "source": [
    "model = nb.fit(trainDf)"
   ]
  },
  {
   "cell_type": "code",
   "execution_count": 216,
   "metadata": {},
   "outputs": [
    {
     "data": {
      "text/plain": [
       "DenseVector([-0.6931, -0.6931])"
      ]
     },
     "execution_count": 216,
     "metadata": {},
     "output_type": "execute_result"
    }
   ],
   "source": [
    "model.pi"
   ]
  },
  {
   "cell_type": "code",
   "execution_count": 217,
   "metadata": {},
   "outputs": [
    {
     "data": {
      "text/plain": [
       "DenseMatrix(2, 262144, [-12.477, -12.477, -12.477, -12.477, -12.477, -12.477, -12.477, -12.477, ..., -12.477, -12.477, -12.477, -12.477, -12.477, -12.477, -12.477, -12.477], 1)"
      ]
     },
     "execution_count": 217,
     "metadata": {},
     "output_type": "execute_result"
    }
   ],
   "source": [
    "model.theta"
   ]
  },
  {
   "cell_type": "markdown",
   "metadata": {},
   "source": [
    "### 예측"
   ]
  },
  {
   "cell_type": "code",
   "execution_count": 218,
   "metadata": {},
   "outputs": [],
   "source": [
    "predictions=model.transform(trainDf)"
   ]
  },
  {
   "cell_type": "code",
   "execution_count": 219,
   "metadata": {},
   "outputs": [
    {
     "data": {
      "text/plain": [
       "DataFrame[cls: bigint, sent: string, label: double, wordsRegex: array<string>, nostops: array<string>, features: vector, rawPrediction: vector, probability: vector, prediction: double]"
      ]
     },
     "execution_count": 219,
     "metadata": {},
     "output_type": "execute_result"
    }
   ],
   "source": [
    "predictions"
   ]
  },
  {
   "cell_type": "code",
   "execution_count": 220,
   "metadata": {},
   "outputs": [
    {
     "name": "stdout",
     "output_type": "stream",
     "text": [
      "+-----+----------------------------------+----------+\n",
      "|label|                              sent|prediction|\n",
      "+-----+----------------------------------+----------+\n",
      "|  0.0|    카펜터는 130㎞대 후반에서 1...|       0.0|\n",
      "|  0.0|  김현수는 첫 선발 등판에서 5이...|       0.0|\n",
      "|  0.0|    LG는 17일 잠실구장에서 벌어...|       0.0|\n",
      "|  0.0|   2회말 박용택, 이천웅의 연속 ...|       0.0|\n",
      "|  0.0|   이어진 2사 2루에서 박용택이 ...|       0.0|\n",
      "|  1.0|인삼공사는 블로킹과 상대범실로 ...|       1.0|\n",
      "|  1.0|하지만 현대건설의 블로킹이 연이...|       1.0|\n",
      "|  1.0| 김연경은 특히 상대의 목적타 서...|       1.0|\n",
      "|  1.0|  경기 초반 높이로 상대 공격을 ...|       1.0|\n",
      "|  1.0|이재영에게 집중적인 목적타 서브...|       1.0|\n",
      "+-----+----------------------------------+----------+\n",
      "\n"
     ]
    }
   ],
   "source": [
    "predictions.select('label','sent','prediction').show()"
   ]
  },
  {
   "cell_type": "markdown",
   "metadata": {},
   "source": [
    "## 2) 정확성을 계산하세요."
   ]
  },
  {
   "cell_type": "code",
   "execution_count": 221,
   "metadata": {},
   "outputs": [],
   "source": [
    "from pyspark.ml.evaluation import BinaryClassificationEvaluator\n",
    "evaluator=BinaryClassificationEvaluator(rawPredictionCol=\"prediction\", labelCol=\"label\")"
   ]
  },
  {
   "cell_type": "code",
   "execution_count": 222,
   "metadata": {},
   "outputs": [
    {
     "data": {
      "text/plain": [
       "1.0"
      ]
     },
     "execution_count": 222,
     "metadata": {},
     "output_type": "execute_result"
    }
   ],
   "source": [
    "evaluator.evaluate(predictions)"
   ]
  },
  {
   "cell_type": "code",
   "execution_count": 105,
   "metadata": {},
   "outputs": [],
   "source": [
    "### 테스트해보기"
   ]
  },
  {
   "cell_type": "code",
   "execution_count": 260,
   "metadata": {},
   "outputs": [],
   "source": [
    "df2=spark.createDataFrame(\n",
    "    [\n",
    "        [0,\"또 메이저리그 14경기, 마이너리그 158경기, CPBL 24경기 등을 선발투수로 출전한 경력이 있다”면서 “직구 외에도 커브, 슬라이더 등 안정된 제구력을 갖춘 변화구를 바탕으로 한 경기운영 능력이 뛰어나 팀의 좌완 선발 한 축을 담당해 줄 것은 물론 킹엄과 함께 이닝이터로서의 활약을 기대하고 있다.\"],\n",
    "        [0, \"프로야구 KIA 주전 유격수 박찬호는 최근 극심한 타격 부진에 빠져 있었다. 박찬호는 지난 9일 KT전부터 14일 SK전까지 6경기에서 안타를 전혀 때리지 못했다. 볼넷도 없어 이 기간 출루율이 ‘0.000’이었다.\"],\n",
    "        [0,\"양현종은 스피드가 회복되는 중이었다. 스탯티즈에 따르면 개막전에서 평균 구속 141.3km를 기록한 양현종은 두 번째 경기에서는 142.3km로 향상된 스피드를 보였다. 그러나 세 번째 경기에서는 스피드가 다시 떨어졌다. 패스트볼 평균 구속이 139.7km에 불과했다. 최고 144km를 찍기도 했지만 대부분 패스트볼 구속은 130km대에 머물렀다.\"],\n",
    "        [1,\"경기 초반 높이로 상대 공격을 막겠다는 전략. 실제로 현대건설 공격수들은 흥국생명의 블로킹 벽을 뚫는 데 어려움을 느꼈다.\"],\n",
    "        [1,\"이재영에게 집중적인 목적타 서브를 구사한 동시에 김연경과 이재영이 뛰어오를 때마다 블로커들을 2∼3명 붙였습니다.\"]\n",
    "    \n",
    "    ],\n",
    "    ['cls','sent']\n",
    ")"
   ]
  },
  {
   "cell_type": "code",
   "execution_count": 261,
   "metadata": {},
   "outputs": [
    {
     "name": "stdout",
     "output_type": "stream",
     "text": [
      "+---+----------------------------------+\n",
      "|cls|                              sent|\n",
      "+---+----------------------------------+\n",
      "|  0|   또 메이저리그 14경기, 마이너...|\n",
      "|  0|    프로야구 KIA 주전 유격수 박...|\n",
      "|  0|양현종은 스피드가 회복되는 중이...|\n",
      "|  1|  경기 초반 높이로 상대 공격을 ...|\n",
      "|  1|이재영에게 집중적인 목적타 서브...|\n",
      "+---+----------------------------------+\n",
      "\n"
     ]
    }
   ],
   "source": [
    "df2.show()"
   ]
  },
  {
   "cell_type": "code",
   "execution_count": 262,
   "metadata": {},
   "outputs": [],
   "source": [
    "labelIndexer2 = StringIndexer(inputCol=\"cls\", outputCol=\"label\")\n",
    "regexTok2 = RegexTokenizer(inputCol=\"sent\", outputCol=\"wordsRegex\", pattern=\"\\\\s+\")\n",
    "stop2 = StopWordsRemover(inputCol=\"wordsRegex\", outputCol=\"nostops\")\n",
    "stop2.setStopWords(stopwords)\n",
    "\n",
    "hashingTF2 = HashingTF(inputCol=\"nostops\", outputCol=\"features\")\n",
    "pipeline2 = Pipeline(stages=[labelIndexer2,regexTok2,stop2,hashingTF2])"
   ]
  },
  {
   "cell_type": "code",
   "execution_count": 263,
   "metadata": {},
   "outputs": [],
   "source": [
    "model2=pipeline2.fit(df2)\n",
    "trainDf2 = model2.transform(df2)"
   ]
  },
  {
   "cell_type": "code",
   "execution_count": 264,
   "metadata": {},
   "outputs": [
    {
     "name": "stdout",
     "output_type": "stream",
     "text": [
      "+---+----------------------------------+-----+--------------------------------+--------------------------------+--------------------+\n",
      "|cls|                              sent|label|                      wordsRegex|                         nostops|            features|\n",
      "+---+----------------------------------+-----+--------------------------------+--------------------------------+--------------------+\n",
      "|  0|   또 메이저리그 14경기, 마이너...|  0.0|    [또, 메이저리그, 14경기,,...|    [또, 메이저리그, 14경기,,...|(262144,[4711,743...|\n",
      "|  0|    프로야구 KIA 주전 유격수 박...|  0.0|     [프로야구, kia, 주전, 유...|     [프로야구, kia, 주전, 유...|(262144,[22496,25...|\n",
      "|  0|양현종은 스피드가 회복되는 중이...|  0.0|[양현종은, 스피드가, 회복되는...|[양현종은, 스피드가, 회복되는...|(262144,[1297,116...|\n",
      "|  1|  경기 초반 높이로 상대 공격을 ...|  1.0|   [경기, 초반, 높이로, 상대,...|  [경기, 높이로, 상대, 공격을...|(262144,[5560,174...|\n",
      "|  1|이재영에게 집중적인 목적타 서브...|  1.0|[이재영에게, 집중적인, 목적타...|[이재영에게, 집중적인, 목적타...|(262144,[9067,200...|\n",
      "+---+----------------------------------+-----+--------------------------------+--------------------------------+--------------------+\n",
      "\n"
     ]
    }
   ],
   "source": [
    "trainDf2.show()"
   ]
  },
  {
   "cell_type": "code",
   "execution_count": 265,
   "metadata": {},
   "outputs": [],
   "source": [
    "predictions2=model.transform(trainDf2)"
   ]
  },
  {
   "cell_type": "code",
   "execution_count": 266,
   "metadata": {},
   "outputs": [
    {
     "name": "stdout",
     "output_type": "stream",
     "text": [
      "+-----+----------------------------------+----------+\n",
      "|label|                              sent|prediction|\n",
      "+-----+----------------------------------+----------+\n",
      "|  0.0|   또 메이저리그 14경기, 마이너...|       0.0|\n",
      "|  0.0|    프로야구 KIA 주전 유격수 박...|       1.0|\n",
      "|  0.0|양현종은 스피드가 회복되는 중이...|       1.0|\n",
      "|  1.0|  경기 초반 높이로 상대 공격을 ...|       1.0|\n",
      "|  1.0|이재영에게 집중적인 목적타 서브...|       1.0|\n",
      "+-----+----------------------------------+----------+\n",
      "\n"
     ]
    }
   ],
   "source": [
    "predictions2.select('label','sent','prediction').show()"
   ]
  },
  {
   "cell_type": "code",
   "execution_count": 267,
   "metadata": {},
   "outputs": [],
   "source": [
    "evaluator=BinaryClassificationEvaluator(rawPredictionCol=\"prediction\", labelCol=\"label\")"
   ]
  },
  {
   "cell_type": "code",
   "execution_count": 268,
   "metadata": {},
   "outputs": [
    {
     "data": {
      "text/plain": [
       "0.6666666666666667"
      ]
     },
     "execution_count": 268,
     "metadata": {},
     "output_type": "execute_result"
    }
   ],
   "source": [
    "evaluator.evaluate(predictions2)"
   ]
  },
  {
   "cell_type": "code",
   "execution_count": null,
   "metadata": {},
   "outputs": [],
   "source": []
  },
  {
   "cell_type": "code",
   "execution_count": null,
   "metadata": {},
   "outputs": [],
   "source": []
  },
  {
   "cell_type": "code",
   "execution_count": null,
   "metadata": {},
   "outputs": [],
   "source": []
  }
 ],
 "metadata": {
  "kernelspec": {
   "display_name": "Python 3",
   "language": "python",
   "name": "python3"
  },
  "language_info": {
   "codemirror_mode": {
    "name": "ipython",
    "version": 3
   },
   "file_extension": ".py",
   "mimetype": "text/x-python",
   "name": "python",
   "nbconvert_exporter": "python",
   "pygments_lexer": "ipython3",
   "version": "3.7.6"
  }
 },
 "nbformat": 4,
 "nbformat_minor": 4
}
