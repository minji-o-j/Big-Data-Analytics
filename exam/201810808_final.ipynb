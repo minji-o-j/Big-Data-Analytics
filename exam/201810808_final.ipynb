{
 "cells": [
  {
   "cell_type": "markdown",
   "metadata": {},
   "source": [
    "# 201810808 정민지"
   ]
  },
  {
   "cell_type": "markdown",
   "metadata": {},
   "source": [
    "---\n",
    "# 문제1: 회귀분석"
   ]
  },
  {
   "cell_type": "markdown",
   "metadata": {},
   "source": [
    "#### 데이터 생성"
   ]
  },
  {
   "cell_type": "code",
   "execution_count": 21,
   "metadata": {},
   "outputs": [],
   "source": [
    "from sklearn.datasets import make_regression\n",
    "X, y, coef = make_regression(n_samples = 100,\n",
    "                            n_features = 4,\n",
    "                            n_informative = 3,\n",
    "                            n_targets = 1,\n",
    "                            noise = 0.0,\n",
    "                            coef = True)"
   ]
  },
  {
   "cell_type": "markdown",
   "metadata": {},
   "source": [
    "## (1-1) gradient 방법으로 회귀식을 계산하고, 결과를 [식-1]의 coef와 비교하세요.\n",
    "주의: 반복이 많으면 감점 (예를 들어, 1000 이상이면 많다고 간주할 것임)"
   ]
  },
  {
   "cell_type": "code",
   "execution_count": 22,
   "metadata": {},
   "outputs": [],
   "source": [
    "import numpy as np\n",
    "alpha = 0.02\n",
    "theta=np.array(np.ones([X.shape[1]]))"
   ]
  },
  {
   "cell_type": "code",
   "execution_count": 23,
   "metadata": {},
   "outputs": [],
   "source": [
    "def gradientDescent(x,y,theta,alpha,numIterations):\n",
    "    for i in range(numIterations):\n",
    "        #i+=1\n",
    "        h=np.dot(x,theta)\n",
    "        error=h-y\n",
    "        cost=np.sum((h-y)**2)/len(x) #full MSE\n",
    "        gradient=np.dot(x.T,error)*2/len(x) #w0,w1\n",
    "        theta-=alpha*gradient\n",
    "        if i%100==0:\n",
    "            print(\"Iteration {0} | theta{1} Cost {2:.5f}\".format(i,theta,cost))\n",
    "\n",
    "    return theta"
   ]
  },
  {
   "cell_type": "markdown",
   "metadata": {},
   "source": [
    "### 답"
   ]
  },
  {
   "cell_type": "code",
   "execution_count": 24,
   "metadata": {},
   "outputs": [
    {
     "name": "stdout",
     "output_type": "stream",
     "text": [
      "Iteration 0 | theta[2.24629114 0.88364649 0.7679684  3.08197263] Cost 2861.72247\n",
      "Iteration 100 | theta[23.62679504  2.97537701 -0.08147209 42.1159372 ] Cost 0.13771\n",
      "Iteration 200 | theta[ 2.37264296e+01  3.11821416e+00 -7.68083370e-04  4.23810187e+01] Cost 0.00001\n",
      "Iteration 300 | theta[ 2.37273288e+01  3.12023292e+00 -2.69493375e-06  4.23831787e+01] Cost 0.00000\n",
      "Iteration 400 | theta[2.37273420e+01 3.12026107e+00 7.99086593e-08 4.23831960e+01] Cost 0.00000\n",
      "Iteration 500 | theta[2.37273422e+01 3.12026151e+00 2.97171753e-09 4.23831961e+01] Cost 0.00000\n",
      "Iteration 600 | theta[2.37273422e+01 3.12026152e+00 7.44988405e-11 4.23831961e+01] Cost 0.00000\n",
      "Iteration 700 | theta[2.37273422e+01 3.12026152e+00 1.67962357e-12 4.23831961e+01] Cost 0.00000\n"
     ]
    }
   ],
   "source": [
    "w4,w3,w2,w1=gradientDescent(X, y, theta, alpha, 800) "
   ]
  },
  {
   "cell_type": "code",
   "execution_count": 25,
   "metadata": {},
   "outputs": [
    {
     "name": "stdout",
     "output_type": "stream",
     "text": [
      "예측 결과:      23.72734222  3.12026152  0.00000000  42.38319610\n",
      "[식-1의] coef:  23.72734222  3.12026152  0.00000000  42.38319610\n"
     ]
    }
   ],
   "source": [
    "print(\"예측 결과:      %.8f  %.8f  %.8f  %.8f\"%(w4,w3,w2,w1))\n",
    "print(\"[식-1의] coef:  %.8f  %.8f  %.8f  %.8f\"%(coef[0],coef[1],coef[2],coef[3]))"
   ]
  },
  {
   "cell_type": "markdown",
   "metadata": {},
   "source": [
    "## (1-2) Spark DataFrame을 생성"
   ]
  },
  {
   "cell_type": "code",
   "execution_count": 26,
   "metadata": {},
   "outputs": [],
   "source": [
    "from pyspark.context import SparkContext\n",
    "from pyspark.sql.session import SparkSession\n",
    "sc = SparkContext('local')\n",
    "spark = SparkSession(sc)"
   ]
  },
  {
   "cell_type": "code",
   "execution_count": 27,
   "metadata": {},
   "outputs": [],
   "source": [
    "import pandas as pd\n",
    "pdDf=pd.DataFrame(X)\n",
    "pdDf['y']=y"
   ]
  },
  {
   "cell_type": "code",
   "execution_count": 28,
   "metadata": {},
   "outputs": [],
   "source": [
    "Df=spark.createDataFrame(pdDf)"
   ]
  },
  {
   "cell_type": "code",
   "execution_count": 29,
   "metadata": {},
   "outputs": [],
   "source": [
    "Df = Df.withColumnRenamed(\"0\", \"x0\")\n",
    "Df = Df.withColumnRenamed(\"1\", \"x1\")\n",
    "Df = Df.withColumnRenamed(\"2\", \"x2\")\n",
    "Df = Df.withColumnRenamed(\"3\", \"x3\")\n"
   ]
  },
  {
   "cell_type": "markdown",
   "metadata": {},
   "source": [
    "### 답"
   ]
  },
  {
   "cell_type": "code",
   "execution_count": 30,
   "metadata": {},
   "outputs": [
    {
     "name": "stdout",
     "output_type": "stream",
     "text": [
      "+-------------------+--------------------+-------------------+-------------------+------------------+\n",
      "|                 x0|                  x1|                 x2|                 x3|                 y|\n",
      "+-------------------+--------------------+-------------------+-------------------+------------------+\n",
      "| -0.604224956614758| -0.7850773905370131|-2.1492999359347533|  2.455132387435317| 87.27005833277728|\n",
      "| 1.2234748432832439| -1.8133132180358915| 1.2284104534170717|-0.4090467322602572|6.0350869693193605|\n",
      "|-0.6412433987955526|   1.476876514356458|-1.1722121179185025| 0.3868372103257514|5.7886367382409105|\n",
      "| 1.1229478413277374|-0.21089111121369364|-0.5141299135465561|-1.1757348995768857|-23.84487050807958|\n",
      "| 0.8357484242073062|  0.5820473821690937|-0.2849184399017169|-0.5859769707735916|-3.189347943811481|\n",
      "+-------------------+--------------------+-------------------+-------------------+------------------+\n",
      "only showing top 5 rows\n",
      "\n"
     ]
    }
   ],
   "source": [
    "Df.show(5)"
   ]
  },
  {
   "cell_type": "markdown",
   "metadata": {},
   "source": [
    "## (1-3-1) 이상값은 표준편차가 3 sigma, -3 ~ 3이 아닌 경우를 말한다. 이상 값을 계산하고 출력."
   ]
  },
  {
   "cell_type": "code",
   "execution_count": 31,
   "metadata": {},
   "outputs": [
    {
     "name": "stdout",
     "output_type": "stream",
     "text": [
      "1.06914655056695\n"
     ]
    }
   ],
   "source": [
    "Xstd=X.std()\n",
    "print(Xstd) #표준편차"
   ]
  },
  {
   "cell_type": "markdown",
   "metadata": {},
   "source": [
    "### 답"
   ]
  },
  {
   "cell_type": "code",
   "execution_count": 32,
   "metadata": {},
   "outputs": [
    {
     "name": "stdout",
     "output_type": "stream",
     "text": [
      "-3.2074396517008497 3.2074396517008497\n"
     ]
    }
   ],
   "source": [
    "lower=Xstd*-3\n",
    "upper=Xstd*3\n",
    "print(lower,upper)#이상값 범위"
   ]
  },
  {
   "cell_type": "code",
   "execution_count": 33,
   "metadata": {},
   "outputs": [
    {
     "name": "stdout",
     "output_type": "stream",
     "text": [
      "outlier x0\n",
      "+---+---+---+---+---+\n",
      "| x0| x1| x2| x3|  y|\n",
      "+---+---+---+---+---+\n",
      "+---+---+---+---+---+\n",
      "\n",
      "outlier x1\n",
      "+---+---+---+---+---+\n",
      "| x0| x1| x2| x3|  y|\n",
      "+---+---+---+---+---+\n",
      "+---+---+---+---+---+\n",
      "\n",
      "outlier x2\n",
      "+---+---+---+---+---+\n",
      "| x0| x1| x2| x3|  y|\n",
      "+---+---+---+---+---+\n",
      "+---+---+---+---+---+\n",
      "\n",
      "outlier x3\n",
      "+---+---+---+---+---+\n",
      "| x0| x1| x2| x3|  y|\n",
      "+---+---+---+---+---+\n",
      "+---+---+---+---+---+\n",
      "\n"
     ]
    }
   ],
   "source": [
    "print(\"outlier x0\")\n",
    "Df.filter((Df.x0<lower) | (Df.x0>upper)).show()\n",
    "print(\"outlier x1\")\n",
    "Df.filter((Df.x1<lower) | (Df.x1>upper)).show()\n",
    "print(\"outlier x2\")\n",
    "Df.filter((Df.x2<lower) | (Df.x2>upper)).show()\n",
    "print(\"outlier x3\")\n",
    "Df.filter((Df.x3<lower) | (Df.x3>upper)).show()"
   ]
  },
  {
   "cell_type": "markdown",
   "metadata": {},
   "source": [
    "## (1-3-2) null 값이 있는지 출력하세요."
   ]
  },
  {
   "cell_type": "code",
   "execution_count": 34,
   "metadata": {},
   "outputs": [
    {
     "name": "stdout",
     "output_type": "stream",
     "text": [
      "{'x0': 0, 'x1': 0, 'x2': 0, 'x3': 0, 'y': 0}\n"
     ]
    }
   ],
   "source": [
    "def countNull(df,var):\n",
    "    return df.where(df[var].isNull()).count()\n",
    "\n",
    "missing = {c: countNull(Df,c) for c in ['x0','x1','x2','x3','y']}\n",
    "\n",
    "print(missing)"
   ]
  },
  {
   "cell_type": "markdown",
   "metadata": {},
   "source": [
    "## (1-4-1) 훈련, 테스트 데이터를 6:4 비율로 분리하고,\n",
    "\n",
    "\n",
    "\n"
   ]
  },
  {
   "cell_type": "code",
   "execution_count": 35,
   "metadata": {},
   "outputs": [],
   "source": [
    "(trainDf, testDf) = Df.randomSplit([0.6, 0.4])"
   ]
  },
  {
   "cell_type": "markdown",
   "metadata": {},
   "source": [
    "## (1-4-2) 회귀모델링하고 계수와 절편 출력하세요."
   ]
  },
  {
   "cell_type": "code",
   "execution_count": 36,
   "metadata": {},
   "outputs": [],
   "source": [
    "from pyspark.ml.feature import VectorAssembler\n",
    "va = VectorAssembler(inputCols = [\"x0\",\"x1\",\"x2\",\"x3\"],\n",
    "                                   outputCol = 'features')"
   ]
  },
  {
   "cell_type": "code",
   "execution_count": 37,
   "metadata": {},
   "outputs": [],
   "source": [
    "from pyspark.ml.regression import LinearRegression\n",
    "lr = LinearRegression(featuresCol = 'features', labelCol='y', maxIter=10, regParam=0.3, elasticNetParam=0.8)"
   ]
  },
  {
   "cell_type": "code",
   "execution_count": 38,
   "metadata": {},
   "outputs": [],
   "source": [
    "from pyspark.ml import Pipeline\n",
    "pipeline = Pipeline(stages=[va,lr])"
   ]
  },
  {
   "cell_type": "code",
   "execution_count": 39,
   "metadata": {},
   "outputs": [],
   "source": [
    "model = pipeline.fit(trainDf)\n",
    "modelTrainDf = model.transform(trainDf)"
   ]
  },
  {
   "cell_type": "code",
   "execution_count": 40,
   "metadata": {},
   "outputs": [
    {
     "name": "stdout",
     "output_type": "stream",
     "text": [
      "Coefficients: [23.48724477173305,2.8682337477787994,0.0,42.10744382163696]\n",
      "Intercept: 0.070\n"
     ]
    }
   ],
   "source": [
    "print(\"Coefficients: {}\".format(model.stages[-1].coefficients))\n",
    "print(\"Intercept: {:.3f}\".format(model.stages[-1].intercept)) #y절편"
   ]
  },
  {
   "cell_type": "markdown",
   "metadata": {},
   "source": [
    "## (1-5) 테스트데이터에 대해 정확성을 출력하세요."
   ]
  },
  {
   "cell_type": "code",
   "execution_count": 41,
   "metadata": {},
   "outputs": [],
   "source": [
    "modelTestDf=model.transform(testDf)"
   ]
  },
  {
   "cell_type": "code",
   "execution_count": 42,
   "metadata": {},
   "outputs": [],
   "source": [
    "from pyspark.ml.evaluation import RegressionEvaluator\n",
    "\n",
    "evaluator=RegressionEvaluator(labelCol=\"y\", predictionCol=\"prediction\", metricName=\"rmse\")"
   ]
  },
  {
   "cell_type": "code",
   "execution_count": 43,
   "metadata": {},
   "outputs": [],
   "source": [
    "rmse=evaluator.evaluate(modelTestDf)"
   ]
  },
  {
   "cell_type": "code",
   "execution_count": 44,
   "metadata": {},
   "outputs": [
    {
     "data": {
      "text/plain": [
       "'Root Mean Squared Error (RMSE) on test data: 0.44785733'"
      ]
     },
     "execution_count": 44,
     "metadata": {},
     "output_type": "execute_result"
    }
   ],
   "source": [
    "f\"Root Mean Squared Error (RMSE) on test data: {rmse:.8f}\""
   ]
  },
  {
   "cell_type": "code",
   "execution_count": 45,
   "metadata": {},
   "outputs": [],
   "source": [
    "from pyspark.ml.evaluation import RegressionEvaluator\n",
    "\n",
    "evaluator=RegressionEvaluator(labelCol=\"y\", predictionCol=\"prediction\", metricName=\"r2\")"
   ]
  },
  {
   "cell_type": "code",
   "execution_count": 46,
   "metadata": {},
   "outputs": [
    {
     "data": {
      "text/plain": [
       "'r2: 0.99994000'"
      ]
     },
     "execution_count": 46,
     "metadata": {},
     "output_type": "execute_result"
    }
   ],
   "source": [
    "f\"r2: {evaluator.evaluate(modelTestDf):.8f}\""
   ]
  },
  {
   "cell_type": "markdown",
   "metadata": {},
   "source": [
    "---\n",
    "---\n",
    "# 문제2: 클러스터링\n",
    "\n",
    "make_blobs() 함수로, 데이터 200개, 클러스터 5개, 표준편차는 0.5로 설정해서 데이터를 생성하고 다음을 푸세요.\n"
   ]
  },
  {
   "cell_type": "markdown",
   "metadata": {},
   "source": [
    "#### 데이터 생성"
   ]
  },
  {
   "cell_type": "code",
   "execution_count": 47,
   "metadata": {},
   "outputs": [],
   "source": [
    "from sklearn.datasets import make_blobs\n",
    "\n",
    "X, y = make_blobs(n_samples=200, centers=5, cluster_std=0.50, random_state=0)"
   ]
  },
  {
   "cell_type": "markdown",
   "metadata": {},
   "source": [
    "## (2-1) 강의코드 cluster() 함수를 수정해서 클러스터 중심점을 계산하여 출력하세요. \n",
    "함수를 수정하여 **반복횟수와 중심값만**을 출력한다.\n",
    "## (2-2) 반복마다 데이터산포와 중심점 (빨간색)을 그려서, 중심점이 올바르게 이동해 가는 것을 알 수 있게 하세요."
   ]
  },
  {
   "cell_type": "markdown",
   "metadata": {},
   "source": [
    "#### 함수 선언"
   ]
  },
  {
   "cell_type": "code",
   "execution_count": 48,
   "metadata": {},
   "outputs": [],
   "source": [
    "def normDist(x1, x2):\n",
    "    dist = np.linalg.norm(x1 - x2) \n",
    "    return dist"
   ]
  },
  {
   "cell_type": "code",
   "execution_count": 49,
   "metadata": {},
   "outputs": [],
   "source": [
    "def draw(x, centroids):\n",
    "    import matplotlib.pyplot as plt\n",
    "    #plt.subplot(5,2,iter)\n",
    "    plt.scatter(x[:,0], x[:,1], color='blue')\n",
    "    plt.scatter(centroids[:,0], centroids[:,1], color='red')\n",
    "    plt.show()"
   ]
  },
  {
   "cell_type": "code",
   "execution_count": 50,
   "metadata": {},
   "outputs": [],
   "source": [
    "def cluster(x, k, centroids): #x,k, 초기중심점\n",
    "    row, col = x.shape\n",
    "    clusterAssigned = np.zeros(shape=(row, col), dtype=float)\n",
    "    # print (clusterAssigned)\n",
    "    clusterUpdated=True\n",
    "    iter = 1\n",
    "    while(clusterUpdated):\n",
    "        print (\"\\n\\n====== Iteration {} ======\".format(iter))\n",
    "        # STEP 1: assign to closer cluster\n",
    "        for i in range(row):\n",
    "            minDist = np.inf   # set arbitray max to minDist\n",
    "            minIndex = -1      # set arbitray index to minIndex\n",
    "            # compute distance and assign to closer cluster\n",
    "            for j in range(k):\n",
    "                # distance from centroids[j] to x[0]\n",
    "                distJI = normDist(centroids[j], x[i])\n",
    "                # pick the closest centroid\n",
    "                if distJI < minDist:\n",
    "                    minDist = distJI\n",
    "                    minIndex = j\n",
    "            clusterAssigned[i] = [minIndex, minDist]\n",
    "        \n",
    "        # STEP 2: update centroids\n",
    "        _centroids=np.zeros(shape = (k, x.shape[1]), dtype=float)\n",
    "        for cent in range(k):\n",
    "            # read data by index and average them\n",
    "            _centroids[cent] = np.mean(x[clusterAssigned[:,0]==cent],axis=0)\n",
    "        \n",
    "        # STEP 3: see if centroids is updated. STOP if NOT updated\n",
    "        comparison = np.equal(centroids, _centroids) # np.isclose() in case some tolerence is required\n",
    "        if(comparison.all() == True):\n",
    "            print (\"\\n.....NOT Updating Centroids!!\\n\")# {} => \\n{}\".format(centroids, _centroids))\n",
    "            print(\"\\n-----Final Centroids is...\\n{}\\n\".format(_centroids))\n",
    "            draw(X, centroids)\n",
    "            print(\"\\n We found Centroids at {} times.\\n\".format(iter))\n",
    "            clusterUpdated = False\n",
    "            return centroids, clusterAssigned\n",
    "        else:\n",
    "            #print (\"\\n.....Updating Centroids\\n {} => \\n{}\".format(centroids, _centroids))\n",
    "            if iter==1:\n",
    "                print(\"\\n Init Centroids is..\\n{}\".format(centroids))\n",
    "            print (\"\\n.....Updating Centroids To..\\n{}\".format(_centroids))\n",
    "            centroids = _centroids\n",
    "            draw(X, centroids)\n",
    "            iter += 1"
   ]
  },
  {
   "cell_type": "code",
   "execution_count": 51,
   "metadata": {},
   "outputs": [
    {
     "name": "stdout",
     "output_type": "stream",
     "text": [
      "[72, 84, 94, 158, 195]\n"
     ]
    }
   ],
   "source": [
    "import random\n",
    "randlist=random.sample(range(200), 5) #중복없이 뽑기\n",
    "print(randlist)"
   ]
  },
  {
   "cell_type": "markdown",
   "metadata": {},
   "source": [
    "### 답"
   ]
  },
  {
   "cell_type": "code",
   "execution_count": 52,
   "metadata": {
    "scrolled": true
   },
   "outputs": [
    {
     "name": "stdout",
     "output_type": "stream",
     "text": [
      "\n",
      "\n",
      "====== Iteration 1 ======\n",
      "\n",
      " Init Centroids is..\n",
      "[[ 9.55690035 -2.44250717]\n",
      " [-1.9015192   8.66452536]\n",
      " [ 0.5226209   4.32976003]\n",
      " [ 1.2091013   3.53566548]\n",
      " [ 2.06051753  1.79059891]]\n",
      "\n",
      ".....Updating Centroids To..\n",
      "[[ 9.21059989 -2.47392331]\n",
      " [-1.36754522  7.89153496]\n",
      " [-0.56475071  3.57057883]\n",
      " [ 0.77073721  3.44427031]\n",
      " [ 2.05487327  1.11105683]]\n"
     ]
    },
    {
     "data": {
      "image/png": "[encoded data removed]",
      "text/plain": [
       "<Figure size 432x288 with 1 Axes>"
      ]
     },
     "metadata": {
      "needs_background": "light"
     },
     "output_type": "display_data"
    },
    {
     "name": "stdout",
     "output_type": "stream",
     "text": [
      "\n",
      "\n",
      "====== Iteration 2 ======\n",
      "\n",
      ".....Updating Centroids To..\n",
      "[[ 9.21059989 -2.47392331]\n",
      " [-1.36754522  7.89153496]\n",
      " [-1.43619923  2.95309662]\n",
      " [ 0.98942781  4.23698714]\n",
      " [ 2.05487327  1.11105683]]\n"
     ]
    },
    {
     "data": {
      "image/png": "[encoded data removed]",
      "text/plain": [
       "<Figure size 432x288 with 1 Axes>"
      ]
     },
     "metadata": {
      "needs_background": "light"
     },
     "output_type": "display_data"
    },
    {
     "name": "stdout",
     "output_type": "stream",
     "text": [
      "\n",
      "\n",
      "====== Iteration 3 ======\n",
      "\n",
      ".....Updating Centroids To..\n",
      "[[ 9.21059989 -2.47392331]\n",
      " [-1.36754522  7.89153496]\n",
      " [-1.5435162   2.81345511]\n",
      " [ 0.91482275  4.28033686]\n",
      " [ 2.05487327  1.11105683]]\n"
     ]
    },
    {
     "data": {
      "image/png": "[encoded data removed]",
      "text/plain": [
       "<Figure size 432x288 with 1 Axes>"
      ]
     },
     "metadata": {
      "needs_background": "light"
     },
     "output_type": "display_data"
    },
    {
     "name": "stdout",
     "output_type": "stream",
     "text": [
      "\n",
      "\n",
      "====== Iteration 4 ======\n",
      "\n",
      ".....NOT Updating Centroids!!\n",
      "\n",
      "\n",
      "-----Final Centroids is...\n",
      "[[ 9.21059989 -2.47392331]\n",
      " [-1.36754522  7.89153496]\n",
      " [-1.5435162   2.81345511]\n",
      " [ 0.91482275  4.28033686]\n",
      " [ 2.05487327  1.11105683]]\n",
      "\n"
     ]
    },
    {
     "data": {
      "image/png": "[encoded data removed]",
      "text/plain": [
       "<Figure size 432x288 with 1 Axes>"
      ]
     },
     "metadata": {
      "needs_background": "light"
     },
     "output_type": "display_data"
    },
    {
     "name": "stdout",
     "output_type": "stream",
     "text": [
      "\n",
      " We found Centroids at 4 times.\n",
      "\n"
     ]
    }
   ],
   "source": [
    "%matplotlib inline\n",
    "import matplotlib.pyplot as plt\n",
    "import numpy as np\n",
    "\n",
    "\n",
    "k = 5\n",
    "\n",
    "centroids = np.array([[X[randlist[0],0],X[randlist[0],1]],[X[randlist[1],0],X[randlist[1],1]],[X[randlist[2],0],X[randlist[2],1]],[X[randlist[3],0],X[randlist[3],1]],[X[randlist[4],0],X[randlist[4],1]]], dtype=float)\n",
    "centroids, clusterAssigned = cluster(X, k, centroids)"
   ]
  },
  {
   "cell_type": "markdown",
   "metadata": {},
   "source": [
    "## (2-3) Spark DataFrame을 생성하여 클러스터링을 실행하고, 중심점이 (2-1), make_blob()과 동일한지 비교하세요."
   ]
  },
  {
   "cell_type": "markdown",
   "metadata": {},
   "source": [
    "#### spark DataFrame 생성"
   ]
  },
  {
   "cell_type": "code",
   "execution_count": 53,
   "metadata": {},
   "outputs": [],
   "source": [
    "pdblob=pd.DataFrame(X)"
   ]
  },
  {
   "cell_type": "code",
   "execution_count": 54,
   "metadata": {},
   "outputs": [],
   "source": [
    "dfblob=spark.createDataFrame(pdblob)"
   ]
  },
  {
   "cell_type": "code",
   "execution_count": 55,
   "metadata": {},
   "outputs": [],
   "source": [
    "from pyspark.ml.feature import VectorAssembler\n",
    "\n",
    "va = VectorAssembler(inputCols=[\"0\",\"1\"],outputCol=\"features\")"
   ]
  },
  {
   "cell_type": "code",
   "execution_count": 56,
   "metadata": {},
   "outputs": [],
   "source": [
    "_dfblob = va.transform(dfblob)"
   ]
  },
  {
   "cell_type": "code",
   "execution_count": 57,
   "metadata": {},
   "outputs": [
    {
     "name": "stdout",
     "output_type": "stream",
     "text": [
      "+-------------------+------------------+---------------------------------------+\n",
      "|0                  |1                 |features                               |\n",
      "+-------------------+------------------+---------------------------------------+\n",
      "|1.7079835915671953 |0.8228463897741014|[1.7079835915671953,0.8228463897741014]|\n",
      "|-2.2635980086368974|8.867706446321254 |[-2.2635980086368974,8.867706446321254]|\n",
      "|0.7826066698425189 |4.152635952160722 |[0.7826066698425189,4.152635952160722] |\n",
      "|-1.1109975958841805|7.39000247414383  |[-1.1109975958841805,7.39000247414383] |\n",
      "|2.2434802870106925 |0.3479632646458396|[2.2434802870106925,0.3479632646458396]|\n",
      "+-------------------+------------------+---------------------------------------+\n",
      "only showing top 5 rows\n",
      "\n"
     ]
    }
   ],
   "source": [
    "_dfblob.show(5,truncate=False)"
   ]
  },
  {
   "cell_type": "markdown",
   "metadata": {},
   "source": [
    "#### 클러스터링 실행"
   ]
  },
  {
   "cell_type": "code",
   "execution_count": 58,
   "metadata": {},
   "outputs": [],
   "source": [
    "from pyspark.ml.clustering import KMeans\n",
    "\n",
    "kmeans = KMeans(k=5)"
   ]
  },
  {
   "cell_type": "code",
   "execution_count": 59,
   "metadata": {},
   "outputs": [],
   "source": [
    "model = kmeans.fit(_dfblob)"
   ]
  },
  {
   "cell_type": "code",
   "execution_count": 60,
   "metadata": {
    "scrolled": true
   },
   "outputs": [
    {
     "name": "stdout",
     "output_type": "stream",
     "text": [
      "[array([-1.5435162 ,  2.81345511]), array([ 9.21059989, -2.47392331]), array([0.91482275, 4.28033686]), array([-1.36754522,  7.89153496]), array([2.05487327, 1.11105683])]\n"
     ]
    }
   ],
   "source": [
    "print (model.clusterCenters())"
   ]
  },
  {
   "cell_type": "markdown",
   "metadata": {},
   "source": [
    "#### 중심점 비교"
   ]
  },
  {
   "cell_type": "code",
   "execution_count": 61,
   "metadata": {},
   "outputs": [],
   "source": [
    "#spark kmeans 결과를 numpy array 형태로 바꾸기 (비교용)\n",
    "spark_kmeans=[]\n",
    "for i in model.clusterCenters():\n",
    "    spark_kmeans.append(list(i))\n",
    "spark_kmeans=np.array(spark_kmeans)"
   ]
  },
  {
   "cell_type": "code",
   "execution_count": 62,
   "metadata": {},
   "outputs": [
    {
     "data": {
      "text/plain": [
       "array([[-1.5435162 ,  2.81345511],\n",
       "       [ 9.21059989, -2.47392331],\n",
       "       [ 0.91482275,  4.28033686],\n",
       "       [-1.36754522,  7.89153496],\n",
       "       [ 2.05487327,  1.11105683]])"
      ]
     },
     "execution_count": 62,
     "metadata": {},
     "output_type": "execute_result"
    }
   ],
   "source": [
    "# spark를 통해 나온 중심값\n",
    "spark_kmeans"
   ]
  },
  {
   "cell_type": "code",
   "execution_count": 63,
   "metadata": {},
   "outputs": [
    {
     "data": {
      "text/plain": [
       "array([[ 9.21059989, -2.47392331],\n",
       "       [-1.36754522,  7.89153496],\n",
       "       [-1.5435162 ,  2.81345511],\n",
       "       [ 0.91482275,  4.28033686],\n",
       "       [ 2.05487327,  1.11105683]])"
      ]
     },
     "execution_count": 63,
     "metadata": {},
     "output_type": "execute_result"
    }
   ],
   "source": [
    "#2-1결과를 통해 나온 중심값\n",
    "centroids"
   ]
  },
  {
   "cell_type": "code",
   "execution_count": 64,
   "metadata": {},
   "outputs": [
    {
     "data": {
      "text/plain": [
       "<matplotlib.collections.PathCollection at 0x1a504012c08>"
      ]
     },
     "execution_count": 64,
     "metadata": {},
     "output_type": "execute_result"
    },
    {
     "data": {
      "image/png": "[encoded data removed]",
      "text/plain": [
       "<Figure size 432x288 with 1 Axes>"
      ]
     },
     "metadata": {
      "needs_background": "light"
     },
     "output_type": "display_data"
    }
   ],
   "source": [
    "import matplotlib.pyplot as plt\n",
    "plt.scatter(X[:,0], X[:,1], alpha=0.1,color='black')\n",
    "plt.scatter(centroids[:,0], centroids[:,1],alpha=0.7, color='blue')\n",
    "plt.scatter(spark_kmeans[:,0], spark_kmeans[:,1],alpha=0.7, color='red')"
   ]
  },
  {
   "cell_type": "markdown",
   "metadata": {},
   "source": [
    "숫자를 비교하거나 그림으로 그려보았을 때 같은것을 확인 가능"
   ]
  },
  {
   "cell_type": "markdown",
   "metadata": {},
   "source": [
    "#### 배정된 클러스터 비교 위해 id통일"
   ]
  },
  {
   "cell_type": "code",
   "execution_count": 65,
   "metadata": {},
   "outputs": [],
   "source": [
    "predict_model=model.transform(_dfblob)\n",
    "predict_model=predict_model.select(predict_model.prediction)\n",
    "predict_array=predict_model.rdd.map(lambda x:x[0]).collect()"
   ]
  },
  {
   "cell_type": "code",
   "execution_count": 66,
   "metadata": {},
   "outputs": [
    {
     "name": "stdout",
     "output_type": "stream",
     "text": [
      "[4, 3, 2, 3, 4, 2, 0, 2, 0, 4, 2, 4, 1, 0, 2]\n",
      "[1 3 0 3 1 0 2 0 2 1 0 1 4 2 0]\n",
      "[4. 1. 3. 1. 4. 3. 2. 3. 2. 4. 3. 4. 0. 2. 3.]\n"
     ]
    }
   ],
   "source": [
    "print(predict_array[:15])\n",
    "print(y[:15])\n",
    "print(clusterAssigned[:,0][:15])"
   ]
  },
  {
   "cell_type": "code",
   "execution_count": 67,
   "metadata": {},
   "outputs": [],
   "source": [
    "#make_blob(), y\n",
    "y_compare=np.array([])\n",
    "for i in range(len(y)):\n",
    "    if y[i]==0:\n",
    "        y_compare=np.append(y_compare,2)\n",
    "        \n",
    "    elif y[i]==1:\n",
    "        y_compare=np.append(y_compare,4)\n",
    "        \n",
    "    elif y[i]==2: \n",
    "        y_compare=np.append(y_compare,0)\n",
    "        \n",
    "    elif y[i]==3: \n",
    "        y_compare=np.append(y_compare,3)  \n",
    "        \n",
    "    else: #y[i]==4\n",
    "        y_compare=np.append(y_compare,1)"
   ]
  },
  {
   "cell_type": "code",
   "execution_count": 68,
   "metadata": {},
   "outputs": [],
   "source": [
    "#2-1 kmeans 함수 이용\n",
    "compareCluster=np.array([])\n",
    "\n",
    "for i in range(len(clusterAssigned[:,0])):\n",
    "    if clusterAssigned[:,0][i]==0:\n",
    "        compareCluster=np.append(compareCluster,1)\n",
    "        \n",
    "    elif clusterAssigned[:,0][i]==1:\n",
    "        compareCluster=np.append(compareCluster,3)\n",
    "        \n",
    "    elif clusterAssigned[:,0][i]==2: \n",
    "        compareCluster=np.append(compareCluster,0)\n",
    "\n",
    "    elif clusterAssigned[:,0][i]==3: \n",
    "        compareCluster=np.append(compareCluster,2)\n",
    "        \n",
    "    else: #clusterAssigned[:,0][i]==4\n",
    "        compareCluster=np.append(compareCluster,4)"
   ]
  },
  {
   "cell_type": "markdown",
   "metadata": {},
   "source": [
    "#### 배정된 클러스터 비교"
   ]
  },
  {
   "cell_type": "code",
   "execution_count": 69,
   "metadata": {},
   "outputs": [],
   "source": [
    "pd_compare=pd.DataFrame({'spark_center':predict_array,'center_2_1':compareCluster,'y':y_compare})"
   ]
  },
  {
   "cell_type": "code",
   "execution_count": 70,
   "metadata": {},
   "outputs": [],
   "source": [
    "df_compare=spark.createDataFrame(pd_compare)"
   ]
  },
  {
   "cell_type": "code",
   "execution_count": 73,
   "metadata": {},
   "outputs": [
    {
     "name": "stdout",
     "output_type": "stream",
     "text": [
      "+------------+----------+---+\n",
      "|spark_center|center_2_1|  y|\n",
      "+------------+----------+---+\n",
      "+------------+----------+---+\n",
      "\n"
     ]
    }
   ],
   "source": [
    "#다르게 배정된 경우\n",
    "df_compare.filter((df_compare.spark_center!=df_compare.center_2_1)|(df_compare.spark_center!=df_compare.y)|(df_compare.y!=df_compare.center_2_1)).show()"
   ]
  },
  {
   "cell_type": "markdown",
   "metadata": {},
   "source": [
    "다르게 배정된 경우 없음을 확인"
   ]
  },
  {
   "cell_type": "markdown",
   "metadata": {},
   "source": [
    "---\n",
    "---\n",
    "# 문제3: 텍스트 분류\n",
    "\n",
    "\n",
    "\n",
    "다음은 축구, 야구 관련 기사에서 발췌한 내용이다. \n",
    "\n",
    "읽어보면, 축구인지 야구인지 내용을 식별할 수 있다."
   ]
  },
  {
   "cell_type": "markdown",
   "metadata": {},
   "source": [
    "## (3-1) 기사파일을 작성한 후, 파일에서 DataFrame 생성"
   ]
  },
  {
   "cell_type": "code",
   "execution_count": 140,
   "metadata": {},
   "outputs": [],
   "source": [
    "import os"
   ]
  },
  {
   "cell_type": "code",
   "execution_count": 141,
   "metadata": {},
   "outputs": [],
   "source": [
    "#문자열에 , 섞여있어서 tsv로 생성함\n",
    "newsDf = spark\\\n",
    "    .read\\\n",
    "    .options(header='false', inferschema='true', delimiter='\\t')\\\n",
    "    .csv(os.path.join('data', 'soccer_baseball_e.txt'))"
   ]
  },
  {
   "cell_type": "code",
   "execution_count": 142,
   "metadata": {},
   "outputs": [],
   "source": [
    "newsDf = newsDf.withColumnRenamed(\"_c0\", \"news\")\n",
    "newsDf = newsDf.withColumnRenamed(\"_c1\", \"label\")"
   ]
  },
  {
   "cell_type": "code",
   "execution_count": 143,
   "metadata": {},
   "outputs": [
    {
     "name": "stdout",
     "output_type": "stream",
     "text": [
      "+---------------------------------+-----+\n",
      "|                             news|label|\n",
      "+---------------------------------+-----+\n",
      "| 페널티킥 내준 상황에 대해선 \"...|    0|\n",
      "|수원은 후반 막판 공격 상황에서...|    0|\n",
      "|   주심은 VAR 끝에 페널티 킥을...|    0|\n",
      "|  전반 11분 박스 안에서 유려한...|    0|\n",
      "|  맨유는 전반 35분 마커스 래시...|    0|\n",
      "+---------------------------------+-----+\n",
      "only showing top 5 rows\n",
      "\n"
     ]
    }
   ],
   "source": [
    "newsDf.show(5)"
   ]
  },
  {
   "cell_type": "markdown",
   "metadata": {},
   "source": [
    "## (3-2) 불용어 제거, 숫자 단어 제거, 정리"
   ]
  },
  {
   "cell_type": "markdown",
   "metadata": {},
   "source": [
    "#### 단어로 분리"
   ]
  },
  {
   "cell_type": "code",
   "execution_count": 144,
   "metadata": {},
   "outputs": [],
   "source": [
    "from pyspark.ml.feature import Tokenizer\n",
    "tokenizer = Tokenizer(inputCol=\"news\", outputCol=\"tokens\")\n",
    "tokDf = tokenizer.transform(newsDf)"
   ]
  },
  {
   "cell_type": "markdown",
   "metadata": {},
   "source": [
    "####  인용부호 컴마 마침표 제거, 숫자단어 제거, 같은단어 취급하기"
   ]
  },
  {
   "cell_type": "code",
   "execution_count": 145,
   "metadata": {},
   "outputs": [],
   "source": [
    "import re\n",
    "\n",
    "def trim(wordList):\n",
    "    cleaned=list()\n",
    "    delnum=list()\n",
    "    \n",
    "    for w in wordList:\n",
    "        #### 인용부호, 컴마, 마침표 제거\n",
    "        ####헤딩 골-헤딩골, 페널티 킥-페널티킥을 같은 단어로 취급\n",
    "        cleaned.append(w.lstrip('‘').rstrip(\"’\").rstrip(',').rstrip('.').replace(\"’\",\"\").replace(\"”\",\"\").replace('\"',\"\").replace(\"'\",\"\").replace(\"헤딩 골\",\"헤딩골\").replace(\"페널티 킥\",\"페널티킥\"))\n",
    "        \n",
    "    \n",
    "    #### 숫자(로만 이루어진) 단어 모두 제거\n",
    "    for i in cleaned:\n",
    "        i_del=i.replace(\".\",\"\") # 위에서 .은 마침표만 제거함, 소수점 검사하기 위하여!\n",
    "        if not(i_del.isnumeric()):\n",
    "            delnum.append(i)\n",
    "    return delnum"
   ]
  },
  {
   "cell_type": "code",
   "execution_count": 146,
   "metadata": {},
   "outputs": [],
   "source": [
    "from pyspark.sql import functions as f\n",
    "from pyspark.sql.types import ArrayType, StringType\n",
    "\n",
    "trimUdf=f.udf(trim, ArrayType(StringType()))"
   ]
  },
  {
   "cell_type": "code",
   "execution_count": 147,
   "metadata": {},
   "outputs": [],
   "source": [
    "wordsDf = tokDf.withColumn('words', trimUdf(f.col('tokens')))"
   ]
  },
  {
   "cell_type": "markdown",
   "metadata": {},
   "source": [
    "####  불용어 - 한 단어는 모두 제거 (단, '팀'은 제외) "
   ]
  },
  {
   "cell_type": "code",
   "execution_count": 148,
   "metadata": {},
   "outputs": [],
   "source": [
    "## 한글자 단어 찾기 위함\n",
    "def find_one(wordList):\n",
    "    one=list()\n",
    "    for w in wordList:\n",
    "        if len(w)==1:\n",
    "            one.append(w)\n",
    "    return one        "
   ]
  },
  {
   "cell_type": "code",
   "execution_count": 149,
   "metadata": {},
   "outputs": [],
   "source": [
    "findone=f.udf(find_one, ArrayType(StringType()))"
   ]
  },
  {
   "cell_type": "code",
   "execution_count": 150,
   "metadata": {},
   "outputs": [],
   "source": [
    "onewordsDf = wordsDf.withColumn('one_words', findone(f.col('words')))"
   ]
  },
  {
   "cell_type": "code",
   "execution_count": 151,
   "metadata": {},
   "outputs": [],
   "source": [
    "one_words_array=onewordsDf.rdd.map(lambda x:x[4]).collect()\n",
    "one_words_list=list()\n",
    "for i in one_words_array:\n",
    "    for j in i:\n",
    "        one_words_list.append(j)"
   ]
  },
  {
   "cell_type": "code",
   "execution_count": 152,
   "metadata": {
    "scrolled": true
   },
   "outputs": [
    {
     "name": "stdout",
     "output_type": "stream",
     "text": [
      "{'알', '뒤', '못', '더', '될', '네', '꽉', '번', '안', '된', '첫', '전', '이', '몫', '단', '총', '초', '등', '잘', '지', '그', '쓸', '데', '올', '간', '볼', '친', '후', '해', '달', '제', '점', '때', '수', 'a', '세', '할', '두', '건', '줄', '한'}\n"
     ]
    }
   ],
   "source": [
    "one_words_list=set(one_words_list)\n",
    "###팀은 제외\n",
    "one_words_list.remove('팀')\n",
    "print(one_words_list) #한글자 단어 list"
   ]
  },
  {
   "cell_type": "code",
   "execution_count": 153,
   "metadata": {},
   "outputs": [],
   "source": [
    "from pyspark.ml.feature import StopWordsRemover"
   ]
  },
  {
   "cell_type": "code",
   "execution_count": 154,
   "metadata": {},
   "outputs": [],
   "source": [
    "# 영어 stopwords 제거\n",
    "stop = StopWordsRemover(inputCol=\"words\", outputCol=\"nostops\")\n",
    "stopwords=list()\n",
    "_stopwords=stop.getStopWords()\n",
    "for e in _stopwords:\n",
    "    stopwords.append(e)"
   ]
  },
  {
   "cell_type": "code",
   "execution_count": 155,
   "metadata": {},
   "outputs": [],
   "source": [
    "#팀을 제외한 한글자 단어 stopwords에 추가\n",
    "for e in one_words_list:\n",
    "    stopwords.append(e)"
   ]
  },
  {
   "cell_type": "markdown",
   "metadata": {},
   "source": [
    "#### 불용어 - '우리', '그러나'와 같은 유의미하지 않은 대명사, 접속사 등"
   ]
  },
  {
   "cell_type": "code",
   "execution_count": 156,
   "metadata": {},
   "outputs": [],
   "source": [
    "_mystopwords=[\"우리\",\"자신이\",\"그러나\",\"그런\",\"이번\",\"따라\",\"모두\",\"또한\",\"때라고\",\"최소\",\"그쪽\",\"이를\",\"됐다\",\"같은\",\"여러\",\"들어\",\"결국\",\"결과적으로\",\"넉넉한\",\"듯하다라고\",\"이날\",\"이어\",\"나고\",\"있다\",\"가장\",\"결정적인\",\"대거\",\"있었다는\",\"대해\",\"나서\",\"열린\",\"대해선\",\"라고\",\"자기\",\"지난해\"]\n",
    "for e in _mystopwords:\n",
    "    stopwords.append(e)"
   ]
  },
  {
   "cell_type": "code",
   "execution_count": 157,
   "metadata": {},
   "outputs": [
    {
     "data": {
      "text/plain": [
       "StopWordsRemover_dfc951145550"
      ]
     },
     "execution_count": 157,
     "metadata": {},
     "output_type": "execute_result"
    }
   ],
   "source": [
    "stop.setStopWords(stopwords)"
   ]
  },
  {
   "cell_type": "markdown",
   "metadata": {},
   "source": [
    "#### 불용어 제거"
   ]
  },
  {
   "cell_type": "code",
   "execution_count": 158,
   "metadata": {},
   "outputs": [
    {
     "name": "stdout",
     "output_type": "stream",
     "text": [
      "+--------------------------------------------------------------------------------------------------------------------------------------------------------------------------------------------------------------------------------------------------------------------+----------------------------------------------------------------------------------------------------------------------------------------------------------------------------------------------------------------+\n",
      "|words                                                                                                                                                                                                                                                               |nostops                                                                                                                                                                                                         |\n",
      "+--------------------------------------------------------------------------------------------------------------------------------------------------------------------------------------------------------------------------------------------------------------------+----------------------------------------------------------------------------------------------------------------------------------------------------------------------------------------------------------------+\n",
      "|[페널티킥, 내준, 상황에, 대해선, 여러, 나라를, 가봤지만, 우리나라, 심판, 수준에, 대해, 아쉽다, 앞으로, 그런, 부분이, 나오면, 안, 될, 듯하다라고, 아쉬움을, 드러냈다, 찬스를, 놓치고, 페널티킥을, 내준, 상황에, 대해, 선수들은, 최고의, 경기를, 보여줬다고, 생각한다]|[페널티킥, 내준, 상황에, 나라를, 가봤지만, 우리나라, 심판, 수준에, 아쉽다, 앞으로, 부분이, 나오면, 아쉬움을, 드러냈다, 찬스를, 놓치고, 페널티킥을, 내준, 상황에, 선수들은, 최고의, 경기를, 보여줬다고, 생각한다]|\n",
      "|[수원은, 후반, 막판, 공격, 상황에서, 상대의, 반칙이, 있었다는, 판단에, 따라, 온필드, 리뷰로, 페널티킥을, 얻었다, 이를, 안병준이, 침착하게, 성공시키며, 기적, 같은, 승격에, 성공했다]                                                                                |[수원은, 후반, 막판, 공격, 상황에서, 상대의, 반칙이, 판단에, 온필드, 리뷰로, 페널티킥을, 얻었다, 안병준이, 침착하게, 성공시키며, 기적, 승격에, 성공했다]                                                        |\n",
      "|[주심은, var, 끝에, 페널티, 킥을, 선언했고, 키커로, 나선, 안병준이, 침착하게, 차넣어, 득점에, 성공했다]                                                                                                                                                             |[주심은, var, 끝에, 페널티, 킥을, 선언했고, 키커로, 나선, 안병준이, 침착하게, 차넣어, 득점에, 성공했다]                                                                                                         |\n",
      "+--------------------------------------------------------------------------------------------------------------------------------------------------------------------------------------------------------------------------------------------------------------------+----------------------------------------------------------------------------------------------------------------------------------------------------------------------------------------------------------------+\n",
      "only showing top 3 rows\n",
      "\n"
     ]
    }
   ],
   "source": [
    "stopDf=stop.transform(wordsDf) #불용어 제거 된 컬럼\n",
    "stopDf.select('words','nostops').show(3,False)"
   ]
  },
  {
   "cell_type": "markdown",
   "metadata": {},
   "source": [
    "##  (3-3) TF-IDF를 계산"
   ]
  },
  {
   "cell_type": "code",
   "execution_count": 159,
   "metadata": {},
   "outputs": [],
   "source": [
    "from pyspark.ml.feature import HashingTF, IDF\n",
    "hashTF = HashingTF(inputCol=\"nostops\", outputCol=\"features\")\n",
    "hashDf = hashTF.transform(stopDf)"
   ]
  },
  {
   "cell_type": "code",
   "execution_count": 160,
   "metadata": {},
   "outputs": [],
   "source": [
    "idf = IDF(inputCol=\"features\", outputCol=\"idf\")\n",
    "\n",
    "idfModel = idf.fit(hashDf)\n",
    "idfDf = idfModel.transform(hashDf)"
   ]
  },
  {
   "cell_type": "code",
   "execution_count": 161,
   "metadata": {},
   "outputs": [
    {
     "name": "stdout",
     "output_type": "stream",
     "text": [
      "+------------------------------+--------------------+--------------------+\n",
      "|                       nostops|            features|                 idf|\n",
      "+------------------------------+--------------------+--------------------+\n",
      "|[페널티킥, 내준, 상황에, 나...|(262144,[951,8121...|(262144,[951,8121...|\n",
      "| [수원은, 후반, 막판, 공격,...|(262144,[4736,100...|(262144,[4736,100...|\n",
      "|   [주심은, var, 끝에, 페널...|(262144,[2246,173...|(262144,[2246,173...|\n",
      "+------------------------------+--------------------+--------------------+\n",
      "only showing top 3 rows\n",
      "\n"
     ]
    }
   ],
   "source": [
    "idfDf.select(\"nostops\", \"features\",\"idf\").show(3)"
   ]
  },
  {
   "cell_type": "markdown",
   "metadata": {},
   "source": [
    "## (3-4) 베이지안 모델을 적용해서 분류 (alpha는 1.0으로 설정)\n",
    "alpha=1.0->smoothing=1.0"
   ]
  },
  {
   "cell_type": "code",
   "execution_count": 162,
   "metadata": {},
   "outputs": [],
   "source": [
    "from pyspark.ml.classification import NaiveBayes\n",
    "nb=NaiveBayes(featuresCol='features', labelCol='label', modelType='multinomial', predictionCol='prediction',smoothing=1.0)"
   ]
  },
  {
   "cell_type": "code",
   "execution_count": 163,
   "metadata": {},
   "outputs": [],
   "source": [
    "model=nb.fit(hashDf)"
   ]
  },
  {
   "cell_type": "code",
   "execution_count": 164,
   "metadata": {},
   "outputs": [],
   "source": [
    "predictions=model.transform(hashDf)"
   ]
  },
  {
   "cell_type": "code",
   "execution_count": 165,
   "metadata": {
    "scrolled": true
   },
   "outputs": [
    {
     "name": "stdout",
     "output_type": "stream",
     "text": [
      "+-----+----------------------------------+----------+\n",
      "|label|                              news|prediction|\n",
      "+-----+----------------------------------+----------+\n",
      "|    0|  페널티킥 내준 상황에 대해선 \"...|       0.0|\n",
      "|    0| 수원은 후반 막판 공격 상황에서...|       0.0|\n",
      "|    0|    주심은 VAR 끝에 페널티 킥을...|       0.0|\n",
      "|    0|   전반 11분 박스 안에서 유려한...|       0.0|\n",
      "|    0|   맨유는 전반 35분 마커스 래시...|       0.0|\n",
      "|    0|  첼시는 전반 4분 만에 수비에서...|       0.0|\n",
      "|    0| 후반 들어 첼시가 역전골을 성공...|       0.0|\n",
      "|    0| 계속해서 몰아치던 첼시는 후반 ...|       0.0|\n",
      "|    0|  전반 4분 윤일록이 경기장 왼쪽...|       0.0|\n",
      "|    0|   주전 선수들을 대거 제외한 PS...|       0.0|\n",
      "|    0|   PSG는 결국 주전급인 디마리아...|       0.0|\n",
      "|    0|  몽펠리에는 전반 41분 동점골을...|       0.0|\n",
      "|    0|      후반 13분 PSG가 결정적인 ...|       0.0|\n",
      "|    0| 두 골차 승리가 절실했던 수원에...|       0.0|\n",
      "|    0|   어제 헤딩골 장면은 2년 전 울...|       0.0|\n",
      "|    0|조별리그에서 가장 좋은 시나리오...|       0.0|\n",
      "|    0| 윤빛가람은 \"모든 선수가 즐기면...|       0.0|\n",
      "|    0| 서지연 나히 강유미 등 스리톱을...|       0.0|\n",
      "|    0|   후반 21분 팽팽했던 승부의 균...|       0.0|\n",
      "|    0|              Chelsea went ahea...|       0.0|\n",
      "|    0|              The South Korean ...|       0.0|\n",
      "|    1|    카펜터는 130㎞대 후반에서 1...|       1.0|\n",
      "|    1|  김현수는 첫 선발 등판에서 5이...|       1.0|\n",
      "|    1|    LG는 17일 잠실구장에서 벌어...|       1.0|\n",
      "|    1|   2회말 박용택, 이천웅의 연속 ...|       1.0|\n",
      "|    1|   이어진 2사 2루에서 박용택이 ...|       1.0|\n",
      "|    1|  린드블럼은 7일(한국시간) 미국...|       1.0|\n",
      "|    1|  린드블럼의 올 시즌 첫 불펜 등...|       1.0|\n",
      "|    1|린드블럼은 이날 전까지 선발투수...|       1.0|\n",
      "|    1| 류현진이 상대할 양키스는 팀의 ...|       1.0|\n",
      "|    1|    이어 \"추신수는 타율 2할2푼4...|       1.0|\n",
      "|    1|  키움은 2일 잠실구장에서 열린 ...|       1.0|\n",
      "|    1| 선두타자 이형종이 친 좌중간 타...|       1.0|\n",
      "|    1|    LG는 무사 2루에서 오지환이 ...|       1.0|\n",
      "|    1| 쿠에바스는 15일 수원케이티위즈...|       1.0|\n",
      "|    1|결과적으로 쿠에바스는 자기 몫은...|       1.0|\n",
      "|    1|     쿠에바스는 그 뒤 3, 4회 초...|       1.0|\n",
      "|    1|     KIA는 4회초 8득점 빅이닝에...|       1.0|\n",
      "|    1|     1사 1, 2루에서 타석에 들어...|       1.0|\n",
      "|    1|     선두 NC와의 주중 3연전을 2...|       1.0|\n",
      "|    1|이번에도 박용택의 방망이는 날카...|       1.0|\n",
      "|    1|  이 적시타로 박용택의 이번 달 ...|       1.0|\n",
      "|    1|    LG는 이어 홍창기가 2타점 적...|       1.0|\n",
      "+-----+----------------------------------+----------+\n",
      "\n"
     ]
    }
   ],
   "source": [
    "predictions.select('label','news','prediction').show(45)"
   ]
  },
  {
   "cell_type": "markdown",
   "metadata": {},
   "source": [
    "## (3-5) 3:1로 훈련, 테스트 데이터를 분리하고, 각 각의 정확성을 계산하세요."
   ]
  },
  {
   "cell_type": "markdown",
   "metadata": {},
   "source": [
    "#### 데이터 분리"
   ]
  },
  {
   "cell_type": "code",
   "execution_count": 166,
   "metadata": {},
   "outputs": [],
   "source": [
    "(trainDf, testDf) = hashDf.randomSplit([0.75, 0.25])"
   ]
  },
  {
   "cell_type": "markdown",
   "metadata": {},
   "source": [
    "#### train에 대하여 훈련"
   ]
  },
  {
   "cell_type": "code",
   "execution_count": 167,
   "metadata": {},
   "outputs": [],
   "source": [
    "model2=nb.fit(trainDf)"
   ]
  },
  {
   "cell_type": "markdown",
   "metadata": {},
   "source": [
    "#### train에 대하여 예측"
   ]
  },
  {
   "cell_type": "code",
   "execution_count": 168,
   "metadata": {},
   "outputs": [],
   "source": [
    "predictions_train=model2.transform(trainDf)"
   ]
  },
  {
   "cell_type": "code",
   "execution_count": 169,
   "metadata": {},
   "outputs": [
    {
     "name": "stdout",
     "output_type": "stream",
     "text": [
      "+-----+-------------------------------+----------+\n",
      "|label|                           news|prediction|\n",
      "+-----+-------------------------------+----------+\n",
      "|    1|  1사 1, 2루에서 타석에 들어...|       1.0|\n",
      "|    1|2회말 박용택, 이천웅의 연속 ...|       1.0|\n",
      "|    0|           Chelsea went ahea...|       0.0|\n",
      "|    1|  KIA는 4회초 8득점 빅이닝에...|       1.0|\n",
      "|    1| LG는 17일 잠실구장에서 벌어...|       1.0|\n",
      "+-----+-------------------------------+----------+\n",
      "only showing top 5 rows\n",
      "\n"
     ]
    }
   ],
   "source": [
    "predictions_train.select('label','news','prediction').show(5)"
   ]
  },
  {
   "cell_type": "code",
   "execution_count": 170,
   "metadata": {},
   "outputs": [],
   "source": [
    "from pyspark.ml.evaluation import BinaryClassificationEvaluator\n",
    "evaluator=BinaryClassificationEvaluator(rawPredictionCol=\"prediction\", labelCol=\"label\")"
   ]
  },
  {
   "cell_type": "code",
   "execution_count": 171,
   "metadata": {},
   "outputs": [
    {
     "data": {
      "text/plain": [
       "1.0"
      ]
     },
     "execution_count": 171,
     "metadata": {},
     "output_type": "execute_result"
    }
   ],
   "source": [
    "evaluator.evaluate(predictions_train)"
   ]
  },
  {
   "cell_type": "markdown",
   "metadata": {},
   "source": [
    "#### test에 대하여 예측"
   ]
  },
  {
   "cell_type": "code",
   "execution_count": 172,
   "metadata": {},
   "outputs": [],
   "source": [
    "predictions_test=model2.transform(testDf)"
   ]
  },
  {
   "cell_type": "code",
   "execution_count": 173,
   "metadata": {},
   "outputs": [
    {
     "name": "stdout",
     "output_type": "stream",
     "text": [
      "+-----+----------------------------------+----------+\n",
      "|label|                              news|prediction|\n",
      "+-----+----------------------------------+----------+\n",
      "|    1|    LG는 이어 홍창기가 2타점 적...|       1.0|\n",
      "|    0|              The South Korean ...|       1.0|\n",
      "|    1|결과적으로 쿠에바스는 자기 몫은...|       1.0|\n",
      "|    1|  린드블럼의 올 시즌 첫 불펜 등...|       1.0|\n",
      "|    0|   맨유는 전반 35분 마커스 래시...|       0.0|\n",
      "+-----+----------------------------------+----------+\n",
      "only showing top 5 rows\n",
      "\n"
     ]
    }
   ],
   "source": [
    "predictions_test.select('label','news','prediction').show(5)"
   ]
  },
  {
   "cell_type": "code",
   "execution_count": 174,
   "metadata": {},
   "outputs": [
    {
     "data": {
      "text/plain": [
       "0.9285714285714286"
      ]
     },
     "execution_count": 174,
     "metadata": {},
     "output_type": "execute_result"
    }
   ],
   "source": [
    "evaluator.evaluate(predictions_test)"
   ]
  },
  {
   "cell_type": "markdown",
   "metadata": {},
   "source": [
    "## (3-6) 다음 문장에 대해 어떻게 분류되는지 예측하세요."
   ]
  },
  {
   "cell_type": "code",
   "execution_count": 175,
   "metadata": {},
   "outputs": [],
   "source": [
    "cf_test=spark.createDataFrame(\n",
    "    [\n",
    "        [\"Southampton opened the scoring with a goal from Danny Ings in the 32nd minute in the midst of a relatively quiet half for Spurs. Son’s equalizer came in the last moments of the second half, putting the score at 1-1 going into the break.\"],\n",
    "        [\"손흥민은 전반 13분 역습 찬스에서 해리 케인의 패스를 받아 환상적인 오른발 감아차기 슛으로 선제골을 터트렸다. 이어 전반 46분엔 상대 수비수 2명의 시선을 따돌린 뒤 감각적인 패스로 케인의 추가골까지 도왔다.\"],\n",
    "        [\"경기 후 시선은 손흥민의 25야드(약 23m) 오른발 감아차기 골로 향했다. 상대 페널티박스 외곽 왼쪽 측면을 파고들던 손흥민은 드리블 속도를 살려 과감한 오른발 감아차기 슈팅을 시도했고, 공은 아스널 골키퍼 베른트 레노가 손 쓸 수 없는 각도로 빨려 들어갔다.\"],\n",
    "        [\"김광현은 25일(이하 한국시간) 오전 미국 세인트루이스 부시스타디움에서 열린 2020 메이저리그 밀워키 브루어스와의 홈경기에서 5회까지 99구를 던져 1실점 5피안타 2볼넷 3탈삼진 투구를 했다. 평균자책점은 기존 1.59에서 1.62가 됐다. 팀이 3-1로 5회초까지 앞서고 있어 승리투수 요건을 갖췄다.\"]\n",
    "    ],\n",
    "    ['sent']\n",
    ")"
   ]
  },
  {
   "cell_type": "code",
   "execution_count": 176,
   "metadata": {},
   "outputs": [],
   "source": [
    "# 단어로 쪼개기\n",
    "from pyspark.ml.feature import Tokenizer\n",
    "tokenizer = Tokenizer(inputCol=\"sent\", outputCol=\"tokens\")\n",
    "cf_tokDf = tokenizer.transform(cf_test)"
   ]
  },
  {
   "cell_type": "code",
   "execution_count": 177,
   "metadata": {},
   "outputs": [],
   "source": [
    "cf_wordsDf = cf_tokDf.withColumn('words', trimUdf(f.col('tokens')))"
   ]
  },
  {
   "cell_type": "code",
   "execution_count": 178,
   "metadata": {},
   "outputs": [],
   "source": [
    "cf_hashingTF = HashingTF(inputCol=\"nostops\", outputCol=\"features\")"
   ]
  },
  {
   "cell_type": "code",
   "execution_count": 179,
   "metadata": {},
   "outputs": [],
   "source": [
    "#불용어(위에 선언)와 hashing은 pipeline으로\n",
    "from pyspark.ml import Pipeline\n",
    "pipeline = Pipeline(stages=[stop,cf_hashingTF])"
   ]
  },
  {
   "cell_type": "code",
   "execution_count": 181,
   "metadata": {},
   "outputs": [],
   "source": [
    "model3=pipeline.fit(cf_wordsDf)"
   ]
  },
  {
   "cell_type": "code",
   "execution_count": 182,
   "metadata": {},
   "outputs": [],
   "source": [
    "cf_test_df = model3.transform(cf_wordsDf)"
   ]
  },
  {
   "cell_type": "code",
   "execution_count": 183,
   "metadata": {},
   "outputs": [
    {
     "name": "stdout",
     "output_type": "stream",
     "text": [
      "+-------------------------------+------------------------------+------------------------------+-----------------------------+--------------------+\n",
      "|                           sent|                        tokens|                         words|                      nostops|            features|\n",
      "+-------------------------------+------------------------------+------------------------------+-----------------------------+--------------------+\n",
      "|           Southampton opene...|          [southampton, ope...|          [southampton, ope...|         [southampton, ope...|(262144,[5381,172...|\n",
      "|손흥민은 전반 13분 역습 찬스...|  [손흥민은, 전반, 13분, 역...|  [손흥민은, 전반, 13분, 역...| [손흥민은, 전반, 13분, 역...|(262144,[17334,41...|\n",
      "|경기 후 시선은 손흥민의 25야...|[경기, 후, 시선은, 손흥민의...|[경기, 후, 시선은, 손흥민의...|[경기, 시선은, 손흥민의, 2...|(262144,[11346,13...|\n",
      "|김광현은 25일(이하 한국시간)...| [김광현은, 25일(이하, 한국...| [김광현은, 25일(이하, 한국...|[김광현은, 25일(이하, 한국...|(262144,[7169,743...|\n",
      "+-------------------------------+------------------------------+------------------------------+-----------------------------+--------------------+\n",
      "\n"
     ]
    }
   ],
   "source": [
    "cf_test_df.show()"
   ]
  },
  {
   "cell_type": "markdown",
   "metadata": {},
   "source": [
    "#### 3-4 (전체 데이터 이용하여 학습) 이용하여 예측"
   ]
  },
  {
   "cell_type": "code",
   "execution_count": 134,
   "metadata": {},
   "outputs": [],
   "source": [
    "predictions_cf1=model.transform(cf_test_df)"
   ]
  },
  {
   "cell_type": "code",
   "execution_count": 135,
   "metadata": {},
   "outputs": [
    {
     "name": "stdout",
     "output_type": "stream",
     "text": [
      "+-------------------------------+----------+\n",
      "|                           sent|prediction|\n",
      "+-------------------------------+----------+\n",
      "|           Southampton opene...|       0.0|\n",
      "|손흥민은 전반 13분 역습 찬스...|       0.0|\n",
      "|경기 후 시선은 손흥민의 25야...|       0.0|\n",
      "|김광현은 25일(이하 한국시간)...|       1.0|\n",
      "+-------------------------------+----------+\n",
      "\n"
     ]
    }
   ],
   "source": [
    "predictions_cf1.select('sent','prediction').show()"
   ]
  },
  {
   "cell_type": "markdown",
   "metadata": {},
   "source": [
    "#### 3-5(75% data만 이용하여 학습) 이용하여 예측"
   ]
  },
  {
   "cell_type": "code",
   "execution_count": 136,
   "metadata": {},
   "outputs": [],
   "source": [
    "predictions_cf2=model2.transform(cf_test_df)"
   ]
  },
  {
   "cell_type": "code",
   "execution_count": 137,
   "metadata": {},
   "outputs": [
    {
     "name": "stdout",
     "output_type": "stream",
     "text": [
      "+-------------------------------+----------+\n",
      "|                           sent|prediction|\n",
      "+-------------------------------+----------+\n",
      "|           Southampton opene...|       0.0|\n",
      "|손흥민은 전반 13분 역습 찬스...|       0.0|\n",
      "|경기 후 시선은 손흥민의 25야...|       0.0|\n",
      "|김광현은 25일(이하 한국시간)...|       1.0|\n",
      "+-------------------------------+----------+\n",
      "\n"
     ]
    }
   ],
   "source": [
    "predictions_cf2.select('sent','prediction').show()"
   ]
  },
  {
   "cell_type": "markdown",
   "metadata": {},
   "source": [
    "## (3-7) 단어빈도 높은 순으로 출력"
   ]
  },
  {
   "cell_type": "code",
   "execution_count": 138,
   "metadata": {
    "scrolled": true
   },
   "outputs": [
    {
     "data": {
      "text/plain": [
       "[(9, '후반'),\n",
       " (9, '전반'),\n",
       " (6, 'lg는'),\n",
       " (5, '경기를'),\n",
       " (5, '2루에서'),\n",
       " (5, '적시타로'),\n",
       " (5, '쿠에바스는'),\n",
       " (4, '페널티킥을'),\n",
       " (4, '첼시는'),\n",
       " (4, '못했다'),\n",
       " (4, '득점'),\n",
       " (4, '선발'),\n",
       " (4, '1사'),\n",
       " (4, '2루'),\n",
       " (4, '3루'),\n",
       " (4, '2사'),\n",
       " (4, '키움은'),\n",
       " (4, '리드를'),\n",
       " (4, '대타'),\n",
       " (4, 'kia는'),\n",
       " (3, '내준'),\n",
       " (3, '패스를'),\n",
       " (3, '동점골을'),\n",
       " (3, '성공시켰다'),\n",
       " (3, '좋은'),\n",
       " (3, 'psg는'),\n",
       " (3, '기록했다'),\n",
       " (3, '크로스를'),\n",
       " (3, '다그바가'),\n",
       " (3, '외국인'),\n",
       " (3, 'goals'),\n",
       " (3, '주자'),\n",
       " (3, '적시타를'),\n",
       " (3, '린드블럼은'),\n",
       " (3, '등판해'),\n",
       " (3, '시즌'),\n",
       " (3, '박용택의'),\n",
       " (2, '상황에'),\n",
       " (2, '부분이'),\n",
       " (2, '찬스를'),\n",
       " (2, '선수들은'),\n",
       " (2, '상황에서'),\n",
       " (2, '안병준이'),\n",
       " (2, '침착하게'),\n",
       " (2, '성공했다'),\n",
       " (2, '키커로'),\n",
       " (2, '안에서'),\n",
       " (2, '골을'),\n",
       " (2, '4분'),\n",
       " (2, '허용했다'),\n",
       " (2, '연결했다'),\n",
       " (2, '점수차를'),\n",
       " (2, '벌렸다'),\n",
       " (2, '빠른'),\n",
       " (2, '마쳤다'),\n",
       " (2, '질주한'),\n",
       " (2, '오른발'),\n",
       " (2, '시도했다'),\n",
       " (2, '공은'),\n",
       " (2, '많은'),\n",
       " (2, '슛을'),\n",
       " (2, '디마리아가'),\n",
       " (2, '넣었다'),\n",
       " (2, '만들었다'),\n",
       " (2, '수비를'),\n",
       " (2, '킨이'),\n",
       " (2, '골키퍼'),\n",
       " (2, '향했다'),\n",
       " (2, '다시'),\n",
       " (2, '골망을'),\n",
       " (2, '교체됐다'),\n",
       " (2, '승리가'),\n",
       " (2, '그는'),\n",
       " (2, '선수들이'),\n",
       " (2, '올시즌'),\n",
       " (2, '2년'),\n",
       " (2, '골대에'),\n",
       " (2, '2위에'),\n",
       " (2, '팀의'),\n",
       " (2, '안고'),\n",
       " (2, '승부의'),\n",
       " (2, '에이스'),\n",
       " (2, 'year'),\n",
       " (2, '없이'),\n",
       " (2, '있는'),\n",
       " (2, '등판에서'),\n",
       " (2, '잠실구장에서'),\n",
       " (2, '롯데'),\n",
       " (2, '경기에서'),\n",
       " (2, '이천웅의'),\n",
       " (2, '박용택이'),\n",
       " (2, '우중간'),\n",
       " (2, '1-4로'),\n",
       " (2, '번째'),\n",
       " (2, '투수'),\n",
       " (2, '끝내'),\n",
       " (2, '등판'),\n",
       " (2, '선발투수로'),\n",
       " (2, '최근'),\n",
       " (2, '평균자책점'),\n",
       " (2, '보였다'),\n",
       " (2, '타선의'),\n",
       " (2, '추신수는'),\n",
       " (2, '타자'),\n",
       " (2, '가운데'),\n",
       " (2, '감독은'),\n",
       " (2, '팀'),\n",
       " (2, '있었다'),\n",
       " (2, '연장'),\n",
       " (2, '13회'),\n",
       " (2, '막아내지'),\n",
       " (2, '좌익수'),\n",
       " (2, '무사'),\n",
       " (2, '유격수'),\n",
       " (2, '안타로'),\n",
       " (2, '키움'),\n",
       " (2, '동점을'),\n",
       " (2, '홍창기가'),\n",
       " (2, '승부에'),\n",
       " (2, 'lg에'),\n",
       " (2, '15일'),\n",
       " (2, '투수로서'),\n",
       " (2, '몫은'),\n",
       " (2, '삼자범퇴'),\n",
       " (2, '송구'),\n",
       " (2, '3루에서'),\n",
       " (2, '상대로'),\n",
       " (2, '박용택은'),\n",
       " (2, 'lg'),\n",
       " (1, '페널티킥'),\n",
       " (1, '나라를'),\n",
       " (1, '가봤지만'),\n",
       " (1, '우리나라'),\n",
       " (1, '심판'),\n",
       " (1, '수준에'),\n",
       " (1, '아쉽다'),\n",
       " (1, '앞으로'),\n",
       " (1, '나오면'),\n",
       " (1, '아쉬움을'),\n",
       " (1, '드러냈다'),\n",
       " (1, '놓치고'),\n",
       " (1, '최고의'),\n",
       " (1, '보여줬다고'),\n",
       " (1, '생각한다'),\n",
       " (1, '수원은'),\n",
       " (1, '막판'),\n",
       " (1, '공격'),\n",
       " (1, '상대의'),\n",
       " (1, '반칙이'),\n",
       " (1, '판단에'),\n",
       " (1, '온필드'),\n",
       " (1, '리뷰로'),\n",
       " (1, '얻었다'),\n",
       " (1, '성공시키며'),\n",
       " (1, '기적'),\n",
       " (1, '승격에'),\n",
       " (1, '주심은'),\n",
       " (1, 'var'),\n",
       " (1, '끝에'),\n",
       " (1, '페널티'),\n",
       " (1, '킥을'),\n",
       " (1, '선언했고'),\n",
       " (1, '나선'),\n",
       " (1, '차넣어'),\n",
       " (1, '득점에'),\n",
       " (1, '11분'),\n",
       " (1, '박스'),\n",
       " (1, '유려한'),\n",
       " (1, '드리블'),\n",
       " (1, '돌파를'),\n",
       " (1, '선보이며'),\n",
       " (1, '카일'),\n",
       " (1, '워커의'),\n",
       " (1, '이끌어냈다'),\n",
       " (1, '모하메드'),\n",
       " (1, '살라가'),\n",
       " (1, '선제골로'),\n",
       " (1, '마무리했다'),\n",
       " (1, '맨유는'),\n",
       " (1, '35분'),\n",
       " (1, '마커스'),\n",
       " (1, '래시퍼드가'),\n",
       " (1, '얻어낸'),\n",
       " (1, '성공하면서'),\n",
       " (1, '3-0으로'),\n",
       " (1, '격차를'),\n",
       " (1, '벌렸고'),\n",
       " (1, '30분'),\n",
       " (1, '바샥셰히르에'),\n",
       " (1, '허용했으나'),\n",
       " (1, '만에'),\n",
       " (1, '수비에서'),\n",
       " (1, '실수가'),\n",
       " (1, '나오면서'),\n",
       " (1, '패트릭'),\n",
       " (1, '뱀포드에게'),\n",
       " (1, '실점을'),\n",
       " (1, '리즈의'),\n",
       " (1, '리드는'),\n",
       " (1, '오래가지'),\n",
       " (1, '않았다'),\n",
       " (1, '27분'),\n",
       " (1, '리스'),\n",
       " (1, '제임스의'),\n",
       " (1, '받은'),\n",
       " (1, '지루가'),\n",
       " (1, '첼시가'),\n",
       " (1, '역전골을'),\n",
       " (1, '16분'),\n",
       " (1, '커트'),\n",
       " (1, '주마가'),\n",
       " (1, '마운트의'),\n",
       " (1, '득점으로'),\n",
       " (1, '이로써'),\n",
       " (1, '2-1로'),\n",
       " (1, '스코어를'),\n",
       " (1, '뒤집었다'),\n",
       " (1, '계속해서'),\n",
       " (1, '몰아치던'),\n",
       " (1, '추가시간'),\n",
       " (1, '풀리시치의'),\n",
       " (1, '쐐기골로'),\n",
       " (1, '더욱'),\n",
       " (1, '역습'),\n",
       " (1, '베르너의'),\n",
       " (1, '측면'),\n",
       " (1, '돌파가'),\n",
       " (1, '주효했다'),\n",
       " (1, '3-1'),\n",
       " (1, '승리로'),\n",
       " (1, '윤일록이'),\n",
       " (1, '경기장'),\n",
       " (1, '왼쪽에서'),\n",
       " (1, '드리블을'),\n",
       " (1, '선보였다'),\n",
       " (1, '펨벨레를'),\n",
       " (1, '완벽하게'),\n",
       " (1, '제친'),\n",
       " (1, '컷백은'),\n",
       " (1, '상대'),\n",
       " (1, '수비가'),\n",
       " (1, '차단했다'),\n",
       " (1, '39분'),\n",
       " (1, '윤일록은'),\n",
       " (1, '하프라인'),\n",
       " (1, '부근에서'),\n",
       " (1, '공을'),\n",
       " (1, '잡고'),\n",
       " (1, '중거리슛을'),\n",
       " (1, '크로스바'),\n",
       " (1, '위로'),\n",
       " (1, '크게'),\n",
       " (1, '벗어났다'),\n",
       " (1, '주전'),\n",
       " (1, '선수들을'),\n",
       " (1, '제외한'),\n",
       " (1, '내내'),\n",
       " (1, '몽펠리에'),\n",
       " (1, '수비진을'),\n",
       " (1, '공략하는데'),\n",
       " (1, '어려움을'),\n",
       " (1, '겪었다'),\n",
       " (1, '점유율은'),\n",
       " (1, '높았으나'),\n",
       " (1, '문전까지'),\n",
       " (1, '진입하지'),\n",
       " (1, '역습을'),\n",
       " (1, '통해'),\n",
       " (1, '득점을'),\n",
       " (1, '노린'),\n",
       " (1, '몽펠리에가'),\n",
       " (1, '주전급인'),\n",
       " (1, '제몫을'),\n",
       " (1, '해주면서'),\n",
       " (1, '선제골을'),\n",
       " (1, '33분'),\n",
       " (1, '왼쪽'),\n",
       " (1, '측면을'),\n",
       " (1, '날카로운'),\n",
       " (1, '올리자'),\n",
       " (1, '쇄도해'),\n",
       " (1, '밀어'),\n",
       " (1, '몽펠리에는'),\n",
       " (1, '41분'),\n",
       " (1, '몰레를'),\n",
       " (1, '향한'),\n",
       " (1, '윤일록의'),\n",
       " (1, '침투패스로부터'),\n",
       " (1, '공격이'),\n",
       " (1, '시작됐다'),\n",
       " (1, '이후'),\n",
       " (1, '라보르드가'),\n",
       " (1, '올린'),\n",
       " (1, '마비디디가'),\n",
       " (1, '잡아둔'),\n",
       " (1, '때리자'),\n",
       " (1, '팔을'),\n",
       " (1, '사용해'),\n",
       " (1, '방어했다'),\n",
       " (1, '재차'),\n",
       " (1, '때린'),\n",
       " (1, '슛은'),\n",
       " (1, '골키퍼가'),\n",
       " (1, '쳐냈으나'),\n",
       " (1, '이미'),\n",
       " (1, '골라인을'),\n",
       " (1, '통과한'),\n",
       " (1, '뒤였다'),\n",
       " (1, '인정과'),\n",
       " (1, '함께'),\n",
       " (1, '핸드볼'),\n",
       " (1, '파울로'),\n",
       " (1, '경고를'),\n",
       " (1, '받았다'),\n",
       " (1, '13분'),\n",
       " (1, 'psg가'),\n",
       " (1, '기회를'),\n",
       " (1, '펨벰레가'),\n",
       " (1, '우측에서'),\n",
       " (1, '벗겨낸'),\n",
       " (1, '컷백'),\n",
       " (1, '패스했고'),\n",
       " (1, '바로'),\n",
       " (1, '슛했으나'),\n",
       " (1, '정면으로'),\n",
       " (1, '32분'),\n",
       " (1, '앞서갔다'),\n",
       " (1, '하피냐가'),\n",
       " (1, '몽펠리에의'),\n",
       " (1, '패스'),\n",
       " (1, '실수를'),\n",
       " (1, '가로챈'),\n",
       " (1, '찔러줬고'),\n",
       " (1, '페널티박스'),\n",
       " (1, '받아'),\n",
       " (1, '강력한'),\n",
       " (1, '슛으로'),\n",
       " (1, '흔들었다'),\n",
       " (1, '킨은'),\n",
       " (1, '직후'),\n",
       " (1, '킬리앙'),\n",
       " (1, '음바페와'),\n",
       " (1, '골차'),\n",
       " (1, '절실했던'),\n",
       " (1, '수원에게는'),\n",
       " (1, '김건희의'),\n",
       " (1, '선제골이'),\n",
       " (1, '기적의'),\n",
       " (1, '포문과'),\n",
       " (1, '같았다'),\n",
       " (1, '햄스트링'),\n",
       " (1, '부상'),\n",
       " (1, '중임에도'),\n",
       " (1, '결승골까지'),\n",
       " (1, '뽑아낸'),\n",
       " (1, '보면'),\n",
       " (1, '어떤'),\n",
       " (1, '마음가짐으로'),\n",
       " (1, '뛰는'),\n",
       " (1, '누가'),\n",
       " (1, '봐도'),\n",
       " (1, '있을'),\n",
       " (1, '것이다며'),\n",
       " (1, '기대에'),\n",
       " (1, '미치는'),\n",
       " (1, '모습으로'),\n",
       " (1, '실망을'),\n",
       " (1, '안겨드렸지만'),\n",
       " (1, '대회에서는'),\n",
       " (1, '기쁨을'),\n",
       " (1, '전하고'),\n",
       " (1, '싶다'),\n",
       " (1, '어제'),\n",
       " (1, '헤딩골'),\n",
       " (1, '장면은'),\n",
       " (1, '울산과'),\n",
       " (1, 'afc챔피언스리그'),\n",
       " (1, '16강전'),\n",
       " (1, '헤딩'),\n",
       " (1, '골과'),\n",
       " (1, '흡사했다'),\n",
       " (1, '공교롭게도'),\n",
       " (1, '골대(본부석'),\n",
       " (1, '오른쪽)와'),\n",
       " (1, '인연이'),\n",
       " (1, '깊다'),\n",
       " (1, 'k리그'),\n",
       " (1, '데뷔골도'),\n",
       " (1, '그랬고'),\n",
       " (1, '슈퍼매치'),\n",
       " (1, '골도'),\n",
       " (1, '울산전'),\n",
       " (1, '때도'),\n",
       " (1, '2골을'),\n",
       " (1, '넣었는데'),\n",
       " (1, '어제도'),\n",
       " (1, '상황이었다.'),\n",
       " (1, '조별리그에서'),\n",
       " (1, '시나리오를'),\n",
       " (1, '있었던'),\n",
       " (1, '원동력은'),\n",
       " (1, '고른'),\n",
       " (1, '분포다'),\n",
       " (1, '물오른'),\n",
       " (1, '윤빛가람(4골'),\n",
       " (1, '1도움)은'),\n",
       " (1, '11월21일'),\n",
       " (1, '상하이전에'),\n",
       " (1, '30일'),\n",
       " (1, '도쿄전에서도'),\n",
       " (1, '멀티골을'),\n",
       " (1, '터트리며'),\n",
       " (1, '울산의'),\n",
       " (1, '해결사로'),\n",
       " (1, '떠올랐다'),\n",
       " (1, '대회'),\n",
       " (1, '4골로'),\n",
       " (1, '공동'),\n",
       " (1, '등극했다'),\n",
       " (1, '24일'),\n",
       " (1, '퍼스'),\n",
       " (1, '글로리전에서는'),\n",
       " (1, '김인성의'),\n",
       " (1, '돕기도'),\n",
       " (1, '하며'),\n",
       " (1, '핵심'),\n",
       " (1, '역할을'),\n",
       " (1, '해내고'),\n",
       " (1, '윤빛가람은'),\n",
       " (1, '모든'),\n",
       " (1, '선수가'),\n",
       " (1, '즐기면서'),\n",
       " (1, '시너지가'),\n",
       " (1, '찬스에서'),\n",
       " (1, '과감하게'),\n",
       " (1, '슈팅하라는'),\n",
       " (1, '감독님의'),\n",
       " (1, '지시가'),\n",
       " (1, '있었는데'),\n",
       " (1, '들어맞고'),\n",
       " (1, '준비'),\n",
       " (1, '잘해서'),\n",
       " (1, '결과를'),\n",
       " (1, '16강전을'),\n",
       " (1, '준비하겠다며'),\n",
       " (1, '각오를'),\n",
       " (1, '다졌다'),\n",
       " (1, '서지연'),\n",
       " (1, '나히'),\n",
       " (1, '강유미'),\n",
       " (1, '스리톱을'),\n",
       " (1, '최전방에'),\n",
       " (1, '이은지'),\n",
       " (1, '전은하'),\n",
       " (1, '박예은'),\n",
       " (1, '아스나를'),\n",
       " (1, '2선에'),\n",
       " (1, '내세운'),\n",
       " (1, '경주한수원은'),\n",
       " (1, '초반부터'),\n",
       " (1, '적극적인'),\n",
       " (1, '공세로'),\n",
       " (1, '지배했지만'),\n",
       " (1, '수원도시공사'),\n",
       " (1, '국대'),\n",
       " (1, '전하늘의'),\n",
       " (1, '선방에'),\n",
       " (1, '막혔다'),\n",
       " (1, '11개의'),\n",
       " (1, '슈팅이'),\n",
       " (1, '불발되며'),\n",
       " (1, '전반을'),\n",
       " (1, '0-0으로'),\n",
       " (1, '21분'),\n",
       " (1, '팽팽했던'),\n",
       " (1, '균형이'),\n",
       " (1, '깨졌다'),\n",
       " (1, '정규리그'),\n",
       " (1, '도움'),\n",
       " (1, '빛나는'),\n",
       " (1, '선수'),\n",
       " (1, '나히의'),\n",
       " (1, '이어받은'),\n",
       " (1, '서지연이'),\n",
       " (1, '날선'),\n",
       " (1, '헤더로'),\n",
       " (1, '흔들며'),\n",
       " (1, '경주한수원의'),\n",
       " (1, '승리를'),\n",
       " (1, '이끌었다'),\n",
       " (1, '수원도시공사는'),\n",
       " (1, '25분'),\n",
       " (1, '여민지와'),\n",
       " (1, '이정은을'),\n",
       " (1, '동시'),\n",
       " (1, '투입해'),\n",
       " (1, '노렸지만'),\n",
       " (1, '뜻을'),\n",
       " (1, '이루지'),\n",
       " (1, 'chelsea'),\n",
       " (1, 'went'),\n",
       " (1, 'ahead'),\n",
       " (1, '61st'),\n",
       " (1, 'minute'),\n",
       " (1, 'kurt'),\n",
       " (1, 'zouma'),\n",
       " (1, 'jumped'),\n",
       " (1, 'higher'),\n",
       " (1, 'everyone'),\n",
       " (1, 'power'),\n",
       " (1, 'mason'),\n",
       " (1, 'mount'),\n",
       " (1, 'corner'),\n",
       " (1, 'net'),\n",
       " (1, 'christian'),\n",
       " (1, 'pulisic'),\n",
       " (1, 'sealed'),\n",
       " (1, 'win'),\n",
       " (1, 'added'),\n",
       " (1, 'time'),\n",
       " (1, 'turned'),\n",
       " (1, 'cross'),\n",
       " (1, 'timo'),\n",
       " (1, 'werner'),\n",
       " (1, 'south'),\n",
       " (1, 'korean'),\n",
       " (1, 'attacker'),\n",
       " (1, 'scored'),\n",
       " (1, 'throughout'),\n",
       " (1, 'season'),\n",
       " (1, 'including'),\n",
       " (1, 'two'),\n",
       " (1, 'europa'),\n",
       " (1, 'league'),\n",
       " (1, 'mark'),\n",
       " (1, 'fifth'),\n",
       " (1, 'consecutive'),\n",
       " (1, 'scoring'),\n",
       " (1, 'least'),\n",
       " (1, '카펜터는'),\n",
       " (1, '130㎞대'),\n",
       " (1, '후반에서'),\n",
       " (1, '140㎞대'),\n",
       " (1, '초반의'),\n",
       " (1, '패스트볼을'),\n",
       " (1, '던진다'),\n",
       " (1, '공이'),\n",
       " (1, '유형은'),\n",
       " (1, '아니지만'),\n",
       " (1, '적극적으로'),\n",
       " (1, '스트라이크존을'),\n",
       " (1, '공략한다'),\n",
       " (1, '100구'),\n",
       " (1, '이상을'),\n",
       " (1, '무리'),\n",
       " (1, '던질'),\n",
       " (1, '체력도'),\n",
       " (1, '갖췄다'),\n",
       " (1, '김현수는'),\n",
       " (1, '5이닝동안'),\n",
       " (1, '삼진을'),\n",
       " (1, '7개나'),\n",
       " (1, '잡는'),\n",
       " (1, '무실점'),\n",
       " (1, '호투로'),\n",
       " (1, '데뷔'),\n",
       " (1, '승의'),\n",
       " (1, '감격을'),\n",
       " (1, '맛봤습니다'),\n",
       " (1, '17일'),\n",
       " (1, '벌어진'),\n",
       " (1, '자이언츠와의'),\n",
       " (1, '타일러'),\n",
       " (1, '윌슨의'),\n",
       " (1, '호투와'),\n",
       " (1, '이천웅'),\n",
       " (1, '김현수의'),\n",
       " (1, '홈런을'),\n",
       " (1, '앞세워'),\n",
       " (1, '9-1로'),\n",
       " (1, '승리했다'),\n",
       " (1, '2회말'),\n",
       " (1, '박용택'),\n",
       " (1, '연속'),\n",
       " (1, '안타와'),\n",
       " (1, '양석환의'),\n",
       " (1, '희생번트로'),\n",
       " (1, '3루를'),\n",
       " (1, '만든'),\n",
       " (1, '유강남의'),\n",
       " (1, '땅볼'),\n",
       " (1, '홈인'),\n",
       " (1, '선취점을'),\n",
       " (1, '올렸다'),\n",
       " (1, '이어진'),\n",
       " (1, '뽑아내'),\n",
       " (1, '1점을'),\n",
       " (1, '보탠'),\n",
       " (1, '후속타자'),\n",
       " (1, '이천웅이'),\n",
       " (1, '오른쪽'),\n",
       " (1, '담장을'),\n",
       " (1, '넘기는'),\n",
       " (1, '투런'),\n",
       " (1, '홈런(시즌'),\n",
       " (1, '3호)을'),\n",
       " (1, '쏘아올려'),\n",
       " (1, '5-0으로'),\n",
       " (1, '7일(한국시간)'),\n",
       " (1, '미국'),\n",
       " (1, '오하이오주'),\n",
       " (1, '클리블랜드의'),\n",
       " (1, '프로그레시브필드에서'),\n",
       " (1, '메이저리그'),\n",
       " (1, '클리블랜드'),\n",
       " (1, '인디언스와'),\n",
       " (1, '밀워키가'),\n",
       " (1, '뒤진'),\n",
       " (1, '7회말'),\n",
       " (1, '투수로'),\n",
       " (1, '1이닝'),\n",
       " (1, '2탈삼진'),\n",
       " (1, '무실점을'),\n",
       " (1, '8회초'),\n",
       " (1, '드류'),\n",
       " (1, '라스무센에게'),\n",
       " (1, '마운드를'),\n",
       " (1, '넘겼다'),\n",
       " (1, '밀워키는'),\n",
       " (1, '뒤집지'),\n",
       " (1, '못하며'),\n",
       " (1, '졌다'),\n",
       " (1, '린드블럼의'),\n",
       " (1, '불펜'),\n",
       " (1, '밀워키'),\n",
       " (1, '선발로테이션에서'),\n",
       " (1, '밀려난'),\n",
       " (1, '것으로'),\n",
       " (1, '보인다'),\n",
       " (1, '시즌을'),\n",
       " (1, '출발했으나'),\n",
       " (1, '부진의'),\n",
       " (1, '여파를'),\n",
       " (1, '피하지'),\n",
       " (1, '못한'),\n",
       " (1, '모양새다'),\n",
       " (1, '전까지'),\n",
       " (1, '7차례'),\n",
       " (1, '1승3패'),\n",
       " (1, '6.46의'),\n",
       " (1, '난조를'),\n",
       " (1, '지난'),\n",
       " (1, '3일'),\n",
       " (1, '신시내티전에서도'),\n",
       " (1, '선발로'),\n",
       " (1, '5이닝'),\n",
       " (1, '6피안타(1피홈런)'),\n",
       " (1, '3볼넷'),\n",
       " (1, '4탈삼진'),\n",
       " (1, '4실점으로'),\n",
       " (1, '패전투수를'),\n",
       " (1, '떠안았다'),\n",
       " (1, '류현진이'),\n",
       " (1, '상대할'),\n",
       " (1, '양키스는'),\n",
       " (1, '몇몇'),\n",
       " (1, '주축'),\n",
       " (1, '부상으로'),\n",
       " (1, '빠졌지만'),\n",
       " (1, '응집력은'),\n",
       " (1, '조심해야'),\n",
       " (1, '필요가'),\n",
       " (1, '더욱이'),\n",
       " (1, '류현진은'),\n",
       " (1, 'la'),\n",
       " (1, '다저스'),\n",
       " (1, '소속으로'),\n",
       " (1, '양키스전에'),\n",
       " (1, '2경기에'),\n",
       " (1, '2패'),\n",
       " (1, '8.71로'),\n",
       " (1, '약세를'),\n",
       " (1, '8월에는'),\n",
       " (1, '4⅓이닝'),\n",
       " (1, '7실점으로'),\n",
       " (1, '무너진'),\n",
       " (1, '아픈'),\n",
       " (1, '기억이'),\n",
       " (1, '타율'),\n",
       " (1, '2할2푼4리에'),\n",
       " (1, '불과하나'),\n",
       " (1, '현재'),\n",
       " (1, '팀내'),\n",
       " (1, '안정적이다'),\n",
       " (1, '크리스'),\n",
       " (1, '우드워드'),\n",
       " (1, '젊은'),\n",
       " (1, '타자들이'),\n",
       " (1, '추신수를'),\n",
       " (1, '보고'),\n",
       " (1, '배우길'),\n",
       " (1, '바란다고'),\n",
       " (1, '덧붙였다'),\n",
       " (1, '매체는'),\n",
       " (1, '젊어지지'),\n",
       " (1, '않지만'),\n",
       " (1, '추신수'),\n",
       " (1, '뒤에'),\n",
       " (1, '젊어졌다'),\n",
       " (1, '엘비스'),\n",
       " (1, '앤드루스가'),\n",
       " (1, '벤치를'),\n",
       " (1, '지키는'),\n",
       " (1, '시간이'),\n",
       " (1, '늘어났고'),\n",
       " (1, '루그네드'),\n",
       " (1, '오도어가'),\n",
       " (1, '부상자'),\n",
       " (1, '명단에'),\n",
       " (1, '오른'),\n",
       " (1, '추신수가'),\n",
       " (1, '주축이'),\n",
       " (1, '됐다고'),\n",
       " (1, '전했다'),\n",
       " (1, '2일'),\n",
       " (1, 'lg와의'),\n",
       " (1, '와일드카드'),\n",
       " (1, '결정전(wc)을'),\n",
       " (1, '3-4(연장'),\n",
       " (1, '13회)로'),\n",
       " (1, '패했다'),\n",
       " (1, '1승'),\n",
       " (1, '페널티를'),\n",
       " (1, 'wc를'),\n",
       " (1, '시작한'),\n",
       " (1, '5위'),\n",
       " (1, '경기에'),\n",
       " (1, '승리해야'),\n",
       " (1, '2차전을'),\n",
       " (1, '기대할'),\n",
       " (1, '첫판에서'),\n",
       " (1, '패하면서'),\n",
       " (1, '준플레이오프'),\n",
       " (1, '진출에'),\n",
       " (1, '실패했다'),\n",
       " (1, '기회가'),\n",
       " (1, '없었던'),\n",
       " (1, '아니다'),\n",
       " (1, '2-2로'),\n",
       " (1, '맞선'),\n",
       " (1, '나온'),\n",
       " (1, '박동원의'),\n",
       " (1, '3-2'),\n",
       " (1, '잡았다'),\n",
       " (1, '눈앞이었다'),\n",
       " (1, '말을'),\n",
       " (1, '선두타자'),\n",
       " (1, '이형종이'),\n",
       " (1, '좌중간'),\n",
       " (1, '타구가'),\n",
       " (1, '향방을'),\n",
       " (1, '180도'),\n",
       " (1, '바꿨다'),\n",
       " (1, '김혜성이'),\n",
       " (1, '쇄도'),\n",
       " (1, '다이빙'),\n",
       " (1, '캐치를'),\n",
       " (1, '포구하지'),\n",
       " (1, '못하면서'),\n",
       " (1, '2루가'),\n",
       " (1, '공식'),\n",
       " (1, '기록은'),\n",
       " (1, '2루타였지만'),\n",
       " (1, '안정적인'),\n",
       " (1, '했다면'),\n",
       " (1, '단타로'),\n",
       " (1, '막을'),\n",
       " (1, '오지환이'),\n",
       " (1, '땅볼로'),\n",
       " (1, '아웃됐다'),\n",
       " (1, '김민성이'),\n",
       " (1, '우전'),\n",
       " (1, '유강남이'),\n",
       " (1, '2루수'),\n",
       " (1, '플라이로'),\n",
       " (1, '물러나'),\n",
       " (1, '정근우의'),\n",
       " (1, '도루'),\n",
       " (1, '성공으로'),\n",
       " (1, '배터리를'),\n",
       " (1, '압박했다'),\n",
       " (1, '방면'),\n",
       " (1, '내야'),\n",
       " (1, '극적인'),\n",
       " (1, '자동'),\n",
       " (1, '고의'),\n",
       " (1, '4구를'),\n",
       " (1, '얻어'),\n",
       " (1, '베이스가'),\n",
       " (1, '찼고'),\n",
       " (1, '신민재가'),\n",
       " (1, '마침표를'),\n",
       " (1, '찍었다'),\n",
       " (1, '김혜성의'),\n",
       " (1, '수비'),\n",
       " (1, '하나가'),\n",
       " (1, '추격'),\n",
       " (1, '빌미를'),\n",
       " (1, '제공했다'),\n",
       " (1, '수원케이티위즈파크에서'),\n",
       " (1, '신한은행'),\n",
       " (1, 'sol'),\n",
       " (1, 'kbo리그'),\n",
       " (1, '히어로즈와'),\n",
       " (1, '16차전에서'),\n",
       " (1, '6이닝'),\n",
       " (1, '동안'),\n",
       " (1, '99구'),\n",
       " (1, '던져'),\n",
       " (1, '5피안타'),\n",
       " (1, '7탈삼진'),\n",
       " (1, '1볼넷'),\n",
       " (1, '4실점(1자책)했는데도'),\n",
       " (1, '11승'),\n",
       " (1, '도전은'),\n",
       " (1, '무산됐고'),\n",
       " (1, '되레'),\n",
       " (1, '패전'),\n",
       " (1, '투수가'),\n",
       " (1, '기복은'),\n",
       " (1, '없었다'),\n",
       " (1, '10월'),\n",
       " (1, '2경기에서'),\n",
       " (1, '9⅓이닝'),\n",
       " (1, '던지는'),\n",
       " (1, '그쳤고'),\n",
       " (1, '12실점(11자책)해'),\n",
       " (1, '다하지'),\n",
       " (1, '이강철'),\n",
       " (1, '감독이'),\n",
       " (1, '브리핑에서'),\n",
       " (1, '강조할'),\n",
       " (1, '정도였다'),\n",
       " (1, '했다'),\n",
       " (1, '6회'),\n",
       " (1, '차례'),\n",
       " (1, '이닝만'),\n",
       " (1, '아니라'),\n",
       " (1, '득점권'),\n",
       " (1, '위기에서'),\n",
       " (1, '실점으로'),\n",
       " (1, '막는'),\n",
       " (1, '내용'),\n",
       " (1, '그랬다'),\n",
       " (1, '2회'),\n",
       " (1, '2사까지'),\n",
       " (1, '잡고도'),\n",
       " (1, '포수'),\n",
       " (1, '실책'),\n",
       " (1, '1루수'),\n",
       " (1, '실책까지'),\n",
       " (1, '터져'),\n",
       " (1, '비자책'),\n",
       " (1, '2실점했다'),\n",
       " (1, '4회'),\n",
       " (1, '실점'),\n",
       " (1, '안정을'),\n",
       " (1, '되찾았다'),\n",
       " (1, '그런데도'),\n",
       " (1, '5회'),\n",
       " (1, '불운했다'),\n",
       " (1, '포일이'),\n",
       " (1, '나와'),\n",
       " (1, '추가'),\n",
       " (1, '실점했고'),\n",
       " (1, '계속되는'),\n",
       " (1, '박병호에게'),\n",
       " (1, '1타점'),\n",
       " (1, '중전'),\n",
       " (1, '맞았다'),\n",
       " (1, '이때까지'),\n",
       " (1, '1자책했다'),\n",
       " (1, '4회초'),\n",
       " (1, '8득점'),\n",
       " (1, '빅이닝에'),\n",
       " (1, '성공하며'),\n",
       " (1, '10-3'),\n",
       " (1, '7점'),\n",
       " (1, '차의'),\n",
       " (1, '잡았으나'),\n",
       " (1, 'nc의'),\n",
       " (1, '뒷심을'),\n",
       " (1, '못하고'),\n",
       " (1, '8회말'),\n",
       " (1, '11-11'),\n",
       " (1, '악몽'),\n",
       " (1, '역전패가'),\n",
       " (1, '눈앞이었던'),\n",
       " (1, '9회초'),\n",
       " (1, '나지완의'),\n",
       " (1, '기사회생했다'),\n",
       " (1, '타석에'),\n",
       " (1, '들어선'),\n",
       " (1, '나지완은'),\n",
       " (1, 'nc'),\n",
       " (1, '마무리'),\n",
       " (1, '원종현을'),\n",
       " (1, '앞에'),\n",
       " (1, '떨어지는'),\n",
       " (1, '최정민을'),\n",
       " (1, '홈으로'),\n",
       " (1, '불러들이고'),\n",
       " (1, '되찾아왔다'),\n",
       " (1, '9회말'),\n",
       " (1, '박준표가'),\n",
       " (1, '무실점으로'),\n",
       " (1, '막아내'),\n",
       " (1, '진땀승을'),\n",
       " (1, '거뒀다'),\n",
       " (1, '선두'),\n",
       " (1, 'nc와의'),\n",
       " (1, '주중'),\n",
       " (1, '3연전을'),\n",
       " (1, '2승'),\n",
       " (1, '1패로'),\n",
       " (1, '마무리한'),\n",
       " (1, '패한'),\n",
       " (1, '자이언츠와'),\n",
       " (1, '자리바꿈'),\n",
       " (1, '속에'),\n",
       " (1, '6위로'),\n",
       " (1, '올라서며'),\n",
       " (1, '실낱같은'),\n",
       " (1, '5강'),\n",
       " (1, '희망을'),\n",
       " (1, '이어갔다'),\n",
       " (1, 'kia의'),\n",
       " (1, '프레스턴'),\n",
       " (1, '터커는'),\n",
       " (1, '1회초'),\n",
       " (1, '선제'),\n",
       " (1, '투런포로'),\n",
       " (1, '30홈런을'),\n",
       " (1, '완성하고'),\n",
       " (1, '구단'),\n",
       " (1, '최초로'),\n",
       " (1, '30홈런-100타점'),\n",
       " (1, '고지에'),\n",
       " (1, '올랐다'),\n",
       " (1, '이번에도'),\n",
       " (1, '방망이는'),\n",
       " (1, '날카롭게'),\n",
       " (1, '돌았다'),\n",
       " (1, '서준원을'),\n",
       " (1, '때려낸'),\n",
       " (1, '우측'),\n",
       " (1, '담장'),\n",
       " (1, '위를'),\n",
       " (1, '맞고'),\n",
       " (1, '나왔고'),\n",
       " (1, '채은성이'),\n",
       " (1, '홈을'),\n",
       " (1, '밟았다'),\n",
       " (1, '홈런이'),\n",
       " (1, '것이'),\n",
       " (1, '아쉬웠지만'),\n",
       " (1, '3-1의'),\n",
       " (1, '안긴'),\n",
       " (1, '천금'),\n",
       " (1, '2루타였다'),\n",
       " (1, '곧바로'),\n",
       " (1, '대주자'),\n",
       " (1, '구본혁으로'),\n",
       " (1, '타율은'),\n",
       " (1, '타점은'),\n",
       " (1, '5개가'),\n",
       " (1, '사직에서의'),\n",
       " (1, '마지막'),\n",
       " (1, '임무를'),\n",
       " (1, '완벽히'),\n",
       " (1, '수행한'),\n",
       " (1, '사직구장을'),\n",
       " (1, '찾은'),\n",
       " (1, '원정'),\n",
       " (1, '팬들의'),\n",
       " (1, '뜨거운'),\n",
       " (1, '박수를'),\n",
       " (1, '받으며'),\n",
       " (1, '더그아웃으로'),\n",
       " (1, '헬멧을'),\n",
       " (1, '벗어'),\n",
       " (1, '들고'),\n",
       " (1, '팬들에게'),\n",
       " (1, '인사를'),\n",
       " (1, '건넸다'),\n",
       " (1, '아름다운'),\n",
       " (1, '고별'),\n",
       " (1, '타석이었다'),\n",
       " (1, '2타점'),\n",
       " (1, '치면서'),\n",
       " ...]"
      ]
     },
     "execution_count": 138,
     "metadata": {},
     "output_type": "execute_result"
    }
   ],
   "source": [
    "stopDf.select(\"nostops\")\\\n",
    "    .rdd\\\n",
    "    .flatMap(lambda x:x).flatMap(lambda x:x)\\\n",
    "    .map(lambda x:(x,1))\\\n",
    "    .reduceByKey(lambda x,y:x+y)\\\n",
    "    .map(lambda x:(x[1],x[0]))\\\n",
    "    .sortByKey(False)\\\n",
    "    .collect()"
   ]
  },
  {
   "cell_type": "code",
   "execution_count": null,
   "metadata": {},
   "outputs": [],
   "source": []
  }
 ],
 "metadata": {
  "kernelspec": {
   "display_name": "Python 3",
   "language": "python",
   "name": "python3"
  },
  "language_info": {
   "codemirror_mode": {
    "name": "ipython",
    "version": 3
   },
   "file_extension": ".py",
   "mimetype": "text/x-python",
   "name": "python",
   "nbconvert_exporter": "python",
   "pygments_lexer": "ipython3",
   "version": "3.7.6"
  }
 },
 "nbformat": 4,
 "nbformat_minor": 4
}
