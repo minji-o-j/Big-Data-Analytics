{
 "cells": [
  {
   "cell_type": "markdown",
   "metadata": {},
   "source": [
    "# 201810808 정민지"
   ]
  },
  {
   "cell_type": "code",
   "execution_count": 1,
   "metadata": {},
   "outputs": [],
   "source": [
    "from pyspark.context import SparkContext\n",
    "from pyspark.sql.session import SparkSession\n",
    "sc = SparkContext('local')\n",
    "spark = SparkSession(sc)"
   ]
  },
  {
   "cell_type": "markdown",
   "metadata": {},
   "source": [
    "## 문제 1 : 2020년 8월 서울시 지하철호선별 역별 승하차 인원 정보\n",
    "\n",
    "\n",
    "'서울시 지하철호선별 역별 승하차 인원 정보'를 검색하거나,\n",
    "\n",
    "https://data.seoul.go.kr/dataList/OA-12914/S/1/datasetView.do\n",
    "\n",
    "사이트를 방문한다. 분석할 파일은 'CARD_SUBWAY_MONTH_202008.csv'이다."
   ]
  },
  {
   "cell_type": "markdown",
   "metadata": {},
   "source": [
    "### 1-1) DataFrame 생성하고, 스키마는 자동인식하여 출력"
   ]
  },
  {
   "cell_type": "code",
   "execution_count": 2,
   "metadata": {},
   "outputs": [],
   "source": [
    "_subway = spark.read.format('com.databricks.spark.csv')\\\n",
    "    .options(header='true', inferschema='true').load('data/CARD_SUBWAY_MONTH_202008.csv')"
   ]
  },
  {
   "cell_type": "markdown",
   "metadata": {},
   "source": [
    "#### 답"
   ]
  },
  {
   "cell_type": "code",
   "execution_count": 3,
   "metadata": {
    "scrolled": true
   },
   "outputs": [
    {
     "name": "stdout",
     "output_type": "stream",
     "text": [
      "root\n",
      " |-- 사용일자: integer (nullable = true)\n",
      " |-- 노선명: string (nullable = true)\n",
      " |-- 역ID: string (nullable = true)\n",
      " |-- 역명: integer (nullable = true)\n",
      " |-- 승차총승객수: integer (nullable = true)\n",
      " |-- 하차총승객수: integer (nullable = true)\n",
      " |-- 등록일자: string (nullable = true)\n",
      "\n"
     ]
    }
   ],
   "source": [
    "_subway.printSchema()"
   ]
  },
  {
   "cell_type": "markdown",
   "metadata": {},
   "source": [
    "### 1-2) 컬럼명을 변경하고, 스키마 출력"
   ]
  },
  {
   "cell_type": "code",
   "execution_count": 4,
   "metadata": {},
   "outputs": [],
   "source": [
    "subway=_subway\\\n",
    "    .withColumnRenamed(\"사용일자\", \"dataUse\")\\\n",
    "    .withColumnRenamed(\"노선명\", \"line\")\\\n",
    "    .withColumnRenamed(\"역ID\", \"stationID\")\\\n",
    "    .withColumnRenamed(\"역명\", \"station\")\\\n",
    "    .withColumnRenamed(\"승차총승객수\", \"NInPassengers\")\\\n",
    "    .withColumnRenamed(\"하차총승객수\", \"NOutPassengers\")\\\n",
    "    .withColumnRenamed(\"등록일자\", \"dateRegi\")"
   ]
  },
  {
   "cell_type": "markdown",
   "metadata": {},
   "source": [
    "#### 답"
   ]
  },
  {
   "cell_type": "code",
   "execution_count": 5,
   "metadata": {},
   "outputs": [
    {
     "name": "stdout",
     "output_type": "stream",
     "text": [
      "root\n",
      " |-- dataUse: integer (nullable = true)\n",
      " |-- line: string (nullable = true)\n",
      " |-- stationID: string (nullable = true)\n",
      " |-- station: integer (nullable = true)\n",
      " |-- NInPassengers: integer (nullable = true)\n",
      " |-- NOutPassengers: integer (nullable = true)\n",
      " |-- dateRegi: string (nullable = true)\n",
      "\n"
     ]
    }
   ],
   "source": [
    "subway.printSchema()"
   ]
  },
  {
   "cell_type": "markdown",
   "metadata": {},
   "source": [
    "### 1-3) 노선별 승하차합계가 가장 높은 역을 출력 (모든 노선 출력)"
   ]
  },
  {
   "cell_type": "markdown",
   "metadata": {},
   "source": [
    "#### 역별 승하차 합계 컬럼 생성"
   ]
  },
  {
   "cell_type": "code",
   "execution_count": 6,
   "metadata": {},
   "outputs": [],
   "source": [
    "import pyspark.sql.functions as F\n",
    "from pyspark.sql.types import IntegerType\n",
    "sum_columns = F.udf(lambda x,y: x+y,IntegerType())"
   ]
  },
  {
   "cell_type": "code",
   "execution_count": 7,
   "metadata": {},
   "outputs": [],
   "source": [
    "subway=subway.withColumn(\"SumInOut\", sum_columns('NInPassengers','NOutPassengers'))"
   ]
  },
  {
   "cell_type": "markdown",
   "metadata": {},
   "source": [
    "#### 노선별 승하차 합계가 가장 높은 역 출력"
   ]
  },
  {
   "cell_type": "code",
   "execution_count": 8,
   "metadata": {},
   "outputs": [],
   "source": [
    "from pyspark.sql.window import Window\n",
    "win = Window.partitionBy(\"line\").orderBy(F.col(\"SumInOut\").desc()) # line기준 SumInOut 많은것부터 count"
   ]
  },
  {
   "cell_type": "markdown",
   "metadata": {},
   "source": [
    "#### 답"
   ]
  },
  {
   "cell_type": "code",
   "execution_count": 9,
   "metadata": {
    "scrolled": false
   },
   "outputs": [
    {
     "name": "stdout",
     "output_type": "stream",
     "text": [
      "+--------+--------------+--------------------+-------+-------------+--------------+--------+--------+----+\n",
      "| dataUse|          line|           stationID|station|NInPassengers|NOutPassengers|dateRegi|SumInOut|rank|\n",
      "+--------+--------------+--------------------+-------+-------------+--------------+--------+--------+----+\n",
      "|20200807|        일산선|                화정|  17591|        17916|      20200810|    null|20218726|   1|\n",
      "|20200814|        장항선|            온양온천|   4528|         4534|      20200817|    null|20205351|   1|\n",
      "|20200807|        경부선|              영등포|  43168|        46982|      20200810|    null|20247792|   1|\n",
      "|20200812|    우이신설선|        북한산보국문|   5432|         5200|      20200815|    null|20206015|   1|\n",
      "|20200814|        분당선|                야탑|  25876|        27587|      20200817|    null|20228404|   1|\n",
      "|20200812|         7호선|      가산디지털단지|  46117|        46836|      20200815|    null|20247651|   1|\n",
      "|20200812|        수인선|            인천논현|   5428|         5761|      20200815|    null|20206576|   1|\n",
      "|20200807|        안산선|                산본|  16478|        17897|      20200810|    null|20218707|   1|\n",
      "|20200812|         4호선|                혜화|  34232|        35109|      20200815|    null|20235924|   1|\n",
      "|20200814|         1호선|              서울역|  46822|        49099|      20200817|    null|20249916|   1|\n",
      "|20200813|        경의선|                일산|   9812|         9629|      20200816|    null|20210445|   1|\n",
      "|20200814|         3호선|          고속터미널|  49312|        57842|      20200817|    null|20258659|   1|\n",
      "|20200813|        경강선|            경기광주|   7042|         6561|      20200816|    null|20207377|   1|\n",
      "|20200807|        경춘선|            평내호평|   5904|         5788|      20200810|    null|20206598|   1|\n",
      "|20200807|         9호선|              신논현|  35701|        38782|      20200810|    null|20239592|   1|\n",
      "|20200807|         6호선|                공덕|  19817|        19484|      20200810|    null|20220294|   1|\n",
      "|20200815|         5호선|광화문(세종문화회관)|  39181|        39792|      20200818|    null|20240610|   1|\n",
      "|20200810|         8호선|                문정|  21546|        22525|      20200813|    null|20223338|   1|\n",
      "|20200807|        과천선|                범계|  26478|        26718|      20200810|    null|20227528|   1|\n",
      "|20200814|        경인선|                부평|  31226|        35539|      20200817|    null|20236356|   1|\n",
      "|20200807|        중앙선|                회기|  24548|        23474|      20200810|    null|20224284|   1|\n",
      "|20200814|  9호선2~3단계|              봉은사|  19184|        19435|      20200817|    null|20220252|   1|\n",
      "|20200807|         2호선|                강남|  98692|       104043|      20200810|    null|20304853|   1|\n",
      "|20200811|공항철도 1호선|    디지털미디어시티|  14311|        13310|      20200814|    null|20214124|   1|\n",
      "|20200807|        경원선|              의정부|  18455|        20025|      20200810|    null|20220835|   1|\n",
      "+--------+--------------+--------------------+-------+-------------+--------------+--------+--------+----+\n",
      "\n"
     ]
    }
   ],
   "source": [
    "from pyspark.sql.functions import row_number\n",
    "subway_rank=subway.withColumn(\"rank\", row_number().over(win))\n",
    "subway_rank.filter(subway_rank.rank==1).show(27)"
   ]
  },
  {
   "cell_type": "markdown",
   "metadata": {},
   "source": [
    "### 1-4) 노선별 요일별 승하차인원 합계 (모든 노선 출력)"
   ]
  },
  {
   "cell_type": "code",
   "execution_count": 10,
   "metadata": {},
   "outputs": [],
   "source": [
    "# DATE 형식으로 바꾸기 위함\n",
    "toDate = F.udf(lambda x: str(x)[0:4]+'-'+str(x)[4:6]+'-'+str(x)[6:])"
   ]
  },
  {
   "cell_type": "code",
   "execution_count": 11,
   "metadata": {},
   "outputs": [],
   "source": [
    "subway=subway.withColumn(\"date\",toDate(subway.dataUse))"
   ]
  },
  {
   "cell_type": "code",
   "execution_count": 12,
   "metadata": {},
   "outputs": [],
   "source": [
    "subway=subway.withColumn(\"Day\",F.dayofweek(\"date\")) # 1: 일요일, 2: 월요일... 7:토요일"
   ]
  },
  {
   "cell_type": "code",
   "execution_count": 13,
   "metadata": {},
   "outputs": [],
   "source": [
    "from pyspark.sql.types import StringType\n",
    "def dateToStr(x):\n",
    "    q=\"\"\n",
    "    if x==1:\n",
    "        q=\"Sunday\"\n",
    "    elif x==2:\n",
    "        q=\"Monday\"\n",
    "    elif x==3:\n",
    "        q=\"Tuesday\"\n",
    "    elif x==4:\n",
    "        q=\"Wednesday\"\n",
    "    elif x==5:\n",
    "        q=\"Thursday\"\n",
    "    elif x==6:\n",
    "        q=\"Friday\"\n",
    "    elif x==7:\n",
    "        q=\"Saturday\"\n",
    "    else:\n",
    "        q=\"error!\"\n",
    "    return q"
   ]
  },
  {
   "cell_type": "code",
   "execution_count": 14,
   "metadata": {},
   "outputs": [],
   "source": [
    "dateToStr_udf=F.udf(dateToStr,StringType())"
   ]
  },
  {
   "cell_type": "code",
   "execution_count": 15,
   "metadata": {},
   "outputs": [],
   "source": [
    "# 숫자로 되어있던 요일을 String으로\n",
    "subway=subway.withColumn(\"Day\",dateToStr_udf('Day'))"
   ]
  },
  {
   "cell_type": "code",
   "execution_count": 16,
   "metadata": {},
   "outputs": [],
   "source": [
    "dayCount=subway.groupby('line').pivot('Day').agg({\"SumInOut\":\"sum\"})"
   ]
  },
  {
   "cell_type": "markdown",
   "metadata": {},
   "source": [
    "#### 답"
   ]
  },
  {
   "cell_type": "code",
   "execution_count": 17,
   "metadata": {},
   "outputs": [
    {
     "name": "stdout",
     "output_type": "stream",
     "text": [
      "+--------------+----------+----------+----------+----------+----------+----------+----------+\n",
      "|          line|    Friday|    Monday|  Saturday|    Sunday|  Thursday|   Tuesday| Wednesday|\n",
      "+--------------+----------+----------+----------+----------+----------+----------+----------+\n",
      "|        일산선| 808395124|1010437381|1010319451|1010235636| 808383940| 808393127| 808392796|\n",
      "|        장항선| 484860929| 606069487| 606063946| 606058420| 484854907| 484857571| 484857468|\n",
      "|        경부선|3152874143|3940824196|3940449561|3940133615|3152768029|3152789327|3152794978|\n",
      "|    우이신설선|1050583774|1313216004|1313167396|1313141053|1050582715|1050586483|1050587942|\n",
      "|        분당선|2809238836|3435543817|3455281248|3434771069|2788970586|2789009658|2768803828|\n",
      "|         7호선|4123433410|5153934706|5152897879|5152372864|4123394044|4123436711|4123433745|\n",
      "|        수인선|1050588760|1313214661|1313171127|1313138823|1050582601|1050584965|1050586007|\n",
      "|        안산선|1050846248|1313503526|1313393601|1313300973|1050826620|1050840359|1050838751|\n",
      "|         4호선|2102629179|2627972877|2627425802|2627003684|2102581482|2102588996|2102590630|\n",
      "|         1호선| 808840770|1010902468|1010677910|1010442174| 808804370| 808813210| 808797690|\n",
      "|        경의선|2141642803|2646697558|2646561932|2646494734|2121429983|2121436128|2121433286|\n",
      "|         3호선|2708784505|3415913093|3354722587|3374445602|2688499281|2708723859|2708711680|\n",
      "|        경강선| 888930088|1090945973|1111121523|1111105700| 888923196| 868723718| 888926255|\n",
      "|        경춘선|1535387760|1919221212|1919196396|1919167433|1535380993|1535382747|1535383086|\n",
      "|         9호선|2021107122|2526177609|2525784137|2525583827|2021068190|2021074069|2021062632|\n",
      "|         6호선|3031250674|3798984557|3798594037|3818552063|3091829677|3031240634|3031242266|\n",
      "|         5호선|4244326342|5315167094|5314273162|5313799053|4244300204|4244334032|4244325671|\n",
      "|         8호선|1374322875|1717805968|1717544282|1717409954|1374304672|1374321055|1374320670|\n",
      "|        과천선| 646761679| 808392943| 808256281| 808185423| 646752103| 646758203| 646760792|\n",
      "|        경인선|1617072711|2021192027|2020923212|2020665884|1617026950|1617048535|1617052844|\n",
      "|        중앙선|1697177179|2121432133|2121354249|2121287666|1697164041|1697169680|1697166980|\n",
      "|  9호선2~3단계|1050770990|1313402811|1313272640|1313206990|1050763509|1050766410|1050767248|\n",
      "|         2호선|4045276621|5055626768|5053793274|5052610742|4045136758|4045209970|4045204601|\n",
      "|공항철도 1호선|1131557563|1414390988|1414297414|1414249246|1131545840|1131547289|1131542158|\n",
      "|        경원선|2384370698|2970260113|2949914423|2929559913|2343934038|2343944193|2364136818|\n",
      "+--------------+----------+----------+----------+----------+----------+----------+----------+\n",
      "\n"
     ]
    }
   ],
   "source": [
    "dayCount.show(27)"
   ]
  },
  {
   "cell_type": "markdown",
   "metadata": {},
   "source": [
    "### 1- 5) 노선별 요일별 승하차인원 그래프"
   ]
  },
  {
   "cell_type": "code",
   "execution_count": 18,
   "metadata": {},
   "outputs": [],
   "source": [
    "import pandas as pd\n",
    "subwayP=dayCount.toPandas() #그래프 그리기 위해 pandas로"
   ]
  },
  {
   "cell_type": "code",
   "execution_count": 19,
   "metadata": {},
   "outputs": [],
   "source": [
    "subwayP=subwayP.set_index('line') #index가 자동으로 0~이런식으로 설정되어서 line을 index로 변경"
   ]
  },
  {
   "cell_type": "code",
   "execution_count": 20,
   "metadata": {},
   "outputs": [],
   "source": [
    "my=subwayP.transpose()"
   ]
  },
  {
   "cell_type": "code",
   "execution_count": 21,
   "metadata": {},
   "outputs": [
    {
     "data": {
      "text/html": [
       "<div>\n",
       "<style scoped>\n",
       "    .dataframe tbody tr th:only-of-type {\n",
       "        vertical-align: middle;\n",
       "    }\n",
       "\n",
       "    .dataframe tbody tr th {\n",
       "        vertical-align: top;\n",
       "    }\n",
       "\n",
       "    .dataframe thead th {\n",
       "        text-align: right;\n",
       "    }\n",
       "</style>\n",
       "<table border=\"1\" class=\"dataframe\">\n",
       "  <thead>\n",
       "    <tr style=\"text-align: right;\">\n",
       "      <th>line</th>\n",
       "      <th>일산선</th>\n",
       "      <th>장항선</th>\n",
       "      <th>경부선</th>\n",
       "      <th>우이신설선</th>\n",
       "      <th>분당선</th>\n",
       "      <th>7호선</th>\n",
       "      <th>수인선</th>\n",
       "      <th>안산선</th>\n",
       "      <th>4호선</th>\n",
       "      <th>1호선</th>\n",
       "      <th>...</th>\n",
       "      <th>6호선</th>\n",
       "      <th>5호선</th>\n",
       "      <th>8호선</th>\n",
       "      <th>과천선</th>\n",
       "      <th>경인선</th>\n",
       "      <th>중앙선</th>\n",
       "      <th>9호선2~3단계</th>\n",
       "      <th>2호선</th>\n",
       "      <th>공항철도 1호선</th>\n",
       "      <th>경원선</th>\n",
       "    </tr>\n",
       "  </thead>\n",
       "  <tbody>\n",
       "    <tr>\n",
       "      <th>Friday</th>\n",
       "      <td>808395124</td>\n",
       "      <td>484860929</td>\n",
       "      <td>3152874143</td>\n",
       "      <td>1050583774</td>\n",
       "      <td>2809238836</td>\n",
       "      <td>4123433410</td>\n",
       "      <td>1050588760</td>\n",
       "      <td>1050846248</td>\n",
       "      <td>2102629179</td>\n",
       "      <td>808840770</td>\n",
       "      <td>...</td>\n",
       "      <td>3031250674</td>\n",
       "      <td>4244326342</td>\n",
       "      <td>1374322875</td>\n",
       "      <td>646761679</td>\n",
       "      <td>1617072711</td>\n",
       "      <td>1697177179</td>\n",
       "      <td>1050770990</td>\n",
       "      <td>4045276621</td>\n",
       "      <td>1131557563</td>\n",
       "      <td>2384370698</td>\n",
       "    </tr>\n",
       "    <tr>\n",
       "      <th>Monday</th>\n",
       "      <td>1010437381</td>\n",
       "      <td>606069487</td>\n",
       "      <td>3940824196</td>\n",
       "      <td>1313216004</td>\n",
       "      <td>3435543817</td>\n",
       "      <td>5153934706</td>\n",
       "      <td>1313214661</td>\n",
       "      <td>1313503526</td>\n",
       "      <td>2627972877</td>\n",
       "      <td>1010902468</td>\n",
       "      <td>...</td>\n",
       "      <td>3798984557</td>\n",
       "      <td>5315167094</td>\n",
       "      <td>1717805968</td>\n",
       "      <td>808392943</td>\n",
       "      <td>2021192027</td>\n",
       "      <td>2121432133</td>\n",
       "      <td>1313402811</td>\n",
       "      <td>5055626768</td>\n",
       "      <td>1414390988</td>\n",
       "      <td>2970260113</td>\n",
       "    </tr>\n",
       "    <tr>\n",
       "      <th>Saturday</th>\n",
       "      <td>1010319451</td>\n",
       "      <td>606063946</td>\n",
       "      <td>3940449561</td>\n",
       "      <td>1313167396</td>\n",
       "      <td>3455281248</td>\n",
       "      <td>5152897879</td>\n",
       "      <td>1313171127</td>\n",
       "      <td>1313393601</td>\n",
       "      <td>2627425802</td>\n",
       "      <td>1010677910</td>\n",
       "      <td>...</td>\n",
       "      <td>3798594037</td>\n",
       "      <td>5314273162</td>\n",
       "      <td>1717544282</td>\n",
       "      <td>808256281</td>\n",
       "      <td>2020923212</td>\n",
       "      <td>2121354249</td>\n",
       "      <td>1313272640</td>\n",
       "      <td>5053793274</td>\n",
       "      <td>1414297414</td>\n",
       "      <td>2949914423</td>\n",
       "    </tr>\n",
       "    <tr>\n",
       "      <th>Sunday</th>\n",
       "      <td>1010235636</td>\n",
       "      <td>606058420</td>\n",
       "      <td>3940133615</td>\n",
       "      <td>1313141053</td>\n",
       "      <td>3434771069</td>\n",
       "      <td>5152372864</td>\n",
       "      <td>1313138823</td>\n",
       "      <td>1313300973</td>\n",
       "      <td>2627003684</td>\n",
       "      <td>1010442174</td>\n",
       "      <td>...</td>\n",
       "      <td>3818552063</td>\n",
       "      <td>5313799053</td>\n",
       "      <td>1717409954</td>\n",
       "      <td>808185423</td>\n",
       "      <td>2020665884</td>\n",
       "      <td>2121287666</td>\n",
       "      <td>1313206990</td>\n",
       "      <td>5052610742</td>\n",
       "      <td>1414249246</td>\n",
       "      <td>2929559913</td>\n",
       "    </tr>\n",
       "    <tr>\n",
       "      <th>Thursday</th>\n",
       "      <td>808383940</td>\n",
       "      <td>484854907</td>\n",
       "      <td>3152768029</td>\n",
       "      <td>1050582715</td>\n",
       "      <td>2788970586</td>\n",
       "      <td>4123394044</td>\n",
       "      <td>1050582601</td>\n",
       "      <td>1050826620</td>\n",
       "      <td>2102581482</td>\n",
       "      <td>808804370</td>\n",
       "      <td>...</td>\n",
       "      <td>3091829677</td>\n",
       "      <td>4244300204</td>\n",
       "      <td>1374304672</td>\n",
       "      <td>646752103</td>\n",
       "      <td>1617026950</td>\n",
       "      <td>1697164041</td>\n",
       "      <td>1050763509</td>\n",
       "      <td>4045136758</td>\n",
       "      <td>1131545840</td>\n",
       "      <td>2343934038</td>\n",
       "    </tr>\n",
       "    <tr>\n",
       "      <th>Tuesday</th>\n",
       "      <td>808393127</td>\n",
       "      <td>484857571</td>\n",
       "      <td>3152789327</td>\n",
       "      <td>1050586483</td>\n",
       "      <td>2789009658</td>\n",
       "      <td>4123436711</td>\n",
       "      <td>1050584965</td>\n",
       "      <td>1050840359</td>\n",
       "      <td>2102588996</td>\n",
       "      <td>808813210</td>\n",
       "      <td>...</td>\n",
       "      <td>3031240634</td>\n",
       "      <td>4244334032</td>\n",
       "      <td>1374321055</td>\n",
       "      <td>646758203</td>\n",
       "      <td>1617048535</td>\n",
       "      <td>1697169680</td>\n",
       "      <td>1050766410</td>\n",
       "      <td>4045209970</td>\n",
       "      <td>1131547289</td>\n",
       "      <td>2343944193</td>\n",
       "    </tr>\n",
       "    <tr>\n",
       "      <th>Wednesday</th>\n",
       "      <td>808392796</td>\n",
       "      <td>484857468</td>\n",
       "      <td>3152794978</td>\n",
       "      <td>1050587942</td>\n",
       "      <td>2768803828</td>\n",
       "      <td>4123433745</td>\n",
       "      <td>1050586007</td>\n",
       "      <td>1050838751</td>\n",
       "      <td>2102590630</td>\n",
       "      <td>808797690</td>\n",
       "      <td>...</td>\n",
       "      <td>3031242266</td>\n",
       "      <td>4244325671</td>\n",
       "      <td>1374320670</td>\n",
       "      <td>646760792</td>\n",
       "      <td>1617052844</td>\n",
       "      <td>1697166980</td>\n",
       "      <td>1050767248</td>\n",
       "      <td>4045204601</td>\n",
       "      <td>1131542158</td>\n",
       "      <td>2364136818</td>\n",
       "    </tr>\n",
       "  </tbody>\n",
       "</table>\n",
       "<p>7 rows × 25 columns</p>\n",
       "</div>"
      ],
      "text/plain": [
       "line              일산선        장항선         경부선       우이신설선         분당선  \\\n",
       "Friday      808395124  484860929  3152874143  1050583774  2809238836   \n",
       "Monday     1010437381  606069487  3940824196  1313216004  3435543817   \n",
       "Saturday   1010319451  606063946  3940449561  1313167396  3455281248   \n",
       "Sunday     1010235636  606058420  3940133615  1313141053  3434771069   \n",
       "Thursday    808383940  484854907  3152768029  1050582715  2788970586   \n",
       "Tuesday     808393127  484857571  3152789327  1050586483  2789009658   \n",
       "Wednesday   808392796  484857468  3152794978  1050587942  2768803828   \n",
       "\n",
       "line              7호선         수인선         안산선         4호선         1호선  ...  \\\n",
       "Friday     4123433410  1050588760  1050846248  2102629179   808840770  ...   \n",
       "Monday     5153934706  1313214661  1313503526  2627972877  1010902468  ...   \n",
       "Saturday   5152897879  1313171127  1313393601  2627425802  1010677910  ...   \n",
       "Sunday     5152372864  1313138823  1313300973  2627003684  1010442174  ...   \n",
       "Thursday   4123394044  1050582601  1050826620  2102581482   808804370  ...   \n",
       "Tuesday    4123436711  1050584965  1050840359  2102588996   808813210  ...   \n",
       "Wednesday  4123433745  1050586007  1050838751  2102590630   808797690  ...   \n",
       "\n",
       "line              6호선         5호선         8호선        과천선         경인선  \\\n",
       "Friday     3031250674  4244326342  1374322875  646761679  1617072711   \n",
       "Monday     3798984557  5315167094  1717805968  808392943  2021192027   \n",
       "Saturday   3798594037  5314273162  1717544282  808256281  2020923212   \n",
       "Sunday     3818552063  5313799053  1717409954  808185423  2020665884   \n",
       "Thursday   3091829677  4244300204  1374304672  646752103  1617026950   \n",
       "Tuesday    3031240634  4244334032  1374321055  646758203  1617048535   \n",
       "Wednesday  3031242266  4244325671  1374320670  646760792  1617052844   \n",
       "\n",
       "line              중앙선    9호선2~3단계         2호선    공항철도 1호선         경원선  \n",
       "Friday     1697177179  1050770990  4045276621  1131557563  2384370698  \n",
       "Monday     2121432133  1313402811  5055626768  1414390988  2970260113  \n",
       "Saturday   2121354249  1313272640  5053793274  1414297414  2949914423  \n",
       "Sunday     2121287666  1313206990  5052610742  1414249246  2929559913  \n",
       "Thursday   1697164041  1050763509  4045136758  1131545840  2343934038  \n",
       "Tuesday    1697169680  1050766410  4045209970  1131547289  2343944193  \n",
       "Wednesday  1697166980  1050767248  4045204601  1131542158  2364136818  \n",
       "\n",
       "[7 rows x 25 columns]"
      ]
     },
     "execution_count": 21,
     "metadata": {},
     "output_type": "execute_result"
    }
   ],
   "source": [
    "my"
   ]
  },
  {
   "cell_type": "code",
   "execution_count": 22,
   "metadata": {},
   "outputs": [],
   "source": [
    "%matplotlib inline\n",
    "import numpy as np\n",
    "import matplotlib.pyplot as plt"
   ]
  },
  {
   "cell_type": "code",
   "execution_count": 23,
   "metadata": {},
   "outputs": [],
   "source": [
    "from matplotlib import rc, font_manager\n",
    "rc('font',family=\"NanumGothic\")\n",
    "\n",
    "#길이 옆으로 늘리기\n",
    "plt.rcParams[\"figure.figsize\"] = (15,10)\n",
    "\n",
    "#격자\n",
    "plt.rcParams['axes.grid'] = True\n",
    "\n",
    "#두께\n",
    "plt.rcParams['lines.linewidth'] = 2"
   ]
  },
  {
   "cell_type": "markdown",
   "metadata": {},
   "source": [
    "#### 답"
   ]
  },
  {
   "cell_type": "code",
   "execution_count": 24,
   "metadata": {},
   "outputs": [
    {
     "data": {
      "text/plain": [
       "<matplotlib.axes._subplots.AxesSubplot at 0x1b84c7ddfc8>"
      ]
     },
     "execution_count": 24,
     "metadata": {},
     "output_type": "execute_result"
    },
    {
     "data": {
      "image/png": "[encoded data removed]",
      "text/plain": [
       "<Figure size 1080x720 with 1 Axes>"
      ]
     },
     "metadata": {
      "needs_background": "light"
     },
     "output_type": "display_data"
    }
   ],
   "source": [
    "my.plot(kind='line') #y축이 단위가 1e9이다!"
   ]
  },
  {
   "cell_type": "markdown",
   "metadata": {},
   "source": [
    "---\n",
    "---\n",
    "## 문제 2 : 한국의 코로나바이러스\n",
    "데이터는 TimeProvince.csv를 다운로드해서 사용한다."
   ]
  },
  {
   "cell_type": "markdown",
   "metadata": {},
   "source": [
    "### 2-1) DataFrame 생성하고, 자동인식한 스키마를 출력"
   ]
  },
  {
   "cell_type": "code",
   "execution_count": 25,
   "metadata": {},
   "outputs": [],
   "source": [
    "covid = spark.read.format('com.databricks.spark.csv')\\\n",
    "    .options(header='true', inferschema='true').load('data/TimeProvince.csv')"
   ]
  },
  {
   "cell_type": "markdown",
   "metadata": {},
   "source": [
    "#### 답"
   ]
  },
  {
   "cell_type": "code",
   "execution_count": 26,
   "metadata": {},
   "outputs": [
    {
     "name": "stdout",
     "output_type": "stream",
     "text": [
      "root\n",
      " |-- date: string (nullable = true)\n",
      " |-- time: integer (nullable = true)\n",
      " |-- province: string (nullable = true)\n",
      " |-- confirmed: integer (nullable = true)\n",
      " |-- released: integer (nullable = true)\n",
      " |-- deceased: integer (nullable = true)\n",
      "\n"
     ]
    }
   ],
   "source": [
    "covid.printSchema()"
   ]
  },
  {
   "cell_type": "markdown",
   "metadata": {},
   "source": [
    "### 2-2) 3월의 데이터만 출력"
   ]
  },
  {
   "cell_type": "markdown",
   "metadata": {},
   "source": [
    "#### 답"
   ]
  },
  {
   "cell_type": "code",
   "execution_count": 27,
   "metadata": {},
   "outputs": [
    {
     "name": "stdout",
     "output_type": "stream",
     "text": [
      "+----------+----+-----------------+---------+--------+--------+\n",
      "|      date|time|         province|confirmed|released|deceased|\n",
      "+----------+----+-----------------+---------+--------+--------+\n",
      "|2020-03-01|  16|            Seoul|       87|      11|       0|\n",
      "|2020-03-01|  16|            Busan|       83|       0|       0|\n",
      "|2020-03-01|  16|            Daegu|     2704|       6|      11|\n",
      "|2020-03-01|  16|          Incheon|        6|       1|       0|\n",
      "|2020-03-01|  16|          Gwangju|        9|       2|       0|\n",
      "|2020-03-01|  16|          Daejeon|       13|       0|       0|\n",
      "|2020-03-01|  16|            Ulsan|       20|       0|       0|\n",
      "|2020-03-01|  16|           Sejong|        1|       0|       0|\n",
      "|2020-03-01|  16|      Gyeonggi-do|       89|       8|       1|\n",
      "|2020-03-01|  16|       Gangwon-do|       15|       0|       0|\n",
      "|2020-03-01|  16|Chungcheongbuk-do|       11|       0|       0|\n",
      "|2020-03-01|  16|Chungcheongnam-do|       68|       0|       0|\n",
      "|2020-03-01|  16|     Jeollabuk-do|        6|       1|       0|\n",
      "|2020-03-01|  16|     Jeollanam-do|        3|       0|       0|\n",
      "|2020-03-01|  16| Gyeongsangbuk-do|      556|       1|       6|\n",
      "|2020-03-01|  16| Gyeongsangnam-do|       63|       1|       0|\n",
      "|2020-03-01|  16|          Jeju-do|        2|       0|       0|\n",
      "|2020-03-02|   0|            Seoul|       91|      12|       0|\n",
      "|2020-03-02|   0|            Busan|       88|       1|       0|\n",
      "|2020-03-02|   0|            Daegu|     3081|       7|      15|\n",
      "+----------+----+-----------------+---------+--------+--------+\n",
      "only showing top 20 rows\n",
      "\n"
     ]
    }
   ],
   "source": [
    "covid.filter(F.month('date')==\"03\").show()"
   ]
  },
  {
   "cell_type": "markdown",
   "metadata": {},
   "source": [
    "### 2-3) 년x월별 건수"
   ]
  },
  {
   "cell_type": "code",
   "execution_count": 28,
   "metadata": {},
   "outputs": [],
   "source": [
    "covid_ym=covid\\\n",
    "        .withColumn(\"year\",F.year('date'))\\\n",
    "        .withColumn(\"month\",F.month('date'))"
   ]
  },
  {
   "cell_type": "markdown",
   "metadata": {},
   "source": [
    "#### 답"
   ]
  },
  {
   "cell_type": "code",
   "execution_count": 29,
   "metadata": {},
   "outputs": [
    {
     "name": "stdout",
     "output_type": "stream",
     "text": [
      "+----+---+---+---+---+---+---+\n",
      "|year|  1|  2|  3|  4|  5|  6|\n",
      "+----+---+---+---+---+---+---+\n",
      "|2020|204|493|527|510|527|510|\n",
      "+----+---+---+---+---+---+---+\n",
      "\n"
     ]
    }
   ],
   "source": [
    "covid_ym.groupBy('year').pivot('month').count().show()"
   ]
  },
  {
   "cell_type": "markdown",
   "metadata": {},
   "source": [
    "### 2-4) 도별 첫 확진자 출현 (모든 도 출력)"
   ]
  },
  {
   "cell_type": "code",
   "execution_count": 30,
   "metadata": {},
   "outputs": [],
   "source": [
    "# 처음 등장을 찾기 위해 confirmed가 0이 아닌 dataframe 만들기\n",
    "\n",
    "covid2=covid.filter(covid.confirmed!=0)"
   ]
  },
  {
   "cell_type": "code",
   "execution_count": 31,
   "metadata": {},
   "outputs": [
    {
     "name": "stdout",
     "output_type": "stream",
     "text": [
      "+----------+----+-----------+---------+--------+--------+\n",
      "|      date|time|   province|confirmed|released|deceased|\n",
      "+----------+----+-----------+---------+--------+--------+\n",
      "|2020-01-20|  16|    Incheon|        1|       0|       0|\n",
      "|2020-01-21|  16|    Incheon|        1|       0|       0|\n",
      "|2020-01-22|  16|    Incheon|        1|       0|       0|\n",
      "|2020-01-23|  16|    Incheon|        1|       0|       0|\n",
      "|2020-01-24|  16|    Incheon|        1|       0|       0|\n",
      "|2020-01-24|  16|Gyeonggi-do|        1|       0|       0|\n",
      "|2020-01-25|  16|    Incheon|        1|       0|       0|\n",
      "|2020-01-25|  16|Gyeonggi-do|        1|       0|       0|\n",
      "|2020-01-26|  16|    Incheon|        1|       0|       0|\n",
      "|2020-01-26|  16|Gyeonggi-do|        2|       0|       0|\n",
      "|2020-01-27|  16|      Seoul|        1|       0|       0|\n",
      "|2020-01-27|  16|    Incheon|        1|       0|       0|\n",
      "|2020-01-27|  16|Gyeonggi-do|        2|       0|       0|\n",
      "|2020-01-28|  16|      Seoul|        1|       0|       0|\n",
      "|2020-01-28|  16|    Incheon|        1|       0|       0|\n",
      "|2020-01-28|  16|Gyeonggi-do|        2|       0|       0|\n",
      "|2020-01-29|  16|      Seoul|        1|       0|       0|\n",
      "|2020-01-29|  16|    Incheon|        1|       0|       0|\n",
      "|2020-01-29|  16|Gyeonggi-do|        2|       0|       0|\n",
      "|2020-01-30|  16|      Seoul|        3|       0|       0|\n",
      "+----------+----+-----------+---------+--------+--------+\n",
      "only showing top 20 rows\n",
      "\n"
     ]
    }
   ],
   "source": [
    "covid2.show()"
   ]
  },
  {
   "cell_type": "code",
   "execution_count": 32,
   "metadata": {},
   "outputs": [],
   "source": [
    "win2 = Window.partitionBy(\"province\").orderBy(\"confirmed\")"
   ]
  },
  {
   "cell_type": "code",
   "execution_count": 33,
   "metadata": {},
   "outputs": [],
   "source": [
    "# 등장 순서대로 count\n",
    "covid_cho=covid2.withColumn(\"chronological\", row_number().over(win2))"
   ]
  },
  {
   "cell_type": "markdown",
   "metadata": {},
   "source": [
    "#### 답"
   ]
  },
  {
   "cell_type": "code",
   "execution_count": 34,
   "metadata": {},
   "outputs": [
    {
     "name": "stdout",
     "output_type": "stream",
     "text": [
      "+----------+----+-----------------+---------+--------+--------+-------------+\n",
      "|      date|time|         province|confirmed|released|deceased|chronological|\n",
      "+----------+----+-----------------+---------+--------+--------+-------------+\n",
      "|2020-02-22|  16|           Sejong|        1|       0|       0|            1|\n",
      "|2020-02-22|  16|            Ulsan|        1|       0|       0|            1|\n",
      "|2020-02-21|  16|Chungcheongbuk-do|        1|       0|       0|            1|\n",
      "|2020-02-22|  16|       Gangwon-do|        6|       0|       0|            1|\n",
      "|2020-02-04|  16|          Gwangju|        1|       0|       0|            1|\n",
      "|2020-02-19|  16| Gyeongsangbuk-do|        2|       1|       0|            1|\n",
      "|2020-02-18|  16|            Daegu|        1|       0|       0|            1|\n",
      "|2020-02-19|  16| Gyeongsangnam-do|        3|       0|       0|            1|\n",
      "|2020-01-20|  16|          Incheon|        1|       0|       0|            1|\n",
      "|2020-02-21|  16|          Jeju-do|        1|       0|       0|            1|\n",
      "|2020-01-24|  16|      Gyeonggi-do|        1|       0|       0|            1|\n",
      "|2020-02-20|  16|            Busan|        8|       0|       0|            1|\n",
      "|2020-02-22|  16|          Daejeon|        2|       0|       0|            1|\n",
      "|2020-01-27|  16|            Seoul|        1|       0|       0|            1|\n",
      "|2020-02-21|  16|Chungcheongnam-do|        1|       0|       0|            1|\n",
      "|2020-01-31|  16|     Jeollabuk-do|        1|       0|       0|            1|\n",
      "|2020-02-22|  16|     Jeollanam-do|        1|       0|       0|            1|\n",
      "+----------+----+-----------------+---------+--------+--------+-------------+\n",
      "\n"
     ]
    }
   ],
   "source": [
    "covid_cho.filter(covid_cho.chronological==1).show()"
   ]
  },
  {
   "cell_type": "markdown",
   "metadata": {},
   "source": [
    "### 2-5) 도별 누적 확진자 (마지막 일 6월 30일 기준, 모든 도 출력)"
   ]
  },
  {
   "cell_type": "code",
   "execution_count": 35,
   "metadata": {},
   "outputs": [],
   "source": [
    "winAgg  = Window.partitionBy(\"province\")"
   ]
  },
  {
   "cell_type": "code",
   "execution_count": 36,
   "metadata": {},
   "outputs": [],
   "source": [
    "covid_sum=covid.withColumn(\"cumulative_confirmed\",F.sum(F.col(\"confirmed\")).over(winAgg))"
   ]
  },
  {
   "cell_type": "markdown",
   "metadata": {},
   "source": [
    "#### 답"
   ]
  },
  {
   "cell_type": "code",
   "execution_count": 37,
   "metadata": {
    "scrolled": false
   },
   "outputs": [
    {
     "name": "stdout",
     "output_type": "stream",
     "text": [
      "+----------+----+-----------------+---------+--------+--------+--------------------+\n",
      "|      date|time|         province|confirmed|released|deceased|cumulative_confirmed|\n",
      "+----------+----+-----------------+---------+--------+--------+--------------------+\n",
      "|2020-06-30|   0|           Sejong|       50|      47|       0|                5111|\n",
      "|2020-06-30|   0|            Ulsan|       55|      50|       1|                5269|\n",
      "|2020-06-30|   0|Chungcheongbuk-do|       65|      60|       0|                5801|\n",
      "|2020-06-30|   0|       Gangwon-do|       65|      54|       3|                5908|\n",
      "|2020-06-30|   0|          Gwangju|       44|      32|       0|                3359|\n",
      "|2020-06-30|   0| Gyeongsangbuk-do|     1389|    1328|      54|              161079|\n",
      "|2020-06-30|   0|            Daegu|     6906|    6700|     189|              807506|\n",
      "|2020-06-30|   0| Gyeongsangnam-do|      134|     128|       0|               13860|\n",
      "|2020-06-30|   0|          Incheon|      341|     290|       1|               16645|\n",
      "|2020-06-30|   0|          Jeju-do|       19|      16|       0|                1449|\n",
      "|2020-06-30|   0|      Gyeonggi-do|     1207|     931|      23|               81059|\n",
      "|2020-06-30|   0|            Busan|      154|     142|       3|               16341|\n",
      "|2020-06-30|   0|          Daejeon|      117|      44|       1|                5217|\n",
      "|2020-06-30|   0|            Seoul|     1312|     985|       7|               81923|\n",
      "|2020-06-30|   0|Chungcheongnam-do|      167|     150|       0|               16780|\n",
      "|2020-06-30|   0|     Jeollabuk-do|       27|      21|       0|                2108|\n",
      "|2020-06-30|   0|     Jeollanam-do|       24|      19|       0|                1763|\n",
      "+----------+----+-----------------+---------+--------+--------+--------------------+\n",
      "\n"
     ]
    }
   ],
   "source": [
    "covid_sum.filter(covid.date==\"2020-06-30\").show()"
   ]
  },
  {
   "cell_type": "markdown",
   "metadata": {},
   "source": [
    "---\n",
    "---\n",
    "## 문제 3 : 키, 몸무게 상관관계\n",
    "```ds4_spark_df, S.4.5 tsv 파일 읽기```에서 사용했던 ```ds_spark_heightweight.txt``` 파일을 사용한다."
   ]
  },
  {
   "cell_type": "markdown",
   "metadata": {},
   "source": [
    "### 3-1) DataFrame 생성하고, 스키마를 출력\n",
    "\n",
    "* 컬럼명 id, **height(Inches), weight(Pounds)**"
   ]
  },
  {
   "cell_type": "code",
   "execution_count": 38,
   "metadata": {},
   "outputs": [],
   "source": [
    "import os\n",
    "heightweight = spark\\\n",
    "    .read\\\n",
    "    .options(header='false', inferschema='true', delimiter='\\t')\\\n",
    "    .csv(os.path.join('data', 'ds_spark_heightweight.txt'))\\\n",
    "    .withColumnRenamed(\"_c0\", \"id\")\\\n",
    "    .withColumnRenamed(\"_c1\", \"height\")\\\n",
    "    .withColumnRenamed(\"_c2\", \"weight\")"
   ]
  },
  {
   "cell_type": "markdown",
   "metadata": {},
   "source": [
    "#### 답"
   ]
  },
  {
   "cell_type": "code",
   "execution_count": 39,
   "metadata": {},
   "outputs": [
    {
     "name": "stdout",
     "output_type": "stream",
     "text": [
      "root\n",
      " |-- id: integer (nullable = true)\n",
      " |-- height: double (nullable = true)\n",
      " |-- weight: double (nullable = true)\n",
      "\n"
     ]
    }
   ],
   "source": [
    "heightweight.printSchema()"
   ]
  },
  {
   "cell_type": "markdown",
   "metadata": {},
   "source": [
    "### 3-2) BMI 컬럼 생성\n",
    "\n",
    "BMI는 wikipedia를 참고하여 계산  \n",
    "\n",
    "- BMI= $\\frac{w}{t^2}$ 이고 이때 w는 체중(kg단위), t는 키(m단위) 이다.\n",
    "- 위의 식에 **703을 곱해주면** 파운드와 인치를 사용하여 구한 BMI가 계산된다.\n"
   ]
  },
  {
   "cell_type": "code",
   "execution_count": 40,
   "metadata": {},
   "outputs": [
    {
     "name": "stdout",
     "output_type": "stream",
     "text": [
      "+---+------+------+\n",
      "| id|height|weight|\n",
      "+---+------+------+\n",
      "|  1| 65.78|112.99|\n",
      "|  2| 71.52|136.49|\n",
      "|  3|  69.4|153.03|\n",
      "|  4| 68.22|142.34|\n",
      "|  5| 67.79| 144.3|\n",
      "|  6|  68.7| 123.3|\n",
      "|  7|  69.8|141.49|\n",
      "|  8| 70.01|136.46|\n",
      "|  9|  67.9|112.37|\n",
      "| 10| 66.78|120.67|\n",
      "| 11| 66.49|127.45|\n",
      "| 12| 67.62|114.14|\n",
      "| 13|  68.3|125.61|\n",
      "| 14| 67.12|122.46|\n",
      "| 15| 68.28|116.09|\n",
      "| 16| 71.09| 140.0|\n",
      "| 17| 66.46| 129.5|\n",
      "| 18| 68.65|142.97|\n",
      "| 19| 71.23| 137.9|\n",
      "| 20| 67.13|124.04|\n",
      "+---+------+------+\n",
      "only showing top 20 rows\n",
      "\n"
     ]
    }
   ],
   "source": [
    "heightweight.show()"
   ]
  },
  {
   "cell_type": "code",
   "execution_count": 41,
   "metadata": {},
   "outputs": [],
   "source": [
    "bmiUdf = F.udf(lambda x,y: float(x/(y*y)*703))"
   ]
  },
  {
   "cell_type": "code",
   "execution_count": 42,
   "metadata": {},
   "outputs": [],
   "source": [
    "heightweight=heightweight.withColumn('bmi',bmiUdf('weight','height'))"
   ]
  },
  {
   "cell_type": "markdown",
   "metadata": {},
   "source": [
    "#### 답"
   ]
  },
  {
   "cell_type": "code",
   "execution_count": 43,
   "metadata": {},
   "outputs": [
    {
     "name": "stdout",
     "output_type": "stream",
     "text": [
      "+---+------+------+------------------+\n",
      "| id|height|weight|               bmi|\n",
      "+---+------+------+------------------+\n",
      "|  1| 65.78|112.99|18.357248855814564|\n",
      "|  2| 71.52|136.49| 18.75863128975672|\n",
      "|  3|  69.4|153.03|22.336388891195835|\n",
      "|  4| 68.22|142.34| 21.50100976190556|\n",
      "|  5| 67.79| 144.3|22.074475244077117|\n",
      "|  6|  68.7| 123.3|18.365591807936536|\n",
      "|  7|  69.8|141.49|20.415979753860807|\n",
      "|  8| 70.01|136.46|19.572240185003462|\n",
      "|  9|  67.9|112.37|  17.1342917441182|\n",
      "| 10| 66.78|120.67|19.022246637140938|\n",
      "| 11| 66.49|127.45|20.266674803735995|\n",
      "| 12| 67.62|114.14|  17.5486155780677|\n",
      "| 13|  68.3|125.61|18.929456000034303|\n",
      "| 14| 67.12|122.46|19.109339862001555|\n",
      "| 15| 68.28|116.09| 17.50504015479182|\n",
      "| 16| 71.09| 140.0| 19.47450072154786|\n",
      "| 17| 66.46| 129.5|  20.6112542018989|\n",
      "| 18| 68.65|142.97|21.326478983666362|\n",
      "| 19| 71.23| 137.9|19.107052746323113|\n",
      "| 20| 67.13|124.04|19.350125594790867|\n",
      "+---+------+------+------------------+\n",
      "only showing top 20 rows\n",
      "\n"
     ]
    }
   ],
   "source": [
    "heightweight.show()"
   ]
  },
  {
   "cell_type": "markdown",
   "metadata": {},
   "source": [
    "### 3-3) weigth와 height의 Zscore 컬럼 생성"
   ]
  },
  {
   "cell_type": "code",
   "execution_count": 44,
   "metadata": {},
   "outputs": [],
   "source": [
    "# zscore 계산위해서 평균, 표준편차 필요\n",
    "cal_meanstd = heightweight.select(\n",
    "    F.mean('height').alias('mean_h'),\n",
    "    F.stddev('height').alias('std_h'),\n",
    "    F.mean('weight').alias('mean_w'),\n",
    "    F.stddev('weight').alias('std_w')\n",
    ").collect()"
   ]
  },
  {
   "cell_type": "code",
   "execution_count": 45,
   "metadata": {},
   "outputs": [],
   "source": [
    "mean_h=cal_meanstd[0][0]\n",
    "std_h=cal_meanstd[0][1]\n",
    "mean_w=cal_meanstd[0][2]\n",
    "std_w=cal_meanstd[0][3]"
   ]
  },
  {
   "cell_type": "code",
   "execution_count": 46,
   "metadata": {},
   "outputs": [],
   "source": [
    "from pyspark.sql.types import DoubleType\n",
    "zscoreUdfH = F.udf(lambda x: (x-mean_h)/std_h,DoubleType())\n",
    "zscoreUdfW = F.udf(lambda x: (x-mean_w)/std_w,DoubleType())"
   ]
  },
  {
   "cell_type": "code",
   "execution_count": 47,
   "metadata": {},
   "outputs": [],
   "source": [
    "heightweight=heightweight\\\n",
    "            .withColumn('zscoreH',zscoreUdfH('height'))\\\n",
    "            .withColumn('zscoreW',zscoreUdfW('weight'))"
   ]
  },
  {
   "cell_type": "markdown",
   "metadata": {},
   "source": [
    "#### 답"
   ]
  },
  {
   "cell_type": "code",
   "execution_count": 48,
   "metadata": {},
   "outputs": [
    {
     "name": "stdout",
     "output_type": "stream",
     "text": [
      "+---+------+------+------------------+--------------------+--------------------+\n",
      "| id|height|weight|               bmi|             zscoreH|             zscoreW|\n",
      "+---+------+------+------------------+--------------------+--------------------+\n",
      "|  1| 65.78|112.99|18.357248855814564| -1.2458467531235724| -1.2298965504184058|\n",
      "|  2| 71.52|136.49| 18.75863128975672|  1.9011169693413281|  0.5933793097148594|\n",
      "|  3|  69.4|153.03|22.336388891195835|  0.7388237478037734|    1.87665517042142|\n",
      "|  4| 68.22|142.34| 21.50100976190556| 0.09188695468380685|  1.0472586195778204|\n",
      "|  5| 67.79| 144.3|22.074475244077117|-0.14386119874126027|  1.1993275849336167|\n",
      "|  6|  68.7| 123.3|18.365591807936536| 0.35504768408853965|-0.42998275816419484|\n",
      "|  7|  69.8|141.49|20.415979753860807|  0.9581243556410441|  0.9813103437857668|\n",
      "|  8| 70.01|136.46|19.572240185003462|   1.073257174755618|  0.5910517235104339|\n",
      "|  9|  67.9|112.37|  17.1342917441182|-0.08355353158600981| -1.2779999986431976|\n",
      "| 10| 66.78|120.67|19.022246637140938| -0.6975952335303837| -0.6340344820854917|\n",
      "| 11| 66.49|127.45|20.266674803735995| -0.8565881742124118|-0.10799999988534137|\n",
      "| 12| 67.62|114.14|  17.5486155780677| -0.2370639570721033| -1.1406724125820966|\n",
      "| 13|  68.3|125.61|18.929456000034303|   0.135747076251261| -0.2507586204234355|\n",
      "| 14| 67.12|122.46|19.109339862001555| -0.5111897168686976|-0.49515517188810754|\n",
      "| 15| 68.28|116.09| 17.50504015479182| 0.12478204585939942| -0.9893793092944426|\n",
      "| 16| 71.09| 140.0| 19.47450072154786|   1.665368815916261|  0.8657068956326357|\n",
      "| 17| 66.46| 129.5|  20.6112542018989| -0.8730357198002081| 0.05105172408373039|\n",
      "| 18| 68.65|142.97|21.326478983666362| 0.32763510810888175|  1.0961379298707545|\n",
      "| 19| 71.23| 137.9|19.107052746323113|  1.7421240286593078|  0.7027758613228551|\n",
      "| 20| 67.13|124.04|19.350125594790867| -0.5057072016727707|-0.37256896512169985|\n",
      "+---+------+------+------------------+--------------------+--------------------+\n",
      "only showing top 20 rows\n",
      "\n"
     ]
    }
   ],
   "source": [
    "heightweight.show()"
   ]
  },
  {
   "cell_type": "markdown",
   "metadata": {},
   "source": [
    "### 3-4) spark에서 위에 계산한 zscore를 사용하여 상관관계 계산"
   ]
  },
  {
   "cell_type": "markdown",
   "metadata": {},
   "source": [
    "#### 답"
   ]
  },
  {
   "cell_type": "code",
   "execution_count": 49,
   "metadata": {
    "scrolled": true
   },
   "outputs": [
    {
     "name": "stdout",
     "output_type": "stream",
     "text": [
      "correlation:  0.5925221289063219\n"
     ]
    }
   ],
   "source": [
    "print (\"correlation: \",heightweight.stat.corr('zscoreH', 'zscoreW'))"
   ]
  },
  {
   "cell_type": "markdown",
   "metadata": {},
   "source": [
    "### 3-5) scipy를 사용하여 상관관계를 계산"
   ]
  },
  {
   "cell_type": "code",
   "execution_count": 50,
   "metadata": {},
   "outputs": [],
   "source": [
    "# height와 weight를 배열로 저장\n",
    "H=heightweight.rdd.map(lambda x:float(x[1])).collect()\n",
    "W=heightweight.rdd.map(lambda x:float(x[2])).collect()"
   ]
  },
  {
   "cell_type": "code",
   "execution_count": 51,
   "metadata": {},
   "outputs": [],
   "source": [
    "import scipy.stats as stats"
   ]
  },
  {
   "cell_type": "markdown",
   "metadata": {},
   "source": [
    "#### 답"
   ]
  },
  {
   "cell_type": "code",
   "execution_count": 52,
   "metadata": {},
   "outputs": [
    {
     "data": {
      "text/plain": [
       "(0.5925221289063218, 5.808558311242065e-06)"
      ]
     },
     "execution_count": 52,
     "metadata": {},
     "output_type": "execute_result"
    }
   ],
   "source": [
    "# 정규분포일 때  ## spark로 계산시 이 값에 좀 더 가깝다!\n",
    "stats.pearsonr(H,W)"
   ]
  },
  {
   "cell_type": "code",
   "execution_count": 53,
   "metadata": {},
   "outputs": [
    {
     "data": {
      "text/plain": [
       "SpearmanrResult(correlation=0.5261110712457925, pvalue=8.707798759901837e-05)"
      ]
     },
     "execution_count": 53,
     "metadata": {},
     "output_type": "execute_result"
    }
   ],
   "source": [
    "# 정규분포 아닐 때\n",
    "stats.spearmanr(H,W)"
   ]
  },
  {
   "cell_type": "code",
   "execution_count": null,
   "metadata": {},
   "outputs": [],
   "source": []
  }
 ],
 "metadata": {
  "kernelspec": {
   "display_name": "Python 3",
   "language": "python",
   "name": "python3"
  },
  "language_info": {
   "codemirror_mode": {
    "name": "ipython",
    "version": 3
   },
   "file_extension": ".py",
   "mimetype": "text/x-python",
   "name": "python",
   "nbconvert_exporter": "python",
   "pygments_lexer": "ipython3",
   "version": "3.7.6"
  }
 },
 "nbformat": 4,
 "nbformat_minor": 4
}
