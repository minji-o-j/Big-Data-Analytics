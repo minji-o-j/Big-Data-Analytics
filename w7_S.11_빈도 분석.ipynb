{
 "cells": [
  {
   "cell_type": "code",
   "execution_count": 2,
   "metadata": {},
   "outputs": [],
   "source": [
    "from pyspark.context import SparkContext\n",
    "from pyspark.sql.session import SparkSession\n",
    "sc = SparkContext('local')\n",
    "spark = SparkSession(sc)"
   ]
  },
  {
   "cell_type": "markdown",
   "metadata": {},
   "source": [
    "# S.11 빈도 분석\n",
    "**명목변수 Categorical or nominal varaible**는 이름이 붙여진 변수로서 문자로 표현되는 변수를 말한다. 명목변수별로 빈도를 계산하고 차이가 있는지 보게 된다.\n",
    "\n",
    "- 다른 사람의 빈도와 어떤 차이가 있는가?"
   ]
  },
  {
   "cell_type": "code",
   "execution_count": 1,
   "metadata": {},
   "outputs": [],
   "source": [
    "names = [\"kim\",\"lee\",\"park\",\"lim\"]\n",
    "items = [\"espresso\",\"latte\",\"americano\",\"affocato\",\"long black\",\"macciato\"]"
   ]
  },
  {
   "cell_type": "code",
   "execution_count": 3,
   "metadata": {},
   "outputs": [],
   "source": [
    "# names에서 하나씩, items에서도 하나씩 추출\n",
    "coffeeDf = spark.createDataFrame([(names[i%4], items[i%6]) for i in range(500)],\\\n",
    "                           [\"name\",\"coffee\"])"
   ]
  },
  {
   "cell_type": "code",
   "execution_count": 19,
   "metadata": {
    "scrolled": true
   },
   "outputs": [
    {
     "name": "stdout",
     "output_type": "stream",
     "text": [
      "+----+----------+\n",
      "|name|    coffee|\n",
      "+----+----------+\n",
      "| kim|  espresso|\n",
      "| lee|     latte|\n",
      "|park| americano|\n",
      "| lim|  affocato|\n",
      "| kim|long black|\n",
      "| lee|  macciato|\n",
      "|park|  espresso|\n",
      "| lim|     latte|\n",
      "| kim| americano|\n",
      "| lee|  affocato|\n",
      "|park|long black|\n",
      "| lim|  macciato|\n",
      "| kim|  espresso|\n",
      "| lee|     latte|\n",
      "|park| americano|\n",
      "| lim|  affocato|\n",
      "| kim|long black|\n",
      "| lee|  macciato|\n",
      "|park|  espresso|\n",
      "| lim|     latte|\n",
      "+----+----------+\n",
      "only showing top 20 rows\n",
      "\n"
     ]
    }
   ],
   "source": [
    "coffeeDf.show()"
   ]
  },
  {
   "cell_type": "markdown",
   "metadata": {},
   "source": [
    "명목변수에 대해서는 평균, 표준편차와 같은 통계량을 계산하는 것은 의미가 없다."
   ]
  },
  {
   "cell_type": "code",
   "execution_count": 4,
   "metadata": {},
   "outputs": [
    {
     "name": "stdout",
     "output_type": "stream",
     "text": [
      "+-------+----+--------+\n",
      "|summary|name|  coffee|\n",
      "+-------+----+--------+\n",
      "|  count| 500|     500|\n",
      "|   mean|null|    null|\n",
      "| stddev|null|    null|\n",
      "|    min| kim|affocato|\n",
      "|    max|park|macciato|\n",
      "+-------+----+--------+\n",
      "\n"
     ]
    }
   ],
   "source": [
    "coffeeDf.describe().show()"
   ]
  },
  {
   "cell_type": "markdown",
   "metadata": {},
   "source": [
    "또는 문자열에 대해서 통계량을 구해보자. 개수, 키개수 unique, 첫째 값 top, 최빈키의 빈도 freq를 출력하고 있다."
   ]
  },
  {
   "cell_type": "code",
   "execution_count": 5,
   "metadata": {},
   "outputs": [
    {
     "data": {
      "text/html": [
       "<div>\n",
       "<style scoped>\n",
       "    .dataframe tbody tr th:only-of-type {\n",
       "        vertical-align: middle;\n",
       "    }\n",
       "\n",
       "    .dataframe tbody tr th {\n",
       "        vertical-align: top;\n",
       "    }\n",
       "\n",
       "    .dataframe thead th {\n",
       "        text-align: right;\n",
       "    }\n",
       "</style>\n",
       "<table border=\"1\" class=\"dataframe\">\n",
       "  <thead>\n",
       "    <tr style=\"text-align: right;\">\n",
       "      <th></th>\n",
       "      <th>name</th>\n",
       "      <th>coffee</th>\n",
       "    </tr>\n",
       "  </thead>\n",
       "  <tbody>\n",
       "    <tr>\n",
       "      <th>count</th>\n",
       "      <td>500</td>\n",
       "      <td>500</td>\n",
       "    </tr>\n",
       "    <tr>\n",
       "      <th>unique</th>\n",
       "      <td>4</td>\n",
       "      <td>6</td>\n",
       "    </tr>\n",
       "    <tr>\n",
       "      <th>top</th>\n",
       "      <td>lim</td>\n",
       "      <td>latte</td>\n",
       "    </tr>\n",
       "    <tr>\n",
       "      <th>freq</th>\n",
       "      <td>125</td>\n",
       "      <td>84</td>\n",
       "    </tr>\n",
       "  </tbody>\n",
       "</table>\n",
       "</div>"
      ],
      "text/plain": [
       "       name coffee\n",
       "count   500    500\n",
       "unique    4      6\n",
       "top     lim  latte\n",
       "freq    125     84"
      ]
     },
     "execution_count": 5,
     "metadata": {},
     "output_type": "execute_result"
    }
   ],
   "source": [
    "coffeeDf.toPandas().describe()"
   ]
  },
  {
   "cell_type": "markdown",
   "metadata": {},
   "source": [
    "## S.11.1 crosstab\n",
    "앞서 생성했던 데이터를 사용해서, 교차표를 만들어 보자.\n",
    "\n",
    "\n",
    "pivot으로 건수를 계산하면 아래와 같다."
   ]
  },
  {
   "cell_type": "code",
   "execution_count": 6,
   "metadata": {},
   "outputs": [
    {
     "name": "stdout",
     "output_type": "stream",
     "text": [
      "+----+--------+---------+--------+-----+----------+--------+\n",
      "|name|affocato|americano|espresso|latte|long black|macciato|\n",
      "+----+--------+---------+--------+-----+----------+--------+\n",
      "|park|    null|       42|      42| null|        41|    null|\n",
      "| lim|      42|     null|    null|   42|      null|      41|\n",
      "| kim|    null|       41|      42| null|        42|    null|\n",
      "| lee|      41|     null|    null|   42|      null|      42|\n",
      "+----+--------+---------+--------+-----+----------+--------+\n",
      "\n"
     ]
    }
   ],
   "source": [
    "coffeeDf.groupBy('name').pivot('coffee').count().show()"
   ]
  },
  {
   "cell_type": "markdown",
   "metadata": {},
   "source": [
    "crosstab 교차표를 만들면 pivot과 유사한 결과를 얻을 수 있다.  \n",
    "대신 null값이 0으로 출력"
   ]
  },
  {
   "cell_type": "code",
   "execution_count": 7,
   "metadata": {
    "scrolled": true
   },
   "outputs": [
    {
     "name": "stdout",
     "output_type": "stream",
     "text": [
      "+-----------+--------+---------+--------+-----+----------+--------+\n",
      "|name_coffee|affocato|americano|espresso|latte|long black|macciato|\n",
      "+-----------+--------+---------+--------+-----+----------+--------+\n",
      "|        lim|      42|        0|       0|   42|         0|      41|\n",
      "|        lee|      41|        0|       0|   42|         0|      42|\n",
      "|       park|       0|       42|      42|    0|        41|       0|\n",
      "|        kim|       0|       41|      42|    0|        42|       0|\n",
      "+-----------+--------+---------+--------+-----+----------+--------+\n",
      "\n"
     ]
    }
   ],
   "source": [
    "coffeeDf.stat.crosstab(\"name\", \"coffee\").show()"
   ]
  },
  {
   "cell_type": "markdown",
   "metadata": {},
   "source": [
    "## S.11.2 freqItems()\n",
    "데이터에 대해 50%이상 발생한 행을 출력해 보자. 임계치 이하의 최빈값을 구할 수 있다. (그닥 효력을 발휘하지 못하고 있다)"
   ]
  },
  {
   "cell_type": "code",
   "execution_count": 8,
   "metadata": {},
   "outputs": [
    {
     "name": "stdout",
     "output_type": "stream",
     "text": [
      "+--------------+-----------------+\n",
      "|name_freqItems| coffee_freqItems|\n",
      "+--------------+-----------------+\n",
      "|   [lim, park]|[latte, espresso]|\n",
      "+--------------+-----------------+\n",
      "\n"
     ]
    }
   ],
   "source": [
    "freq = coffeeDf.stat.freqItems([\"name\",\"coffee\"], 0.5)\n",
    "freq.show()"
   ]
  },
  {
   "cell_type": "markdown",
   "metadata": {},
   "source": [
    "## S.11.3 Chi Square\n",
    "Chi-Square 테스트는 label와 features 서로 상관관계가 있는지 검증하는 비모수 추정방법이다.   \n",
    "\n",
    "**feature의 발생이 label과 어떤 관련이 있는지 추정**하는 것이다. 단 label, features 모두 명목변수이어야 한다.\n",
    "\n",
    "- 귀무 가설은 label과 features 간에 서로 독립적이다.\n",
    "\n",
    "\n",
    "- features 속성\n",
    "- lable: 우리가 맞추려고 하는 값\n",
    "\n",
    "\n",
    "- 키 몸무게(feature)->성별(lable)"
   ]
  },
  {
   "cell_type": "markdown",
   "metadata": {},
   "source": [
    "#### label을 수로 변환\n",
    "label, features 모두 명목변수이지만, 문자가 아니라 수와 벡터로 각 각 변환되어야 한다."
   ]
  },
  {
   "cell_type": "code",
   "execution_count": 9,
   "metadata": {},
   "outputs": [],
   "source": [
    "from pyspark.ml.feature import StringIndexer\n",
    "#  이름을 숫자로 -> StringIndexer, index: 이름, output:라벨\n",
    "labelIndexer = StringIndexer(inputCol=\"name\", outputCol=\"label\")\n",
    "model=labelIndexer.fit(coffeeDf)\n",
    "_coffeeDf=model.transform(coffeeDf)"
   ]
  },
  {
   "cell_type": "code",
   "execution_count": 10,
   "metadata": {},
   "outputs": [
    {
     "name": "stdout",
     "output_type": "stream",
     "text": [
      "root\n",
      " |-- name: string (nullable = true)\n",
      " |-- coffee: string (nullable = true)\n",
      " |-- label: double (nullable = false)\n",
      "\n"
     ]
    }
   ],
   "source": [
    "_coffeeDf.printSchema() #label이 자동으로 double로 되어있다!"
   ]
  },
  {
   "cell_type": "code",
   "execution_count": 11,
   "metadata": {},
   "outputs": [
    {
     "name": "stdout",
     "output_type": "stream",
     "text": [
      "+----+---------+-----+\n",
      "|name|   coffee|label|\n",
      "+----+---------+-----+\n",
      "| kim| espresso|  0.0|\n",
      "| lee|    latte|  1.0|\n",
      "|park|americano|  3.0|\n",
      "| lim| affocato|  2.0|\n",
      "+----+---------+-----+\n",
      "only showing top 4 rows\n",
      "\n"
     ]
    }
   ],
   "source": [
    "_coffeeDf.show(4)"
   ]
  },
  {
   "cell_type": "markdown",
   "metadata": {},
   "source": [
    "#### features를 벡터로 변환\n",
    "우선 명목 문자열을 수로 변환한다."
   ]
  },
  {
   "cell_type": "code",
   "execution_count": 12,
   "metadata": {},
   "outputs": [],
   "source": [
    "featureIndexer = StringIndexer(inputCol=\"coffee\", outputCol=\"_features\")\n",
    "model=featureIndexer.fit(_coffeeDf)\n",
    "_coffeeDf=model.transform(_coffeeDf)"
   ]
  },
  {
   "cell_type": "markdown",
   "metadata": {},
   "source": [
    "다음은 수를 벡터로 변환한다. inputCols에는 리스트를 적어준다. 즉 \"_features\" (x) -> [ \"_features\" ] (o)이라고 한다."
   ]
  },
  {
   "cell_type": "code",
   "execution_count": 13,
   "metadata": {},
   "outputs": [],
   "source": [
    "#from pyspark.ml.linalg import Vectors\n",
    "from pyspark.ml.feature import VectorAssembler #숫자로 놔두면 안되고 벡터로 만들어주어야한다!\n",
    "\n",
    "va = VectorAssembler(inputCols=[\"_features\"], outputCol=\"features\")\n",
    "_coffeeDf = va.transform(_coffeeDf)"
   ]
  },
  {
   "cell_type": "code",
   "execution_count": 14,
   "metadata": {},
   "outputs": [
    {
     "name": "stdout",
     "output_type": "stream",
     "text": [
      "root\n",
      " |-- name: string (nullable = true)\n",
      " |-- coffee: string (nullable = true)\n",
      " |-- label: double (nullable = false)\n",
      " |-- _features: double (nullable = false)\n",
      " |-- features: vector (nullable = true)\n",
      "\n",
      "+----+----------+-----+---------+--------+\n",
      "|name|    coffee|label|_features|features|\n",
      "+----+----------+-----+---------+--------+\n",
      "| kim|  espresso|  0.0|      0.0|   [0.0]|\n",
      "| lee|     latte|  1.0|      1.0|   [1.0]|\n",
      "|park| americano|  3.0|      3.0|   [3.0]|\n",
      "| lim|  affocato|  2.0|      2.0|   [2.0]|\n",
      "| kim|long black|  0.0|      4.0|   [4.0]|\n",
      "+----+----------+-----+---------+--------+\n",
      "only showing top 5 rows\n",
      "\n"
     ]
    }
   ],
   "source": [
    "_coffeeDf.printSchema()\n",
    "_coffeeDf.show(5)"
   ]
  },
  {
   "cell_type": "markdown",
   "metadata": {},
   "source": [
    "#### ChiSquareTest\n",
    "ChiSquareTest에는 다음 인자를 적어준다.\n",
    "\n",
    "- 데이터: 명목 label, 명목 features로 구성된 DataFrame.\n",
    "- featuresCol: features 컬럼명을 적어준다. Vector 타입이어야 한다.\n",
    "- labelCol: label 컬럼명을 적어준다. 숫자인 타입이면 된다."
   ]
  },
  {
   "cell_type": "code",
   "execution_count": 15,
   "metadata": {},
   "outputs": [],
   "source": [
    "from pyspark.ml.stat import ChiSquareTest\n",
    "r = ChiSquareTest.test(_coffeeDf, \"features\", \"label\")"
   ]
  },
  {
   "cell_type": "code",
   "execution_count": 16,
   "metadata": {
    "scrolled": true
   },
   "outputs": [
    {
     "name": "stdout",
     "output_type": "stream",
     "text": [
      "+-------+----------------+-------------------+\n",
      "|pValues|degreesOfFreedom|         statistics|\n",
      "+-------+----------------+-------------------+\n",
      "|  [0.0]|            [15]|[500.0963855421687]|\n",
      "+-------+----------------+-------------------+\n",
      "\n"
     ]
    }
   ],
   "source": [
    "r.show()"
   ]
  },
  {
   "cell_type": "markdown",
   "metadata": {},
   "source": [
    "위 컬럼을 하나씩 출력해보자. pValues=0.0이므로 귀무가설을 기각한다.\n",
    "- 서로 유의적인 상관관계가 있다.\n"
   ]
  },
  {
   "cell_type": "code",
   "execution_count": 17,
   "metadata": {},
   "outputs": [],
   "source": [
    "from pyspark.ml.stat import ChiSquareTest\n",
    "r = r.head()"
   ]
  },
  {
   "cell_type": "code",
   "execution_count": 18,
   "metadata": {},
   "outputs": [
    {
     "name": "stdout",
     "output_type": "stream",
     "text": [
      "pValues: [0.0]\n",
      "degreesOfFreedom: [15]\n",
      "statistics: [500.0963855421687]\n"
     ]
    }
   ],
   "source": [
    "print(\"pValues: \" + str(r.pValues)) # 컬럼 개별적으로 출력 가능\n",
    "print(\"degreesOfFreedom: \" + str(r.degreesOfFreedom))\n",
    "print(\"statistics: \" + str(r.statistics))"
   ]
  }
 ],
 "metadata": {
  "kernelspec": {
   "display_name": "Python 3",
   "language": "python",
   "name": "python3"
  },
  "language_info": {
   "codemirror_mode": {
    "name": "ipython",
    "version": 3
   },
   "file_extension": ".py",
   "mimetype": "text/x-python",
   "name": "python",
   "nbconvert_exporter": "python",
   "pygments_lexer": "ipython3",
   "version": "3.7.6"
  }
 },
 "nbformat": 4,
 "nbformat_minor": 4
}
