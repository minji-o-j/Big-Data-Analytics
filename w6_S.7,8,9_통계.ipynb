{
 "cells": [
  {
   "cell_type": "code",
   "execution_count": 4,
   "metadata": {},
   "outputs": [],
   "source": [
    "from pyspark.context import SparkContext\n",
    "from pyspark.sql.session import SparkSession\n",
    "sc = SparkContext('local')\n",
    "spark = SparkSession(sc)"
   ]
  },
  {
   "cell_type": "markdown",
   "metadata": {},
   "source": [
    "# S.2 변수의 성격\n",
    "변수는 크게 나누어 숫자, 문자 값으로 구분할 수 있다. 숫자 값은 정수나 소수로 표현되고, 년봉, 매출액, 관객수와 같이 '크다' 또는 '작다' 하는 의미가 있다.\n",
    "\n",
    "**명목변수**: 남녀 성별과 같이 순서가 없이 이름이 있는 변수를 말한다. 자동차 색과 같이 검은색, 흰색, 파란색이 예가 된다. 사는 지역의 도별 인구수를 계산하는 경우, 종로구, 영등포구 등 구를 명목변수라고 한다.  \n",
    "\n",
    "**순위변수**: 어떤 순서가 있는 범주에 속하여 그 범주의 이름을 말한다. '초등학고', '중학교', '고등학교', '대학교'와 같이 구분하여 붙인 이름이 예가 되고, 하위 학교를 마치고 나면 다음 등급으로 진학하는 순서가 있다. 소득수준을 '차상위', '중위', '상위'로 구분하면 순위변수에 해당된다.\n",
    "\n",
    "여기서 범주를 등간격으로 **간격변수** Interval variable이라고 한다. 자신의 느낌을 '좋다', '보통', '안좋다' 로 범주화하는 경우이다.\n",
    "\n",
    "키, 몸무게와 같이 **연속 변수** Continuous variable이 있다.\n",
    "\n",
    "---\n",
    "\n",
    "# S.3 샘플링\n",
    "## 무작위 수\n",
    "무작위 수는 어떤 값을 가지게 될지 모르는 수를 말한다.\n",
    "\n",
    "무작위 수는 몸무게와 같이 **연속 continuous** 또는 주사위에서와 같이 1 ~ 6 값을 가지게 되는 **이산적 discrete**일 수 있다.\n",
    "\n",
    "\n",
    "\n",
    "무작위 데이터를 생성해보자. 이런 데이터는 **연속변수**에 해당한다."
   ]
  },
  {
   "cell_type": "code",
   "execution_count": 5,
   "metadata": {},
   "outputs": [],
   "source": [
    "import random"
   ]
  },
  {
   "cell_type": "markdown",
   "metadata": {},
   "source": [
    "random은 완전하게 무작위 수를 생성하지 않는다.  \n",
    "random.seed() 함수에 수를 넣으면 이를 기반으로 무작위 수를 생성하지만, **전과 동일한 수가 생성된다** seed 수를 주지 않으면 운영체제 시간을 사용하므로 무작위 수를 생성하게 된다."
   ]
  },
  {
   "cell_type": "code",
   "execution_count": 6,
   "metadata": {},
   "outputs": [
    {
     "name": "stdout",
     "output_type": "stream",
     "text": [
      "1st random number on the basis of the seed 0.23796462709189137\n",
      "2nd random number on the basis of the seed 0.5442292252959519\n",
      "3nd random number on the basis of the seed 0.36995516654807925\n"
     ]
    }
   ],
   "source": [
    "#random.seed()\n",
    "random.seed(3)\n",
    "print(\"1st random number on the basis of the seed {}\".format(random.random()))\n",
    "print(\"2nd random number on the basis of the seed {}\".format(random.random()))\n",
    "print(\"3nd random number on the basis of the seed {}\".format(random.random()))"
   ]
  },
  {
   "cell_type": "markdown",
   "metadata": {},
   "source": [
    "다시 한 번 동일한 seed를 제공하고 무작위 수를 생성하면 이전의 수와 동일한 무작위 수가 생성된다."
   ]
  },
  {
   "cell_type": "code",
   "execution_count": 7,
   "metadata": {},
   "outputs": [
    {
     "name": "stdout",
     "output_type": "stream",
     "text": [
      "1st random number on the basis of the seed 0.23796462709189137\n",
      "2nd random number on the basis of the seed 0.5442292252959519\n",
      "3nd random number on the basis of the seed 0.36995516654807925\n"
     ]
    }
   ],
   "source": [
    "#random.seed()\n",
    "random.seed(3)\n",
    "print(\"1st random number on the basis of the seed {}\".format(random.random()))\n",
    "print(\"2nd random number on the basis of the seed {}\".format(random.random()))\n",
    "print(\"3nd random number on the basis of the seed {}\".format(random.random()))"
   ]
  },
  {
   "cell_type": "markdown",
   "metadata": {},
   "source": [
    "## 무작위 배열\n",
    "이번에는 numpy를 사용하여 무작위 배열을 생성해 보자."
   ]
  },
  {
   "cell_type": "code",
   "execution_count": 8,
   "metadata": {},
   "outputs": [],
   "source": [
    "import numpy as np"
   ]
  },
  {
   "cell_type": "code",
   "execution_count": 9,
   "metadata": {},
   "outputs": [
    {
     "name": "stdout",
     "output_type": "stream",
     "text": [
      "[[0.63471574 0.78358221]\n",
      " [0.89672652 0.3196171 ]\n",
      " [0.21636022 0.16982214]]\n"
     ]
    }
   ],
   "source": [
    "print (np.random.random((3,2)))"
   ]
  },
  {
   "cell_type": "markdown",
   "metadata": {},
   "source": [
    "## 분포에서 무작위 수\n",
    "분포를 가정하고, 무작위 표본 Sample을 추출할 수 있다.\n",
    "\n",
    "- `numpy.random.rand`는 균등분포\n",
    "- `numpy.random.randn`은 표준정규분포 (평균 $\\mu=0$, 표준편차 $\\sigma=1$)에서 샘플을 추출한다."
   ]
  },
  {
   "cell_type": "code",
   "execution_count": 10,
   "metadata": {},
   "outputs": [
    {
     "data": {
      "text/plain": [
       "0.9291901737816084"
      ]
     },
     "execution_count": 10,
     "metadata": {},
     "output_type": "execute_result"
    }
   ],
   "source": [
    "np.random.randn()"
   ]
  },
  {
   "cell_type": "code",
   "execution_count": 11,
   "metadata": {},
   "outputs": [
    {
     "name": "stdout",
     "output_type": "stream",
     "text": [
      "[[0.72451757 0.52721585]\n",
      " [0.21774931 0.72626578]\n",
      " [0.07814321 0.64723251]]\n"
     ]
    }
   ],
   "source": [
    "print (np.random.random_sample( (3,2) ))  #random_sample: 균등분포에서 추출"
   ]
  },
  {
   "cell_type": "code",
   "execution_count": 12,
   "metadata": {},
   "outputs": [
    {
     "name": "stdout",
     "output_type": "stream",
     "text": [
      "[6, 4]\n",
      "[6, 1, 3]\n"
     ]
    }
   ],
   "source": [
    "import random\n",
    "print (random.sample([1,2,3,4,6], 2)) #뒤에 써진 숫자가 개수임\n",
    "print (random.sample([1,2,3,4,6], 3))"
   ]
  },
  {
   "cell_type": "markdown",
   "metadata": {},
   "source": [
    "---\n",
    "# S.4 균등 분포\n",
    "주사위를 던져 나오는 수는 1~6이다.\n",
    "\n",
    "여기서 **얻어지는 주사위 수가 선택될 확률은 동일**하므로, 균등분포 uniform distribution이 된다"
   ]
  },
  {
   "cell_type": "markdown",
   "metadata": {},
   "source": [
    "## 샘플링\n",
    "아래 코드는 dice를 리스트로 선언하고, 1에서 6사이의 무작위 수 100개를 생성하여 추가하고 있다."
   ]
  },
  {
   "cell_type": "code",
   "execution_count": 13,
   "metadata": {},
   "outputs": [],
   "source": [
    "# random sampling\n",
    "dice=[]\n",
    "for i in range(100):\n",
    "   dice.append(random.randrange(1,6+1)) #1~6까지"
   ]
  },
  {
   "cell_type": "code",
   "execution_count": 14,
   "metadata": {},
   "outputs": [
    {
     "name": "stdout",
     "output_type": "stream",
     "text": [
      "[1, 4, 3, 5, 2, 2, 6, 4, 5, 5, 4, 4, 6, 2, 2, 6, 2, 5, 4, 6, 1, 6, 1, 2, 5, 1, 3, 1, 3, 4, 5, 6, 4, 6, 4, 4, 6, 5, 4, 2, 3, 1, 1, 2, 4, 2, 3, 6, 4, 6, 3, 4, 5, 4, 5, 3, 5, 5, 4, 5, 2, 3, 6, 1, 3, 5, 6, 6, 2, 6, 3, 5, 5, 5, 1, 6, 6, 2, 6, 5, 3, 3, 1, 1, 4, 6, 4, 1, 3, 1, 4, 2, 1, 3, 4, 4, 1, 1, 5, 5]\n"
     ]
    }
   ],
   "source": [
    "print (dice)"
   ]
  },
  {
   "cell_type": "markdown",
   "metadata": {},
   "source": [
    "## 히스토그램\n",
    "1~6 사이의 빈도수가 몇 개인지 세어보자. 균등분포이므로 $\\frac{100}{6} = 16.7$, 즉 16 또는 17회가 발생해야 맞다.\n",
    "\n",
    "그러나 발생빈도가 평균치를 넘거나 이르지 못한 경우도 존재한다. 주사위 던지는 회수를 늘리면 균등분포에 근사해지게 될 것이다."
   ]
  },
  {
   "cell_type": "code",
   "execution_count": 15,
   "metadata": {},
   "outputs": [
    {
     "name": "stdout",
     "output_type": "stream",
     "text": [
      "Dice 1: 16회\n",
      "Dice 2: 13회\n",
      "Dice 3: 14회\n",
      "Dice 4: 20회\n",
      "Dice 5: 19회\n",
      "Dice 6: 18회\n"
     ]
    }
   ],
   "source": [
    "# bin의 수가 10개라서 주사위 6개가 아님.\n",
    "for i in range(1,7):\n",
    "   print(\"Dice {}: {}회\".format(i, dice.count(i)))"
   ]
  },
  {
   "cell_type": "code",
   "execution_count": 16,
   "metadata": {
    "scrolled": true
   },
   "outputs": [
    {
     "data": {
      "image/png": "[encoded data removed]",
      "text/plain": [
       "<Figure size 432x288 with 1 Axes>"
      ]
     },
     "metadata": {
      "needs_background": "light"
     },
     "output_type": "display_data"
    }
   ],
   "source": [
    "%matplotlib inline\n",
    "import matplotlib.pyplot as plt\n",
    "plt.hist(dice)\n",
    "plt.show()"
   ]
  },
  {
   "cell_type": "markdown",
   "metadata": {},
   "source": [
    "위 그래프를 보면, 마지막이 붙어 있다.\n",
    "\n",
    "앞에서부터 2개의 값을 선택하여 막대가 그려지는데, 마지막 막대를 그리는 경우, 6 이상을 넘어가지 못하게 되어서 그렇다.\n",
    "\n",
    "이를 교정하기 위해 0.5부터 시작해서 1씩 증가하도록 구간 bin을 구성하자. 0.5-1.5, 1.5-2.5, ... 7개의 값이 필요하다."
   ]
  },
  {
   "cell_type": "code",
   "execution_count": 17,
   "metadata": {},
   "outputs": [
    {
     "data": {
      "text/plain": [
       "array([0.5, 1.5, 2.5, 3.5, 4.5, 5.5, 6.5])"
      ]
     },
     "execution_count": 17,
     "metadata": {},
     "output_type": "execute_result"
    }
   ],
   "source": [
    "import numpy as np\n",
    "np.arange(0.5, 7)"
   ]
  },
  {
   "cell_type": "code",
   "execution_count": 18,
   "metadata": {
    "scrolled": true
   },
   "outputs": [
    {
     "data": {
      "image/png": "[encoded data removed]",
      "text/plain": [
       "<Figure size 432x288 with 1 Axes>"
      ]
     },
     "metadata": {
      "needs_background": "light"
     },
     "output_type": "display_data"
    }
   ],
   "source": [
    "plt.hist(dice, bins = np.arange(0.5, 7))\n",
    "plt.show()"
   ]
  },
  {
   "cell_type": "markdown",
   "metadata": {},
   "source": [
    "---\n",
    "Pandas로 그려보기 - 더 예쁘게 나옴\n",
    "\n",
    "numpy array를 pandas의 Series로 변환하고, hist() 함수를 사용하면 된다.\n",
    "\n",
    "Pandas Series는 dataframe이아니라 일련의 숫자이다.  \n",
    "컬럼이라고 보면 된다. 컬럼을 1차원으로 저장한 값이다.  \n",
    "정수, 문자, 소수 등 어떤 값이든 상관없다."
   ]
  },
  {
   "cell_type": "code",
   "execution_count": 19,
   "metadata": {},
   "outputs": [
    {
     "data": {
      "text/plain": [
       "<matplotlib.axes._subplots.AxesSubplot at 0x1a064e14388>"
      ]
     },
     "execution_count": 19,
     "metadata": {},
     "output_type": "execute_result"
    },
    {
     "data": {
      "image/png": "[encoded data removed]",
      "text/plain": [
       "<Figure size 432x288 with 1 Axes>"
      ]
     },
     "metadata": {
      "needs_background": "light"
     },
     "output_type": "display_data"
    }
   ],
   "source": [
    "import pandas as pd\n",
    "pd.Series(dice).hist(bins = np.arange(0.5, 7))"
   ]
  },
  {
   "cell_type": "markdown",
   "metadata": {},
   "source": [
    "## describe\n",
    "통계량을 구해보자.  \n",
    "describe()는 기술통계량 평균, 최소값, 최대값, 표준편차, 건수를 출력한다.  \n",
    "DataFrame 또는 컬럼을 Series로 변환한 후 describe()를 적용할 수 있다."
   ]
  },
  {
   "cell_type": "code",
   "execution_count": 20,
   "metadata": {},
   "outputs": [],
   "source": [
    "import pandas as pd\n",
    "\n",
    "s=pd.Series(dice)"
   ]
  },
  {
   "cell_type": "code",
   "execution_count": 21,
   "metadata": {},
   "outputs": [
    {
     "name": "stdout",
     "output_type": "stream",
     "text": [
      "0     1\n",
      "1     4\n",
      "2     3\n",
      "3     5\n",
      "4     2\n",
      "     ..\n",
      "95    4\n",
      "96    1\n",
      "97    1\n",
      "98    5\n",
      "99    5\n",
      "Length: 100, dtype: int64\n"
     ]
    }
   ],
   "source": [
    "print (s)"
   ]
  },
  {
   "cell_type": "markdown",
   "metadata": {},
   "source": [
    "---\n",
    "# S.5 정규분포\n",
    "정규분포는 평균을 중심으로 데이터가 집중해 있고, **좌우대칭의 종모양**으로 생긴 분포를 말한다  \n",
    "키, 몸무게, 온도 등 많은 데이터가 정규분포를 따르고 있다.  \n",
    "정규분포를 가정하여 데이터를 검증하며, 차이가 유의한지 판별하기도 한다."
   ]
  },
  {
   "cell_type": "markdown",
   "metadata": {},
   "source": [
    "## 샘플링\n",
    "무작위 변수 x가 있다고 하자. x는 정규분포를 따른다고 하며, 평균 $\\mu$, 표준편차 $\\sigma$를 가지게 된다. 즉, $ X \\sim N (\\mu, \\sigma)$ 무작위 수를 생성하는 함수는:\n",
    "\n",
    "- random.gauss($\\mu, \\sigma$)\n",
    "- random.normalvariate($\\mu, \\sigma$) - gauss보다 약간 빠름.\n",
    "참고로 다른 분포에서의 샘플링 함수는 다음과 같다.\n",
    "\n",
    "- random.uniform(a,b)\n",
    "- random.betavariate(alpha,beta)\n",
    "- random.expovariate(lamdb)\n",
    "- random.gammavariate(alpha,beta)\n",
    "\n",
    "평균 0, 표준편차 1을 가지는 정규분포에서 200개 샘플을 추출해보자."
   ]
  },
  {
   "cell_type": "code",
   "execution_count": 22,
   "metadata": {},
   "outputs": [],
   "source": [
    "import numpy as np\n",
    "comp1=np.random.normal(0, 1, size=200) # 200개를 생성"
   ]
  },
  {
   "cell_type": "code",
   "execution_count": 23,
   "metadata": {},
   "outputs": [
    {
     "data": {
      "text/plain": [
       "array([-0.17265317, -0.58740446, -0.78440716,  0.57212964, -0.4031905 ])"
      ]
     },
     "execution_count": 23,
     "metadata": {},
     "output_type": "execute_result"
    }
   ],
   "source": [
    "# 생성한 200개 가운데 5개를 출력해보자.\n",
    "comp1[:5]"
   ]
  },
  {
   "cell_type": "code",
   "execution_count": 24,
   "metadata": {},
   "outputs": [],
   "source": [
    "# 이번에는 평균 10, 표준편차 2, 샘플은 200의 정규분포를 생성해보자.\n",
    "comp2=np.random.normal(10, 2, size=200)"
   ]
  },
  {
   "cell_type": "code",
   "execution_count": 25,
   "metadata": {},
   "outputs": [
    {
     "data": {
      "text/plain": [
       "array([ 6.24520386, 14.51177239,  8.44784962,  9.6796405 ,  8.07993478])"
      ]
     },
     "execution_count": 25,
     "metadata": {},
     "output_type": "execute_result"
    }
   ],
   "source": [
    "comp2[:5]"
   ]
  },
  {
   "cell_type": "markdown",
   "metadata": {},
   "source": [
    "## 히스토그램\n",
    "정규분포에서 무작위 샘플을 추출하는 randn()을 사용해서 histogram 그래프를 그려보자. 정규분포 샘플을 무작위로 100개 생성해보자."
   ]
  },
  {
   "cell_type": "code",
   "execution_count": 26,
   "metadata": {},
   "outputs": [],
   "source": [
    "x=np.random.randn(100)"
   ]
  },
  {
   "cell_type": "code",
   "execution_count": 27,
   "metadata": {},
   "outputs": [],
   "source": [
    "# histogram은 bin(interval)과 bin에 속하는 값을 반환\n",
    "#  histogram(x)를 실행하면 2개의 행렬이 반환\n",
    "count, binends = np.histogram(x)"
   ]
  },
  {
   "cell_type": "code",
   "execution_count": 28,
   "metadata": {},
   "outputs": [
    {
     "name": "stdout",
     "output_type": "stream",
     "text": [
      "[ 1  1 11 14 28 23 10  7  4  1]\n",
      "[-3.01033598 -2.41912458 -1.82791318 -1.23670178 -0.64549037 -0.05427897\n",
      "  0.53693243  1.12814383  1.71935524  2.31056664  2.90177804]\n"
     ]
    }
   ],
   "source": [
    "# 반환된 각 빈(간격)에 속한 갯수, 그리고 x축의 간격을 출력\n",
    "print(count)\n",
    "print(binends)"
   ]
  },
  {
   "cell_type": "code",
   "execution_count": 29,
   "metadata": {},
   "outputs": [
    {
     "data": {
      "text/plain": [
       "(array([ 1.,  1., 11., 14., 28., 23., 10.,  7.,  4.,  1.]),\n",
       " array([-3.01033598, -2.41912458, -1.82791318, -1.23670178, -0.64549037,\n",
       "        -0.05427897,  0.53693243,  1.12814383,  1.71935524,  2.31056664,\n",
       "         2.90177804]),\n",
       " <a list of 10 Patch objects>)"
      ]
     },
     "execution_count": 29,
     "metadata": {},
     "output_type": "execute_result"
    },
    {
     "data": {
      "image/png": "[encoded data removed]",
      "text/plain": [
       "<Figure size 432x288 with 1 Axes>"
      ]
     },
     "metadata": {
      "needs_background": "light"
     },
     "output_type": "display_data"
    }
   ],
   "source": [
    "# numpy의 histogram()은 그래프를 생성하지 않으므로, 그림을 그리려면 hist(x)를 실행한다.\n",
    "%matplotlib inline\n",
    "import matplotlib.pyplot as plt\n",
    "plt.hist(x)"
   ]
  },
  {
   "cell_type": "markdown",
   "metadata": {},
   "source": [
    "Pandas로 hist()를 그려보자.  "
   ]
  },
  {
   "cell_type": "code",
   "execution_count": 30,
   "metadata": {
    "scrolled": true
   },
   "outputs": [
    {
     "data": {
      "text/plain": [
       "<matplotlib.axes._subplots.AxesSubplot at 0x1a064ea6f88>"
      ]
     },
     "execution_count": 30,
     "metadata": {},
     "output_type": "execute_result"
    },
    {
     "data": {
      "image/png": "[encoded data removed]",
      "text/plain": [
       "<Figure size 432x288 with 1 Axes>"
      ]
     },
     "metadata": {
      "needs_background": "light"
     },
     "output_type": "display_data"
    }
   ],
   "source": [
    "import pandas as pd\n",
    "\n",
    "values=pd.Series(np.concatenate( [comp1,comp2])) # 앞서 생성했던 comp1, comp2를 묶어서 하나의 Series로 만든 다음\n",
    "values.hist() # hist()를 호출"
   ]
  },
  {
   "cell_type": "markdown",
   "metadata": {},
   "source": [
    "Pandas의 plot()은 **선그래프**를 그려준다.  \n",
    "좌측은 평균 0, 표준편차 1이고, 우측은 평균 10, 표준편차 2의 그래프이다.  \n",
    "당연히 표준편차가 큰 우측 그래프의 변동폭이 더 크다."
   ]
  },
  {
   "cell_type": "code",
   "execution_count": 31,
   "metadata": {},
   "outputs": [
    {
     "data": {
      "image/png": "[encoded data removed]",
      "text/plain": [
       "<Figure size 432x288 with 1 Axes>"
      ]
     },
     "metadata": {
      "needs_background": "light"
     },
     "output_type": "display_data"
    }
   ],
   "source": [
    "values.plot()\n",
    "plt.show()"
   ]
  },
  {
   "cell_type": "markdown",
   "metadata": {},
   "source": [
    "---\n",
    "# S.6 중심극한정리\n",
    "\n",
    "평균이 $\\mu$, 표준편차가 $\\sigma$인 모집단이 있다고하자.  \n",
    "이 모집단에서 무작위로 표본 $X_1, X_2, \\dots X_n$을 추출하면 (바꿔치기가 가능한 sampling with replacement), 그 **표본의 평균** $\\bar{X_1}, \\bar{X_2}, \\dots \\bar{X_n}$은 **정규분포**를 따른다는 것이 중심극한정리이다.\n",
    "\n",
    "모집단이 어떤 분포를 따르더라도, _표본의 크기 n이 충분히 커지면_ (보통 n>30), **표본평균의 분포는 정규분포로 수렴하게 된다.**  \n",
    "이러한 전제에 따라, 통계적 추정을 할 수 있고, z값을 이용해 확률을 계산할 수 있게 된다.\n",
    "\n",
    "예를 들어 모집단이 균등분포라고 하자. 앞서 설명했던 주사위는 1 ~ 6까지 동일한 확률로 발생한다. 주사위를 10회 던져서 표본을 구성해보자. 이를 표본1이라고 하자. 이와 같이 표본을 n회 구성해보자. 그러면 표본1의 평균 $\\bar{X_1}$ 3.51, $\\bar{X_2}$는 3.32, $\\bar{X_3}$은 3.81..이 될 것이다. 표본을 30회 정도하면, 표본평균의 표본분포 (sampling distribution of sample means)는 그 형태가 정규분포에 수렴한다.\n",
    "\n",
    "무작위로 평균 $\\mu$, 표준편차 $\\sigma$ 모집단이 있다고 하자. 모집단의 평균과 표준편차는 계산할 방법이 없어서 알 수가 없다. 표본을 추출하면, 모집단의 평균 $\\mu = \\mu_{\\bar{x_n}}$, 모집단의 표준편차는 표본의 표준편차를 크기로 나누어 계산할 수 있다 $\\sigma =  \\frac{\\sigma}{\\sqrt{n}}$ 따라서 $\\frac{\\sigma} {\\sqrt{n}}$로 계산한다. 주사위 사례에서 n=10이므로, $\\frac{\\sigma} {\\sqrt{10}}$으로 한다.\n",
    "\n",
    "식으로 표현하면:\n",
    "\n",
    "$$\n",
    "z = \\frac {\\bar{x_n} - \\mu} {\\sigma / \\sqrt{n}} \\quad n \\rightarrow \\infty\n",
    "$$  \n",
    "\n",
    "\n",
    "\n",
    "<br><br><br>\n",
    "\n",
    "\n",
    "정규분포에서 100개의 수를 생성해보자."
   ]
  },
  {
   "cell_type": "code",
   "execution_count": 32,
   "metadata": {},
   "outputs": [],
   "source": [
    "import numpy as np\n",
    "x=np.random.randn(100)"
   ]
  },
  {
   "cell_type": "code",
   "execution_count": 33,
   "metadata": {},
   "outputs": [
    {
     "name": "stdout",
     "output_type": "stream",
     "text": [
      "mean\t: -0.0009522976289428233\n",
      "median\t: -0.0693154701420354\n"
     ]
    }
   ],
   "source": [
    "print (\"mean\\t: {}\".format(np.mean(x)))\n",
    "print (\"median\\t: {}\".format(np.median(x)))"
   ]
  },
  {
   "cell_type": "markdown",
   "metadata": {},
   "source": [
    "정규분포는 평균, 모드, 최빈값이 같아야 한다.  \n",
    "하지만 위의 결과를 보면 평균은 0에 가깝고, 최빈값과 다소 차이가 있다.  \n",
    "정규분포의 솟거나, 퍼진 모양이 다르기 때문이다."
   ]
  },
  {
   "cell_type": "markdown",
   "metadata": {},
   "source": [
    "## skewness (비대칭도)\n",
    "**분포의 대칭성을 설명하는 지표**로 skewness를 계산한다.\n",
    "\n",
    "- `= 0` : 정규분포\n",
    "- `> 0` : 왼쪽 꼬리가 두툼, 왼쪽으로 비스듬\n",
    "- `< 0` : 오른쪽 꼬리가 두툼, 왼쪽으로 비스듬"
   ]
  },
  {
   "cell_type": "code",
   "execution_count": 34,
   "metadata": {},
   "outputs": [
    {
     "name": "stdout",
     "output_type": "stream",
     "text": [
      "skewness\t: -0.2943975022290306\n"
     ]
    }
   ],
   "source": [
    "from scipy.stats import skew\n",
    "\n",
    "print (\"skewness\\t: {}\".format(skew(x)))"
   ]
  },
  {
   "cell_type": "markdown",
   "metadata": {},
   "source": [
    "## kurtosis (첨도)\n",
    "kurtosis는 분포의 **뾰족한 정도**를 설명한다.\n",
    "\n",
    "- `= 0` : 정규분포\n",
    "- `> 0` : 뾰족하고, 꼬리가 두툼\n",
    "- `< 0` : 편평하고, 꼬리가 얇음"
   ]
  },
  {
   "cell_type": "code",
   "execution_count": 35,
   "metadata": {},
   "outputs": [
    {
     "name": "stdout",
     "output_type": "stream",
     "text": [
      "kurtosis\t: -0.20084336912477818\n"
     ]
    }
   ],
   "source": [
    "from scipy.stats import kurtosis\n",
    "\n",
    "print (\"kurtosis\\t: {}\".format(kurtosis(x)))"
   ]
  },
  {
   "cell_type": "markdown",
   "metadata": {},
   "source": [
    "## Spark로 skewness, kurtosis 계산하기"
   ]
  },
  {
   "cell_type": "code",
   "execution_count": 36,
   "metadata": {},
   "outputs": [],
   "source": [
    "import os\n",
    "os.environ[\"PYSPARK_PYTHON\"]=\"/usr/bin/python3\"\n",
    "os.environ[\"PYSPARK_DRIVER_PYTHON\"]=\"/usr/bin/python3\""
   ]
  },
  {
   "cell_type": "code",
   "execution_count": 37,
   "metadata": {},
   "outputs": [],
   "source": [
    "import pyspark\n",
    "\n",
    "myConf=pyspark.SparkConf()\n",
    "spark = pyspark.sql.SparkSession.builder\\\n",
    "    .master(\"local\")\\\n",
    "    .appName(\"myApp\")\\\n",
    "    .config(conf=myConf)\\\n",
    "    .getOrCreate()"
   ]
  },
  {
   "cell_type": "markdown",
   "metadata": {},
   "source": [
    "numpy array는 바로 Spark DataFrame을 생성할 수 없으므로, Pandas를 경유해서 numpy array를 DataFrame으로 생성하자."
   ]
  },
  {
   "cell_type": "code",
   "execution_count": 38,
   "metadata": {},
   "outputs": [],
   "source": [
    "import pandas as pd\n",
    "xPd=pd.DataFrame(x, columns=['x'], dtype=float)"
   ]
  },
  {
   "cell_type": "code",
   "execution_count": 39,
   "metadata": {},
   "outputs": [],
   "source": [
    "df=spark.createDataFrame(xPd)"
   ]
  },
  {
   "cell_type": "code",
   "execution_count": 40,
   "metadata": {},
   "outputs": [
    {
     "name": "stdout",
     "output_type": "stream",
     "text": [
      "+-------------------+--------------------+\n",
      "|        skewness(x)|         kurtosis(x)|\n",
      "+-------------------+--------------------+\n",
      "|-0.2943975022290304|-0.20084336912478262|\n",
      "+-------------------+--------------------+\n",
      "\n"
     ]
    }
   ],
   "source": [
    "from pyspark.sql import functions as f\n",
    "df.select(f.skewness(df['x']), f.kurtosis(df['x'])).show()"
   ]
  },
  {
   "cell_type": "markdown",
   "metadata": {},
   "source": [
    "---\n",
    "# S.7 분산\n",
    "분산을 구하려면 평균 $\\bar{x}$, $\\bar{y}$를 구해야 한다.\n",
    "\n",
    "## 평균 계산식\n",
    "평균을 x의 합계를 개수로 나누어 계산해보자. numpy 평균과 동일하다."
   ]
  },
  {
   "cell_type": "code",
   "execution_count": 41,
   "metadata": {},
   "outputs": [],
   "source": [
    "X=x"
   ]
  },
  {
   "cell_type": "code",
   "execution_count": 42,
   "metadata": {},
   "outputs": [
    {
     "name": "stdout",
     "output_type": "stream",
     "text": [
      "simple mean of x = -0.001\n"
     ]
    }
   ],
   "source": [
    "print (\"simple mean of x = {:.3f}\".format(float(sum(X))/len(X))) #반복하면서 더할필요없다!"
   ]
  },
  {
   "cell_type": "markdown",
   "metadata": {},
   "source": [
    "## numpy 평균\n",
    "numpy의 평균을 계산해보자."
   ]
  },
  {
   "cell_type": "code",
   "execution_count": 43,
   "metadata": {},
   "outputs": [],
   "source": [
    "import numpy as np\n",
    "\n",
    "xbar=np.mean(X)\n",
    "#ybar=np.mean(Y)"
   ]
  },
  {
   "cell_type": "code",
   "execution_count": 44,
   "metadata": {},
   "outputs": [
    {
     "name": "stdout",
     "output_type": "stream",
     "text": [
      "numpy mean of X = -0.001\n"
     ]
    }
   ],
   "source": [
    "\n",
    "print (\"numpy mean of X = {:.3f}\".format(xbar))"
   ]
  },
  {
   "cell_type": "markdown",
   "metadata": {},
   "source": [
    "## 분산 계산식\n",
    "**분산** variance나 **표준편차** Standard Deviation은 평균으로부터 얼마나 멀리 떨어져 또는 흩어져 분포하는지 알려주는 값이다.\n",
    "\n",
    "- 분산은 평균에서 관측값을 뺀 차이값을 제곱하여 평균을 계산한다. 제곱을 하지 않고 차이값을 더하면 0이 나오므로 제곱을 한다.\n",
    "- 분산을 제곱근하면 표준편차가 된다.  \n",
    "\n",
    "\n",
    "분산보다는 표준편차가 더 자주 사용된다.  "
   ]
  },
  {
   "cell_type": "code",
   "execution_count": 45,
   "metadata": {},
   "outputs": [
    {
     "name": "stdout",
     "output_type": "stream",
     "text": [
      "0.8709981966920782\n"
     ]
    }
   ],
   "source": [
    "#분산 계산\n",
    "print(np.sqrt(sum( [ (x-xbar)**2 for x in X ] )/len(X))) # ddof=0"
   ]
  },
  {
   "cell_type": "markdown",
   "metadata": {},
   "source": [
    "n-1 보정을 해주어서 분산을 계산하면 아래와 같이 미세하게 값이 증가한다.  \n",
    "이러한 보정은 샘플의 크기가 커지면 영향이 더욱 적어지게 된다.\n",
    "\n",
    "**n-1 보정을 해주어야 하는 이유**는 하나는 제외해도 되기 때문이다.  \n",
    "분산을 계산하려면 평균을 알아야 한다. 분산이란 평균에서 얼마나 떨어져 있는지 나타내는 값이기 때문이다. \n",
    "\n",
    "\n",
    "모집단에서 5개의 수를 샘플링한다고 하자. 예를 들어 1, 5, 3, 4, 9이라고 하자. 표본의 평균을 알고 있다고 하자.  \n",
    "그러면 1, 5, 3, 4까지만 샘플링을 해도 평균이 4.4 (22/5)이니까 분산을 계산할 때 마지막 수는 필요하지 않아서 자유도에서 -1을 해주게 된다.  \n",
    "표본의 평균을 알고 있다면, 마지막 수는 변경될 필요없이 고정된다."
   ]
  },
  {
   "cell_type": "code",
   "execution_count": 46,
   "metadata": {},
   "outputs": [
    {
     "name": "stdout",
     "output_type": "stream",
     "text": [
      "0.8753861246981197\n"
     ]
    }
   ],
   "source": [
    "# 자유도 1\n",
    "print(np.sqrt(sum( [ (x-xbar)**2 for x in X ] )/(len(X)-1))) # ddof=1"
   ]
  },
  {
   "cell_type": "markdown",
   "metadata": {},
   "source": [
    "표준편차는 variance의 제곱근으로 계산한다.  \n",
    "\n",
    "\n",
    "ddof는 Delta Degrees of Freedom으로, 기본 값은 ddof=0이지만, 1로 해서 계산한다."
   ]
  },
  {
   "cell_type": "code",
   "execution_count": 47,
   "metadata": {},
   "outputs": [],
   "source": [
    "#var 이용해서 표준편차 구한 후 sqrt(제곱근)이용\n",
    "sx=np.sqrt(np.var(X,ddof=1))\n",
    "#sy=np.sqrt(np.var(Y,ddof=1))\n",
    "#print(\"sx:\",sx, \"sy:\",sy)"
   ]
  },
  {
   "cell_type": "markdown",
   "metadata": {},
   "source": [
    "## numpy 분산 계산\n",
    "numpy로 계산해도, 값은 동일하다."
   ]
  },
  {
   "cell_type": "code",
   "execution_count": 48,
   "metadata": {},
   "outputs": [
    {
     "name": "stdout",
     "output_type": "stream",
     "text": [
      "0.8709981966920783\n",
      "0.8753861246981199\n"
     ]
    }
   ],
   "source": [
    "print(np.std(X)) # ddof=0\n",
    "print(np.std(X, ddof=1)) # ddof=1"
   ]
  },
  {
   "cell_type": "code",
   "execution_count": 49,
   "metadata": {},
   "outputs": [
    {
     "name": "stdout",
     "output_type": "stream",
     "text": [
      "3.0\n"
     ]
    }
   ],
   "source": [
    "a = np.array([1,2,3,4,5])\n",
    "p = np.percentile(a, 50) # a에서 50%정도에 해당하는 값\n",
    "print (p) # 3"
   ]
  },
  {
   "cell_type": "markdown",
   "metadata": {},
   "source": [
    "## boxplot\n",
    "전체 관측값을 정렬하고, 전체를 4분위로 나누면 IQR Interquatile Range을 구할 수 있다.  \n",
    "\n",
    "\n",
    "Boxplot은 IQR의 Q1~Q3을 사각형으로 표시한다. pandas를 이용하거나, matplotlib으로 Boxplot을 그릴 수 있다.\n",
    "\n",
    "사각형의 주황색 선은 평균을 말한다."
   ]
  },
  {
   "cell_type": "code",
   "execution_count": 50,
   "metadata": {},
   "outputs": [
    {
     "data": {
      "image/png": "[encoded data removed]",
      "text/plain": [
       "<Figure size 432x288 with 1 Axes>"
      ]
     },
     "metadata": {
      "needs_background": "light"
     },
     "output_type": "display_data"
    }
   ],
   "source": [
    "import matplotlib.pyplot as plt\n",
    "\n",
    "x1 = np.random.normal(0,1,50) # 평균=0, sigma=1, n=50\n",
    "x2 = np.random.normal(1,1,50)\n",
    "x3 = np.random.normal(2,1,50)\n",
    "plt.boxplot([x1,x2,x3])\n",
    "plt.show()"
   ]
  },
  {
   "cell_type": "markdown",
   "metadata": {},
   "source": [
    "---\n",
    "# S.8 zscore, tscore\n",
    "zscore는 각 측정 값을 평균에서 빼고난 후 표준편차로 나누어 계산된다.\n",
    "\n",
    "이 식을 이해하면, **평균에서 표준편차의 몇 배가 떨어져 있는지를 말한다. 표준편차의 배수로 떨어진 정도를 정규화(표준화)한다는 의미**가 있다.\n",
    "\n",
    "z는 모집단의 평균, 표준편차를 알 경우, 그러나 샘플링을 할 경우는 n-1로 나눈다 (numpy에서는 ddof=1이 default). 따라서 아래 계산에서는 ddof=1로 한다.\n",
    "\n",
    "모집단의 zscore when variance is known$$\n",
    "z = \\frac {\\bar{x_n} - \\mu} {\\sigma / \\sqrt{n}} \n",
    "$$"
   ]
  },
  {
   "cell_type": "code",
   "execution_count": 51,
   "metadata": {},
   "outputs": [],
   "source": [
    "X=[10, 7, 12, 12, 9, 16, 12, 18, 8, 12, 14, 16]"
   ]
  },
  {
   "cell_type": "markdown",
   "metadata": {},
   "source": [
    "## zscore 계산식"
   ]
  },
  {
   "cell_type": "code",
   "execution_count": 52,
   "metadata": {},
   "outputs": [
    {
     "name": "stdout",
     "output_type": "stream",
     "text": [
      "-0.6410300618768864 -1.5286101475525755 -0.04931000475976033 -0.04931000475976033 -0.9368900904354495 1.1341301094744918 -0.04931000475976033 1.725850166591618 -1.2327501189940124 -0.04931000475976033 0.5424100523573657 1.1341301094744918 "
     ]
    }
   ],
   "source": [
    "import numpy as np\n",
    "\n",
    "xbar=np.mean(X)\n",
    "sigmax=np.std(X) #ddof=0\n",
    "\n",
    "sx=np.std(X,ddof=1)\n",
    "for x in X:\n",
    "   zscore=(x-xbar)/sx\n",
    "   print (zscore, end= ' ') #출력시 공백을 하나씩!"
   ]
  },
  {
   "cell_type": "markdown",
   "metadata": {},
   "source": [
    "## stats zscore\n",
    "계산식 말고 바로 라이브러리 이용"
   ]
  },
  {
   "cell_type": "code",
   "execution_count": 53,
   "metadata": {},
   "outputs": [],
   "source": [
    "from scipy import stats"
   ]
  },
  {
   "cell_type": "code",
   "execution_count": 54,
   "metadata": {
    "scrolled": true
   },
   "outputs": [
    {
     "data": {
      "text/plain": [
       "array([-0.66953406, -1.59658123, -0.05150262, -0.05150262, -0.97854978,\n",
       "        1.18456027, -0.05150262,  1.80259171, -1.28756551, -0.05150262,\n",
       "        0.56652882,  1.18456027])"
      ]
     },
     "execution_count": 54,
     "metadata": {},
     "output_type": "execute_result"
    }
   ],
   "source": [
    "stats.zscore(X)"
   ]
  },
  {
   "cell_type": "markdown",
   "metadata": {},
   "source": [
    "## cdf (누적확률)\n",
    "추론통계에서 확률을 계산하는 것은 중요하다. p-value와 신뢰구간의 계산에 필요하다.  \n",
    "\n",
    "**cdf**(Cumulative Distribution Function)는 **누적확률**을 의미한다.  \n",
    "정규분포에서 평균과 표준편차는 0,1을 기본 값으로, cdf(0)은 '0'또는 그 이하의 값을 누적한 확률을 말한다.  \n",
    "\n",
    "\n",
    "$\\mu \\pm 1\\sigma$ 모집단 68.27%  \n",
    "$\\mu \\pm 2\\sigma$ 모집단 95.45%  \n",
    "$\\mu \\pm 3\\sigma$ 모집단 99.73%"
   ]
  },
  {
   "cell_type": "code",
   "execution_count": 55,
   "metadata": {},
   "outputs": [
    {
     "data": {
      "text/plain": [
       "0.5"
      ]
     },
     "execution_count": 55,
     "metadata": {},
     "output_type": "execute_result"
    }
   ],
   "source": [
    "from scipy.stats import norm\n",
    "\n",
    "norm.cdf(0, loc=0, scale=1)"
   ]
  },
  {
   "cell_type": "code",
   "execution_count": 56,
   "metadata": {},
   "outputs": [
    {
     "data": {
      "text/plain": [
       "0.6826894921370859"
      ]
     },
     "execution_count": 56,
     "metadata": {},
     "output_type": "execute_result"
    }
   ],
   "source": [
    "norm.cdf(1) - norm.cdf(-1)"
   ]
  },
  {
   "cell_type": "code",
   "execution_count": 57,
   "metadata": {},
   "outputs": [
    {
     "data": {
      "text/plain": [
       "0.9544997361036416"
      ]
     },
     "execution_count": 57,
     "metadata": {},
     "output_type": "execute_result"
    }
   ],
   "source": [
    "norm.cdf(2) - norm.cdf(-2) #3sigma를 벗어나면 이상값이라고 할 수 있을듯?"
   ]
  },
  {
   "cell_type": "markdown",
   "metadata": {},
   "source": [
    "## ppf\n",
    "Percent Point Function 확률의 점 값을 계산한다.  \n",
    "0.5, 즉 50% 확률의 zscore는 0이다. 0.001, 즉 0.1%의 확률의 zscore는 -3.09이다."
   ]
  },
  {
   "cell_type": "code",
   "execution_count": 58,
   "metadata": {},
   "outputs": [
    {
     "data": {
      "text/plain": [
       "array([-3.09023231,  0.        ,  1.69014614])"
      ]
     },
     "execution_count": 58,
     "metadata": {},
     "output_type": "execute_result"
    }
   ],
   "source": [
    "norm.ppf([0.001, 0.5, 0.9545])"
   ]
  },
  {
   "cell_type": "markdown",
   "metadata": {},
   "source": [
    "ppf는 cdf의 역이다. 아래와 같이 위 ppf계산 결과를 cdf에 넣으면 ppf를 계산할 수 있다."
   ]
  },
  {
   "cell_type": "code",
   "execution_count": 59,
   "metadata": {},
   "outputs": [
    {
     "data": {
      "text/plain": [
       "array([0.001 , 0.5   , 0.9545])"
      ]
     },
     "execution_count": 59,
     "metadata": {},
     "output_type": "execute_result"
    }
   ],
   "source": [
    "norm.cdf([-3.09023231,  0.        ,  1.69014614])"
   ]
  },
  {
   "cell_type": "markdown",
   "metadata": {},
   "source": [
    "## tscore\n",
    "표본의 크기가 크면 모집단과 차이가 없는데, **표본이 작으면** 어떻게 될까? 이 경우 사용하는 것이 t분포이다.  \n",
    "\n",
    "t분포는 정규분포와 유사한 모양을 가지고 있지만, 꼬리가 두툼한 특징을 가지고 있다.  \n",
    "\n",
    "따라서 평균에서 멀어진 값을 샘플링할 확률이 높아지게 된다. n이 일정 규모로 커지면 t분포와 정규분포와 유사하게 된다."
   ]
  },
  {
   "cell_type": "code",
   "execution_count": 60,
   "metadata": {},
   "outputs": [
    {
     "data": {
      "text/plain": [
       "0.7500000000000002"
      ]
     },
     "execution_count": 60,
     "metadata": {},
     "output_type": "execute_result"
    }
   ],
   "source": [
    "from scipy.stats import t\n",
    "\n",
    "t.cdf(1, 1) # dof 1"
   ]
  },
  {
   "cell_type": "code",
   "execution_count": 61,
   "metadata": {},
   "outputs": [
    {
     "data": {
      "text/plain": [
       "0.7500000000000002"
      ]
     },
     "execution_count": 61,
     "metadata": {},
     "output_type": "execute_result"
    }
   ],
   "source": [
    "t.cdf(1, 1, loc=0, scale=1)"
   ]
  },
  {
   "cell_type": "markdown",
   "metadata": {},
   "source": [
    "---\n",
    "# S.9 outliers\n",
    "정규분포를 따른다고 했을 경우, 분포의 표준편차 범위3은 발생하기 어렵다. 이러한 일정 범위를 넘어선 값은 이상값이다. 따라서, 이런 경우 분석에 앞서:\n",
    "\n",
    "- 이상값의 어떤 기준은 판별하는가?\n",
    "- 왜 그런 값이 발생했는지, 올바르지 않은 입력인지 판단한다.\n",
    "- 이상값을 제외하고 나면 통계량은 어떻게 변했는지 알아본다.\n",
    "\n",
    "\n",
    "아래의 예에서 표준편차 2배 보다 큰 경우 이상 값으로 보고, 제외한다."
   ]
  },
  {
   "cell_type": "code",
   "execution_count": 62,
   "metadata": {},
   "outputs": [
    {
     "name": "stdout",
     "output_type": "stream",
     "text": [
      "[2, 4, 5, 1, 6, 5]\n"
     ]
    }
   ],
   "source": [
    "import numpy as np\n",
    "\n",
    "def reject_outliers(data):\n",
    "    m = np.mean(data)\n",
    "    s = np.std(data)\n",
    "    filtered = [d for d in data if (m - 2 * s < d < m + 2 * s)] #outlier을 2시그마로봄\n",
    "    return filtered\n",
    "\n",
    "d = [2,4,5,1,6,5,40]\n",
    "filtered_d = reject_outliers(d)\n",
    "print (filtered_d)"
   ]
  },
  {
   "cell_type": "code",
   "execution_count": null,
   "metadata": {},
   "outputs": [],
   "source": []
  }
 ],
 "metadata": {
  "kernelspec": {
   "display_name": "Python 3",
   "language": "python",
   "name": "python3"
  },
  "language_info": {
   "codemirror_mode": {
    "name": "ipython",
    "version": 3
   },
   "file_extension": ".py",
   "mimetype": "text/x-python",
   "name": "python",
   "nbconvert_exporter": "python",
   "pygments_lexer": "ipython3",
   "version": "3.7.6"
  }
 },
 "nbformat": 4,
 "nbformat_minor": 4
}
