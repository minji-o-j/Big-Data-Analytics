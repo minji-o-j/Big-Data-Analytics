{
 "cells": [
  {
   "cell_type": "markdown",
   "metadata": {},
   "source": [
    "# 휴먼지능정보공학과 201810808 정민지"
   ]
  },
  {
   "cell_type": "code",
   "execution_count": 2,
   "metadata": {},
   "outputs": [],
   "source": [
    "from pyspark.context import SparkContext\n",
    "from pyspark.sql.session import SparkSession\n",
    "sc = SparkContext('local')\n",
    "spark = SparkSession(sc)"
   ]
  },
  {
   "cell_type": "code",
   "execution_count": 23,
   "metadata": {},
   "outputs": [],
   "source": [
    "marks=[\n",
    "    \"'김하나','English', 100\",\n",
    "    \"'김하나','Math', 80\",\n",
    "    \"'임하나','English', 70\",\n",
    "    \"'임하나','Math', 100\",\n",
    "    \"'김갑돌','English', 82.3\",\n",
    "    \"'김갑돌','Math', 98.5\"\n",
    "]\n",
    "_marksRdd=spark.sparkContext.parallelize(marks)"
   ]
  },
  {
   "cell_type": "markdown",
   "metadata": {},
   "source": [
    "## 문제 3-1: 이름으로 합계를 구해보자"
   ]
  },
  {
   "cell_type": "markdown",
   "metadata": {},
   "source": [
    "### 답"
   ]
  },
  {
   "cell_type": "code",
   "execution_count": 77,
   "metadata": {},
   "outputs": [
    {
     "name": "stdout",
     "output_type": "stream",
     "text": [
      "'김하나' 180.0\n",
      "'임하나' 170.0\n",
      "'김갑돌' 180.8\n"
     ]
    }
   ],
   "source": [
    "sum_Name=_marksRdd\\\n",
    "        .map(lambda x: x.split(','))\\\n",
    "        .map(lambda x: (x[0],float(x[2])))\\\n",
    "        .reduceByKey(lambda x,y:x+y)\\\n",
    "        .collect()\n",
    "\n",
    "for e in sum_Name:\n",
    "    print (e[0], e[1])"
   ]
  },
  {
   "cell_type": "markdown",
   "metadata": {},
   "source": [
    "## 문제 3-2: 과목으로 합계를 계산해 보자."
   ]
  },
  {
   "cell_type": "markdown",
   "metadata": {},
   "source": [
    "### 답"
   ]
  },
  {
   "cell_type": "code",
   "execution_count": 78,
   "metadata": {},
   "outputs": [
    {
     "name": "stdout",
     "output_type": "stream",
     "text": [
      "'English' 252.3\n",
      "'Math' 278.5\n"
     ]
    }
   ],
   "source": [
    "sum_Subject=_marksRdd\\\n",
    "        .map(lambda x: x.split(','))\\\n",
    "        .map(lambda x: (x[1],float(x[2])))\\\n",
    "        .reduceByKey(lambda x,y:x+y)\\\n",
    "        .collect()\n",
    "\n",
    "for e in sum_Subject:\n",
    "    print (e[0], e[1])"
   ]
  },
  {
   "cell_type": "markdown",
   "metadata": {},
   "source": [
    "## 문제 3-3: 이름으로 합계과 개수를 구해보자. "
   ]
  },
  {
   "cell_type": "code",
   "execution_count": 103,
   "metadata": {},
   "outputs": [],
   "source": [
    "sum_Subject2=_marksRdd\\\n",
    "        .map(lambda x: x.split(','))\\\n",
    "        .map(lambda x: (x[0],float(x[2])))"
   ]
  },
  {
   "cell_type": "code",
   "execution_count": 115,
   "metadata": {},
   "outputs": [],
   "source": [
    "sumNcount_Name=sum_Subject2.combineByKey(\n",
    "        lambda value: (value,1),\n",
    "        lambda x,value: (x[0]+value, x[1]+1),                      \n",
    "        lambda x,y: (x[0]+y[0], x[1]+y[1]))"
   ]
  },
  {
   "cell_type": "markdown",
   "metadata": {},
   "source": [
    "### 답"
   ]
  },
  {
   "cell_type": "code",
   "execution_count": 116,
   "metadata": {},
   "outputs": [
    {
     "name": "stdout",
     "output_type": "stream",
     "text": [
      "'김하나' (180.0, 2)\n",
      "'임하나' (170.0, 2)\n",
      "'김갑돌' (180.8, 2)\n"
     ]
    }
   ],
   "source": [
    "for e in sumNcount_Name.collect(): #.collect를하면 list형태가됨\n",
    "    print(e[0],e[1])"
   ]
  },
  {
   "cell_type": "markdown",
   "metadata": {},
   "source": [
    "## 문제 3-4: 이름으로 평균을 계산해 보자."
   ]
  },
  {
   "cell_type": "code",
   "execution_count": 124,
   "metadata": {},
   "outputs": [],
   "source": [
    "avg_Name = sumNcount_Name.map(lambda x: (x[0],x[1][0]/x[1][1]))"
   ]
  },
  {
   "cell_type": "markdown",
   "metadata": {},
   "source": [
    "### 답"
   ]
  },
  {
   "cell_type": "code",
   "execution_count": 126,
   "metadata": {},
   "outputs": [
    {
     "name": "stdout",
     "output_type": "stream",
     "text": [
      "'김하나' 90.0\n",
      "'임하나' 85.0\n",
      "'김갑돌' 90.4\n"
     ]
    }
   ],
   "source": [
    "for e in avg_Name.collect():\n",
    "    print(e[0],e[1])"
   ]
  }
 ],
 "metadata": {
  "kernelspec": {
   "display_name": "Python 3",
   "language": "python",
   "name": "python3"
  },
  "language_info": {
   "codemirror_mode": {
    "name": "ipython",
    "version": 3
   },
   "file_extension": ".py",
   "mimetype": "text/x-python",
   "name": "python",
   "nbconvert_exporter": "python",
   "pygments_lexer": "ipython3",
   "version": "3.7.6"
  }
 },
 "nbformat": 4,
 "nbformat_minor": 4
}
