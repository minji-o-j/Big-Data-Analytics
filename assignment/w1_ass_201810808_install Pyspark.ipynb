{
 "cells": [
  {
   "cell_type": "markdown",
   "metadata": {},
   "source": [
    "## 휴먼지능정보공학과 201810808 정민지"
   ]
  },
  {
   "cell_type": "markdown",
   "metadata": {},
   "source": [
    "## 1주: Pyspark 시작하기: ipynb 제출\n",
    "\n",
    "### (1) 명령창에서 pyspark 실행\n",
    "\n",
    "* 명령창에서 ```pyspark```를 타이핑하고 엔터를 하면 ```Spark```가 실행하면서 메시지가 출력되고 Python Shell 프롬프트 ```>>>```가 뜬다.\n",
    "\n",
    "출력되는 메시지에 Python 버전 3.x와 Spark 버전 3.0.0이 올바르게 출력이 되는지 확인한다.\n",
    "\n",
    "* 프롬프트 ```>>>```에서 ```spark.version```을 출력한다."
   ]
  },
  {
   "cell_type": "markdown",
   "metadata": {},
   "source": [
    "#### 답"
   ]
  },
  {
   "cell_type": "markdown",
   "metadata": {},
   "source": [
    "```py\n",
    "(base) C:\\windows\\system32>pyspark\n",
    "Python 3.7.6 (default, Jan  8 2020, 20:23:39) [MSC v.1916 64 bit (AMD64)] :: Anaconda, Inc. on win32\n",
    "Type \"help\", \"copyright\", \"credits\" or \"license\" for more information.\n",
    "WARNING: An illegal reflective access operation has occurred\n",
    "WARNING: Illegal reflective access by org.apache.spark.unsafe.Platform (file:/C:/Users/user/Anaconda3/Lib/site-packages/pyspark/jars/spark-unsafe_2.12-3.0.0.jar) to constructor java.nio.DirectByteBuffer(long,int)\n",
    "WARNING: Please consider reporting this to the maintainers of org.apache.spark.unsafe.Platform\n",
    "WARNING: Use --illegal-access=warn to enable warnings of further illegal reflective access operations\n",
    "WARNING: All illegal access operations will be denied in a future release\n",
    "20/09/03 02:48:39 ERROR Shell: Failed to locate the winutils binary in the hadoop binary path\n",
    "java.io.IOException: Could not locate executable null\\bin\\winutils.exe in the Hadoop binaries.\n",
    "        at org.apache.hadoop.util.Shell.getQualifiedBinPath(Shell.java:382)\n",
    "        at org.apache.hadoop.util.Shell.getWinUtilsPath(Shell.java:397)\n",
    "        at org.apache.hadoop.util.Shell.<clinit>(Shell.java:390)\n",
    "        at org.apache.hadoop.util.StringUtils.<clinit>(StringUtils.java:80)\n",
    "        at org.apache.hadoop.security.SecurityUtil.getAuthenticationMethod(SecurityUtil.java:611)\n",
    "        at org.apache.hadoop.security.UserGroupInformation.initialize(UserGroupInformation.java:274)\n",
    "        at org.apache.hadoop.security.UserGroupInformation.ensureInitialized(UserGroupInformation.java:262)\n",
    "        at org.apache.hadoop.security.UserGroupInformation.loginUserFromSubject(UserGroupInformation.java:807)\n",
    "        at org.apache.hadoop.security.UserGroupInformation.getLoginUser(UserGroupInformation.java:777)\n",
    "        at org.apache.hadoop.security.UserGroupInformation.getCurrentUser(UserGroupInformation.java:650)\n",
    "        at org.apache.spark.util.Utils$.$anonfun$getCurrentUserName$1(Utils.scala:2412)\n",
    "        at scala.Option.getOrElse(Option.scala:189)\n",
    "        at org.apache.spark.util.Utils$.getCurrentUserName(Utils.scala:2412)\n",
    "        at org.apache.spark.SecurityManager.<init>(SecurityManager.scala:79)\n",
    "        at org.apache.spark.deploy.SparkSubmit.secMgr$lzycompute$1(SparkSubmit.scala:368)\n",
    "        at org.apache.spark.deploy.SparkSubmit.secMgr$1(SparkSubmit.scala:368)\n",
    "        at org.apache.spark.deploy.SparkSubmit.$anonfun$prepareSubmitEnvironment$8(SparkSubmit.scala:376)\n",
    "        at scala.Option.map(Option.scala:230)\n",
    "        at org.apache.spark.deploy.SparkSubmit.prepareSubmitEnvironment(SparkSubmit.scala:376)\n",
    "        at org.apache.spark.deploy.SparkSubmit.org$apache$spark$deploy$SparkSubmit$$runMain(SparkSubmit.scala:871)\n",
    "        at org.apache.spark.deploy.SparkSubmit.doRunMain$1(SparkSubmit.scala:180)\n",
    "        at org.apache.spark.deploy.SparkSubmit.submit(SparkSubmit.scala:203)\n",
    "        at org.apache.spark.deploy.SparkSubmit.doSubmit(SparkSubmit.scala:90)\n",
    "        at org.apache.spark.deploy.SparkSubmit$$anon$2.doSubmit(SparkSubmit.scala:1007)\n",
    "        at org.apache.spark.deploy.SparkSubmit$.main(SparkSubmit.scala:1016)\n",
    "        at org.apache.spark.deploy.SparkSubmit.main(SparkSubmit.scala)\n",
    "20/09/03 02:48:39 WARN NativeCodeLoader: Unable to load native-hadoop library for your platform... using builtin-java classes where applicable\n",
    "Using Spark's default log4j profile: org/apache/spark/log4j-defaults.properties\n",
    "Setting default log level to \"WARN\".\n",
    "To adjust logging level use sc.setLogLevel(newLevel). For SparkR, use setLogLevel(newLevel).\n",
    "Welcome to\n",
    "      ____              __\n",
    "     / __/__  ___ _____/ /__\n",
    "    _\\ \\/ _ \\/ _ `/ __/  '_/\n",
    "   /__ / .__/\\_,_/_/ /_/\\_\\   version 3.0.0\n",
    "      /_/\n",
    "\n",
    "Using Python version 3.7.6 (default, Jan  8 2020 20:23:39)\n",
    "SparkSession available as 'spark'.\n",
    ">>> spark.version\n",
    "'3.0.0'\n",
    "```            "
   ]
  },
  {
   "cell_type": "markdown",
   "metadata": {},
   "source": [
    "`Python version 3.7.6` 과  \n",
    "`spark.version '3.0.0'` 이 출력되었다."
   ]
  },
  {
   "cell_type": "markdown",
   "metadata": {},
   "source": [
    "### (2) 노트북에서 pyspark 실행\n",
    "\n",
    "주피터 노트북을 실행한 후, 셀에서 아래 명령어를 실행하여 spark를 생성하고, 그 버전을 출력하세요."
   ]
  },
  {
   "cell_type": "markdown",
   "metadata": {},
   "source": [
    "#### 답"
   ]
  },
  {
   "cell_type": "code",
   "execution_count": 1,
   "metadata": {},
   "outputs": [],
   "source": [
    "import pyspark"
   ]
  },
  {
   "cell_type": "code",
   "execution_count": 2,
   "metadata": {},
   "outputs": [],
   "source": [
    "myConf=pyspark.SparkConf()\n",
    "spark = pyspark.sql.SparkSession.builder\\\n",
    "    .master(\"local\")\\\n",
    "    .appName(\"myApp\")\\\n",
    "    .config(conf=myConf)\\\n",
    "    .getOrCreate()"
   ]
  },
  {
   "cell_type": "code",
   "execution_count": 3,
   "metadata": {},
   "outputs": [
    {
     "data": {
      "text/plain": [
       "'3.0.0'"
      ]
     },
     "execution_count": 3,
     "metadata": {},
     "output_type": "execute_result"
    }
   ],
   "source": [
    "spark.version"
   ]
  },
  {
   "cell_type": "code",
   "execution_count": null,
   "metadata": {},
   "outputs": [],
   "source": []
  }
 ],
 "metadata": {
  "kernelspec": {
   "display_name": "Python 3",
   "language": "python",
   "name": "python3"
  },
  "language_info": {
   "codemirror_mode": {
    "name": "ipython",
    "version": 3
   },
   "file_extension": ".py",
   "mimetype": "text/x-python",
   "name": "python",
   "nbconvert_exporter": "python",
   "pygments_lexer": "ipython3",
   "version": "3.7.6"
  }
 },
 "nbformat": 4,
 "nbformat_minor": 4
}
