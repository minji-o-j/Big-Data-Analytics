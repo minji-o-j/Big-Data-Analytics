{
 "cells": [
  {
   "cell_type": "markdown",
   "metadata": {},
   "source": [
    "# 휴먼지능정보공학과 201810808 정민지"
   ]
  },
  {
   "cell_type": "code",
   "execution_count": 1,
   "metadata": {},
   "outputs": [],
   "source": [
    "import os\n",
    "from pyspark.context import SparkContext\n",
    "from pyspark.sql.session import SparkSession\n",
    "sc = SparkContext('local')\n",
    "spark = SparkSession(sc)"
   ]
  },
  {
   "cell_type": "markdown",
   "metadata": {},
   "source": [
    "## 문제: 년별 분기별 대여건수\n",
    "서울시 열린데이터 https://data.seoul.go.kr/ 에서 제공하는 ```서울특별시_공공자전거 일별 대여건수_(2018~2019.03).csv```를 분석해보자.\n",
    "\n",
    "파일은 웹 검색을 해서 다운로드해서 사용하면 된다.\n",
    "\n",
    "데이터는 일자별로, 대여건수이이고, 몇 줄만 출력해보면 다음과 같다.  \n",
    "\n",
    "|      date| count|\n",
    "|----------|------|\n",
    "|2018-01-01|  4950|\n",
    "|2018-01-02|  7136|\n",
    "|2018-01-03|  7156|\n",
    "|2018-01-04|  7102|\n",
    "|2018-01-05|  7705|"
   ]
  },
  {
   "cell_type": "code",
   "execution_count": 55,
   "metadata": {},
   "outputs": [],
   "source": [
    "myDf = spark\\\n",
    "        .read.format('com.databricks.spark.csv')\\\n",
    "        .options(header='true', inferschema='true')\\\n",
    "        .load(os.path.join('data','서울특별시_공공자전거 일별 대여건수_(2018_2019.03).csv'))"
   ]
  },
  {
   "cell_type": "code",
   "execution_count": 56,
   "metadata": {},
   "outputs": [
    {
     "name": "stdout",
     "output_type": "stream",
     "text": [
      "root\n",
      " |-- 대여일자: string (nullable = true)\n",
      " |-- 대여건수: integer (nullable = true)\n",
      "\n"
     ]
    }
   ],
   "source": [
    "myDf.printSchema()"
   ]
  },
  {
   "cell_type": "code",
   "execution_count": 57,
   "metadata": {},
   "outputs": [
    {
     "name": "stdout",
     "output_type": "stream",
     "text": [
      "+----------+--------+\n",
      "|  대여일자|대여건수|\n",
      "+----------+--------+\n",
      "|2018-01-01|    4950|\n",
      "|2018-01-02|    7136|\n",
      "|2018-01-03|    7156|\n",
      "+----------+--------+\n",
      "only showing top 3 rows\n",
      "\n"
     ]
    }
   ],
   "source": [
    "myDf.show(3)"
   ]
  },
  {
   "cell_type": "markdown",
   "metadata": {},
   "source": [
    "### 문제 1-1: 년도별 대여건수 합계\n",
    "\n",
    "데이터는 2018, 2019년 15개월 간의 대여건수이다. 년도별로 대여건수의 합계를 계산해서 출력하자."
   ]
  },
  {
   "cell_type": "markdown",
   "metadata": {},
   "source": [
    "#### 년도 컬럼 만들기"
   ]
  },
  {
   "cell_type": "code",
   "execution_count": 58,
   "metadata": {},
   "outputs": [],
   "source": [
    "myDf=myDf.withColumn(\"year\",myDf.대여일자.substr(1,4))"
   ]
  },
  {
   "cell_type": "code",
   "execution_count": 59,
   "metadata": {},
   "outputs": [
    {
     "name": "stdout",
     "output_type": "stream",
     "text": [
      "+----------+--------+----+\n",
      "|  대여일자|대여건수|year|\n",
      "+----------+--------+----+\n",
      "|2018-01-01|    4950|2018|\n",
      "|2018-01-02|    7136|2018|\n",
      "|2018-01-03|    7156|2018|\n",
      "+----------+--------+----+\n",
      "only showing top 3 rows\n",
      "\n"
     ]
    }
   ],
   "source": [
    "myDf.show(3)"
   ]
  },
  {
   "cell_type": "markdown",
   "metadata": {},
   "source": [
    "#### 합계 구하기"
   ]
  },
  {
   "cell_type": "code",
   "execution_count": 60,
   "metadata": {},
   "outputs": [
    {
     "name": "stdout",
     "output_type": "stream",
     "text": [
      "+----+-------------+\n",
      "|year|sum(대여건수)|\n",
      "+----+-------------+\n",
      "|2018|     10124874|\n",
      "|2019|      1871935|\n",
      "+----+-------------+\n",
      "\n"
     ]
    }
   ],
   "source": [
    "myDf.groupBy('year').agg({\"대여건수\":\"sum\"}).orderBy(\"year\").show()\n",
    "\n",
    "#orderBy(\"year\", ascending=False) --> 내림차순 정렬"
   ]
  },
  {
   "cell_type": "markdown",
   "metadata": {},
   "source": [
    "### 문제 1-2: 년도별, 월별 대여건수 합계\n",
    "\n",
    "년별, 월별로 대여건수를 계산하여 합계를 계산하여 출력한다.\n",
    "\n"
   ]
  },
  {
   "cell_type": "markdown",
   "metadata": {},
   "source": [
    "#### 년도+월 컬럼 만들기"
   ]
  },
  {
   "cell_type": "code",
   "execution_count": 61,
   "metadata": {},
   "outputs": [],
   "source": [
    "myDf=myDf.withColumn(\"yearNmonth\",myDf.대여일자.substr(1,7))"
   ]
  },
  {
   "cell_type": "code",
   "execution_count": 62,
   "metadata": {},
   "outputs": [
    {
     "name": "stdout",
     "output_type": "stream",
     "text": [
      "+----------+--------+----+----------+\n",
      "|  대여일자|대여건수|year|yearNmonth|\n",
      "+----------+--------+----+----------+\n",
      "|2018-01-01|    4950|2018|   2018-01|\n",
      "|2018-01-02|    7136|2018|   2018-01|\n",
      "|2018-01-03|    7156|2018|   2018-01|\n",
      "+----------+--------+----+----------+\n",
      "only showing top 3 rows\n",
      "\n"
     ]
    }
   ],
   "source": [
    "myDf.show(3)"
   ]
  },
  {
   "cell_type": "markdown",
   "metadata": {},
   "source": [
    "#### 합계 구하기"
   ]
  },
  {
   "cell_type": "code",
   "execution_count": 73,
   "metadata": {},
   "outputs": [],
   "source": [
    "sum_ym=myDf.groupBy('yearNmonth').agg({\"대여건수\":\"sum\"}).orderBy(\"yearNmonth\")"
   ]
  },
  {
   "cell_type": "code",
   "execution_count": 74,
   "metadata": {},
   "outputs": [
    {
     "name": "stdout",
     "output_type": "stream",
     "text": [
      "+----------+-------------+\n",
      "|yearNmonth|sum(대여건수)|\n",
      "+----------+-------------+\n",
      "|   2018-01|       164367|\n",
      "|   2018-02|       168741|\n",
      "|   2018-03|       462661|\n",
      "|   2018-04|       687885|\n",
      "|   2018-05|       965609|\n",
      "|   2018-06|      1207123|\n",
      "|   2018-07|      1100015|\n",
      "|   2018-08|      1037505|\n",
      "|   2018-09|      1447993|\n",
      "|   2018-10|      1420621|\n",
      "|   2018-11|       961532|\n",
      "|   2018-12|       500822|\n",
      "|   2019-01|       495573|\n",
      "|   2019-02|       471543|\n",
      "|   2019-03|       904819|\n",
      "+----------+-------------+\n",
      "\n"
     ]
    }
   ],
   "source": [
    "sum_ym.show()"
   ]
  },
  {
   "cell_type": "markdown",
   "metadata": {},
   "source": [
    "### 문제 1-3: 년도별, 월별 대여건수 그래프\n",
    "\n",
    "문제 1-2의 출력을 선 그래프로 그려보자."
   ]
  },
  {
   "cell_type": "code",
   "execution_count": 67,
   "metadata": {},
   "outputs": [],
   "source": [
    "%matplotlib inline\n",
    "import numpy as np\n",
    "import matplotlib.pyplot as plt"
   ]
  },
  {
   "cell_type": "code",
   "execution_count": 127,
   "metadata": {},
   "outputs": [],
   "source": [
    "yNm=sum_ym.rdd.map(lambda fields:fields[0]).collect()\n",
    "sum_rental=sum_ym.rdd.map(lambda fields:fields[1]).collect()"
   ]
  },
  {
   "cell_type": "code",
   "execution_count": 128,
   "metadata": {},
   "outputs": [],
   "source": [
    "#길이 옆으로 늘리기\n",
    "plt.rcParams[\"figure.figsize\"] = (14,5)\n",
    "\n",
    "#격자\n",
    "plt.rcParams['axes.grid'] = True\n",
    "\n",
    "#두께\n",
    "plt.rcParams['lines.linewidth'] = 2"
   ]
  },
  {
   "cell_type": "code",
   "execution_count": 129,
   "metadata": {},
   "outputs": [
    {
     "data": {
      "image/png": "[encoded data removed]",
      "text/plain": [
       "<Figure size 1008x360 with 1 Axes>"
      ]
     },
     "metadata": {
      "needs_background": "light"
     },
     "output_type": "display_data"
    }
   ],
   "source": [
    "plt.plot(np.array(yNm), np.array(sum_rental))\n",
    "plt.show()"
   ]
  },
  {
   "cell_type": "markdown",
   "metadata": {},
   "source": [
    "---"
   ]
  },
  {
   "cell_type": "code",
   "execution_count": 130,
   "metadata": {},
   "outputs": [
    {
     "data": {
      "image/png": "[encoded data removed]",
      "text/plain": [
       "<Figure size 1008x360 with 1 Axes>"
      ]
     },
     "metadata": {
      "needs_background": "light"
     },
     "output_type": "display_data"
    }
   ],
   "source": [
    "from matplotlib import rc, font_manager\n",
    "rc('font',family=\"NanumGothic\")\n",
    "plt.plot(np.array(yNm), np.array(sum_rental),'cs-.') #c:청록, s: 사각형, -: 대시점선\n",
    "\n",
    "#title\n",
    "plt.title(\"<년도-월별 따릉이 대여건수>\")\n",
    "\n",
    "#x,y label\n",
    "plt.xlabel(\"년도-월\")\n",
    "plt.ylabel(\"대여 건수 합계\")\n",
    "\n",
    "plt.show()"
   ]
  }
 ],
 "metadata": {
  "kernelspec": {
   "display_name": "Python 3",
   "language": "python",
   "name": "python3"
  },
  "language_info": {
   "codemirror_mode": {
    "name": "ipython",
    "version": 3
   },
   "file_extension": ".py",
   "mimetype": "text/x-python",
   "name": "python",
   "nbconvert_exporter": "python",
   "pygments_lexer": "ipython3",
   "version": "3.7.6"
  }
 },
 "nbformat": 4,
 "nbformat_minor": 4
}
