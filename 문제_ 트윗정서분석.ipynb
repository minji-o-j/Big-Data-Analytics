{
 "cells": [
  {
   "cell_type": "markdown",
   "metadata": {},
   "source": [
    "트윗의 정서를 분석해보자. 트윗은 API를 사용하여 수집할 수 있으나, 정서를 태깅해야 한다. 스탠포드 대학생들이 수집해 놓은 트윗이 있으니 이를 이용해 보자. http://help.sentiment140.com/for-students/ 이 데이터의 항목은:\n",
    "\n",
    "- 트윗 정서 (0=부정, 2=중립, 4=긍정)\n",
    "- 트윗 ID\n",
    "- 트윗 일자\n",
    "- 조회 (없으면 NO_QUERY)\n",
    "- 사용자\n",
    "- 트윗 텍스트\n",
    "\n",
    "---\n",
    "\n",
    "- 1) 전체 데이터 갯수, 각 '부정' '긍정' '중립' 별 데이터 갯수 \n",
    "- 2) 트윗 정서 컬럼을 'label'로 변경 \n",
    "- 5) stopwords 제거하고, 출력\n",
    "- 6) pipeline으로 tf-idf 계산하고 'features' 컬럼으로 변경\n",
    "\n",
    "https://github.com/tthustla/twitter_sentiment_analysis_part2/blob/master/Capstone_part3-Copy1.ipynb https://towardsdatascience.com/another-twitter-sentiment-analysis-with-python-part-2-333514854913"
   ]
  },
  {
   "cell_type": "code",
   "execution_count": null,
   "metadata": {},
   "outputs": [],
   "source": []
  }
 ],
 "metadata": {
  "kernelspec": {
   "display_name": "Python 3",
   "language": "python",
   "name": "python3"
  },
  "language_info": {
   "codemirror_mode": {
    "name": "ipython",
    "version": 3
   },
   "file_extension": ".py",
   "mimetype": "text/x-python",
   "name": "python",
   "nbconvert_exporter": "python",
   "pygments_lexer": "ipython3",
   "version": "3.7.6"
  }
 },
 "nbformat": 4,
 "nbformat_minor": 4
}
